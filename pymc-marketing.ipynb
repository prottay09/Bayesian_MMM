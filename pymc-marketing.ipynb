{
 "cells": [
  {
   "cell_type": "code",
   "execution_count": 1,
   "id": "5ce36643",
   "metadata": {},
   "outputs": [
    {
     "name": "stderr",
     "output_type": "stream",
     "text": [
      "WARNING (pytensor.configdefaults): g++ not available, if using conda: `conda install gxx`\n",
      "WARNING (pytensor.configdefaults): g++ not detected!  PyTensor will be unable to compile C-implementations and will default to Python. Performance may be severely degraded. To remove this warning, set PyTensor flags cxx to an empty string.\n"
     ]
    }
   ],
   "source": [
    "# importing necessary libraries\n",
    "import warnings\n",
    "import polars as pl\n",
    "import polars.selectors as cs\n",
    "import matplotlib.pyplot as plt\n",
    "import plotly.express as px\n",
    "from prophet import Prophet\n",
    "import numpy as np\n",
    "from plotting import plot_predictive\n",
    "warnings.filterwarnings(\"ignore\", category=FutureWarning)"
   ]
  },
  {
   "cell_type": "code",
   "execution_count": 2,
   "id": "9b16c940",
   "metadata": {},
   "outputs": [],
   "source": [
    "data = pl.read_csv(\"data/MMM_test_data.csv\")"
   ]
  },
  {
   "cell_type": "code",
   "execution_count": 3,
   "id": "c43059ec",
   "metadata": {},
   "outputs": [
    {
     "data": {
      "text/html": [
       "<div><style>\n",
       ".dataframe > thead > tr,\n",
       ".dataframe > tbody > tr {\n",
       "  text-align: right;\n",
       "  white-space: pre-wrap;\n",
       "}\n",
       "</style>\n",
       "<small>shape: (5, 9)</small><table border=\"1\" class=\"dataframe\"><thead><tr><th>start_of_week</th><th>revenue</th><th>spend_channel_1</th><th>spend_channel_2</th><th>spend_channel_3</th><th>spend_channel_4</th><th>spend_channel_5</th><th>spend_channel_6</th><th>spend_channel_7</th></tr><tr><td>str</td><td>f64</td><td>f64</td><td>f64</td><td>f64</td><td>f64</td><td>f64</td><td>f64</td><td>f64</td></tr></thead><tbody><tr><td>&quot;30-08-20&quot;</td><td>157906.75</td><td>2625.48</td><td>262.71</td><td>12954.12</td><td>3609.63</td><td>12955.29</td><td>12659.12</td><td>19379.79</td></tr><tr><td>&quot;06-09-20&quot;</td><td>186425.68</td><td>2634.01</td><td>108.66</td><td>8760.28</td><td>4560.6</td><td>12747.7</td><td>12338.18</td><td>22473.45</td></tr><tr><td>&quot;13-09-20&quot;</td><td>161607.39</td><td>2087.08</td><td>110.32</td><td>7155.42</td><td>4362.96</td><td>15015.41</td><td>10811.15</td><td>22596.05</td></tr><tr><td>&quot;20-09-20&quot;</td><td>180089.13</td><td>1690.7</td><td>52.79</td><td>15185.22</td><td>3883.41</td><td>15521.41</td><td>12890.22</td><td>24728.73</td></tr><tr><td>&quot;27-09-20&quot;</td><td>217793.98</td><td>1547.3</td><td>80.56</td><td>18524.05</td><td>4043.09</td><td>15793.74</td><td>12642.55</td><td>26515.48</td></tr></tbody></table></div>"
      ],
      "text/plain": [
       "shape: (5, 9)\n",
       "┌───────────┬───────────┬───────────┬───────────┬───┬───────────┬───────────┬───────────┬──────────┐\n",
       "│ start_of_ ┆ revenue   ┆ spend_cha ┆ spend_cha ┆ … ┆ spend_cha ┆ spend_cha ┆ spend_cha ┆ spend_ch │\n",
       "│ week      ┆ ---       ┆ nnel_1    ┆ nnel_2    ┆   ┆ nnel_4    ┆ nnel_5    ┆ nnel_6    ┆ annel_7  │\n",
       "│ ---       ┆ f64       ┆ ---       ┆ ---       ┆   ┆ ---       ┆ ---       ┆ ---       ┆ ---      │\n",
       "│ str       ┆           ┆ f64       ┆ f64       ┆   ┆ f64       ┆ f64       ┆ f64       ┆ f64      │\n",
       "╞═══════════╪═══════════╪═══════════╪═══════════╪═══╪═══════════╪═══════════╪═══════════╪══════════╡\n",
       "│ 30-08-20  ┆ 157906.75 ┆ 2625.48   ┆ 262.71    ┆ … ┆ 3609.63   ┆ 12955.29  ┆ 12659.12  ┆ 19379.79 │\n",
       "│ 06-09-20  ┆ 186425.68 ┆ 2634.01   ┆ 108.66    ┆ … ┆ 4560.6    ┆ 12747.7   ┆ 12338.18  ┆ 22473.45 │\n",
       "│ 13-09-20  ┆ 161607.39 ┆ 2087.08   ┆ 110.32    ┆ … ┆ 4362.96   ┆ 15015.41  ┆ 10811.15  ┆ 22596.05 │\n",
       "│ 20-09-20  ┆ 180089.13 ┆ 1690.7    ┆ 52.79     ┆ … ┆ 3883.41   ┆ 15521.41  ┆ 12890.22  ┆ 24728.73 │\n",
       "│ 27-09-20  ┆ 217793.98 ┆ 1547.3    ┆ 80.56     ┆ … ┆ 4043.09   ┆ 15793.74  ┆ 12642.55  ┆ 26515.48 │\n",
       "└───────────┴───────────┴───────────┴───────────┴───┴───────────┴───────────┴───────────┴──────────┘"
      ]
     },
     "execution_count": 3,
     "metadata": {},
     "output_type": "execute_result"
    }
   ],
   "source": [
    "data.head()"
   ]
  },
  {
   "cell_type": "code",
   "execution_count": 4,
   "id": "02e237fd",
   "metadata": {},
   "outputs": [],
   "source": [
    "# change datetime column\n",
    "data = data.with_columns(pl.col('start_of_week').str.to_date('%d-%m-%y'))"
   ]
  },
  {
   "cell_type": "code",
   "execution_count": 5,
   "id": "e550e0a1",
   "metadata": {},
   "outputs": [
    {
     "data": {
      "application/vnd.plotly.v1+json": {
       "config": {
        "plotlyServerURL": "https://plot.ly"
       },
       "data": [
        {
         "hovertemplate": "start_of_week=%{x}<br>revenue=%{y}<extra></extra>",
         "legendgroup": "",
         "line": {
          "color": "#636efa",
          "dash": "solid"
         },
         "marker": {
          "symbol": "circle"
         },
         "mode": "lines",
         "name": "",
         "orientation": "v",
         "showlegend": false,
         "type": "scatter",
         "x": [
          "2020-08-30",
          "2020-09-06",
          "2020-09-13",
          "2020-09-20",
          "2020-09-27",
          "2020-10-04",
          "2020-10-11",
          "2020-10-18",
          "2020-10-25",
          "2020-11-01",
          "2020-11-08",
          "2020-11-15",
          "2020-11-22",
          "2020-11-29",
          "2020-12-06",
          "2020-12-13",
          "2020-12-20",
          "2020-12-27",
          "2021-01-03",
          "2021-01-10",
          "2021-01-17",
          "2021-01-24",
          "2021-01-31",
          "2021-02-07",
          "2021-02-14",
          "2021-02-21",
          "2021-02-28",
          "2021-03-07",
          "2021-03-14",
          "2021-03-21",
          "2021-03-28",
          "2021-04-04",
          "2021-04-11",
          "2021-04-18",
          "2021-04-25",
          "2021-05-02",
          "2021-05-09",
          "2021-05-16",
          "2021-05-23",
          "2021-05-30",
          "2021-06-06",
          "2021-06-13",
          "2021-06-20",
          "2021-06-27",
          "2021-07-04",
          "2021-07-11",
          "2021-07-18",
          "2021-07-25",
          "2021-08-01",
          "2021-08-08",
          "2021-08-15",
          "2021-08-22",
          "2021-08-29",
          "2021-09-05",
          "2021-09-12",
          "2021-09-19",
          "2021-09-26",
          "2021-10-03",
          "2021-10-10",
          "2021-10-17",
          "2021-10-24",
          "2021-10-31",
          "2021-11-07",
          "2021-11-14",
          "2021-11-21",
          "2021-11-28",
          "2021-12-05",
          "2021-12-12",
          "2021-12-19",
          "2021-12-26",
          "2022-01-02",
          "2022-01-09",
          "2022-01-16",
          "2022-01-23",
          "2022-01-30",
          "2022-02-06",
          "2022-02-13",
          "2022-02-20",
          "2022-02-27",
          "2022-03-06",
          "2022-03-13",
          "2022-03-20",
          "2022-03-27",
          "2022-04-03",
          "2022-04-10",
          "2022-04-17",
          "2022-04-24",
          "2022-05-01",
          "2022-05-08",
          "2022-05-15",
          "2022-05-22",
          "2022-05-29",
          "2022-06-05",
          "2022-06-12",
          "2022-06-19",
          "2022-06-26",
          "2022-07-03",
          "2022-07-10",
          "2022-07-17",
          "2022-07-24",
          "2022-07-31",
          "2022-08-07",
          "2022-08-14",
          "2022-08-21"
         ],
         "xaxis": "x",
         "y": {
          "bdata": "AAAAAJZGA0EK16NwzcEGQexRuB47ugNBpHA9Csn7BUFxPQrXD5YKQR+F61Ho3wdBFK5H4TzwAUEzMzMzxfkDQTMzMzOpkAdBw/UoXOkDCkGPwvUoiLIIQT0K16MqawpBH4XrUUY+A0FSuB6FKYYZQVK4HoW5XAJB7FG4HhmC80DhehSuQwb0QOxRuB4tl/NAexSuR30g/EApXI/CDbz3QI/C9ShwdPdAXI/C9ahVEUH2KFyPkrULQRSuR+HonAZB4XoUrt2tAEEUrkfh3t3+QI/C9SiCNABBrkfheqhUAEFI4XoU6lP7QOF6FK4DvfpAZmZmZoICAEF7FK5HYX79QPYoXI9eawtBw/UoXNVIA0EzMzMzSS4CQaRwPQpJEQJBzczMzEbVAUHD9ShcNw8AQbgehesRQ/1A9ihcjzIw/kCF61G4Yq3+QNejcD3Q9wRBPQrXo8riAkHD9Shct7H9QD0K16PCfQFBuB6F66Hx+ECF61G4HsnxQBSuR+Hi3O5ApHA9CrtY+EDsUbgeScP1QAAAAAAcHPZAzczMzAyA+UB7FK5HaU/3QAAAAABYYfpAZmZmZt6s90BmZmZmevT2QOxRuB5dwAJBCtejcNuxA0G4HoXrVVn+QIXrUbgCPf1ASOF6FDqT+UC4HoXrdwIAQcP1KFynM/xAMzMzM7VgAEHD9Shcyxz+QFK4HoX95xBB4XoUrrkjBEFxPQrXb5v+QFyPwvW85PxAw/UoXEfz9ECamZmZbyoBQexRuB6HmgVBrkfhepz5AkFmZmZmTHwAQbgehevTUAFBZmZmZm5mAUHsUbgetR76QM3MzMzMofpAUrgehYek9UAUrkfh9jIBQQAAAABS2wRBmpmZmfXOAEHhehSuZ/YAQTMzMzM14AZBAAAAABAMBEH2KFyPrjkEQQrXo3CDuQBB4XoUrj/rAUF7FK5HeS75QLgeheulLvpASOF6FFrW9kCF61G4Llv4QEjhehQGdvhAKVyPwiE7/kDNzMzMLLH6QM3MzMx4qvdAH4XrUTRf+EAfhetR6KHxQAAAAAAk/fFAAAAAAFiV8UDD9ShcIyr2QGZmZmaW3PlAXI/C9aQY9kAAAAAAqJr0QA==",
          "dtype": "f8"
         },
         "yaxis": "y"
        }
       ],
       "layout": {
        "legend": {
         "tracegroupgap": 0
        },
        "template": {
         "data": {
          "bar": [
           {
            "error_x": {
             "color": "#2a3f5f"
            },
            "error_y": {
             "color": "#2a3f5f"
            },
            "marker": {
             "line": {
              "color": "#E5ECF6",
              "width": 0.5
             },
             "pattern": {
              "fillmode": "overlay",
              "size": 10,
              "solidity": 0.2
             }
            },
            "type": "bar"
           }
          ],
          "barpolar": [
           {
            "marker": {
             "line": {
              "color": "#E5ECF6",
              "width": 0.5
             },
             "pattern": {
              "fillmode": "overlay",
              "size": 10,
              "solidity": 0.2
             }
            },
            "type": "barpolar"
           }
          ],
          "carpet": [
           {
            "aaxis": {
             "endlinecolor": "#2a3f5f",
             "gridcolor": "white",
             "linecolor": "white",
             "minorgridcolor": "white",
             "startlinecolor": "#2a3f5f"
            },
            "baxis": {
             "endlinecolor": "#2a3f5f",
             "gridcolor": "white",
             "linecolor": "white",
             "minorgridcolor": "white",
             "startlinecolor": "#2a3f5f"
            },
            "type": "carpet"
           }
          ],
          "choropleth": [
           {
            "colorbar": {
             "outlinewidth": 0,
             "ticks": ""
            },
            "type": "choropleth"
           }
          ],
          "contour": [
           {
            "colorbar": {
             "outlinewidth": 0,
             "ticks": ""
            },
            "colorscale": [
             [
              0,
              "#0d0887"
             ],
             [
              0.1111111111111111,
              "#46039f"
             ],
             [
              0.2222222222222222,
              "#7201a8"
             ],
             [
              0.3333333333333333,
              "#9c179e"
             ],
             [
              0.4444444444444444,
              "#bd3786"
             ],
             [
              0.5555555555555556,
              "#d8576b"
             ],
             [
              0.6666666666666666,
              "#ed7953"
             ],
             [
              0.7777777777777778,
              "#fb9f3a"
             ],
             [
              0.8888888888888888,
              "#fdca26"
             ],
             [
              1,
              "#f0f921"
             ]
            ],
            "type": "contour"
           }
          ],
          "contourcarpet": [
           {
            "colorbar": {
             "outlinewidth": 0,
             "ticks": ""
            },
            "type": "contourcarpet"
           }
          ],
          "heatmap": [
           {
            "colorbar": {
             "outlinewidth": 0,
             "ticks": ""
            },
            "colorscale": [
             [
              0,
              "#0d0887"
             ],
             [
              0.1111111111111111,
              "#46039f"
             ],
             [
              0.2222222222222222,
              "#7201a8"
             ],
             [
              0.3333333333333333,
              "#9c179e"
             ],
             [
              0.4444444444444444,
              "#bd3786"
             ],
             [
              0.5555555555555556,
              "#d8576b"
             ],
             [
              0.6666666666666666,
              "#ed7953"
             ],
             [
              0.7777777777777778,
              "#fb9f3a"
             ],
             [
              0.8888888888888888,
              "#fdca26"
             ],
             [
              1,
              "#f0f921"
             ]
            ],
            "type": "heatmap"
           }
          ],
          "histogram": [
           {
            "marker": {
             "pattern": {
              "fillmode": "overlay",
              "size": 10,
              "solidity": 0.2
             }
            },
            "type": "histogram"
           }
          ],
          "histogram2d": [
           {
            "colorbar": {
             "outlinewidth": 0,
             "ticks": ""
            },
            "colorscale": [
             [
              0,
              "#0d0887"
             ],
             [
              0.1111111111111111,
              "#46039f"
             ],
             [
              0.2222222222222222,
              "#7201a8"
             ],
             [
              0.3333333333333333,
              "#9c179e"
             ],
             [
              0.4444444444444444,
              "#bd3786"
             ],
             [
              0.5555555555555556,
              "#d8576b"
             ],
             [
              0.6666666666666666,
              "#ed7953"
             ],
             [
              0.7777777777777778,
              "#fb9f3a"
             ],
             [
              0.8888888888888888,
              "#fdca26"
             ],
             [
              1,
              "#f0f921"
             ]
            ],
            "type": "histogram2d"
           }
          ],
          "histogram2dcontour": [
           {
            "colorbar": {
             "outlinewidth": 0,
             "ticks": ""
            },
            "colorscale": [
             [
              0,
              "#0d0887"
             ],
             [
              0.1111111111111111,
              "#46039f"
             ],
             [
              0.2222222222222222,
              "#7201a8"
             ],
             [
              0.3333333333333333,
              "#9c179e"
             ],
             [
              0.4444444444444444,
              "#bd3786"
             ],
             [
              0.5555555555555556,
              "#d8576b"
             ],
             [
              0.6666666666666666,
              "#ed7953"
             ],
             [
              0.7777777777777778,
              "#fb9f3a"
             ],
             [
              0.8888888888888888,
              "#fdca26"
             ],
             [
              1,
              "#f0f921"
             ]
            ],
            "type": "histogram2dcontour"
           }
          ],
          "mesh3d": [
           {
            "colorbar": {
             "outlinewidth": 0,
             "ticks": ""
            },
            "type": "mesh3d"
           }
          ],
          "parcoords": [
           {
            "line": {
             "colorbar": {
              "outlinewidth": 0,
              "ticks": ""
             }
            },
            "type": "parcoords"
           }
          ],
          "pie": [
           {
            "automargin": true,
            "type": "pie"
           }
          ],
          "scatter": [
           {
            "fillpattern": {
             "fillmode": "overlay",
             "size": 10,
             "solidity": 0.2
            },
            "type": "scatter"
           }
          ],
          "scatter3d": [
           {
            "line": {
             "colorbar": {
              "outlinewidth": 0,
              "ticks": ""
             }
            },
            "marker": {
             "colorbar": {
              "outlinewidth": 0,
              "ticks": ""
             }
            },
            "type": "scatter3d"
           }
          ],
          "scattercarpet": [
           {
            "marker": {
             "colorbar": {
              "outlinewidth": 0,
              "ticks": ""
             }
            },
            "type": "scattercarpet"
           }
          ],
          "scattergeo": [
           {
            "marker": {
             "colorbar": {
              "outlinewidth": 0,
              "ticks": ""
             }
            },
            "type": "scattergeo"
           }
          ],
          "scattergl": [
           {
            "marker": {
             "colorbar": {
              "outlinewidth": 0,
              "ticks": ""
             }
            },
            "type": "scattergl"
           }
          ],
          "scattermap": [
           {
            "marker": {
             "colorbar": {
              "outlinewidth": 0,
              "ticks": ""
             }
            },
            "type": "scattermap"
           }
          ],
          "scattermapbox": [
           {
            "marker": {
             "colorbar": {
              "outlinewidth": 0,
              "ticks": ""
             }
            },
            "type": "scattermapbox"
           }
          ],
          "scatterpolar": [
           {
            "marker": {
             "colorbar": {
              "outlinewidth": 0,
              "ticks": ""
             }
            },
            "type": "scatterpolar"
           }
          ],
          "scatterpolargl": [
           {
            "marker": {
             "colorbar": {
              "outlinewidth": 0,
              "ticks": ""
             }
            },
            "type": "scatterpolargl"
           }
          ],
          "scatterternary": [
           {
            "marker": {
             "colorbar": {
              "outlinewidth": 0,
              "ticks": ""
             }
            },
            "type": "scatterternary"
           }
          ],
          "surface": [
           {
            "colorbar": {
             "outlinewidth": 0,
             "ticks": ""
            },
            "colorscale": [
             [
              0,
              "#0d0887"
             ],
             [
              0.1111111111111111,
              "#46039f"
             ],
             [
              0.2222222222222222,
              "#7201a8"
             ],
             [
              0.3333333333333333,
              "#9c179e"
             ],
             [
              0.4444444444444444,
              "#bd3786"
             ],
             [
              0.5555555555555556,
              "#d8576b"
             ],
             [
              0.6666666666666666,
              "#ed7953"
             ],
             [
              0.7777777777777778,
              "#fb9f3a"
             ],
             [
              0.8888888888888888,
              "#fdca26"
             ],
             [
              1,
              "#f0f921"
             ]
            ],
            "type": "surface"
           }
          ],
          "table": [
           {
            "cells": {
             "fill": {
              "color": "#EBF0F8"
             },
             "line": {
              "color": "white"
             }
            },
            "header": {
             "fill": {
              "color": "#C8D4E3"
             },
             "line": {
              "color": "white"
             }
            },
            "type": "table"
           }
          ]
         },
         "layout": {
          "annotationdefaults": {
           "arrowcolor": "#2a3f5f",
           "arrowhead": 0,
           "arrowwidth": 1
          },
          "autotypenumbers": "strict",
          "coloraxis": {
           "colorbar": {
            "outlinewidth": 0,
            "ticks": ""
           }
          },
          "colorscale": {
           "diverging": [
            [
             0,
             "#8e0152"
            ],
            [
             0.1,
             "#c51b7d"
            ],
            [
             0.2,
             "#de77ae"
            ],
            [
             0.3,
             "#f1b6da"
            ],
            [
             0.4,
             "#fde0ef"
            ],
            [
             0.5,
             "#f7f7f7"
            ],
            [
             0.6,
             "#e6f5d0"
            ],
            [
             0.7,
             "#b8e186"
            ],
            [
             0.8,
             "#7fbc41"
            ],
            [
             0.9,
             "#4d9221"
            ],
            [
             1,
             "#276419"
            ]
           ],
           "sequential": [
            [
             0,
             "#0d0887"
            ],
            [
             0.1111111111111111,
             "#46039f"
            ],
            [
             0.2222222222222222,
             "#7201a8"
            ],
            [
             0.3333333333333333,
             "#9c179e"
            ],
            [
             0.4444444444444444,
             "#bd3786"
            ],
            [
             0.5555555555555556,
             "#d8576b"
            ],
            [
             0.6666666666666666,
             "#ed7953"
            ],
            [
             0.7777777777777778,
             "#fb9f3a"
            ],
            [
             0.8888888888888888,
             "#fdca26"
            ],
            [
             1,
             "#f0f921"
            ]
           ],
           "sequentialminus": [
            [
             0,
             "#0d0887"
            ],
            [
             0.1111111111111111,
             "#46039f"
            ],
            [
             0.2222222222222222,
             "#7201a8"
            ],
            [
             0.3333333333333333,
             "#9c179e"
            ],
            [
             0.4444444444444444,
             "#bd3786"
            ],
            [
             0.5555555555555556,
             "#d8576b"
            ],
            [
             0.6666666666666666,
             "#ed7953"
            ],
            [
             0.7777777777777778,
             "#fb9f3a"
            ],
            [
             0.8888888888888888,
             "#fdca26"
            ],
            [
             1,
             "#f0f921"
            ]
           ]
          },
          "colorway": [
           "#636efa",
           "#EF553B",
           "#00cc96",
           "#ab63fa",
           "#FFA15A",
           "#19d3f3",
           "#FF6692",
           "#B6E880",
           "#FF97FF",
           "#FECB52"
          ],
          "font": {
           "color": "#2a3f5f"
          },
          "geo": {
           "bgcolor": "white",
           "lakecolor": "white",
           "landcolor": "#E5ECF6",
           "showlakes": true,
           "showland": true,
           "subunitcolor": "white"
          },
          "hoverlabel": {
           "align": "left"
          },
          "hovermode": "closest",
          "mapbox": {
           "style": "light"
          },
          "paper_bgcolor": "white",
          "plot_bgcolor": "#E5ECF6",
          "polar": {
           "angularaxis": {
            "gridcolor": "white",
            "linecolor": "white",
            "ticks": ""
           },
           "bgcolor": "#E5ECF6",
           "radialaxis": {
            "gridcolor": "white",
            "linecolor": "white",
            "ticks": ""
           }
          },
          "scene": {
           "xaxis": {
            "backgroundcolor": "#E5ECF6",
            "gridcolor": "white",
            "gridwidth": 2,
            "linecolor": "white",
            "showbackground": true,
            "ticks": "",
            "zerolinecolor": "white"
           },
           "yaxis": {
            "backgroundcolor": "#E5ECF6",
            "gridcolor": "white",
            "gridwidth": 2,
            "linecolor": "white",
            "showbackground": true,
            "ticks": "",
            "zerolinecolor": "white"
           },
           "zaxis": {
            "backgroundcolor": "#E5ECF6",
            "gridcolor": "white",
            "gridwidth": 2,
            "linecolor": "white",
            "showbackground": true,
            "ticks": "",
            "zerolinecolor": "white"
           }
          },
          "shapedefaults": {
           "line": {
            "color": "#2a3f5f"
           }
          },
          "ternary": {
           "aaxis": {
            "gridcolor": "white",
            "linecolor": "white",
            "ticks": ""
           },
           "baxis": {
            "gridcolor": "white",
            "linecolor": "white",
            "ticks": ""
           },
           "bgcolor": "#E5ECF6",
           "caxis": {
            "gridcolor": "white",
            "linecolor": "white",
            "ticks": ""
           }
          },
          "title": {
           "x": 0.05
          },
          "xaxis": {
           "automargin": true,
           "gridcolor": "white",
           "linecolor": "white",
           "ticks": "",
           "title": {
            "standoff": 15
           },
           "zerolinecolor": "white",
           "zerolinewidth": 2
          },
          "yaxis": {
           "automargin": true,
           "gridcolor": "white",
           "linecolor": "white",
           "ticks": "",
           "title": {
            "standoff": 15
           },
           "zerolinecolor": "white",
           "zerolinewidth": 2
          }
         }
        },
        "title": {
         "text": "Revenue by week"
        },
        "xaxis": {
         "anchor": "y",
         "domain": [
          0,
          1
         ],
         "title": {
          "text": "start_of_week"
         }
        },
        "yaxis": {
         "anchor": "x",
         "domain": [
          0,
          1
         ],
         "title": {
          "text": "revenue"
         }
        }
       }
      }
     },
     "metadata": {},
     "output_type": "display_data"
    }
   ],
   "source": [
    "px.line(data, x=\"start_of_week\", y=\"revenue\", title=\"Revenue by week\")"
   ]
  },
  {
   "cell_type": "markdown",
   "id": "e4b4e272",
   "metadata": {},
   "source": [
    "Here are some observations from the plot:\n",
    "- we can see clear negative trend, which might be indicative to the economic downfall\n",
    "- we can see some peaks in November and April, also some drops in July so there can be some seasonality\n",
    "- there is no noticable outliers, where we can assume some special events"
   ]
  },
  {
   "cell_type": "markdown",
   "id": "e50057bc",
   "metadata": {},
   "source": [
    "we will use Prophet to know the trend and seasonality of this time-series\n",
    "- As the variance is getting lower with the negative trend, we can assume a multiplicative model here"
   ]
  },
  {
   "cell_type": "code",
   "execution_count": 6,
   "id": "5ec69003",
   "metadata": {},
   "outputs": [
    {
     "name": "stderr",
     "output_type": "stream",
     "text": [
      "13:15:22 - cmdstanpy - INFO - Chain [1] start processing\n",
      "13:15:22 - cmdstanpy - INFO - Chain [1] done processing\n"
     ]
    },
    {
     "data": {
      "text/plain": [
       "<prophet.forecaster.Prophet at 0x193cca86510>"
      ]
     },
     "execution_count": 6,
     "metadata": {},
     "output_type": "execute_result"
    }
   ],
   "source": [
    "data_prophet = data.select([\"start_of_week\", \"revenue\"]).rename({\"start_of_week\": \"ds\", \"revenue\": \"y\"}).to_pandas()\n",
    "model = Prophet(yearly_seasonality=True, weekly_seasonality=False, seasonality_mode=\"multiplicative\")\n",
    "\n",
    "model.fit(data_prophet)"
   ]
  },
  {
   "cell_type": "code",
   "execution_count": 7,
   "id": "8c8ebbe4",
   "metadata": {},
   "outputs": [
    {
     "data": {
      "image/png": "[encoded data removed]",
      "text/plain": [
       "<Figure size 900x600 with 2 Axes>"
      ]
     },
     "metadata": {},
     "output_type": "display_data"
    }
   ],
   "source": [
    "future = model.make_future_dataframe(periods=52, freq='W')\n",
    "forecast = model.predict(future)\n",
    "\n",
    "model.plot_components(forecast);\n"
   ]
  },
  {
   "cell_type": "markdown",
   "id": "004b023a",
   "metadata": {},
   "source": [
    "So, there is evidence of yearly seasonality and negative trend in the revenue"
   ]
  },
  {
   "cell_type": "markdown",
   "id": "8e7cbd64",
   "metadata": {},
   "source": [
    "Let us now have a look at the spends on market channel"
   ]
  },
  {
   "cell_type": "code",
   "execution_count": 8,
   "id": "f0e666f3",
   "metadata": {},
   "outputs": [
    {
     "data": {
      "application/vnd.plotly.v1+json": {
       "config": {
        "plotlyServerURL": "https://plot.ly"
       },
       "data": [
        {
         "hovertemplate": "variable=spend_channel_1<br>start_of_week=%{x}<br>value=%{y}<extra></extra>",
         "legendgroup": "spend_channel_1",
         "line": {
          "color": "#636efa",
          "dash": "solid"
         },
         "marker": {
          "symbol": "circle"
         },
         "mode": "lines",
         "name": "spend_channel_1",
         "orientation": "v",
         "showlegend": true,
         "type": "scatter",
         "x": [
          "2020-08-30",
          "2020-09-06",
          "2020-09-13",
          "2020-09-20",
          "2020-09-27",
          "2020-10-04",
          "2020-10-11",
          "2020-10-18",
          "2020-10-25",
          "2020-11-01",
          "2020-11-08",
          "2020-11-15",
          "2020-11-22",
          "2020-11-29",
          "2020-12-06",
          "2020-12-13",
          "2020-12-20",
          "2020-12-27",
          "2021-01-03",
          "2021-01-10",
          "2021-01-17",
          "2021-01-24",
          "2021-01-31",
          "2021-02-07",
          "2021-02-14",
          "2021-02-21",
          "2021-02-28",
          "2021-03-07",
          "2021-03-14",
          "2021-03-21",
          "2021-03-28",
          "2021-04-04",
          "2021-04-11",
          "2021-04-18",
          "2021-04-25",
          "2021-05-02",
          "2021-05-09",
          "2021-05-16",
          "2021-05-23",
          "2021-05-30",
          "2021-06-06",
          "2021-06-13",
          "2021-06-20",
          "2021-06-27",
          "2021-07-04",
          "2021-07-11",
          "2021-07-18",
          "2021-07-25",
          "2021-08-01",
          "2021-08-08",
          "2021-08-15",
          "2021-08-22",
          "2021-08-29",
          "2021-09-05",
          "2021-09-12",
          "2021-09-19",
          "2021-09-26",
          "2021-10-03",
          "2021-10-10",
          "2021-10-17",
          "2021-10-24",
          "2021-10-31",
          "2021-11-07",
          "2021-11-14",
          "2021-11-21",
          "2021-11-28",
          "2021-12-05",
          "2021-12-12",
          "2021-12-19",
          "2021-12-26",
          "2022-01-02",
          "2022-01-09",
          "2022-01-16",
          "2022-01-23",
          "2022-01-30",
          "2022-02-06",
          "2022-02-13",
          "2022-02-20",
          "2022-02-27",
          "2022-03-06",
          "2022-03-13",
          "2022-03-20",
          "2022-03-27",
          "2022-04-03",
          "2022-04-10",
          "2022-04-17",
          "2022-04-24",
          "2022-05-01",
          "2022-05-08",
          "2022-05-15",
          "2022-05-22",
          "2022-05-29",
          "2022-06-05",
          "2022-06-12",
          "2022-06-19",
          "2022-06-26",
          "2022-07-03",
          "2022-07-10",
          "2022-07-17",
          "2022-07-24",
          "2022-07-31",
          "2022-08-07",
          "2022-08-14",
          "2022-08-21"
         ],
         "xaxis": "x",
         "y": {
          "bdata": "KVyPwvWCpEDsUbgeBZSkQFyPwvUoTqBAzczMzMxqmkAzMzMzMy2YQHsUrkdhjqxASOF6FG47uUDD9Shcj36iQClcj8L1l5ZA16NwPQojd0CamZmZme6aQArXo3A9Q5pAhetRuB6Il0A9Ctej8BeuQFyPwvUoc5VAexSuR+FCiUCuR+F6FKKRQD0K16Nw64xAXI/C9SjnnECPwvUoXIqVQMP1KFyP3oxAFK5H4Xp+gkCuR+F6FMyDQAAAAAAA3opApHA9CtdPkkDNzMzMzMeYQKRwPQrXDZhA7FG4HoVYmkAAAAAAAO2aQNejcD0KQ5VAuB6F61HOiEAAAAAAgLamQClcj8J1gqtAAAAAAABjrUAfhetRuN2mQI/C9SgcV7NA9ihcj8InqEBcj8L1qDauQLgehevRVKFAmpmZmZmWk0CamZmZmRaYQFyPwvUo5oxAAAAAAAC4hUBcj8L1KFR6QPYoXI/CUXRAMzMzMzNNlkAfhetRuDWfQHsUrkfhWolASOF6FK7PgUCF61G4Hl+DQM3MzMzMIIBAXI/C9SgggEDNzMzMzMKAQKRwPQrX34tACtejcD1kgkBSuB6F66+KQK5H4XoUGn5AXI/C9ajkpUDXo3A96qDAQClcj8L1haFA7FG4HoVvhEBmZmZmZrZjQAAAAAAAkoVAAAAAAACvkEA9CtejcIWQQOxRuB6FzKdAuB6F61E+g0CamZmZmRGDQFyPwvUozIhAAAAAAAD0eUBSuB6F672MQHE9CtejJJBASOF6FK5pkEAzMzMzM/+GQMP1KFyPkIVAzczMzMy2l0D2KFyPwsmZQPYoXI/CaJJA4XoUrkcVdUApXI/C9bBnQK5H4XoULkZAzczMzMzsZkCkcD0K13tqQOF6FK5H6XJAzczMzMzMekAK16NwPapCQBSuR+F6FEBApHA9CtejQECuR+F6FE5GQM3MzMzMTENAcT0K16PwM0AAAAAAAAAAAAAAAAAAAAAAAAAAAAAAAAAAAAAAAAAAAAAAAAAAAAAAAAAAAAAAAAAAAAAAAAAAAAAAAAAAAAAAAAAAAAAAAAAAAAAAAAAAAAAAAAAAAAAAAAAAAAAAAAAAAAAAAAAAAA==",
          "dtype": "f8"
         },
         "yaxis": "y"
        },
        {
         "hovertemplate": "variable=spend_channel_2<br>start_of_week=%{x}<br>value=%{y}<extra></extra>",
         "legendgroup": "spend_channel_2",
         "line": {
          "color": "#EF553B",
          "dash": "solid"
         },
         "marker": {
          "symbol": "circle"
         },
         "mode": "lines",
         "name": "spend_channel_2",
         "orientation": "v",
         "showlegend": true,
         "type": "scatter",
         "x": [
          "2020-08-30",
          "2020-09-06",
          "2020-09-13",
          "2020-09-20",
          "2020-09-27",
          "2020-10-04",
          "2020-10-11",
          "2020-10-18",
          "2020-10-25",
          "2020-11-01",
          "2020-11-08",
          "2020-11-15",
          "2020-11-22",
          "2020-11-29",
          "2020-12-06",
          "2020-12-13",
          "2020-12-20",
          "2020-12-27",
          "2021-01-03",
          "2021-01-10",
          "2021-01-17",
          "2021-01-24",
          "2021-01-31",
          "2021-02-07",
          "2021-02-14",
          "2021-02-21",
          "2021-02-28",
          "2021-03-07",
          "2021-03-14",
          "2021-03-21",
          "2021-03-28",
          "2021-04-04",
          "2021-04-11",
          "2021-04-18",
          "2021-04-25",
          "2021-05-02",
          "2021-05-09",
          "2021-05-16",
          "2021-05-23",
          "2021-05-30",
          "2021-06-06",
          "2021-06-13",
          "2021-06-20",
          "2021-06-27",
          "2021-07-04",
          "2021-07-11",
          "2021-07-18",
          "2021-07-25",
          "2021-08-01",
          "2021-08-08",
          "2021-08-15",
          "2021-08-22",
          "2021-08-29",
          "2021-09-05",
          "2021-09-12",
          "2021-09-19",
          "2021-09-26",
          "2021-10-03",
          "2021-10-10",
          "2021-10-17",
          "2021-10-24",
          "2021-10-31",
          "2021-11-07",
          "2021-11-14",
          "2021-11-21",
          "2021-11-28",
          "2021-12-05",
          "2021-12-12",
          "2021-12-19",
          "2021-12-26",
          "2022-01-02",
          "2022-01-09",
          "2022-01-16",
          "2022-01-23",
          "2022-01-30",
          "2022-02-06",
          "2022-02-13",
          "2022-02-20",
          "2022-02-27",
          "2022-03-06",
          "2022-03-13",
          "2022-03-20",
          "2022-03-27",
          "2022-04-03",
          "2022-04-10",
          "2022-04-17",
          "2022-04-24",
          "2022-05-01",
          "2022-05-08",
          "2022-05-15",
          "2022-05-22",
          "2022-05-29",
          "2022-06-05",
          "2022-06-12",
          "2022-06-19",
          "2022-06-26",
          "2022-07-03",
          "2022-07-10",
          "2022-07-17",
          "2022-07-24",
          "2022-07-31",
          "2022-08-07",
          "2022-08-14",
          "2022-08-21"
         ],
         "xaxis": "x",
         "y": {
          "bdata": "j8L1KFxrcEAK16NwPSpbQBSuR+F6lFtAhetRuB5lSkCkcD0K1yNUQBSuR+F6aIBA7FG4HoUHhEC4HoXrUXheQM3MzMzM7FZA7FG4HoW7WEAAAAAAAAhhQArXo3A90mNAw/UoXI+SX0BI4XoUrgGKQJqZmZmZqWFArkfhehTOXECF61G4HiVWQK5H4XoUfmFAXI/C9Sj8aUB7FK5H4QpjQM3MzMzM7GhAmpmZmZmZXkAzMzMzMzNpQGZmZmZmZmJA7FG4HoWrZUCamZmZmblfQJqZmZmZEXVAhetRuB5Fb0BmZmZmZgp0QB+F61G41mBAj8L1KFw3ZECkcD0K11N2QGZmZmZmgIRAKVyPwvVAYUDD9Shcj5JYQEjhehSup1ZApHA9CtejE0DD9Shcj8IZQHsUrkfhehFAZmZmZmZmE0BSuB6F6wFjQM3MzMzMlHBAcT0K16O4YEAfhetRuB5hQGZmZmZmJlpAPQrXo3DdV0Bcj8L1KFxSQGZmZmZmZiZAH4XrUbheTkBmZmZmZmYXQAAAAAAA0F5AAAAAAADgQkAK16NwPZpfQJqZmZmZqVdAmpmZmZmZVEBSuB6F6yFRQArXo3A9ikVAcT0K16OIbkDD9ShcjwKJQJqZmZmZZXVASOF6FK7nbEDNzMzMzOx7QLgehetRSIBApHA9CtdzckDhehSuR5FpQB+F61G4eIdArkfhehROaUBxPQrXoxBqQLgehetR9HBAFK5H4XqUaUD2KFyPwj10QI/C9ShcD11ApHA9CtcLZ0BmZmZmZgZkQB+F61G41mRAzczMzMykhkAAAAAAAEKBQGZmZmZmXIFAexSuR+FsgECPwvUoXAmHQDMzMzMzGYRAj8L1KFzvhUDsUbgehZqQQBSuR+F6xZZAZmZmZmYXmUCkcD0K18tnQJqZmZmZxYRAw/UoXI/UkUCF61G4Hj2GQOF6FK5HA4NAhetRuB6JjUAfhetRuFKGQBSuR+F6soJAKVyPwvUwjUApXI/C9byEQClcj8L1poZAKVyPwvWoakAfhetRuCp0QBSuR+F6cHJAhetRuB57kUAK16NwPYpeQB+F61G4kIdAexSuR+FMkEDXo3A9Cj94QA==",
          "dtype": "f8"
         },
         "yaxis": "y"
        },
        {
         "hovertemplate": "variable=spend_channel_3<br>start_of_week=%{x}<br>value=%{y}<extra></extra>",
         "legendgroup": "spend_channel_3",
         "line": {
          "color": "#00cc96",
          "dash": "solid"
         },
         "marker": {
          "symbol": "circle"
         },
         "mode": "lines",
         "name": "spend_channel_3",
         "orientation": "v",
         "showlegend": true,
         "type": "scatter",
         "x": [
          "2020-08-30",
          "2020-09-06",
          "2020-09-13",
          "2020-09-20",
          "2020-09-27",
          "2020-10-04",
          "2020-10-11",
          "2020-10-18",
          "2020-10-25",
          "2020-11-01",
          "2020-11-08",
          "2020-11-15",
          "2020-11-22",
          "2020-11-29",
          "2020-12-06",
          "2020-12-13",
          "2020-12-20",
          "2020-12-27",
          "2021-01-03",
          "2021-01-10",
          "2021-01-17",
          "2021-01-24",
          "2021-01-31",
          "2021-02-07",
          "2021-02-14",
          "2021-02-21",
          "2021-02-28",
          "2021-03-07",
          "2021-03-14",
          "2021-03-21",
          "2021-03-28",
          "2021-04-04",
          "2021-04-11",
          "2021-04-18",
          "2021-04-25",
          "2021-05-02",
          "2021-05-09",
          "2021-05-16",
          "2021-05-23",
          "2021-05-30",
          "2021-06-06",
          "2021-06-13",
          "2021-06-20",
          "2021-06-27",
          "2021-07-04",
          "2021-07-11",
          "2021-07-18",
          "2021-07-25",
          "2021-08-01",
          "2021-08-08",
          "2021-08-15",
          "2021-08-22",
          "2021-08-29",
          "2021-09-05",
          "2021-09-12",
          "2021-09-19",
          "2021-09-26",
          "2021-10-03",
          "2021-10-10",
          "2021-10-17",
          "2021-10-24",
          "2021-10-31",
          "2021-11-07",
          "2021-11-14",
          "2021-11-21",
          "2021-11-28",
          "2021-12-05",
          "2021-12-12",
          "2021-12-19",
          "2021-12-26",
          "2022-01-02",
          "2022-01-09",
          "2022-01-16",
          "2022-01-23",
          "2022-01-30",
          "2022-02-06",
          "2022-02-13",
          "2022-02-20",
          "2022-02-27",
          "2022-03-06",
          "2022-03-13",
          "2022-03-20",
          "2022-03-27",
          "2022-04-03",
          "2022-04-10",
          "2022-04-17",
          "2022-04-24",
          "2022-05-01",
          "2022-05-08",
          "2022-05-15",
          "2022-05-22",
          "2022-05-29",
          "2022-06-05",
          "2022-06-12",
          "2022-06-19",
          "2022-06-26",
          "2022-07-03",
          "2022-07-10",
          "2022-07-17",
          "2022-07-24",
          "2022-07-31",
          "2022-08-07",
          "2022-08-14",
          "2022-08-21"
         ],
         "xaxis": "x",
         "y": {
          "bdata": "w/UoXA9NyUBxPQrXIxzBQFK4HoVr87tAj8L1KJyozUAzMzMzAxfSQM3MzMwcmtFAKVyPwgVz10BxPQrXQ8vKQHsUrkchfcdAw/UoXE/v10A9Ctej0FvhQKRwPQrXGtFA4XoUrkdtzEBSuB6F8y/jQB+F61H448NAexSuRyEyt0BI4XoUjtjSQB+F61FoUtBAmpmZmTmR2kBmZmZmxuPLQB+F61HogdBAAAAAAOAdyEC4HoXrgWjVQM3MzMwMW8hAw/UoXC+hy0D2KFyPgujNQClcj8J1Sc5AcT0K16MmxUBxPQrXI1fIQMP1KFyPPMdAmpmZmQl900BSuB6FOwviQFyPwvXgwOdAcT0K12Ok0UAzMzMzM2LRQClcj8J1guBAmpmZmam21UCPwvUofMXPQJqZmZlpZdFApHA9ClfS10DD9ShcX/3bQGZmZma2MNVAPQrXo5ASzEAzMzMzcx/OQB+F61HIRddAKVyPwsVO0UCF61G4rnHWQHsUrkdh6MJA9ihcj4K/xEDNzMzMnGrRQHsUrkeBX8NAH4XrUfj0v0AfhetROJ+6QB+F61H4orhAPQrXozBFwECF61G4PjbLQClcj8IFUORAAAAAAJj35EAfhetRCPzfQD0K16Owg9JAAAAAABBE1EAUrkfhyt3YQLgehevRpNVAuB6F69EB2UDXo3A9SizdQB+F61H44OFAhetRuD7A3UApXI/C1VDaQOxRuB61idJApHA9Cteb0kApXI/CFS3YQK5H4XpkZdRAmpmZmUl31ECPwvUorPDQQHsUrkchztBAcT0K1xMK0kDsUbgepYjSQArXo3BdnNFACtejcN1TzkBxPQrX4+7RQPYoXI/C/tBAH4XrUYgd0kDsUbge1T7VQIXrUbjOFdxAj8L1KCxD6ECPwvUoHIbTQPYoXI+S4NJAj8L1KIwu0EBI4XoUjl7JQAAAAAAQFtFACtejcA3f0ECuR+F69DfKQFK4HoXLW8lAMzMzM1O/x0CPwvUoLNXRQB+F61FYY9NA16NwPWrS3UC4HoXrgcvQQBSuR+GKBNJAZmZmZkbI1UAzMzMzU+LOQM3MzMxsw8dA16NwPUo0xUA9Ctej0ALFQA==",
          "dtype": "f8"
         },
         "yaxis": "y"
        },
        {
         "hovertemplate": "variable=spend_channel_4<br>start_of_week=%{x}<br>value=%{y}<extra></extra>",
         "legendgroup": "spend_channel_4",
         "line": {
          "color": "#ab63fa",
          "dash": "solid"
         },
         "marker": {
          "symbol": "circle"
         },
         "mode": "lines",
         "name": "spend_channel_4",
         "orientation": "v",
         "showlegend": true,
         "type": "scatter",
         "x": [
          "2020-08-30",
          "2020-09-06",
          "2020-09-13",
          "2020-09-20",
          "2020-09-27",
          "2020-10-04",
          "2020-10-11",
          "2020-10-18",
          "2020-10-25",
          "2020-11-01",
          "2020-11-08",
          "2020-11-15",
          "2020-11-22",
          "2020-11-29",
          "2020-12-06",
          "2020-12-13",
          "2020-12-20",
          "2020-12-27",
          "2021-01-03",
          "2021-01-10",
          "2021-01-17",
          "2021-01-24",
          "2021-01-31",
          "2021-02-07",
          "2021-02-14",
          "2021-02-21",
          "2021-02-28",
          "2021-03-07",
          "2021-03-14",
          "2021-03-21",
          "2021-03-28",
          "2021-04-04",
          "2021-04-11",
          "2021-04-18",
          "2021-04-25",
          "2021-05-02",
          "2021-05-09",
          "2021-05-16",
          "2021-05-23",
          "2021-05-30",
          "2021-06-06",
          "2021-06-13",
          "2021-06-20",
          "2021-06-27",
          "2021-07-04",
          "2021-07-11",
          "2021-07-18",
          "2021-07-25",
          "2021-08-01",
          "2021-08-08",
          "2021-08-15",
          "2021-08-22",
          "2021-08-29",
          "2021-09-05",
          "2021-09-12",
          "2021-09-19",
          "2021-09-26",
          "2021-10-03",
          "2021-10-10",
          "2021-10-17",
          "2021-10-24",
          "2021-10-31",
          "2021-11-07",
          "2021-11-14",
          "2021-11-21",
          "2021-11-28",
          "2021-12-05",
          "2021-12-12",
          "2021-12-19",
          "2021-12-26",
          "2022-01-02",
          "2022-01-09",
          "2022-01-16",
          "2022-01-23",
          "2022-01-30",
          "2022-02-06",
          "2022-02-13",
          "2022-02-20",
          "2022-02-27",
          "2022-03-06",
          "2022-03-13",
          "2022-03-20",
          "2022-03-27",
          "2022-04-03",
          "2022-04-10",
          "2022-04-17",
          "2022-04-24",
          "2022-05-01",
          "2022-05-08",
          "2022-05-15",
          "2022-05-22",
          "2022-05-29",
          "2022-06-05",
          "2022-06-12",
          "2022-06-19",
          "2022-06-26",
          "2022-07-03",
          "2022-07-10",
          "2022-07-17",
          "2022-07-24",
          "2022-07-31",
          "2022-08-07",
          "2022-08-14",
          "2022-08-21"
         ],
         "xaxis": "x",
         "y": {
          "bdata": "9ihcj0IzrECamZmZmdCxQClcj8L1CrFAuB6F69FWrkBI4XoULpavQI/C9Si8BcNACtejcD2Iu0BmZmZmZiSsQI/C9SjcXa5AuB6F61F2s0DhehSuh++yQLgehetR9rZAuB6F61EwtkAAAAAAgNXEQFK4HoVrOrxAuB6F6xFXtUAzMzMzcxu0QFK4HoUrYrBAj8L1KFz+sEAfhetRuIa0QGZmZmbmb7ZApHA9Clf1s0CamZmZmbKyQClcj8J1lrJAKVyPwnVCtkDD9Shcj+y2QFK4HoXLfMhAXI/C9WjLukAfhetRuCa1QD0K16PwirRAw/UoXE+Et0C4HoXrkRe/QI/C9ShcecJAAAAAAEDetEDD9ShcD12yQB+F61F4+7NArkfhepQMt0DD9Shcj2+sQPYoXI/Ct65AMzMzM7OftkDXo3A9Ssi6QK5H4XrU/rtAcT0K1wPGwEAfhetR+Ea4QClcj8J17bZAUrgehStRuEAfhetR+Ey4QOxRuB5FqLFAKVyPwvX9tEDNzMzMTLO1QEjhehTuHbpArkfhetQduEB7FK5HoZu4QBSuR+E63blAhetRuJ4ht0A9CtejsPW4QK5H4XpU0b1AzczMzMzdyUAAAAAAkGzVQClcj8L1Y8VAUrgehWsavUCPwvUo3LS7QOF6FK4HCb1Aj8L1KNwMxkDsUbgeBSDEQI/C9ShsGdZAPQrXoxAWzkB7FK5HYcnGQOF6FK6HBrlA7FG4HoUXrUApXI/CtdOxQDMzMzMznblAH4XrUXigvEBSuB6FK7K2QFK4HoUrA7lASOF6FG62vkCamZmZ2Vq7QBSuR+F6mbpAhetRuJ7EtECPwvUonDq1QB+F61E4ErhAexSuR6GTvkAfhetR+Gq9QMP1KFxPpMRAH4XrUTg6x0C4HoXrMQ7AQOxRuB6FyL5ACtejcH1FxUAfhetR+L60QBSuR+E69blAFK5H4VoNwUCF61G4Xt3AQHE9Ctejur5AmpmZmRl/vEDXo3A9Ste6QGZmZmamqrpAzczMzIxSukCPwvUoXGm2QKRwPQqX3rJA9ihcjwLWsUD2KFyPgruyQIXrUbgeYbNAexSuRyFPsUBcj8L1aFWyQA==",
          "dtype": "f8"
         },
         "yaxis": "y"
        },
        {
         "hovertemplate": "variable=spend_channel_5<br>start_of_week=%{x}<br>value=%{y}<extra></extra>",
         "legendgroup": "spend_channel_5",
         "line": {
          "color": "#FFA15A",
          "dash": "solid"
         },
         "marker": {
          "symbol": "circle"
         },
         "mode": "lines",
         "name": "spend_channel_5",
         "orientation": "v",
         "showlegend": true,
         "type": "scatter",
         "x": [
          "2020-08-30",
          "2020-09-06",
          "2020-09-13",
          "2020-09-20",
          "2020-09-27",
          "2020-10-04",
          "2020-10-11",
          "2020-10-18",
          "2020-10-25",
          "2020-11-01",
          "2020-11-08",
          "2020-11-15",
          "2020-11-22",
          "2020-11-29",
          "2020-12-06",
          "2020-12-13",
          "2020-12-20",
          "2020-12-27",
          "2021-01-03",
          "2021-01-10",
          "2021-01-17",
          "2021-01-24",
          "2021-01-31",
          "2021-02-07",
          "2021-02-14",
          "2021-02-21",
          "2021-02-28",
          "2021-03-07",
          "2021-03-14",
          "2021-03-21",
          "2021-03-28",
          "2021-04-04",
          "2021-04-11",
          "2021-04-18",
          "2021-04-25",
          "2021-05-02",
          "2021-05-09",
          "2021-05-16",
          "2021-05-23",
          "2021-05-30",
          "2021-06-06",
          "2021-06-13",
          "2021-06-20",
          "2021-06-27",
          "2021-07-04",
          "2021-07-11",
          "2021-07-18",
          "2021-07-25",
          "2021-08-01",
          "2021-08-08",
          "2021-08-15",
          "2021-08-22",
          "2021-08-29",
          "2021-09-05",
          "2021-09-12",
          "2021-09-19",
          "2021-09-26",
          "2021-10-03",
          "2021-10-10",
          "2021-10-17",
          "2021-10-24",
          "2021-10-31",
          "2021-11-07",
          "2021-11-14",
          "2021-11-21",
          "2021-11-28",
          "2021-12-05",
          "2021-12-12",
          "2021-12-19",
          "2021-12-26",
          "2022-01-02",
          "2022-01-09",
          "2022-01-16",
          "2022-01-23",
          "2022-01-30",
          "2022-02-06",
          "2022-02-13",
          "2022-02-20",
          "2022-02-27",
          "2022-03-06",
          "2022-03-13",
          "2022-03-20",
          "2022-03-27",
          "2022-04-03",
          "2022-04-10",
          "2022-04-17",
          "2022-04-24",
          "2022-05-01",
          "2022-05-08",
          "2022-05-15",
          "2022-05-22",
          "2022-05-29",
          "2022-06-05",
          "2022-06-12",
          "2022-06-19",
          "2022-06-26",
          "2022-07-03",
          "2022-07-10",
          "2022-07-17",
          "2022-07-24",
          "2022-07-31",
          "2022-08-07",
          "2022-08-14",
          "2022-08-21"
         ],
         "xaxis": "x",
         "y": {
          "bdata": "7FG4HqVNyUCamZmZ2eXIQK5H4Xq0U81ArkfherRQzkCF61G43tjOQDMzMzMDUdRAzczMzDQe4ECF61G4fvbaQHE9CtcDus9ACtejcP14wUDNzMzMjK3MQPYoXI+CNtJAKVyPwsUy1EBxPQrXA7HYQFyPwvUo7MxAexSuR6EQtUDD9Shcz8G2QOF6FK7H0btA7FG4HsVIxEBSuB6F65K9QOxRuB4FtcRAexSuR2GpzEBI4XoUTkzOQKRwPQr3ncpAH4XrUXiOxUDsUbgeRW7GQM3MzMxswMZAw/UoXC8ewkAUrkfhOrXBQAAAAAAgs8BAPQrXo7DtwkBxPQrXg3nFQLgehevB0NBAH4XrUShR0EAAAAAAwNXPQOxRuB51d9JAhetRuM4h0UBcj8L16DjFQAAAAADg3cdAmpmZmfmW0UBcj8L1KEnTQPYoXI+CUNJASOF6FP5m0kBSuB6F657RQFyPwvUo985AH4XrUZjcy0BmZmZmRvTOQKRwPQpX88ZAcT0K12N9v0CuR+F61Fy6QClcj8K1YbtArkfhetQOukApXI/CdWu7QFyPwvWoIrZAAAAAAECEs0D2KFyPwhWlQOxRuB6Fv6ZAAAAAAEAxvkCuR+F6VLO/QOF6FK7HYKZAZmZmZmZVoEBxPQrXo+qaQClcj8L1yp5AexSuR+FBl0D2KFyPwqOVQPYoXI/C2ptA9ihcj0I1oUDNzMzMzNOhQClcj8L1pZBASOF6FK5bh0DD9Shcj1uQQHE9CtejKZpAFK5H4XplmUB7FK5H4YKUQJqZmZmZraBAKVyPwvWnm0ApXI/C9a+dQFyPwvUok5NAZmZmZmaTkUAzMzMzM+mUQLgehetRFJZAMzMzMzPLnEBmZmZm5minQOF6FK7Hs6pAzczMzEwDrkDD9ShcD2isQAAAAAAAuqtAMzMzM7NxpkDD9Shcj9SjQKRwPQrXcalAexSuRyG3xEAUrkfh+pesQNejcD2KZadAKVyPwnWhq0BxPQrXo52qQEjhehQuWqxAuB6F69EnqkAK16NwvVipQKRwPQpXrahAZmZmZmZXp0DNzMzMzLqpQMP1KFwPsq9AhetRuJ4dqEAfhetRODinQA==",
          "dtype": "f8"
         },
         "yaxis": "y"
        },
        {
         "hovertemplate": "variable=spend_channel_6<br>start_of_week=%{x}<br>value=%{y}<extra></extra>",
         "legendgroup": "spend_channel_6",
         "line": {
          "color": "#19d3f3",
          "dash": "solid"
         },
         "marker": {
          "symbol": "circle"
         },
         "mode": "lines",
         "name": "spend_channel_6",
         "orientation": "v",
         "showlegend": true,
         "type": "scatter",
         "x": [
          "2020-08-30",
          "2020-09-06",
          "2020-09-13",
          "2020-09-20",
          "2020-09-27",
          "2020-10-04",
          "2020-10-11",
          "2020-10-18",
          "2020-10-25",
          "2020-11-01",
          "2020-11-08",
          "2020-11-15",
          "2020-11-22",
          "2020-11-29",
          "2020-12-06",
          "2020-12-13",
          "2020-12-20",
          "2020-12-27",
          "2021-01-03",
          "2021-01-10",
          "2021-01-17",
          "2021-01-24",
          "2021-01-31",
          "2021-02-07",
          "2021-02-14",
          "2021-02-21",
          "2021-02-28",
          "2021-03-07",
          "2021-03-14",
          "2021-03-21",
          "2021-03-28",
          "2021-04-04",
          "2021-04-11",
          "2021-04-18",
          "2021-04-25",
          "2021-05-02",
          "2021-05-09",
          "2021-05-16",
          "2021-05-23",
          "2021-05-30",
          "2021-06-06",
          "2021-06-13",
          "2021-06-20",
          "2021-06-27",
          "2021-07-04",
          "2021-07-11",
          "2021-07-18",
          "2021-07-25",
          "2021-08-01",
          "2021-08-08",
          "2021-08-15",
          "2021-08-22",
          "2021-08-29",
          "2021-09-05",
          "2021-09-12",
          "2021-09-19",
          "2021-09-26",
          "2021-10-03",
          "2021-10-10",
          "2021-10-17",
          "2021-10-24",
          "2021-10-31",
          "2021-11-07",
          "2021-11-14",
          "2021-11-21",
          "2021-11-28",
          "2021-12-05",
          "2021-12-12",
          "2021-12-19",
          "2021-12-26",
          "2022-01-02",
          "2022-01-09",
          "2022-01-16",
          "2022-01-23",
          "2022-01-30",
          "2022-02-06",
          "2022-02-13",
          "2022-02-20",
          "2022-02-27",
          "2022-03-06",
          "2022-03-13",
          "2022-03-20",
          "2022-03-27",
          "2022-04-03",
          "2022-04-10",
          "2022-04-17",
          "2022-04-24",
          "2022-05-01",
          "2022-05-08",
          "2022-05-15",
          "2022-05-22",
          "2022-05-29",
          "2022-06-05",
          "2022-06-12",
          "2022-06-19",
          "2022-06-26",
          "2022-07-03",
          "2022-07-10",
          "2022-07-17",
          "2022-07-24",
          "2022-07-31",
          "2022-08-07",
          "2022-08-14",
          "2022-08-21"
         ],
         "xaxis": "x",
         "y": {
          "bdata": "w/UoXI+5yECkcD0KFxnIQDMzMzOTHcVAj8L1KBwtyUBmZmZmRrHIQB+F61Fo2dhA9ihcj5pz4EDD9ShcTwjMQKRwPQpXrr9AFK5H4XqdvkApXI/CtdrHQKRwPQpX0M1AKVyPwvX7wEDXo3A9KqbNQLgeheuRSs1Aw/UoXI+VkECPwvUoHH2zQPYoXI/CEpJAAAAAAAAAAAAAAAAAAMKxQPYoXI+CXcJA7FG4HkVkzkD2KFyP4mvDQIXrUbheE7pAAAAAAGB/yEBxPQrXw3rHQB+F61G4Ub5A16NwPeoSyUAAAAAAwGrJQK5H4XpUxbRAw/UoXA9ut0CPwvUoXKjNQPYoXI9C+N1ASOF6FI6XwkAUrkfhOouzQNejcD0KCMFAPQrXo3DrqkDD9Shcjw+mQKRwPQrXhqxAexSuR+FjpEAAAAAAgHihQOF6FK5HGZtAexSuR+HNlUD2KFyPgmfFQKRwPQrXjp9AFK5H4foYq0CF61G4XoO0QOxRuB6Fm2dAAAAAAAAAAAAAAAAAAAAAAAAAAAAAAAAAUrgehetRyD8AAAAAAAAAAAAAAAAAAAAAAAAAAAAAAAAAAAAAAAAAAAAAAAAAAAAA7FG4HoWTdkApXI/C9dmRQD0K16NwfXhAAAAAAAAAAAAAAAAAAAAAAAAAAAAAAAAAAAAAAAAAAAAAAAAAAAAAAClcj8K1YsJACtejcG1Y0EBxPQrXI96mQDMzMzPzELtAPQrXoxAvwECkcD0K122KQAAAAAAAAAAAAAAAAAAAAAAAAAAAAAAAAAAAAAAAAAAAAAAAAAAAAAAAAAAAAAAAAAAAAAAAAAAA9ihcjwI4tUBcj8L1qDe4QHsUrkdhb7NAZmZmZuZMqEDXo3A9CieoQOxRuB4FoahAPQrXo3B2qUDNzMzMzJGXQAAAAAAAAAAAAAAAAAAAAAAAAAAAAAAAAAAAAAAAAAAAAAAAAAAAAAAAAAAAAAAAAAAAAAAAAAAAAAAAAAAAAAAAAAAAAAAAAAAAAAAAAAAAAAAAAAAAAAAAAAAAAAAAAAAAAAAAAAAAAAAAAAAAAAAAAAAAAAAAAAAAAAAAAAAAAAAAAAAAAAAAAAAAAAAAAA==",
          "dtype": "f8"
         },
         "yaxis": "y"
        },
        {
         "hovertemplate": "variable=spend_channel_7<br>start_of_week=%{x}<br>value=%{y}<extra></extra>",
         "legendgroup": "spend_channel_7",
         "line": {
          "color": "#FF6692",
          "dash": "solid"
         },
         "marker": {
          "symbol": "circle"
         },
         "mode": "lines",
         "name": "spend_channel_7",
         "orientation": "v",
         "showlegend": true,
         "type": "scatter",
         "x": [
          "2020-08-30",
          "2020-09-06",
          "2020-09-13",
          "2020-09-20",
          "2020-09-27",
          "2020-10-04",
          "2020-10-11",
          "2020-10-18",
          "2020-10-25",
          "2020-11-01",
          "2020-11-08",
          "2020-11-15",
          "2020-11-22",
          "2020-11-29",
          "2020-12-06",
          "2020-12-13",
          "2020-12-20",
          "2020-12-27",
          "2021-01-03",
          "2021-01-10",
          "2021-01-17",
          "2021-01-24",
          "2021-01-31",
          "2021-02-07",
          "2021-02-14",
          "2021-02-21",
          "2021-02-28",
          "2021-03-07",
          "2021-03-14",
          "2021-03-21",
          "2021-03-28",
          "2021-04-04",
          "2021-04-11",
          "2021-04-18",
          "2021-04-25",
          "2021-05-02",
          "2021-05-09",
          "2021-05-16",
          "2021-05-23",
          "2021-05-30",
          "2021-06-06",
          "2021-06-13",
          "2021-06-20",
          "2021-06-27",
          "2021-07-04",
          "2021-07-11",
          "2021-07-18",
          "2021-07-25",
          "2021-08-01",
          "2021-08-08",
          "2021-08-15",
          "2021-08-22",
          "2021-08-29",
          "2021-09-05",
          "2021-09-12",
          "2021-09-19",
          "2021-09-26",
          "2021-10-03",
          "2021-10-10",
          "2021-10-17",
          "2021-10-24",
          "2021-10-31",
          "2021-11-07",
          "2021-11-14",
          "2021-11-21",
          "2021-11-28",
          "2021-12-05",
          "2021-12-12",
          "2021-12-19",
          "2021-12-26",
          "2022-01-02",
          "2022-01-09",
          "2022-01-16",
          "2022-01-23",
          "2022-01-30",
          "2022-02-06",
          "2022-02-13",
          "2022-02-20",
          "2022-02-27",
          "2022-03-06",
          "2022-03-13",
          "2022-03-20",
          "2022-03-27",
          "2022-04-03",
          "2022-04-10",
          "2022-04-17",
          "2022-04-24",
          "2022-05-01",
          "2022-05-08",
          "2022-05-15",
          "2022-05-22",
          "2022-05-29",
          "2022-06-05",
          "2022-06-12",
          "2022-06-19",
          "2022-06-26",
          "2022-07-03",
          "2022-07-10",
          "2022-07-17",
          "2022-07-24",
          "2022-07-31",
          "2022-08-07",
          "2022-08-14",
          "2022-08-21"
         ],
         "xaxis": "x",
         "y": {
          "bdata": "9ihcj/Ls0kDNzMzMXPLVQDMzMzMDEdZAhetRuC4m2ECF61G43uTZQNejcD2art1AhetRuBZV4kBSuB6Fy5XgQKRwPQqn69dAPQrXozBa0UBmZmZm5onYQAAAAADAdtlA7FG4HpXN2kCPwvUoZAjjQMP1KFxPQtRAZmZmZobJwkDD9Shcz5zGQMP1KFzvM89AAAAAAADd1kDXo3A9Ko3PQHE9CtcDkMxASOF6FK6kzkD2KFyPokfNQMP1KFxvmc9AAAAAALBx0kCkcD0K12bVQOxRuB519NxAhetRuF7e1kDXo3A9uvHSQJqZmZkpPNFAPQrXo1C8z0BSuB6F+87TQD0K16PAzd5AAAAAAPBl2ECF61G4jqPXQFK4HoVbb9dArkfhejTTz0AfhetRWNTHQMP1KFwvt8pAw/UoXK9S1EA9CtejQPvUQEjhehTemtVASOF6FB7J1EAzMzMzo57WQB+F61F4ddZAMzMzM3MH1EAzMzMzY9TVQHsUrkdB6NFAhetRuH4wy0AfhetRmLHJQK5H4XpULMdAFK5H4ZpXwkD2KFyPYpHIQHsUrkdhEM1AMzMzM8O410BSuB6F+0/gQK5H4XoEUeNA9ihcj+LV5EBxPQrXA0TuQI/C9Sh8Z99AUrgehVsE1UDNzMzMDPzSQK5H4XrkHNdA9ihcj0IR1ECkcD0KlzjRQBSuR+F6V+lAAAAAADi17UDD9ShcP2HiQAAAAADYguBAH4XrUfhY20CF61G4tjPiQIXrUbjuf+ZAAAAAAKgP40DD9Shcz0XiQD0K16M4bOJAZmZmZs5S4kAK16Nw1b3hQB+F61GQeeRASOF6FM4h4kDsUbgelfPpQPYoXI/KjuZAH4XrUZBn5EDNzMzM3E7oQB+F61EonetAhetRuAbr8kAzMzMz0yfhQJqZmZmpg99A4XoUrgf/1ED2KFyP8pbWQOF6FK6X/dxAXI/C9WiD30BxPQrXY8LVQNejcD1a4tZApHA9Csep3UDhehSuX43iQOxRuB7V399AUrgehdv920DsUbge1XPdQHE9CtfDs9hAH4XrUThz00CF61G4/ifWQFyPwvWob91AuB6F67Hz20BSuB6Fy9TdQA==",
          "dtype": "f8"
         },
         "yaxis": "y"
        }
       ],
       "layout": {
        "legend": {
         "title": {
          "text": "variable"
         },
         "tracegroupgap": 0
        },
        "template": {
         "data": {
          "bar": [
           {
            "error_x": {
             "color": "#2a3f5f"
            },
            "error_y": {
             "color": "#2a3f5f"
            },
            "marker": {
             "line": {
              "color": "#E5ECF6",
              "width": 0.5
             },
             "pattern": {
              "fillmode": "overlay",
              "size": 10,
              "solidity": 0.2
             }
            },
            "type": "bar"
           }
          ],
          "barpolar": [
           {
            "marker": {
             "line": {
              "color": "#E5ECF6",
              "width": 0.5
             },
             "pattern": {
              "fillmode": "overlay",
              "size": 10,
              "solidity": 0.2
             }
            },
            "type": "barpolar"
           }
          ],
          "carpet": [
           {
            "aaxis": {
             "endlinecolor": "#2a3f5f",
             "gridcolor": "white",
             "linecolor": "white",
             "minorgridcolor": "white",
             "startlinecolor": "#2a3f5f"
            },
            "baxis": {
             "endlinecolor": "#2a3f5f",
             "gridcolor": "white",
             "linecolor": "white",
             "minorgridcolor": "white",
             "startlinecolor": "#2a3f5f"
            },
            "type": "carpet"
           }
          ],
          "choropleth": [
           {
            "colorbar": {
             "outlinewidth": 0,
             "ticks": ""
            },
            "type": "choropleth"
           }
          ],
          "contour": [
           {
            "colorbar": {
             "outlinewidth": 0,
             "ticks": ""
            },
            "colorscale": [
             [
              0,
              "#0d0887"
             ],
             [
              0.1111111111111111,
              "#46039f"
             ],
             [
              0.2222222222222222,
              "#7201a8"
             ],
             [
              0.3333333333333333,
              "#9c179e"
             ],
             [
              0.4444444444444444,
              "#bd3786"
             ],
             [
              0.5555555555555556,
              "#d8576b"
             ],
             [
              0.6666666666666666,
              "#ed7953"
             ],
             [
              0.7777777777777778,
              "#fb9f3a"
             ],
             [
              0.8888888888888888,
              "#fdca26"
             ],
             [
              1,
              "#f0f921"
             ]
            ],
            "type": "contour"
           }
          ],
          "contourcarpet": [
           {
            "colorbar": {
             "outlinewidth": 0,
             "ticks": ""
            },
            "type": "contourcarpet"
           }
          ],
          "heatmap": [
           {
            "colorbar": {
             "outlinewidth": 0,
             "ticks": ""
            },
            "colorscale": [
             [
              0,
              "#0d0887"
             ],
             [
              0.1111111111111111,
              "#46039f"
             ],
             [
              0.2222222222222222,
              "#7201a8"
             ],
             [
              0.3333333333333333,
              "#9c179e"
             ],
             [
              0.4444444444444444,
              "#bd3786"
             ],
             [
              0.5555555555555556,
              "#d8576b"
             ],
             [
              0.6666666666666666,
              "#ed7953"
             ],
             [
              0.7777777777777778,
              "#fb9f3a"
             ],
             [
              0.8888888888888888,
              "#fdca26"
             ],
             [
              1,
              "#f0f921"
             ]
            ],
            "type": "heatmap"
           }
          ],
          "histogram": [
           {
            "marker": {
             "pattern": {
              "fillmode": "overlay",
              "size": 10,
              "solidity": 0.2
             }
            },
            "type": "histogram"
           }
          ],
          "histogram2d": [
           {
            "colorbar": {
             "outlinewidth": 0,
             "ticks": ""
            },
            "colorscale": [
             [
              0,
              "#0d0887"
             ],
             [
              0.1111111111111111,
              "#46039f"
             ],
             [
              0.2222222222222222,
              "#7201a8"
             ],
             [
              0.3333333333333333,
              "#9c179e"
             ],
             [
              0.4444444444444444,
              "#bd3786"
             ],
             [
              0.5555555555555556,
              "#d8576b"
             ],
             [
              0.6666666666666666,
              "#ed7953"
             ],
             [
              0.7777777777777778,
              "#fb9f3a"
             ],
             [
              0.8888888888888888,
              "#fdca26"
             ],
             [
              1,
              "#f0f921"
             ]
            ],
            "type": "histogram2d"
           }
          ],
          "histogram2dcontour": [
           {
            "colorbar": {
             "outlinewidth": 0,
             "ticks": ""
            },
            "colorscale": [
             [
              0,
              "#0d0887"
             ],
             [
              0.1111111111111111,
              "#46039f"
             ],
             [
              0.2222222222222222,
              "#7201a8"
             ],
             [
              0.3333333333333333,
              "#9c179e"
             ],
             [
              0.4444444444444444,
              "#bd3786"
             ],
             [
              0.5555555555555556,
              "#d8576b"
             ],
             [
              0.6666666666666666,
              "#ed7953"
             ],
             [
              0.7777777777777778,
              "#fb9f3a"
             ],
             [
              0.8888888888888888,
              "#fdca26"
             ],
             [
              1,
              "#f0f921"
             ]
            ],
            "type": "histogram2dcontour"
           }
          ],
          "mesh3d": [
           {
            "colorbar": {
             "outlinewidth": 0,
             "ticks": ""
            },
            "type": "mesh3d"
           }
          ],
          "parcoords": [
           {
            "line": {
             "colorbar": {
              "outlinewidth": 0,
              "ticks": ""
             }
            },
            "type": "parcoords"
           }
          ],
          "pie": [
           {
            "automargin": true,
            "type": "pie"
           }
          ],
          "scatter": [
           {
            "fillpattern": {
             "fillmode": "overlay",
             "size": 10,
             "solidity": 0.2
            },
            "type": "scatter"
           }
          ],
          "scatter3d": [
           {
            "line": {
             "colorbar": {
              "outlinewidth": 0,
              "ticks": ""
             }
            },
            "marker": {
             "colorbar": {
              "outlinewidth": 0,
              "ticks": ""
             }
            },
            "type": "scatter3d"
           }
          ],
          "scattercarpet": [
           {
            "marker": {
             "colorbar": {
              "outlinewidth": 0,
              "ticks": ""
             }
            },
            "type": "scattercarpet"
           }
          ],
          "scattergeo": [
           {
            "marker": {
             "colorbar": {
              "outlinewidth": 0,
              "ticks": ""
             }
            },
            "type": "scattergeo"
           }
          ],
          "scattergl": [
           {
            "marker": {
             "colorbar": {
              "outlinewidth": 0,
              "ticks": ""
             }
            },
            "type": "scattergl"
           }
          ],
          "scattermap": [
           {
            "marker": {
             "colorbar": {
              "outlinewidth": 0,
              "ticks": ""
             }
            },
            "type": "scattermap"
           }
          ],
          "scattermapbox": [
           {
            "marker": {
             "colorbar": {
              "outlinewidth": 0,
              "ticks": ""
             }
            },
            "type": "scattermapbox"
           }
          ],
          "scatterpolar": [
           {
            "marker": {
             "colorbar": {
              "outlinewidth": 0,
              "ticks": ""
             }
            },
            "type": "scatterpolar"
           }
          ],
          "scatterpolargl": [
           {
            "marker": {
             "colorbar": {
              "outlinewidth": 0,
              "ticks": ""
             }
            },
            "type": "scatterpolargl"
           }
          ],
          "scatterternary": [
           {
            "marker": {
             "colorbar": {
              "outlinewidth": 0,
              "ticks": ""
             }
            },
            "type": "scatterternary"
           }
          ],
          "surface": [
           {
            "colorbar": {
             "outlinewidth": 0,
             "ticks": ""
            },
            "colorscale": [
             [
              0,
              "#0d0887"
             ],
             [
              0.1111111111111111,
              "#46039f"
             ],
             [
              0.2222222222222222,
              "#7201a8"
             ],
             [
              0.3333333333333333,
              "#9c179e"
             ],
             [
              0.4444444444444444,
              "#bd3786"
             ],
             [
              0.5555555555555556,
              "#d8576b"
             ],
             [
              0.6666666666666666,
              "#ed7953"
             ],
             [
              0.7777777777777778,
              "#fb9f3a"
             ],
             [
              0.8888888888888888,
              "#fdca26"
             ],
             [
              1,
              "#f0f921"
             ]
            ],
            "type": "surface"
           }
          ],
          "table": [
           {
            "cells": {
             "fill": {
              "color": "#EBF0F8"
             },
             "line": {
              "color": "white"
             }
            },
            "header": {
             "fill": {
              "color": "#C8D4E3"
             },
             "line": {
              "color": "white"
             }
            },
            "type": "table"
           }
          ]
         },
         "layout": {
          "annotationdefaults": {
           "arrowcolor": "#2a3f5f",
           "arrowhead": 0,
           "arrowwidth": 1
          },
          "autotypenumbers": "strict",
          "coloraxis": {
           "colorbar": {
            "outlinewidth": 0,
            "ticks": ""
           }
          },
          "colorscale": {
           "diverging": [
            [
             0,
             "#8e0152"
            ],
            [
             0.1,
             "#c51b7d"
            ],
            [
             0.2,
             "#de77ae"
            ],
            [
             0.3,
             "#f1b6da"
            ],
            [
             0.4,
             "#fde0ef"
            ],
            [
             0.5,
             "#f7f7f7"
            ],
            [
             0.6,
             "#e6f5d0"
            ],
            [
             0.7,
             "#b8e186"
            ],
            [
             0.8,
             "#7fbc41"
            ],
            [
             0.9,
             "#4d9221"
            ],
            [
             1,
             "#276419"
            ]
           ],
           "sequential": [
            [
             0,
             "#0d0887"
            ],
            [
             0.1111111111111111,
             "#46039f"
            ],
            [
             0.2222222222222222,
             "#7201a8"
            ],
            [
             0.3333333333333333,
             "#9c179e"
            ],
            [
             0.4444444444444444,
             "#bd3786"
            ],
            [
             0.5555555555555556,
             "#d8576b"
            ],
            [
             0.6666666666666666,
             "#ed7953"
            ],
            [
             0.7777777777777778,
             "#fb9f3a"
            ],
            [
             0.8888888888888888,
             "#fdca26"
            ],
            [
             1,
             "#f0f921"
            ]
           ],
           "sequentialminus": [
            [
             0,
             "#0d0887"
            ],
            [
             0.1111111111111111,
             "#46039f"
            ],
            [
             0.2222222222222222,
             "#7201a8"
            ],
            [
             0.3333333333333333,
             "#9c179e"
            ],
            [
             0.4444444444444444,
             "#bd3786"
            ],
            [
             0.5555555555555556,
             "#d8576b"
            ],
            [
             0.6666666666666666,
             "#ed7953"
            ],
            [
             0.7777777777777778,
             "#fb9f3a"
            ],
            [
             0.8888888888888888,
             "#fdca26"
            ],
            [
             1,
             "#f0f921"
            ]
           ]
          },
          "colorway": [
           "#636efa",
           "#EF553B",
           "#00cc96",
           "#ab63fa",
           "#FFA15A",
           "#19d3f3",
           "#FF6692",
           "#B6E880",
           "#FF97FF",
           "#FECB52"
          ],
          "font": {
           "color": "#2a3f5f"
          },
          "geo": {
           "bgcolor": "white",
           "lakecolor": "white",
           "landcolor": "#E5ECF6",
           "showlakes": true,
           "showland": true,
           "subunitcolor": "white"
          },
          "hoverlabel": {
           "align": "left"
          },
          "hovermode": "closest",
          "mapbox": {
           "style": "light"
          },
          "paper_bgcolor": "white",
          "plot_bgcolor": "#E5ECF6",
          "polar": {
           "angularaxis": {
            "gridcolor": "white",
            "linecolor": "white",
            "ticks": ""
           },
           "bgcolor": "#E5ECF6",
           "radialaxis": {
            "gridcolor": "white",
            "linecolor": "white",
            "ticks": ""
           }
          },
          "scene": {
           "xaxis": {
            "backgroundcolor": "#E5ECF6",
            "gridcolor": "white",
            "gridwidth": 2,
            "linecolor": "white",
            "showbackground": true,
            "ticks": "",
            "zerolinecolor": "white"
           },
           "yaxis": {
            "backgroundcolor": "#E5ECF6",
            "gridcolor": "white",
            "gridwidth": 2,
            "linecolor": "white",
            "showbackground": true,
            "ticks": "",
            "zerolinecolor": "white"
           },
           "zaxis": {
            "backgroundcolor": "#E5ECF6",
            "gridcolor": "white",
            "gridwidth": 2,
            "linecolor": "white",
            "showbackground": true,
            "ticks": "",
            "zerolinecolor": "white"
           }
          },
          "shapedefaults": {
           "line": {
            "color": "#2a3f5f"
           }
          },
          "ternary": {
           "aaxis": {
            "gridcolor": "white",
            "linecolor": "white",
            "ticks": ""
           },
           "baxis": {
            "gridcolor": "white",
            "linecolor": "white",
            "ticks": ""
           },
           "bgcolor": "#E5ECF6",
           "caxis": {
            "gridcolor": "white",
            "linecolor": "white",
            "ticks": ""
           }
          },
          "title": {
           "x": 0.05
          },
          "xaxis": {
           "automargin": true,
           "gridcolor": "white",
           "linecolor": "white",
           "ticks": "",
           "title": {
            "standoff": 15
           },
           "zerolinecolor": "white",
           "zerolinewidth": 2
          },
          "yaxis": {
           "automargin": true,
           "gridcolor": "white",
           "linecolor": "white",
           "ticks": "",
           "title": {
            "standoff": 15
           },
           "zerolinecolor": "white",
           "zerolinewidth": 2
          }
         }
        },
        "title": {
         "text": "Spend by Channel Over Time"
        },
        "xaxis": {
         "anchor": "y",
         "domain": [
          0,
          1
         ],
         "title": {
          "text": "start_of_week"
         }
        },
        "yaxis": {
         "anchor": "x",
         "domain": [
          0,
          1
         ],
         "title": {
          "text": "value"
         }
        }
       }
      }
     },
     "metadata": {},
     "output_type": "display_data"
    }
   ],
   "source": [
    "px.line(data, x='start_of_week', y=[f\"spend_channel_{i}\" for i in range(1, 8)], title=\"Spend by Channel Over Time\")"
   ]
  },
  {
   "cell_type": "markdown",
   "id": "09c63701",
   "metadata": {},
   "source": [
    "It is clear from the plot that channel spends is not distributed equally"
   ]
  },
  {
   "cell_type": "markdown",
   "id": "93b1663e",
   "metadata": {},
   "source": [
    "We now try to model the marketing channel effects on the revenue. Here are some initial thoughts:\n",
    "- We know that add spends cannot effect revenue instantaneously, and diminishes over time. We will be using Geometric Adstocks for each of this channels and will be using maximum 8 weeks of influence\n",
    "- We will add fourier terms to model the seasonality\n",
    "- We have to use a positive distribution for setting the prior for the channels. We can use Half-normal distribution. And the higher the expenditure per channel the higher the model should be flexible (higher $\\sigma$)\n",
    "- We also know that after certain growth the revenue caused by particular channel will saturate. We will use Logistic saturation for this."
   ]
  },
  {
   "cell_type": "code",
   "execution_count": 9,
   "id": "0dc92b10",
   "metadata": {},
   "outputs": [],
   "source": [
    "from pymc_marketing.mmm import MMM, GeometricAdstock, LogisticSaturation\n",
    "from pymc_marketing.mmm.transformers import geometric_adstock, logistic_saturation\n",
    "from pymc_marketing.prior import Prior"
   ]
  },
  {
   "cell_type": "code",
   "execution_count": 10,
   "id": "2188d958",
   "metadata": {},
   "outputs": [],
   "source": [
    "# getting sigmas for each half normal prior we are selecting based on market expenditure\n",
    "total_spend_per_channel = data.select(cs.starts_with(\"spend_\")).sum()\n",
    "total_spend_per_channel = total_spend_per_channel / total_spend_per_channel.sum_horizontal()\n",
    "prior_sigmas = [i*7 for i in total_spend_per_channel.rows()[0]]"
   ]
  },
  {
   "cell_type": "code",
   "execution_count": 11,
   "id": "0e1a24af",
   "metadata": {},
   "outputs": [],
   "source": [
    "X = data.select(cs.exclude(\"revenue\")).to_pandas()\n",
    "y = data.get_column(\"revenue\").to_pandas()"
   ]
  },
  {
   "cell_type": "code",
   "execution_count": 12,
   "id": "1db44b29",
   "metadata": {},
   "outputs": [],
   "source": [
    "my_model_config = {\n",
    "    \"intercept\": Prior(\"Normal\", mu=0.5, sigma=0.2),\n",
    "    \"saturation_beta\": Prior(\"HalfNormal\", sigma=prior_sigmas),\n",
    "    \"gamma_control\": Prior(\"Normal\", mu=0, sigma=0.05),\n",
    "    \"gamma_fourier\": Prior(\"Laplace\", mu=0, b=0.2),\n",
    "    \"likelihood\": Prior(\"Normal\", sigma=Prior(\"HalfNormal\", sigma=6)),\n",
    "}"
   ]
  },
  {
   "cell_type": "code",
   "execution_count": 13,
   "id": "ee8b6402",
   "metadata": {},
   "outputs": [],
   "source": [
    "mmm = MMM(\n",
    "    model_config=my_model_config,\n",
    "    date_column=\"start_of_week\",\n",
    "    adstock=GeometricAdstock(l_max=8),\n",
    "    saturation=LogisticSaturation(),\n",
    "    channel_columns=[f'spend_channel_{i}' for i in range(1,8)],\n",
    "    yearly_seasonality=2,\n",
    ")"
   ]
  },
  {
   "cell_type": "code",
   "execution_count": 14,
   "id": "760e63ee",
   "metadata": {},
   "outputs": [
    {
     "data": {
      "application/vnd.jupyter.widget-view+json": {
       "model_id": "3365e9740d274d9594cc262dffd13bee",
       "version_major": 2,
       "version_minor": 0
      },
      "text/plain": [
       "  0%|          | 0/2000 [00:00<?, ?it/s]"
      ]
     },
     "metadata": {},
     "output_type": "display_data"
    },
    {
     "data": {
      "application/vnd.jupyter.widget-view+json": {
       "model_id": "58b0e829c5604aac94f028f824df53ea",
       "version_major": 2,
       "version_minor": 0
      },
      "text/plain": [
       "  0%|          | 0/2000 [00:00<?, ?it/s]"
      ]
     },
     "metadata": {},
     "output_type": "display_data"
    },
    {
     "data": {
      "application/vnd.jupyter.widget-view+json": {
       "model_id": "cba5e93a07454f71b318a014e2fb9339",
       "version_major": 2,
       "version_minor": 0
      },
      "text/plain": [
       "  0%|          | 0/2000 [00:00<?, ?it/s]"
      ]
     },
     "metadata": {},
     "output_type": "display_data"
    },
    {
     "data": {
      "application/vnd.jupyter.widget-view+json": {
       "model_id": "fe3e25debc134ec3a3119460b7970f58",
       "version_major": 2,
       "version_minor": 0
      },
      "text/plain": [
       "  0%|          | 0/2000 [00:00<?, ?it/s]"
      ]
     },
     "metadata": {},
     "output_type": "display_data"
    },
    {
     "data": {
      "text/html": [
       "\n",
       "            <div>\n",
       "              <div class='xr-header'>\n",
       "                <div class=\"xr-obj-type\">arviz.InferenceData</div>\n",
       "              </div>\n",
       "              <ul class=\"xr-sections group-sections\">\n",
       "              \n",
       "            <li class = \"xr-section-item\">\n",
       "                  <input id=\"idata_posterior4bf39a23-c38e-4c16-8257-5595f88472e2\" class=\"xr-section-summary-in\" type=\"checkbox\">\n",
       "                  <label for=\"idata_posterior4bf39a23-c38e-4c16-8257-5595f88472e2\" class = \"xr-section-summary\">posterior</label>\n",
       "                  <div class=\"xr-section-inline-details\"></div>\n",
       "                  <div class=\"xr-section-details\">\n",
       "                      <ul id=\"xr-dataset-coord-list\" class=\"xr-var-list\">\n",
       "                          <div style=\"padding-left:2rem;\"><div><svg style=\"position: absolute; width: 0; height: 0; overflow: hidden\">\n",
       "<defs>\n",
       "<symbol id=\"icon-database\" viewBox=\"0 0 32 32\">\n",
       "<path d=\"M16 0c-8.837 0-16 2.239-16 5v4c0 2.761 7.163 5 16 5s16-2.239 16-5v-4c0-2.761-7.163-5-16-5z\"></path>\n",
       "<path d=\"M16 17c-8.837 0-16-2.239-16-5v6c0 2.761 7.163 5 16 5s16-2.239 16-5v-6c0 2.761-7.163 5-16 5z\"></path>\n",
       "<path d=\"M16 26c-8.837 0-16-2.239-16-5v6c0 2.761 7.163 5 16 5s16-2.239 16-5v-6c0 2.761-7.163 5-16 5z\"></path>\n",
       "</symbol>\n",
       "<symbol id=\"icon-file-text2\" viewBox=\"0 0 32 32\">\n",
       "<path d=\"M28.681 7.159c-0.694-0.947-1.662-2.053-2.724-3.116s-2.169-2.030-3.116-2.724c-1.612-1.182-2.393-1.319-2.841-1.319h-15.5c-1.378 0-2.5 1.121-2.5 2.5v27c0 1.378 1.122 2.5 2.5 2.5h23c1.378 0 2.5-1.122 2.5-2.5v-19.5c0-0.448-0.137-1.23-1.319-2.841zM24.543 5.457c0.959 0.959 1.712 1.825 2.268 2.543h-4.811v-4.811c0.718 0.556 1.584 1.309 2.543 2.268zM28 29.5c0 0.271-0.229 0.5-0.5 0.5h-23c-0.271 0-0.5-0.229-0.5-0.5v-27c0-0.271 0.229-0.5 0.5-0.5 0 0 15.499-0 15.5 0v7c0 0.552 0.448 1 1 1h7v19.5z\"></path>\n",
       "<path d=\"M23 26h-14c-0.552 0-1-0.448-1-1s0.448-1 1-1h14c0.552 0 1 0.448 1 1s-0.448 1-1 1z\"></path>\n",
       "<path d=\"M23 22h-14c-0.552 0-1-0.448-1-1s0.448-1 1-1h14c0.552 0 1 0.448 1 1s-0.448 1-1 1z\"></path>\n",
       "<path d=\"M23 18h-14c-0.552 0-1-0.448-1-1s0.448-1 1-1h14c0.552 0 1 0.448 1 1s-0.448 1-1 1z\"></path>\n",
       "</symbol>\n",
       "</defs>\n",
       "</svg>\n",
       "<style>/* CSS stylesheet for displaying xarray objects in jupyterlab.\n",
       " *\n",
       " */\n",
       "\n",
       ":root {\n",
       "  --xr-font-color0: var(--jp-content-font-color0, rgba(0, 0, 0, 1));\n",
       "  --xr-font-color2: var(--jp-content-font-color2, rgba(0, 0, 0, 0.54));\n",
       "  --xr-font-color3: var(--jp-content-font-color3, rgba(0, 0, 0, 0.38));\n",
       "  --xr-border-color: var(--jp-border-color2, #e0e0e0);\n",
       "  --xr-disabled-color: var(--jp-layout-color3, #bdbdbd);\n",
       "  --xr-background-color: var(--jp-layout-color0, white);\n",
       "  --xr-background-color-row-even: var(--jp-layout-color1, white);\n",
       "  --xr-background-color-row-odd: var(--jp-layout-color2, #eeeeee);\n",
       "}\n",
       "\n",
       "html[theme=\"dark\"],\n",
       "html[data-theme=\"dark\"],\n",
       "body[data-theme=\"dark\"],\n",
       "body.vscode-dark {\n",
       "  --xr-font-color0: rgba(255, 255, 255, 1);\n",
       "  --xr-font-color2: rgba(255, 255, 255, 0.54);\n",
       "  --xr-font-color3: rgba(255, 255, 255, 0.38);\n",
       "  --xr-border-color: #1f1f1f;\n",
       "  --xr-disabled-color: #515151;\n",
       "  --xr-background-color: #111111;\n",
       "  --xr-background-color-row-even: #111111;\n",
       "  --xr-background-color-row-odd: #313131;\n",
       "}\n",
       "\n",
       ".xr-wrap {\n",
       "  display: block !important;\n",
       "  min-width: 300px;\n",
       "  max-width: 700px;\n",
       "}\n",
       "\n",
       ".xr-text-repr-fallback {\n",
       "  /* fallback to plain text repr when CSS is not injected (untrusted notebook) */\n",
       "  display: none;\n",
       "}\n",
       "\n",
       ".xr-header {\n",
       "  padding-top: 6px;\n",
       "  padding-bottom: 6px;\n",
       "  margin-bottom: 4px;\n",
       "  border-bottom: solid 1px var(--xr-border-color);\n",
       "}\n",
       "\n",
       ".xr-header > div,\n",
       ".xr-header > ul {\n",
       "  display: inline;\n",
       "  margin-top: 0;\n",
       "  margin-bottom: 0;\n",
       "}\n",
       "\n",
       ".xr-obj-type,\n",
       ".xr-array-name {\n",
       "  margin-left: 2px;\n",
       "  margin-right: 10px;\n",
       "}\n",
       "\n",
       ".xr-obj-type {\n",
       "  color: var(--xr-font-color2);\n",
       "}\n",
       "\n",
       ".xr-sections {\n",
       "  padding-left: 0 !important;\n",
       "  display: grid;\n",
       "  grid-template-columns: 150px auto auto 1fr 0 20px 0 20px;\n",
       "}\n",
       "\n",
       ".xr-section-item {\n",
       "  display: contents;\n",
       "}\n",
       "\n",
       ".xr-section-item input {\n",
       "  display: inline-block;\n",
       "  opacity: 0;\n",
       "  height: 0;\n",
       "}\n",
       "\n",
       ".xr-section-item input + label {\n",
       "  color: var(--xr-disabled-color);\n",
       "}\n",
       "\n",
       ".xr-section-item input:enabled + label {\n",
       "  cursor: pointer;\n",
       "  color: var(--xr-font-color2);\n",
       "}\n",
       "\n",
       ".xr-section-item input:focus + label {\n",
       "  border: 2px solid var(--xr-font-color0);\n",
       "}\n",
       "\n",
       ".xr-section-item input:enabled + label:hover {\n",
       "  color: var(--xr-font-color0);\n",
       "}\n",
       "\n",
       ".xr-section-summary {\n",
       "  grid-column: 1;\n",
       "  color: var(--xr-font-color2);\n",
       "  font-weight: 500;\n",
       "}\n",
       "\n",
       ".xr-section-summary > span {\n",
       "  display: inline-block;\n",
       "  padding-left: 0.5em;\n",
       "}\n",
       "\n",
       ".xr-section-summary-in:disabled + label {\n",
       "  color: var(--xr-font-color2);\n",
       "}\n",
       "\n",
       ".xr-section-summary-in + label:before {\n",
       "  display: inline-block;\n",
       "  content: \"►\";\n",
       "  font-size: 11px;\n",
       "  width: 15px;\n",
       "  text-align: center;\n",
       "}\n",
       "\n",
       ".xr-section-summary-in:disabled + label:before {\n",
       "  color: var(--xr-disabled-color);\n",
       "}\n",
       "\n",
       ".xr-section-summary-in:checked + label:before {\n",
       "  content: \"▼\";\n",
       "}\n",
       "\n",
       ".xr-section-summary-in:checked + label > span {\n",
       "  display: none;\n",
       "}\n",
       "\n",
       ".xr-section-summary,\n",
       ".xr-section-inline-details {\n",
       "  padding-top: 4px;\n",
       "  padding-bottom: 4px;\n",
       "}\n",
       "\n",
       ".xr-section-inline-details {\n",
       "  grid-column: 2 / -1;\n",
       "}\n",
       "\n",
       ".xr-section-details {\n",
       "  display: none;\n",
       "  grid-column: 1 / -1;\n",
       "  margin-bottom: 5px;\n",
       "}\n",
       "\n",
       ".xr-section-summary-in:checked ~ .xr-section-details {\n",
       "  display: contents;\n",
       "}\n",
       "\n",
       ".xr-array-wrap {\n",
       "  grid-column: 1 / -1;\n",
       "  display: grid;\n",
       "  grid-template-columns: 20px auto;\n",
       "}\n",
       "\n",
       ".xr-array-wrap > label {\n",
       "  grid-column: 1;\n",
       "  vertical-align: top;\n",
       "}\n",
       "\n",
       ".xr-preview {\n",
       "  color: var(--xr-font-color3);\n",
       "}\n",
       "\n",
       ".xr-array-preview,\n",
       ".xr-array-data {\n",
       "  padding: 0 5px !important;\n",
       "  grid-column: 2;\n",
       "}\n",
       "\n",
       ".xr-array-data,\n",
       ".xr-array-in:checked ~ .xr-array-preview {\n",
       "  display: none;\n",
       "}\n",
       "\n",
       ".xr-array-in:checked ~ .xr-array-data,\n",
       ".xr-array-preview {\n",
       "  display: inline-block;\n",
       "}\n",
       "\n",
       ".xr-dim-list {\n",
       "  display: inline-block !important;\n",
       "  list-style: none;\n",
       "  padding: 0 !important;\n",
       "  margin: 0;\n",
       "}\n",
       "\n",
       ".xr-dim-list li {\n",
       "  display: inline-block;\n",
       "  padding: 0;\n",
       "  margin: 0;\n",
       "}\n",
       "\n",
       ".xr-dim-list:before {\n",
       "  content: \"(\";\n",
       "}\n",
       "\n",
       ".xr-dim-list:after {\n",
       "  content: \")\";\n",
       "}\n",
       "\n",
       ".xr-dim-list li:not(:last-child):after {\n",
       "  content: \",\";\n",
       "  padding-right: 5px;\n",
       "}\n",
       "\n",
       ".xr-has-index {\n",
       "  font-weight: bold;\n",
       "}\n",
       "\n",
       ".xr-var-list,\n",
       ".xr-var-item {\n",
       "  display: contents;\n",
       "}\n",
       "\n",
       ".xr-var-item > div,\n",
       ".xr-var-item label,\n",
       ".xr-var-item > .xr-var-name span {\n",
       "  background-color: var(--xr-background-color-row-even);\n",
       "  margin-bottom: 0;\n",
       "}\n",
       "\n",
       ".xr-var-item > .xr-var-name:hover span {\n",
       "  padding-right: 5px;\n",
       "}\n",
       "\n",
       ".xr-var-list > li:nth-child(odd) > div,\n",
       ".xr-var-list > li:nth-child(odd) > label,\n",
       ".xr-var-list > li:nth-child(odd) > .xr-var-name span {\n",
       "  background-color: var(--xr-background-color-row-odd);\n",
       "}\n",
       "\n",
       ".xr-var-name {\n",
       "  grid-column: 1;\n",
       "}\n",
       "\n",
       ".xr-var-dims {\n",
       "  grid-column: 2;\n",
       "}\n",
       "\n",
       ".xr-var-dtype {\n",
       "  grid-column: 3;\n",
       "  text-align: right;\n",
       "  color: var(--xr-font-color2);\n",
       "}\n",
       "\n",
       ".xr-var-preview {\n",
       "  grid-column: 4;\n",
       "}\n",
       "\n",
       ".xr-index-preview {\n",
       "  grid-column: 2 / 5;\n",
       "  color: var(--xr-font-color2);\n",
       "}\n",
       "\n",
       ".xr-var-name,\n",
       ".xr-var-dims,\n",
       ".xr-var-dtype,\n",
       ".xr-preview,\n",
       ".xr-attrs dt {\n",
       "  white-space: nowrap;\n",
       "  overflow: hidden;\n",
       "  text-overflow: ellipsis;\n",
       "  padding-right: 10px;\n",
       "}\n",
       "\n",
       ".xr-var-name:hover,\n",
       ".xr-var-dims:hover,\n",
       ".xr-var-dtype:hover,\n",
       ".xr-attrs dt:hover {\n",
       "  overflow: visible;\n",
       "  width: auto;\n",
       "  z-index: 1;\n",
       "}\n",
       "\n",
       ".xr-var-attrs,\n",
       ".xr-var-data,\n",
       ".xr-index-data {\n",
       "  display: none;\n",
       "  background-color: var(--xr-background-color) !important;\n",
       "  padding-bottom: 5px !important;\n",
       "}\n",
       "\n",
       ".xr-var-attrs-in:checked ~ .xr-var-attrs,\n",
       ".xr-var-data-in:checked ~ .xr-var-data,\n",
       ".xr-index-data-in:checked ~ .xr-index-data {\n",
       "  display: block;\n",
       "}\n",
       "\n",
       ".xr-var-data > table {\n",
       "  float: right;\n",
       "}\n",
       "\n",
       ".xr-var-name span,\n",
       ".xr-var-data,\n",
       ".xr-index-name div,\n",
       ".xr-index-data,\n",
       ".xr-attrs {\n",
       "  padding-left: 25px !important;\n",
       "}\n",
       "\n",
       ".xr-attrs,\n",
       ".xr-var-attrs,\n",
       ".xr-var-data,\n",
       ".xr-index-data {\n",
       "  grid-column: 1 / -1;\n",
       "}\n",
       "\n",
       "dl.xr-attrs {\n",
       "  padding: 0;\n",
       "  margin: 0;\n",
       "  display: grid;\n",
       "  grid-template-columns: 125px auto;\n",
       "}\n",
       "\n",
       ".xr-attrs dt,\n",
       ".xr-attrs dd {\n",
       "  padding: 0;\n",
       "  margin: 0;\n",
       "  float: left;\n",
       "  padding-right: 10px;\n",
       "  width: auto;\n",
       "}\n",
       "\n",
       ".xr-attrs dt {\n",
       "  font-weight: normal;\n",
       "  grid-column: 1;\n",
       "}\n",
       "\n",
       ".xr-attrs dt:hover span {\n",
       "  display: inline-block;\n",
       "  background: var(--xr-background-color);\n",
       "  padding-right: 10px;\n",
       "}\n",
       "\n",
       ".xr-attrs dd {\n",
       "  grid-column: 2;\n",
       "  white-space: pre-wrap;\n",
       "  word-break: break-all;\n",
       "}\n",
       "\n",
       ".xr-icon-database,\n",
       ".xr-icon-file-text2,\n",
       ".xr-no-icon {\n",
       "  display: inline-block;\n",
       "  vertical-align: middle;\n",
       "  width: 1em;\n",
       "  height: 1.5em !important;\n",
       "  stroke-width: 0;\n",
       "  stroke: currentColor;\n",
       "  fill: currentColor;\n",
       "}\n",
       "</style><pre class='xr-text-repr-fallback'>&lt;xarray.Dataset&gt; Size: 44MB\n",
       "Dimensions:                          (chain: 4, draw: 1000, fourier_mode: 4,\n",
       "                                      channel: 7, date: 104)\n",
       "Coordinates:\n",
       "  * chain                            (chain) int64 32B 0 1 2 3\n",
       "  * draw                             (draw) int64 8kB 0 1 2 3 ... 997 998 999\n",
       "  * fourier_mode                     (fourier_mode) &lt;U5 80B &#x27;sin_1&#x27; ... &#x27;cos_2&#x27;\n",
       "  * channel                          (channel) &lt;U15 420B &#x27;spend_channel_1&#x27; .....\n",
       "  * date                             (date) datetime64[ns] 832B 2020-08-30 .....\n",
       "Data variables:\n",
       "    intercept                        (chain, draw) float64 32kB 0.08931 ... 0...\n",
       "    gamma_fourier                    (chain, draw, fourier_mode) float64 128kB ...\n",
       "    adstock_alpha                    (chain, draw, channel) float64 224kB 0.1...\n",
       "    saturation_lam                   (chain, draw, channel) float64 224kB 1.0...\n",
       "    saturation_beta                  (chain, draw, channel) float64 224kB 0.0...\n",
       "    y_sigma                          (chain, draw) float64 32kB 0.08838 ... 0...\n",
       "    channel_contributions            (chain, draw, date, channel) float64 23MB ...\n",
       "    total_contributions              (chain, draw) float64 32kB 25.4 ... 12.37\n",
       "    fourier_contributions            (chain, draw, date, fourier_mode) float64 13MB ...\n",
       "    yearly_seasonality_contribution  (chain, draw, date) float64 3MB 0.01838 ...\n",
       "    mu                               (chain, draw, date) float64 3MB 0.3596 ....\n",
       "Attributes:\n",
       "    created_at:                 2025-04-17T09:47:11.085584+00:00\n",
       "    arviz_version:              0.21.0\n",
       "    inference_library:          numpyro\n",
       "    inference_library_version:  0.18.0\n",
       "    sampling_time:              6.849079\n",
       "    tuning_steps:               1000</pre><div class='xr-wrap' style='display:none'><div class='xr-header'><div class='xr-obj-type'>xarray.Dataset</div></div><ul class='xr-sections'><li class='xr-section-item'><input id='section-137c2d2c-014e-4b7d-8811-7832abb89b5e' class='xr-section-summary-in' type='checkbox' disabled ><label for='section-137c2d2c-014e-4b7d-8811-7832abb89b5e' class='xr-section-summary'  title='Expand/collapse section'>Dimensions:</label><div class='xr-section-inline-details'><ul class='xr-dim-list'><li><span class='xr-has-index'>chain</span>: 4</li><li><span class='xr-has-index'>draw</span>: 1000</li><li><span class='xr-has-index'>fourier_mode</span>: 4</li><li><span class='xr-has-index'>channel</span>: 7</li><li><span class='xr-has-index'>date</span>: 104</li></ul></div><div class='xr-section-details'></div></li><li class='xr-section-item'><input id='section-cac1415c-be39-4a31-bbae-fea488b5ced4' class='xr-section-summary-in' type='checkbox'  checked><label for='section-cac1415c-be39-4a31-bbae-fea488b5ced4' class='xr-section-summary' >Coordinates: <span>(5)</span></label><div class='xr-section-inline-details'></div><div class='xr-section-details'><ul class='xr-var-list'><li class='xr-var-item'><div class='xr-var-name'><span class='xr-has-index'>chain</span></div><div class='xr-var-dims'>(chain)</div><div class='xr-var-dtype'>int64</div><div class='xr-var-preview xr-preview'>0 1 2 3</div><input id='attrs-f30afc26-5b94-44d0-b8c3-0b3de2e0ccca' class='xr-var-attrs-in' type='checkbox' disabled><label for='attrs-f30afc26-5b94-44d0-b8c3-0b3de2e0ccca' title='Show/Hide attributes'><svg class='icon xr-icon-file-text2'><use xlink:href='#icon-file-text2'></use></svg></label><input id='data-88a3f322-b5b6-4073-9da5-6e002c0960e4' class='xr-var-data-in' type='checkbox'><label for='data-88a3f322-b5b6-4073-9da5-6e002c0960e4' title='Show/Hide data repr'><svg class='icon xr-icon-database'><use xlink:href='#icon-database'></use></svg></label><div class='xr-var-attrs'><dl class='xr-attrs'></dl></div><div class='xr-var-data'><pre>array([0, 1, 2, 3])</pre></div></li><li class='xr-var-item'><div class='xr-var-name'><span class='xr-has-index'>draw</span></div><div class='xr-var-dims'>(draw)</div><div class='xr-var-dtype'>int64</div><div class='xr-var-preview xr-preview'>0 1 2 3 4 5 ... 995 996 997 998 999</div><input id='attrs-24e2fbf1-b645-4214-8795-11977bea9c2c' class='xr-var-attrs-in' type='checkbox' disabled><label for='attrs-24e2fbf1-b645-4214-8795-11977bea9c2c' title='Show/Hide attributes'><svg class='icon xr-icon-file-text2'><use xlink:href='#icon-file-text2'></use></svg></label><input id='data-c3475e89-0b21-4605-82d1-4c7c475974f1' class='xr-var-data-in' type='checkbox'><label for='data-c3475e89-0b21-4605-82d1-4c7c475974f1' title='Show/Hide data repr'><svg class='icon xr-icon-database'><use xlink:href='#icon-database'></use></svg></label><div class='xr-var-attrs'><dl class='xr-attrs'></dl></div><div class='xr-var-data'><pre>array([  0,   1,   2, ..., 997, 998, 999], shape=(1000,))</pre></div></li><li class='xr-var-item'><div class='xr-var-name'><span class='xr-has-index'>fourier_mode</span></div><div class='xr-var-dims'>(fourier_mode)</div><div class='xr-var-dtype'>&lt;U5</div><div class='xr-var-preview xr-preview'>&#x27;sin_1&#x27; &#x27;sin_2&#x27; &#x27;cos_1&#x27; &#x27;cos_2&#x27;</div><input id='attrs-820f5814-946c-4ca8-82dd-17ef2e1e856a' class='xr-var-attrs-in' type='checkbox' disabled><label for='attrs-820f5814-946c-4ca8-82dd-17ef2e1e856a' title='Show/Hide attributes'><svg class='icon xr-icon-file-text2'><use xlink:href='#icon-file-text2'></use></svg></label><input id='data-978daa29-c813-42fd-b186-6b863d940549' class='xr-var-data-in' type='checkbox'><label for='data-978daa29-c813-42fd-b186-6b863d940549' title='Show/Hide data repr'><svg class='icon xr-icon-database'><use xlink:href='#icon-database'></use></svg></label><div class='xr-var-attrs'><dl class='xr-attrs'></dl></div><div class='xr-var-data'><pre>array([&#x27;sin_1&#x27;, &#x27;sin_2&#x27;, &#x27;cos_1&#x27;, &#x27;cos_2&#x27;], dtype=&#x27;&lt;U5&#x27;)</pre></div></li><li class='xr-var-item'><div class='xr-var-name'><span class='xr-has-index'>channel</span></div><div class='xr-var-dims'>(channel)</div><div class='xr-var-dtype'>&lt;U15</div><div class='xr-var-preview xr-preview'>&#x27;spend_channel_1&#x27; ... &#x27;spend_cha...</div><input id='attrs-70703809-c512-4c03-9f96-45a4748d5661' class='xr-var-attrs-in' type='checkbox' disabled><label for='attrs-70703809-c512-4c03-9f96-45a4748d5661' title='Show/Hide attributes'><svg class='icon xr-icon-file-text2'><use xlink:href='#icon-file-text2'></use></svg></label><input id='data-d0818cd7-4f5c-41cd-bbab-aa428d3a5fff' class='xr-var-data-in' type='checkbox'><label for='data-d0818cd7-4f5c-41cd-bbab-aa428d3a5fff' title='Show/Hide data repr'><svg class='icon xr-icon-database'><use xlink:href='#icon-database'></use></svg></label><div class='xr-var-attrs'><dl class='xr-attrs'></dl></div><div class='xr-var-data'><pre>array([&#x27;spend_channel_1&#x27;, &#x27;spend_channel_2&#x27;, &#x27;spend_channel_3&#x27;,\n",
       "       &#x27;spend_channel_4&#x27;, &#x27;spend_channel_5&#x27;, &#x27;spend_channel_6&#x27;,\n",
       "       &#x27;spend_channel_7&#x27;], dtype=&#x27;&lt;U15&#x27;)</pre></div></li><li class='xr-var-item'><div class='xr-var-name'><span class='xr-has-index'>date</span></div><div class='xr-var-dims'>(date)</div><div class='xr-var-dtype'>datetime64[ns]</div><div class='xr-var-preview xr-preview'>2020-08-30 ... 2022-08-21</div><input id='attrs-cac0deee-7bd8-4920-9ca3-fe5daf4534f0' class='xr-var-attrs-in' type='checkbox' disabled><label for='attrs-cac0deee-7bd8-4920-9ca3-fe5daf4534f0' title='Show/Hide attributes'><svg class='icon xr-icon-file-text2'><use xlink:href='#icon-file-text2'></use></svg></label><input id='data-7c6e67b0-f7c5-48ff-b81b-d0313dd63cfd' class='xr-var-data-in' type='checkbox'><label for='data-7c6e67b0-f7c5-48ff-b81b-d0313dd63cfd' title='Show/Hide data repr'><svg class='icon xr-icon-database'><use xlink:href='#icon-database'></use></svg></label><div class='xr-var-attrs'><dl class='xr-attrs'></dl></div><div class='xr-var-data'><pre>array([&#x27;2020-08-30T00:00:00.000000000&#x27;, &#x27;2020-09-06T00:00:00.000000000&#x27;,\n",
       "       &#x27;2020-09-13T00:00:00.000000000&#x27;, &#x27;2020-09-20T00:00:00.000000000&#x27;,\n",
       "       &#x27;2020-09-27T00:00:00.000000000&#x27;, &#x27;2020-10-04T00:00:00.000000000&#x27;,\n",
       "       &#x27;2020-10-11T00:00:00.000000000&#x27;, &#x27;2020-10-18T00:00:00.000000000&#x27;,\n",
       "       &#x27;2020-10-25T00:00:00.000000000&#x27;, &#x27;2020-11-01T00:00:00.000000000&#x27;,\n",
       "       &#x27;2020-11-08T00:00:00.000000000&#x27;, &#x27;2020-11-15T00:00:00.000000000&#x27;,\n",
       "       &#x27;2020-11-22T00:00:00.000000000&#x27;, &#x27;2020-11-29T00:00:00.000000000&#x27;,\n",
       "       &#x27;2020-12-06T00:00:00.000000000&#x27;, &#x27;2020-12-13T00:00:00.000000000&#x27;,\n",
       "       &#x27;2020-12-20T00:00:00.000000000&#x27;, &#x27;2020-12-27T00:00:00.000000000&#x27;,\n",
       "       &#x27;2021-01-03T00:00:00.000000000&#x27;, &#x27;2021-01-10T00:00:00.000000000&#x27;,\n",
       "       &#x27;2021-01-17T00:00:00.000000000&#x27;, &#x27;2021-01-24T00:00:00.000000000&#x27;,\n",
       "       &#x27;2021-01-31T00:00:00.000000000&#x27;, &#x27;2021-02-07T00:00:00.000000000&#x27;,\n",
       "       &#x27;2021-02-14T00:00:00.000000000&#x27;, &#x27;2021-02-21T00:00:00.000000000&#x27;,\n",
       "       &#x27;2021-02-28T00:00:00.000000000&#x27;, &#x27;2021-03-07T00:00:00.000000000&#x27;,\n",
       "       &#x27;2021-03-14T00:00:00.000000000&#x27;, &#x27;2021-03-21T00:00:00.000000000&#x27;,\n",
       "       &#x27;2021-03-28T00:00:00.000000000&#x27;, &#x27;2021-04-04T00:00:00.000000000&#x27;,\n",
       "       &#x27;2021-04-11T00:00:00.000000000&#x27;, &#x27;2021-04-18T00:00:00.000000000&#x27;,\n",
       "       &#x27;2021-04-25T00:00:00.000000000&#x27;, &#x27;2021-05-02T00:00:00.000000000&#x27;,\n",
       "       &#x27;2021-05-09T00:00:00.000000000&#x27;, &#x27;2021-05-16T00:00:00.000000000&#x27;,\n",
       "       &#x27;2021-05-23T00:00:00.000000000&#x27;, &#x27;2021-05-30T00:00:00.000000000&#x27;,\n",
       "       &#x27;2021-06-06T00:00:00.000000000&#x27;, &#x27;2021-06-13T00:00:00.000000000&#x27;,\n",
       "       &#x27;2021-06-20T00:00:00.000000000&#x27;, &#x27;2021-06-27T00:00:00.000000000&#x27;,\n",
       "       &#x27;2021-07-04T00:00:00.000000000&#x27;, &#x27;2021-07-11T00:00:00.000000000&#x27;,\n",
       "       &#x27;2021-07-18T00:00:00.000000000&#x27;, &#x27;2021-07-25T00:00:00.000000000&#x27;,\n",
       "       &#x27;2021-08-01T00:00:00.000000000&#x27;, &#x27;2021-08-08T00:00:00.000000000&#x27;,\n",
       "       &#x27;2021-08-15T00:00:00.000000000&#x27;, &#x27;2021-08-22T00:00:00.000000000&#x27;,\n",
       "       &#x27;2021-08-29T00:00:00.000000000&#x27;, &#x27;2021-09-05T00:00:00.000000000&#x27;,\n",
       "       &#x27;2021-09-12T00:00:00.000000000&#x27;, &#x27;2021-09-19T00:00:00.000000000&#x27;,\n",
       "       &#x27;2021-09-26T00:00:00.000000000&#x27;, &#x27;2021-10-03T00:00:00.000000000&#x27;,\n",
       "       &#x27;2021-10-10T00:00:00.000000000&#x27;, &#x27;2021-10-17T00:00:00.000000000&#x27;,\n",
       "       &#x27;2021-10-24T00:00:00.000000000&#x27;, &#x27;2021-10-31T00:00:00.000000000&#x27;,\n",
       "       &#x27;2021-11-07T00:00:00.000000000&#x27;, &#x27;2021-11-14T00:00:00.000000000&#x27;,\n",
       "       &#x27;2021-11-21T00:00:00.000000000&#x27;, &#x27;2021-11-28T00:00:00.000000000&#x27;,\n",
       "       &#x27;2021-12-05T00:00:00.000000000&#x27;, &#x27;2021-12-12T00:00:00.000000000&#x27;,\n",
       "       &#x27;2021-12-19T00:00:00.000000000&#x27;, &#x27;2021-12-26T00:00:00.000000000&#x27;,\n",
       "       &#x27;2022-01-02T00:00:00.000000000&#x27;, &#x27;2022-01-09T00:00:00.000000000&#x27;,\n",
       "       &#x27;2022-01-16T00:00:00.000000000&#x27;, &#x27;2022-01-23T00:00:00.000000000&#x27;,\n",
       "       &#x27;2022-01-30T00:00:00.000000000&#x27;, &#x27;2022-02-06T00:00:00.000000000&#x27;,\n",
       "       &#x27;2022-02-13T00:00:00.000000000&#x27;, &#x27;2022-02-20T00:00:00.000000000&#x27;,\n",
       "       &#x27;2022-02-27T00:00:00.000000000&#x27;, &#x27;2022-03-06T00:00:00.000000000&#x27;,\n",
       "       &#x27;2022-03-13T00:00:00.000000000&#x27;, &#x27;2022-03-20T00:00:00.000000000&#x27;,\n",
       "       &#x27;2022-03-27T00:00:00.000000000&#x27;, &#x27;2022-04-03T00:00:00.000000000&#x27;,\n",
       "       &#x27;2022-04-10T00:00:00.000000000&#x27;, &#x27;2022-04-17T00:00:00.000000000&#x27;,\n",
       "       &#x27;2022-04-24T00:00:00.000000000&#x27;, &#x27;2022-05-01T00:00:00.000000000&#x27;,\n",
       "       &#x27;2022-05-08T00:00:00.000000000&#x27;, &#x27;2022-05-15T00:00:00.000000000&#x27;,\n",
       "       &#x27;2022-05-22T00:00:00.000000000&#x27;, &#x27;2022-05-29T00:00:00.000000000&#x27;,\n",
       "       &#x27;2022-06-05T00:00:00.000000000&#x27;, &#x27;2022-06-12T00:00:00.000000000&#x27;,\n",
       "       &#x27;2022-06-19T00:00:00.000000000&#x27;, &#x27;2022-06-26T00:00:00.000000000&#x27;,\n",
       "       &#x27;2022-07-03T00:00:00.000000000&#x27;, &#x27;2022-07-10T00:00:00.000000000&#x27;,\n",
       "       &#x27;2022-07-17T00:00:00.000000000&#x27;, &#x27;2022-07-24T00:00:00.000000000&#x27;,\n",
       "       &#x27;2022-07-31T00:00:00.000000000&#x27;, &#x27;2022-08-07T00:00:00.000000000&#x27;,\n",
       "       &#x27;2022-08-14T00:00:00.000000000&#x27;, &#x27;2022-08-21T00:00:00.000000000&#x27;],\n",
       "      dtype=&#x27;datetime64[ns]&#x27;)</pre></div></li></ul></div></li><li class='xr-section-item'><input id='section-e811ef60-832a-4ed5-a1b4-004f28e2f353' class='xr-section-summary-in' type='checkbox'  checked><label for='section-e811ef60-832a-4ed5-a1b4-004f28e2f353' class='xr-section-summary' >Data variables: <span>(11)</span></label><div class='xr-section-inline-details'></div><div class='xr-section-details'><ul class='xr-var-list'><li class='xr-var-item'><div class='xr-var-name'><span>intercept</span></div><div class='xr-var-dims'>(chain, draw)</div><div class='xr-var-dtype'>float64</div><div class='xr-var-preview xr-preview'>0.08931 0.1054 ... 0.05348 0.2221</div><input id='attrs-5d38a39d-4ab9-46ae-a924-65b391a4462e' class='xr-var-attrs-in' type='checkbox' disabled><label for='attrs-5d38a39d-4ab9-46ae-a924-65b391a4462e' title='Show/Hide attributes'><svg class='icon xr-icon-file-text2'><use xlink:href='#icon-file-text2'></use></svg></label><input id='data-667d7fc9-73d2-4ecb-8711-7c533ae72344' class='xr-var-data-in' type='checkbox'><label for='data-667d7fc9-73d2-4ecb-8711-7c533ae72344' title='Show/Hide data repr'><svg class='icon xr-icon-database'><use xlink:href='#icon-database'></use></svg></label><div class='xr-var-attrs'><dl class='xr-attrs'></dl></div><div class='xr-var-data'><pre>array([[ 0.0893097 ,  0.10539559,  0.10996983, ...,  0.05590243,\n",
       "         0.08135139,  0.12447056],\n",
       "       [ 0.07428675,  0.1502937 ,  0.06513043, ...,  0.05688673,\n",
       "         0.12880855,  0.04022308],\n",
       "       [ 0.13857381,  0.03538141,  0.06203658, ...,  0.09093225,\n",
       "         0.15251368,  0.09962227],\n",
       "       [ 0.00542772, -0.02316321,  0.05163398, ...,  0.08191386,\n",
       "         0.05348149,  0.22213592]], shape=(4, 1000))</pre></div></li><li class='xr-var-item'><div class='xr-var-name'><span>gamma_fourier</span></div><div class='xr-var-dims'>(chain, draw, fourier_mode)</div><div class='xr-var-dtype'>float64</div><div class='xr-var-preview xr-preview'>-0.01694 0.002459 ... -0.02616</div><input id='attrs-52c639fb-cac8-46f8-9582-4b0a0a79e6c0' class='xr-var-attrs-in' type='checkbox' disabled><label for='attrs-52c639fb-cac8-46f8-9582-4b0a0a79e6c0' title='Show/Hide attributes'><svg class='icon xr-icon-file-text2'><use xlink:href='#icon-file-text2'></use></svg></label><input id='data-f60f1ec8-7e22-48e8-9567-b8680cfd3385' class='xr-var-data-in' type='checkbox'><label for='data-f60f1ec8-7e22-48e8-9567-b8680cfd3385' title='Show/Hide data repr'><svg class='icon xr-icon-database'><use xlink:href='#icon-database'></use></svg></label><div class='xr-var-attrs'><dl class='xr-attrs'></dl></div><div class='xr-var-data'><pre>array([[[-0.01694156,  0.00245872, -0.00526536,  0.00215177],\n",
       "        [ 0.00451244,  0.00137958,  0.02701243, -0.00053033],\n",
       "        [-0.00928873,  0.00624969,  0.01651348,  0.00572457],\n",
       "        ...,\n",
       "        [-0.02697281, -0.01292788,  0.04631029,  0.00164536],\n",
       "        [-0.00606808, -0.00410022,  0.02503777, -0.00651534],\n",
       "        [-0.01651454,  0.00607889,  0.039998  , -0.02465043]],\n",
       "\n",
       "       [[-0.02640624, -0.04113826,  0.04239079, -0.03564571],\n",
       "        [ 0.00213261,  0.01199602,  0.02204519,  0.01252428],\n",
       "        [ 0.00788146, -0.01740093,  0.0594173 , -0.01937408],\n",
       "        ...,\n",
       "        [-0.01120864, -0.01386626,  0.05048714, -0.03208459],\n",
       "        [-0.0093584 ,  0.00477996,  0.02502337,  0.01501802],\n",
       "        [-0.00165497, -0.01657668,  0.0240308 , -0.02395104]],\n",
       "\n",
       "       [[-0.00709888, -0.0226565 ,  0.02625749, -0.01662214],\n",
       "        [-0.01294474, -0.00211404,  0.00125332,  0.01439029],\n",
       "        [ 0.00333589, -0.00587466,  0.02268123, -0.00703338],\n",
       "        ...,\n",
       "        [-0.00933604, -0.00974691,  0.01767446, -0.00388605],\n",
       "        [-0.00191127, -0.00988498,  0.05048303,  0.00268207],\n",
       "        [-0.00025376,  0.00105318,  0.04777969, -0.01329291]],\n",
       "\n",
       "       [[-0.01773253,  0.00050767,  0.03963139,  0.01073175],\n",
       "        [-0.01706854,  0.00350284,  0.02932292,  0.00776066],\n",
       "        [ 0.00128742, -0.00560435,  0.01175469, -0.00860396],\n",
       "        ...,\n",
       "        [ 0.00797171, -0.00841157,  0.04048705,  0.02646169],\n",
       "        [ 0.01205882, -0.00016725,  0.0198826 ,  0.03366303],\n",
       "        [-0.02449422, -0.02510115,  0.06745122, -0.02615753]]],\n",
       "      shape=(4, 1000, 4))</pre></div></li><li class='xr-var-item'><div class='xr-var-name'><span>adstock_alpha</span></div><div class='xr-var-dims'>(chain, draw, channel)</div><div class='xr-var-dtype'>float64</div><div class='xr-var-preview xr-preview'>0.1356 0.6708 ... 0.1965 0.5752</div><input id='attrs-e7ede62a-210e-4c24-9b34-4582cc058954' class='xr-var-attrs-in' type='checkbox' disabled><label for='attrs-e7ede62a-210e-4c24-9b34-4582cc058954' title='Show/Hide attributes'><svg class='icon xr-icon-file-text2'><use xlink:href='#icon-file-text2'></use></svg></label><input id='data-f0d2e534-4707-4e1a-9f01-11bf62adb4aa' class='xr-var-data-in' type='checkbox'><label for='data-f0d2e534-4707-4e1a-9f01-11bf62adb4aa' title='Show/Hide data repr'><svg class='icon xr-icon-database'><use xlink:href='#icon-database'></use></svg></label><div class='xr-var-attrs'><dl class='xr-attrs'></dl></div><div class='xr-var-data'><pre>array([[[0.13561224, 0.67083491, 0.02533687, ..., 0.06994587,\n",
       "         0.12776594, 0.08032164],\n",
       "        [0.04084248, 0.0531883 , 0.04379931, ..., 0.12939034,\n",
       "         0.31502929, 0.32927459],\n",
       "        [0.04065034, 0.04256323, 0.03175697, ..., 0.0758527 ,\n",
       "         0.28835524, 0.42263065],\n",
       "        ...,\n",
       "        [0.61419617, 0.2923933 , 0.2000671 , ..., 0.04087592,\n",
       "         0.34354282, 0.34142216],\n",
       "        [0.10673593, 0.01884489, 0.07707251, ..., 0.07217154,\n",
       "         0.13473831, 0.0546186 ],\n",
       "        [0.19400497, 0.00403683, 0.03786926, ..., 0.02446836,\n",
       "         0.14247719, 0.23273961]],\n",
       "\n",
       "       [[0.03994829, 0.62306811, 0.0614276 , ..., 0.33947595,\n",
       "         0.00118001, 0.22240501],\n",
       "        [0.2532438 , 0.02332165, 0.01497689, ..., 0.10661544,\n",
       "         0.04190255, 0.14472442],\n",
       "        [0.13023287, 0.37745753, 0.17682716, ..., 0.31168782,\n",
       "         0.50984269, 0.35487097],\n",
       "...\n",
       "        [0.05307555, 0.21443251, 0.05907317, ..., 0.5748262 ,\n",
       "         0.28920745, 0.22826355],\n",
       "        [0.35329257, 0.21118961, 0.1612166 , ..., 0.01978382,\n",
       "         0.16866084, 0.13485502],\n",
       "        [0.27169696, 0.31165675, 0.08619928, ..., 0.52587289,\n",
       "         0.03955978, 0.38942265]],\n",
       "\n",
       "       [[0.26730104, 0.55102529, 0.08190948, ..., 0.07034134,\n",
       "         0.2646252 , 0.03645764],\n",
       "        [0.66392656, 0.3657007 , 0.15163532, ..., 0.03443525,\n",
       "         0.05543952, 0.02362793],\n",
       "        [0.06002025, 0.02811236, 0.06884502, ..., 0.68335034,\n",
       "         0.53564494, 0.07781311],\n",
       "        ...,\n",
       "        [0.2783538 , 0.52370944, 0.17102324, ..., 0.27102265,\n",
       "         0.44646414, 0.06480257],\n",
       "        [0.43644085, 0.36266448, 0.18641992, ..., 0.15016608,\n",
       "         0.25259483, 0.09631446],\n",
       "        [0.19740996, 0.35512331, 0.28364428, ..., 0.00751989,\n",
       "         0.19648338, 0.575223  ]]], shape=(4, 1000, 7))</pre></div></li><li class='xr-var-item'><div class='xr-var-name'><span>saturation_lam</span></div><div class='xr-var-dims'>(chain, draw, channel)</div><div class='xr-var-dtype'>float64</div><div class='xr-var-preview xr-preview'>1.033 1.405 1.401 ... 5.884 4.281</div><input id='attrs-dd1027ed-5b61-490e-bc1a-ccbe90de7e8b' class='xr-var-attrs-in' type='checkbox' disabled><label for='attrs-dd1027ed-5b61-490e-bc1a-ccbe90de7e8b' title='Show/Hide attributes'><svg class='icon xr-icon-file-text2'><use xlink:href='#icon-file-text2'></use></svg></label><input id='data-6e7bd547-60a6-4854-a6a6-c49f30f23dd2' class='xr-var-data-in' type='checkbox'><label for='data-6e7bd547-60a6-4854-a6a6-c49f30f23dd2' title='Show/Hide data repr'><svg class='icon xr-icon-database'><use xlink:href='#icon-database'></use></svg></label><div class='xr-var-attrs'><dl class='xr-attrs'></dl></div><div class='xr-var-data'><pre>array([[[ 1.03261465,  1.40459964,  1.40059676, ...,  1.74679197,\n",
       "          3.35238699,  0.72731163],\n",
       "        [ 1.8547325 ,  4.44379517,  0.64463203, ...,  1.82221678,\n",
       "          5.73113077,  1.13226464],\n",
       "        [ 2.13544177,  5.9356992 ,  0.65517009, ...,  1.66445938,\n",
       "          5.34958684,  0.78970927],\n",
       "        ...,\n",
       "        [ 1.40896764,  3.33836181,  2.4900796 , ...,  2.3335277 ,\n",
       "          2.25480295,  0.19106851],\n",
       "        [ 2.17182751,  3.06086494,  1.47863966, ...,  2.05029134,\n",
       "          4.71237848,  0.4456547 ],\n",
       "        [ 1.40239893,  2.41457769,  1.59612079, ...,  1.31623817,\n",
       "          2.99288327,  0.2398526 ]],\n",
       "\n",
       "       [[ 2.36379898,  2.12321429,  1.10763025, ...,  5.33326266,\n",
       "          3.03530196,  1.61565938],\n",
       "        [ 3.71064711,  3.52062178,  1.26841789, ...,  1.71602387,\n",
       "          3.82789451,  1.10309436],\n",
       "        [ 3.28482891,  2.5925999 ,  0.86792679, ...,  4.47150631,\n",
       "          2.53746135,  0.871688  ],\n",
       "...\n",
       "        [ 3.31012139,  6.85661539,  3.33565561, ...,  1.69452411,\n",
       "          0.90009317,  3.52517238],\n",
       "        [ 2.66005739,  1.29224128,  0.33235418, ...,  1.89969921,\n",
       "          0.88245158,  2.20333654],\n",
       "        [ 0.98651846,  3.89920657,  3.04670161, ...,  1.37639389,\n",
       "          1.90293802,  3.68982044]],\n",
       "\n",
       "       [[ 2.90792139,  2.09819175,  0.68394457, ...,  4.55543742,\n",
       "          2.87648138,  1.22669248],\n",
       "        [ 1.68255188,  2.64819332,  0.47406624, ...,  3.04758065,\n",
       "          4.8417482 ,  1.33266974],\n",
       "        [ 2.17690421,  4.8904387 ,  0.12775454, ...,  2.58420856,\n",
       "          2.27781184,  5.48400397],\n",
       "        ...,\n",
       "        [ 1.33872565,  1.89076899,  1.9622052 , ...,  1.15924945,\n",
       "          1.50071563,  3.90485151],\n",
       "        [ 0.6242448 ,  1.5462208 ,  1.74186201, ...,  0.64038516,\n",
       "          4.19108216,  1.59246506],\n",
       "        [ 0.32663497,  3.82770669,  0.15739045, ..., 10.3956662 ,\n",
       "          5.88411697,  4.28058911]]], shape=(4, 1000, 7))</pre></div></li><li class='xr-var-item'><div class='xr-var-name'><span>saturation_beta</span></div><div class='xr-var-dims'>(chain, draw, channel)</div><div class='xr-var-dtype'>float64</div><div class='xr-var-preview xr-preview'>0.0103 0.007608 ... 0.1307 0.03414</div><input id='attrs-7d4362c5-ef14-44a8-a14e-650d0b3e8707' class='xr-var-attrs-in' type='checkbox' disabled><label for='attrs-7d4362c5-ef14-44a8-a14e-650d0b3e8707' title='Show/Hide attributes'><svg class='icon xr-icon-file-text2'><use xlink:href='#icon-file-text2'></use></svg></label><input id='data-7d0cdc8e-4ecc-4080-8100-4763c68d6096' class='xr-var-data-in' type='checkbox'><label for='data-7d0cdc8e-4ecc-4080-8100-4763c68d6096' title='Show/Hide data repr'><svg class='icon xr-icon-database'><use xlink:href='#icon-database'></use></svg></label><div class='xr-var-attrs'><dl class='xr-attrs'></dl></div><div class='xr-var-data'><pre>array([[[0.01030253, 0.00760822, 0.16010116, ..., 0.09944897,\n",
       "         0.24720543, 0.328615  ],\n",
       "        [0.01725698, 0.07600532, 0.68437257, ..., 0.04061512,\n",
       "         0.15166805, 0.16661602],\n",
       "        [0.01559131, 0.03241518, 0.64449244, ..., 0.05127594,\n",
       "         0.21862152, 0.32571784],\n",
       "        ...,\n",
       "        [0.0699697 , 0.04115875, 0.19806179, ..., 0.36128284,\n",
       "         0.03004394, 1.30339512],\n",
       "        [0.05813658, 0.02964712, 0.03422988, ..., 0.32248526,\n",
       "         0.00545797, 1.4619281 ],\n",
       "        [0.04115521, 0.06115261, 0.01915647, ..., 0.46211134,\n",
       "         0.00597266, 2.15740439]],\n",
       "\n",
       "       [[0.03021263, 0.03607969, 0.29131743, ..., 0.10645506,\n",
       "         0.1190511 , 0.21794192],\n",
       "        [0.01413652, 0.0159494 , 0.27625518, ..., 0.21112855,\n",
       "         0.08323448, 0.176042  ],\n",
       "        [0.00635748, 0.03668303, 0.33416436, ..., 0.17966147,\n",
       "         0.16242528, 0.30142578],\n",
       "...\n",
       "        [0.026286  , 0.0461725 , 0.15172136, ..., 0.15333692,\n",
       "         0.42266574, 0.10434007],\n",
       "        [0.02344576, 0.01424969, 0.6300828 , ..., 0.27981504,\n",
       "         0.22714083, 0.08704692],\n",
       "        [0.050016  , 0.04131404, 0.10691088, ..., 0.39074719,\n",
       "         0.22956113, 0.05739631]],\n",
       "\n",
       "       [[0.03350878, 0.01154821, 0.48708033, ..., 0.21968204,\n",
       "         0.04670547, 0.31847544],\n",
       "        [0.04510503, 0.00795437, 0.45736922, ..., 0.27386671,\n",
       "         0.09560178, 0.31573481],\n",
       "        [0.02961894, 0.00411091, 2.14581914, ..., 0.12957847,\n",
       "         0.21352179, 0.07686521],\n",
       "        ...,\n",
       "        [0.06034753, 0.02136775, 0.1256123 , ..., 0.53961457,\n",
       "         0.18782634, 0.17330309],\n",
       "        [0.21710185, 0.02949489, 0.23688083, ..., 0.24895369,\n",
       "         0.22479934, 0.31494651],\n",
       "        [0.06076818, 0.0373439 , 0.4370453 , ..., 0.02200086,\n",
       "         0.1307434 , 0.03413549]]], shape=(4, 1000, 7))</pre></div></li><li class='xr-var-item'><div class='xr-var-name'><span>y_sigma</span></div><div class='xr-var-dims'>(chain, draw)</div><div class='xr-var-dtype'>float64</div><div class='xr-var-preview xr-preview'>0.08838 0.08492 ... 0.1108 0.08537</div><input id='attrs-913e837e-e748-425d-922d-333bc3e42e9c' class='xr-var-attrs-in' type='checkbox' disabled><label for='attrs-913e837e-e748-425d-922d-333bc3e42e9c' title='Show/Hide attributes'><svg class='icon xr-icon-file-text2'><use xlink:href='#icon-file-text2'></use></svg></label><input id='data-1940ddbc-afaa-4af8-90d0-7faea17269f0' class='xr-var-data-in' type='checkbox'><label for='data-1940ddbc-afaa-4af8-90d0-7faea17269f0' title='Show/Hide data repr'><svg class='icon xr-icon-database'><use xlink:href='#icon-database'></use></svg></label><div class='xr-var-attrs'><dl class='xr-attrs'></dl></div><div class='xr-var-data'><pre>array([[0.08837946, 0.0849179 , 0.08567904, ..., 0.1105221 , 0.09703386,\n",
       "        0.09443051],\n",
       "       [0.0961173 , 0.08443361, 0.10457915, ..., 0.09238375, 0.08668058,\n",
       "        0.09006804],\n",
       "       [0.10710866, 0.0973418 , 0.09480145, ..., 0.09498833, 0.09296172,\n",
       "        0.0796763 ],\n",
       "       [0.0880595 , 0.09322444, 0.08752544, ..., 0.10584134, 0.11076036,\n",
       "        0.08537464]], shape=(4, 1000))</pre></div></li><li class='xr-var-item'><div class='xr-var-name'><span>channel_contributions</span></div><div class='xr-var-dims'>(chain, draw, date, channel)</div><div class='xr-var-dtype'>float64</div><div class='xr-var-preview xr-preview'>0.001409 0.0002999 ... 0.0 0.02253</div><input id='attrs-b8ea6ab9-cf6e-44c2-a186-711d7c840bcc' class='xr-var-attrs-in' type='checkbox' disabled><label for='attrs-b8ea6ab9-cf6e-44c2-a186-711d7c840bcc' title='Show/Hide attributes'><svg class='icon xr-icon-file-text2'><use xlink:href='#icon-file-text2'></use></svg></label><input id='data-e2bed2e1-79f2-4d31-b8c1-eb3bdc2a1f30' class='xr-var-data-in' type='checkbox'><label for='data-e2bed2e1-79f2-4d31-b8c1-eb3bdc2a1f30' title='Show/Hide data repr'><svg class='icon xr-icon-database'><use xlink:href='#icon-database'></use></svg></label><div class='xr-var-attrs'><dl class='xr-attrs'></dl></div><div class='xr-var-data'><pre>array([[[[0.00140901, 0.00029988, 0.02819202, ..., 0.03067268,\n",
       "          0.12360478, 0.027423  ],\n",
       "         [0.00160169, 0.00032518, 0.0198844 , ..., 0.03221134,\n",
       "          0.13373926, 0.03396086],\n",
       "         [0.00133851, 0.00034404, 0.01618726, ..., 0.03718853,\n",
       "          0.12308174, 0.03465685],\n",
       "         ...,\n",
       "         [0.        , 0.00182483, 0.02739857, ..., 0.01049176,\n",
       "          0.        , 0.04525033],\n",
       "         [0.        , 0.00233146, 0.02438584, ..., 0.00827165,\n",
       "          0.        , 0.04398874],\n",
       "         [0.        , 0.00197855, 0.02409663, ..., 0.00783713,\n",
       "          0.        , 0.04656507]],\n",
       "\n",
       "        [[0.00461833, 0.02517185, 0.05486997, ..., 0.01225085,\n",
       "          0.09519621, 0.01577787],\n",
       "         [0.00481146, 0.01210655, 0.03955019, ..., 0.0135396 ,\n",
       "          0.1122837 , 0.02340657],\n",
       "         [0.00389642, 0.01154396, 0.03208418, ..., 0.01562819,\n",
       "          0.110775  , 0.02599607],\n",
       "...\n",
       "         [0.        , 0.00852009, 0.05324994, ..., 0.00950044,\n",
       "          0.        , 0.09236502],\n",
       "         [0.        , 0.01190463, 0.04617354, ..., 0.00775962,\n",
       "          0.        , 0.09027198],\n",
       "         [0.        , 0.00789098, 0.04452204, ..., 0.00726296,\n",
       "          0.        , 0.09521079]],\n",
       "\n",
       "        [[0.002455  , 0.0074411 , 0.00642295, ..., 0.02124686,\n",
       "          0.09289396, 0.00771998],\n",
       "         [0.00294691, 0.00575166, 0.00616542, ..., 0.02122091,\n",
       "          0.10171427, 0.0129479 ],\n",
       "         [0.00253336, 0.0051922 , 0.00529672, ..., 0.02161336,\n",
       "          0.09747968, 0.01572053],\n",
       "         ...,\n",
       "         [0.        , 0.02345045, 0.00944366, ..., 0.01239722,\n",
       "          0.        , 0.02131953],\n",
       "         [0.        , 0.02939604, 0.0080611 , ..., 0.00994426,\n",
       "          0.        , 0.0217989 ],\n",
       "         [0.        , 0.02199048, 0.00761983, ..., 0.00960776,\n",
       "          0.        , 0.0225303 ]]]], shape=(4, 1000, 104, 7))</pre></div></li><li class='xr-var-item'><div class='xr-var-name'><span>total_contributions</span></div><div class='xr-var-dims'>(chain, draw)</div><div class='xr-var-dtype'>float64</div><div class='xr-var-preview xr-preview'>25.4 22.7 23.61 ... 26.93 12.37</div><input id='attrs-e59788bf-0fe3-4f50-9088-6628522ccef4' class='xr-var-attrs-in' type='checkbox' disabled><label for='attrs-e59788bf-0fe3-4f50-9088-6628522ccef4' title='Show/Hide attributes'><svg class='icon xr-icon-file-text2'><use xlink:href='#icon-file-text2'></use></svg></label><input id='data-ad348110-c72c-46be-ae29-15b671931ecc' class='xr-var-data-in' type='checkbox'><label for='data-ad348110-c72c-46be-ae29-15b671931ecc' title='Show/Hide data repr'><svg class='icon xr-icon-database'><use xlink:href='#icon-database'></use></svg></label><div class='xr-var-attrs'><dl class='xr-attrs'></dl></div><div class='xr-var-data'><pre>array([[25.40238118, 22.70014155, 23.613724  , ..., 28.44509857,\n",
       "        25.75958142, 21.97104987],\n",
       "       [24.92468818, 19.22937667, 28.62925618, ..., 28.04548908,\n",
       "        20.78809567, 29.67420507],\n",
       "       [19.86461131, 29.32460599, 26.5905578 , ..., 24.06027328,\n",
       "        17.65859849, 24.64775696],\n",
       "       [33.67119985, 34.99015004, 27.42349921, ..., 26.86252415,\n",
       "        26.92526258, 12.36601989]], shape=(4, 1000))</pre></div></li><li class='xr-var-item'><div class='xr-var-name'><span>fourier_contributions</span></div><div class='xr-var-dims'>(chain, draw, date, fourier_mode)</div><div class='xr-var-dtype'>float64</div><div class='xr-var-preview xr-preview'>0.0146 0.00215 ... 0.004228</div><input id='attrs-69f6d22e-cb45-4d22-b7d0-7b0497d4b45b' class='xr-var-attrs-in' type='checkbox' disabled><label for='attrs-69f6d22e-cb45-4d22-b7d0-7b0497d4b45b' title='Show/Hide attributes'><svg class='icon xr-icon-file-text2'><use xlink:href='#icon-file-text2'></use></svg></label><input id='data-4d9e896c-3034-4369-8e5d-c0e69c0ae9ce' class='xr-var-data-in' type='checkbox'><label for='data-4d9e896c-3034-4369-8e5d-c0e69c0ae9ce' title='Show/Hide data repr'><svg class='icon xr-icon-database'><use xlink:href='#icon-database'></use></svg></label><div class='xr-var-attrs'><dl class='xr-attrs'></dl></div><div class='xr-var-data'><pre>array([[[[ 1.45984202e-02,  2.15014518e-03,  2.67180334e-03,\n",
       "          -1.04367209e-03],\n",
       "         [ 1.55253915e-02,  1.80365250e-03,  2.10742861e-03,\n",
       "          -1.46236518e-03],\n",
       "         [ 1.62275127e-02,  1.35305087e-03,  1.51253256e-03,\n",
       "          -1.79664882e-03],\n",
       "         ...,\n",
       "         [ 9.92259925e-03,  2.33442876e-03,  4.26773788e-03,\n",
       "           6.75486567e-04],\n",
       "         [ 1.15002776e-02,  2.45115017e-03,  3.86637664e-03,\n",
       "           1.68710804e-04],\n",
       "         [ 1.29114006e-02,  2.42638830e-03,  3.40901970e-03,\n",
       "          -3.47803145e-04]],\n",
       "\n",
       "        [[-3.88833871e-03,  1.20643588e-03, -1.37069232e-02,\n",
       "           2.57225585e-04],\n",
       "         [-4.13524066e-03,  1.01202055e-03, -1.08115600e-02,\n",
       "           3.60417552e-04],\n",
       "         [-4.32225303e-03,  7.59190191e-04, -7.75961588e-03,\n",
       "           4.42805791e-04],\n",
       "...\n",
       "         [-7.06280019e-03, -1.58798634e-04, -1.61154619e-02,\n",
       "           1.05675334e-02],\n",
       "         [-8.18577482e-03, -1.66738564e-04, -1.45998764e-02,\n",
       "           2.63936716e-03],\n",
       "         [-9.19019705e-03, -1.65054147e-04, -1.28728447e-02,\n",
       "          -5.44114648e-03]],\n",
       "\n",
       "        [[ 2.11064896e-02, -2.19509079e-02, -3.42267934e-02,\n",
       "           1.26871596e-02],\n",
       "         [ 2.24467107e-02, -1.84135520e-02, -2.69969434e-02,\n",
       "           1.77769058e-02],\n",
       "         [ 2.34618420e-02, -1.38133441e-02, -1.93761040e-02,\n",
       "           2.18405480e-02],\n",
       "         ...,\n",
       "         [ 1.43461577e-02, -2.38322655e-02, -5.46713077e-02,\n",
       "          -8.21139700e-03],\n",
       "         [ 1.66271752e-02, -2.50238785e-02, -4.95297211e-02,\n",
       "          -2.05089407e-03],\n",
       "         [ 1.86673858e-02, -2.47710837e-02, -4.36708088e-02,\n",
       "           4.22798889e-03]]]], shape=(4, 1000, 104, 4))</pre></div></li><li class='xr-var-item'><div class='xr-var-name'><span>yearly_seasonality_contribution</span></div><div class='xr-var-dims'>(chain, draw, date)</div><div class='xr-var-dtype'>float64</div><div class='xr-var-preview xr-preview'>0.01838 0.01797 ... -0.04555</div><input id='attrs-6a7c0c9d-d956-4b88-ba2f-c7f9ec46bf13' class='xr-var-attrs-in' type='checkbox' disabled><label for='attrs-6a7c0c9d-d956-4b88-ba2f-c7f9ec46bf13' title='Show/Hide attributes'><svg class='icon xr-icon-file-text2'><use xlink:href='#icon-file-text2'></use></svg></label><input id='data-ddcca6b4-367f-41d7-a4ab-a43e0e66bb8f' class='xr-var-data-in' type='checkbox'><label for='data-ddcca6b4-367f-41d7-a4ab-a43e0e66bb8f' title='Show/Hide data repr'><svg class='icon xr-icon-database'><use xlink:href='#icon-database'></use></svg></label><div class='xr-var-attrs'><dl class='xr-attrs'></dl></div><div class='xr-var-data'><pre>array([[[ 1.83766966e-02,  1.79741074e-02,  1.72964473e-02, ...,\n",
       "          1.72002525e-02,  1.79865152e-02,  1.83990054e-02],\n",
       "        [-1.61316005e-02, -1.35743626e-02, -1.08798729e-02, ...,\n",
       "         -2.33939724e-02, -2.15647305e-02, -1.94808415e-02],\n",
       "        [ 2.31335610e-03,  2.59699483e-03,  2.81300849e-03, ...,\n",
       "         -2.13489628e-04,  8.58753338e-04,  1.62975717e-03],\n",
       "        ...,\n",
       "        [-1.23604176e-02, -4.41905396e-03,  4.04471318e-03, ...,\n",
       "         -3.34959131e-02, -2.84552209e-02, -2.24507367e-02],\n",
       "        [-7.90160650e-03, -3.04030161e-03,  1.80363328e-03, ...,\n",
       "         -2.26780920e-02, -1.88646399e-02, -1.45791470e-02],\n",
       "        [ 1.12064183e-02,  2.03370965e-02,  2.82560647e-02, ...,\n",
       "         -2.47138108e-02, -1.40328436e-02, -3.32710687e-03]],\n",
       "\n",
       "       [[-1.74424224e-02,  1.27946202e-03,  2.02402057e-02, ...,\n",
       "         -6.91416421e-02, -5.70090728e-02, -4.21567340e-02],\n",
       "        [-8.60819035e-03, -1.04894426e-02, -1.22312468e-02, ...,\n",
       "         -3.79612452e-03, -4.69447121e-03, -6.08438045e-03],\n",
       "        [-4.27616223e-02, -3.06021113e-02, -1.80167776e-02, ...,\n",
       "         -7.53789283e-02, -6.78468689e-02, -5.85164477e-02],\n",
       "...\n",
       "         -1.93317214e-02, -1.66625229e-02, -1.33186877e-02],\n",
       "        [-3.39149688e-02, -2.75281495e-02, -2.03502961e-02, ...,\n",
       "         -4.83419613e-02, -4.54167527e-02, -4.14167826e-02],\n",
       "        [-1.66577575e-02, -9.08441847e-03, -1.80353314e-03, ...,\n",
       "         -4.17512863e-02, -3.49048824e-02, -2.75532931e-02]],\n",
       "\n",
       "       [[-9.59142435e-03, -6.53296416e-03, -3.08063607e-03, ...,\n",
       "         -1.78856698e-02, -1.57167544e-02, -1.33784829e-02],\n",
       "        [-8.72413316e-04,  1.20081503e-03,  3.37359614e-03, ...,\n",
       "         -8.00815987e-03, -5.84493266e-03, -3.77435557e-03],\n",
       "        [-7.80186448e-03, -4.14841454e-03, -5.09951632e-04, ...,\n",
       "         -1.83035780e-02, -1.57671341e-02, -1.27315930e-02],\n",
       "        ...,\n",
       "        [-4.76041077e-02, -4.76641654e-02, -4.59895289e-02, ...,\n",
       "         -3.71644823e-02, -4.14521056e-02, -4.48665141e-02],\n",
       "        [-3.69538431e-02, -4.20091105e-02, -4.54614689e-02, ...,\n",
       "         -1.27695273e-02, -2.03130226e-02, -2.76692424e-02],\n",
       "        [-2.23840521e-02, -5.18687894e-03,  1.21129420e-02, ...,\n",
       "         -7.23688125e-02, -5.99773185e-02, -4.55465178e-02]]],\n",
       "      shape=(4, 1000, 104))</pre></div></li><li class='xr-var-item'><div class='xr-var-name'><span>mu</span></div><div class='xr-var-dims'>(chain, draw, date)</div><div class='xr-var-dtype'>float64</div><div class='xr-var-preview xr-preview'>0.3596 0.3853 ... 0.2405 0.2479</div><input id='attrs-7bba4234-c29b-4eca-8475-13f25b6a9e06' class='xr-var-attrs-in' type='checkbox' disabled><label for='attrs-7bba4234-c29b-4eca-8475-13f25b6a9e06' title='Show/Hide attributes'><svg class='icon xr-icon-file-text2'><use xlink:href='#icon-file-text2'></use></svg></label><input id='data-39f0029f-ef44-4062-90f6-73964bf517c2' class='xr-var-data-in' type='checkbox'><label for='data-39f0029f-ef44-4062-90f6-73964bf517c2' title='Show/Hide data repr'><svg class='icon xr-icon-database'><use xlink:href='#icon-database'></use></svg></label><div class='xr-var-attrs'><dl class='xr-attrs'></dl></div><div class='xr-var-data'><pre>array([[[0.35964072, 0.38530333, 0.37610319, ..., 0.25502739,\n",
       "         0.24481373, 0.24858326],\n",
       "        [0.30101059, 0.30349637, 0.30082415, ..., 0.23952039,\n",
       "         0.24424361, 0.21961742],\n",
       "        [0.35369871, 0.36659073, 0.36235342, ..., 0.24293864,\n",
       "         0.24102062, 0.23338043],\n",
       "        ...,\n",
       "        [0.29345067, 0.31624228, 0.34381307, ..., 0.21766325,\n",
       "         0.21016704, 0.20548785],\n",
       "        [0.30961806, 0.33796282, 0.35831763, ..., 0.26510392,\n",
       "         0.25845267, 0.25713749],\n",
       "        [0.33251574, 0.35893855, 0.38883139, ..., 0.2789158 ,\n",
       "         0.2890852 , 0.28141341]],\n",
       "\n",
       "       [[0.27881336, 0.31821703, 0.33599635, ..., 0.17256807,\n",
       "         0.1789788 , 0.19224718],\n",
       "        [0.33416765, 0.33154334, 0.33010945, ..., 0.26617966,\n",
       "         0.25746926, 0.25051837],\n",
       "        [0.23858763, 0.30387471, 0.33482659, ..., 0.17301865,\n",
       "         0.17370068, 0.17616311],\n",
       "...\n",
       "        [0.28142193, 0.30256036, 0.30633833, ..., 0.24804674,\n",
       "         0.24734604, 0.24387407],\n",
       "        [0.30105403, 0.3179226 , 0.33533618, ..., 0.20950194,\n",
       "         0.20207182, 0.20357251],\n",
       "        [0.29404404, 0.33124846, 0.34660253, ..., 0.21065416,\n",
       "         0.21593396, 0.2145993 ]],\n",
       "\n",
       "       [[0.30429237, 0.32916719, 0.33839111, ..., 0.22515187,\n",
       "         0.20328069, 0.20823205],\n",
       "        [0.31150624, 0.34466065, 0.36092738, ..., 0.20746365,\n",
       "         0.18813941, 0.19228494],\n",
       "        [0.24157174, 0.28994514, 0.30455036, ..., 0.2120579 ,\n",
       "         0.20426581, 0.20877939],\n",
       "        ...,\n",
       "        [0.26441695, 0.31156629, 0.3322865 , ..., 0.23251824,\n",
       "         0.21861573, 0.21459311],\n",
       "        [0.27592004, 0.30767469, 0.29916449, ..., 0.20610232,\n",
       "         0.19094641, 0.18235593],\n",
       "        [0.34510584, 0.37692592, 0.39107856, ..., 0.22642028,\n",
       "         0.24051612, 0.24789753]]], shape=(4, 1000, 104))</pre></div></li></ul></div></li><li class='xr-section-item'><input id='section-45b786ff-1f95-461c-b132-d313852dc1d1' class='xr-section-summary-in' type='checkbox'  ><label for='section-45b786ff-1f95-461c-b132-d313852dc1d1' class='xr-section-summary' >Indexes: <span>(5)</span></label><div class='xr-section-inline-details'></div><div class='xr-section-details'><ul class='xr-var-list'><li class='xr-var-item'><div class='xr-index-name'><div>chain</div></div><div class='xr-index-preview'>PandasIndex</div><input type='checkbox' disabled/><label></label><input id='index-f42bc717-2f85-4480-9a6f-0e891ba203bf' class='xr-index-data-in' type='checkbox'/><label for='index-f42bc717-2f85-4480-9a6f-0e891ba203bf' title='Show/Hide index repr'><svg class='icon xr-icon-database'><use xlink:href='#icon-database'></use></svg></label><div class='xr-index-data'><pre>PandasIndex(Index([0, 1, 2, 3], dtype=&#x27;int64&#x27;, name=&#x27;chain&#x27;))</pre></div></li><li class='xr-var-item'><div class='xr-index-name'><div>draw</div></div><div class='xr-index-preview'>PandasIndex</div><input type='checkbox' disabled/><label></label><input id='index-ffdb9eab-3c78-41ef-8dd2-436bca62c163' class='xr-index-data-in' type='checkbox'/><label for='index-ffdb9eab-3c78-41ef-8dd2-436bca62c163' title='Show/Hide index repr'><svg class='icon xr-icon-database'><use xlink:href='#icon-database'></use></svg></label><div class='xr-index-data'><pre>PandasIndex(Index([  0,   1,   2,   3,   4,   5,   6,   7,   8,   9,\n",
       "       ...\n",
       "       990, 991, 992, 993, 994, 995, 996, 997, 998, 999],\n",
       "      dtype=&#x27;int64&#x27;, name=&#x27;draw&#x27;, length=1000))</pre></div></li><li class='xr-var-item'><div class='xr-index-name'><div>fourier_mode</div></div><div class='xr-index-preview'>PandasIndex</div><input type='checkbox' disabled/><label></label><input id='index-7300ae74-3014-42da-ab90-8b97d069b70f' class='xr-index-data-in' type='checkbox'/><label for='index-7300ae74-3014-42da-ab90-8b97d069b70f' title='Show/Hide index repr'><svg class='icon xr-icon-database'><use xlink:href='#icon-database'></use></svg></label><div class='xr-index-data'><pre>PandasIndex(Index([&#x27;sin_1&#x27;, &#x27;sin_2&#x27;, &#x27;cos_1&#x27;, &#x27;cos_2&#x27;], dtype=&#x27;object&#x27;, name=&#x27;fourier_mode&#x27;))</pre></div></li><li class='xr-var-item'><div class='xr-index-name'><div>channel</div></div><div class='xr-index-preview'>PandasIndex</div><input type='checkbox' disabled/><label></label><input id='index-e145c845-5734-415f-a5f2-6292bdfa450a' class='xr-index-data-in' type='checkbox'/><label for='index-e145c845-5734-415f-a5f2-6292bdfa450a' title='Show/Hide index repr'><svg class='icon xr-icon-database'><use xlink:href='#icon-database'></use></svg></label><div class='xr-index-data'><pre>PandasIndex(Index([&#x27;spend_channel_1&#x27;, &#x27;spend_channel_2&#x27;, &#x27;spend_channel_3&#x27;,\n",
       "       &#x27;spend_channel_4&#x27;, &#x27;spend_channel_5&#x27;, &#x27;spend_channel_6&#x27;,\n",
       "       &#x27;spend_channel_7&#x27;],\n",
       "      dtype=&#x27;object&#x27;, name=&#x27;channel&#x27;))</pre></div></li><li class='xr-var-item'><div class='xr-index-name'><div>date</div></div><div class='xr-index-preview'>PandasIndex</div><input type='checkbox' disabled/><label></label><input id='index-f968a6a2-07ff-4593-964c-bab80fb215fe' class='xr-index-data-in' type='checkbox'/><label for='index-f968a6a2-07ff-4593-964c-bab80fb215fe' title='Show/Hide index repr'><svg class='icon xr-icon-database'><use xlink:href='#icon-database'></use></svg></label><div class='xr-index-data'><pre>PandasIndex(DatetimeIndex([&#x27;2020-08-30&#x27;, &#x27;2020-09-06&#x27;, &#x27;2020-09-13&#x27;, &#x27;2020-09-20&#x27;,\n",
       "               &#x27;2020-09-27&#x27;, &#x27;2020-10-04&#x27;, &#x27;2020-10-11&#x27;, &#x27;2020-10-18&#x27;,\n",
       "               &#x27;2020-10-25&#x27;, &#x27;2020-11-01&#x27;,\n",
       "               ...\n",
       "               &#x27;2022-06-19&#x27;, &#x27;2022-06-26&#x27;, &#x27;2022-07-03&#x27;, &#x27;2022-07-10&#x27;,\n",
       "               &#x27;2022-07-17&#x27;, &#x27;2022-07-24&#x27;, &#x27;2022-07-31&#x27;, &#x27;2022-08-07&#x27;,\n",
       "               &#x27;2022-08-14&#x27;, &#x27;2022-08-21&#x27;],\n",
       "              dtype=&#x27;datetime64[ns]&#x27;, name=&#x27;date&#x27;, length=104, freq=None))</pre></div></li></ul></div></li><li class='xr-section-item'><input id='section-c8d514b7-08dd-435b-8c06-b68af1e85e49' class='xr-section-summary-in' type='checkbox'  checked><label for='section-c8d514b7-08dd-435b-8c06-b68af1e85e49' class='xr-section-summary' >Attributes: <span>(6)</span></label><div class='xr-section-inline-details'></div><div class='xr-section-details'><dl class='xr-attrs'><dt><span>created_at :</span></dt><dd>2025-04-17T09:47:11.085584+00:00</dd><dt><span>arviz_version :</span></dt><dd>0.21.0</dd><dt><span>inference_library :</span></dt><dd>numpyro</dd><dt><span>inference_library_version :</span></dt><dd>0.18.0</dd><dt><span>sampling_time :</span></dt><dd>6.849079</dd><dt><span>tuning_steps :</span></dt><dd>1000</dd></dl></div></li></ul></div></div><br></div>\n",
       "                      </ul>\n",
       "                  </div>\n",
       "            </li>\n",
       "            \n",
       "            <li class = \"xr-section-item\">\n",
       "                  <input id=\"idata_sample_stats9a0b948c-1dc3-414a-b36d-166a38bee98b\" class=\"xr-section-summary-in\" type=\"checkbox\">\n",
       "                  <label for=\"idata_sample_stats9a0b948c-1dc3-414a-b36d-166a38bee98b\" class = \"xr-section-summary\">sample_stats</label>\n",
       "                  <div class=\"xr-section-inline-details\"></div>\n",
       "                  <div class=\"xr-section-details\">\n",
       "                      <ul id=\"xr-dataset-coord-list\" class=\"xr-var-list\">\n",
       "                          <div style=\"padding-left:2rem;\"><div><svg style=\"position: absolute; width: 0; height: 0; overflow: hidden\">\n",
       "<defs>\n",
       "<symbol id=\"icon-database\" viewBox=\"0 0 32 32\">\n",
       "<path d=\"M16 0c-8.837 0-16 2.239-16 5v4c0 2.761 7.163 5 16 5s16-2.239 16-5v-4c0-2.761-7.163-5-16-5z\"></path>\n",
       "<path d=\"M16 17c-8.837 0-16-2.239-16-5v6c0 2.761 7.163 5 16 5s16-2.239 16-5v-6c0 2.761-7.163 5-16 5z\"></path>\n",
       "<path d=\"M16 26c-8.837 0-16-2.239-16-5v6c0 2.761 7.163 5 16 5s16-2.239 16-5v-6c0 2.761-7.163 5-16 5z\"></path>\n",
       "</symbol>\n",
       "<symbol id=\"icon-file-text2\" viewBox=\"0 0 32 32\">\n",
       "<path d=\"M28.681 7.159c-0.694-0.947-1.662-2.053-2.724-3.116s-2.169-2.030-3.116-2.724c-1.612-1.182-2.393-1.319-2.841-1.319h-15.5c-1.378 0-2.5 1.121-2.5 2.5v27c0 1.378 1.122 2.5 2.5 2.5h23c1.378 0 2.5-1.122 2.5-2.5v-19.5c0-0.448-0.137-1.23-1.319-2.841zM24.543 5.457c0.959 0.959 1.712 1.825 2.268 2.543h-4.811v-4.811c0.718 0.556 1.584 1.309 2.543 2.268zM28 29.5c0 0.271-0.229 0.5-0.5 0.5h-23c-0.271 0-0.5-0.229-0.5-0.5v-27c0-0.271 0.229-0.5 0.5-0.5 0 0 15.499-0 15.5 0v7c0 0.552 0.448 1 1 1h7v19.5z\"></path>\n",
       "<path d=\"M23 26h-14c-0.552 0-1-0.448-1-1s0.448-1 1-1h14c0.552 0 1 0.448 1 1s-0.448 1-1 1z\"></path>\n",
       "<path d=\"M23 22h-14c-0.552 0-1-0.448-1-1s0.448-1 1-1h14c0.552 0 1 0.448 1 1s-0.448 1-1 1z\"></path>\n",
       "<path d=\"M23 18h-14c-0.552 0-1-0.448-1-1s0.448-1 1-1h14c0.552 0 1 0.448 1 1s-0.448 1-1 1z\"></path>\n",
       "</symbol>\n",
       "</defs>\n",
       "</svg>\n",
       "<style>/* CSS stylesheet for displaying xarray objects in jupyterlab.\n",
       " *\n",
       " */\n",
       "\n",
       ":root {\n",
       "  --xr-font-color0: var(--jp-content-font-color0, rgba(0, 0, 0, 1));\n",
       "  --xr-font-color2: var(--jp-content-font-color2, rgba(0, 0, 0, 0.54));\n",
       "  --xr-font-color3: var(--jp-content-font-color3, rgba(0, 0, 0, 0.38));\n",
       "  --xr-border-color: var(--jp-border-color2, #e0e0e0);\n",
       "  --xr-disabled-color: var(--jp-layout-color3, #bdbdbd);\n",
       "  --xr-background-color: var(--jp-layout-color0, white);\n",
       "  --xr-background-color-row-even: var(--jp-layout-color1, white);\n",
       "  --xr-background-color-row-odd: var(--jp-layout-color2, #eeeeee);\n",
       "}\n",
       "\n",
       "html[theme=\"dark\"],\n",
       "html[data-theme=\"dark\"],\n",
       "body[data-theme=\"dark\"],\n",
       "body.vscode-dark {\n",
       "  --xr-font-color0: rgba(255, 255, 255, 1);\n",
       "  --xr-font-color2: rgba(255, 255, 255, 0.54);\n",
       "  --xr-font-color3: rgba(255, 255, 255, 0.38);\n",
       "  --xr-border-color: #1f1f1f;\n",
       "  --xr-disabled-color: #515151;\n",
       "  --xr-background-color: #111111;\n",
       "  --xr-background-color-row-even: #111111;\n",
       "  --xr-background-color-row-odd: #313131;\n",
       "}\n",
       "\n",
       ".xr-wrap {\n",
       "  display: block !important;\n",
       "  min-width: 300px;\n",
       "  max-width: 700px;\n",
       "}\n",
       "\n",
       ".xr-text-repr-fallback {\n",
       "  /* fallback to plain text repr when CSS is not injected (untrusted notebook) */\n",
       "  display: none;\n",
       "}\n",
       "\n",
       ".xr-header {\n",
       "  padding-top: 6px;\n",
       "  padding-bottom: 6px;\n",
       "  margin-bottom: 4px;\n",
       "  border-bottom: solid 1px var(--xr-border-color);\n",
       "}\n",
       "\n",
       ".xr-header > div,\n",
       ".xr-header > ul {\n",
       "  display: inline;\n",
       "  margin-top: 0;\n",
       "  margin-bottom: 0;\n",
       "}\n",
       "\n",
       ".xr-obj-type,\n",
       ".xr-array-name {\n",
       "  margin-left: 2px;\n",
       "  margin-right: 10px;\n",
       "}\n",
       "\n",
       ".xr-obj-type {\n",
       "  color: var(--xr-font-color2);\n",
       "}\n",
       "\n",
       ".xr-sections {\n",
       "  padding-left: 0 !important;\n",
       "  display: grid;\n",
       "  grid-template-columns: 150px auto auto 1fr 0 20px 0 20px;\n",
       "}\n",
       "\n",
       ".xr-section-item {\n",
       "  display: contents;\n",
       "}\n",
       "\n",
       ".xr-section-item input {\n",
       "  display: inline-block;\n",
       "  opacity: 0;\n",
       "  height: 0;\n",
       "}\n",
       "\n",
       ".xr-section-item input + label {\n",
       "  color: var(--xr-disabled-color);\n",
       "}\n",
       "\n",
       ".xr-section-item input:enabled + label {\n",
       "  cursor: pointer;\n",
       "  color: var(--xr-font-color2);\n",
       "}\n",
       "\n",
       ".xr-section-item input:focus + label {\n",
       "  border: 2px solid var(--xr-font-color0);\n",
       "}\n",
       "\n",
       ".xr-section-item input:enabled + label:hover {\n",
       "  color: var(--xr-font-color0);\n",
       "}\n",
       "\n",
       ".xr-section-summary {\n",
       "  grid-column: 1;\n",
       "  color: var(--xr-font-color2);\n",
       "  font-weight: 500;\n",
       "}\n",
       "\n",
       ".xr-section-summary > span {\n",
       "  display: inline-block;\n",
       "  padding-left: 0.5em;\n",
       "}\n",
       "\n",
       ".xr-section-summary-in:disabled + label {\n",
       "  color: var(--xr-font-color2);\n",
       "}\n",
       "\n",
       ".xr-section-summary-in + label:before {\n",
       "  display: inline-block;\n",
       "  content: \"►\";\n",
       "  font-size: 11px;\n",
       "  width: 15px;\n",
       "  text-align: center;\n",
       "}\n",
       "\n",
       ".xr-section-summary-in:disabled + label:before {\n",
       "  color: var(--xr-disabled-color);\n",
       "}\n",
       "\n",
       ".xr-section-summary-in:checked + label:before {\n",
       "  content: \"▼\";\n",
       "}\n",
       "\n",
       ".xr-section-summary-in:checked + label > span {\n",
       "  display: none;\n",
       "}\n",
       "\n",
       ".xr-section-summary,\n",
       ".xr-section-inline-details {\n",
       "  padding-top: 4px;\n",
       "  padding-bottom: 4px;\n",
       "}\n",
       "\n",
       ".xr-section-inline-details {\n",
       "  grid-column: 2 / -1;\n",
       "}\n",
       "\n",
       ".xr-section-details {\n",
       "  display: none;\n",
       "  grid-column: 1 / -1;\n",
       "  margin-bottom: 5px;\n",
       "}\n",
       "\n",
       ".xr-section-summary-in:checked ~ .xr-section-details {\n",
       "  display: contents;\n",
       "}\n",
       "\n",
       ".xr-array-wrap {\n",
       "  grid-column: 1 / -1;\n",
       "  display: grid;\n",
       "  grid-template-columns: 20px auto;\n",
       "}\n",
       "\n",
       ".xr-array-wrap > label {\n",
       "  grid-column: 1;\n",
       "  vertical-align: top;\n",
       "}\n",
       "\n",
       ".xr-preview {\n",
       "  color: var(--xr-font-color3);\n",
       "}\n",
       "\n",
       ".xr-array-preview,\n",
       ".xr-array-data {\n",
       "  padding: 0 5px !important;\n",
       "  grid-column: 2;\n",
       "}\n",
       "\n",
       ".xr-array-data,\n",
       ".xr-array-in:checked ~ .xr-array-preview {\n",
       "  display: none;\n",
       "}\n",
       "\n",
       ".xr-array-in:checked ~ .xr-array-data,\n",
       ".xr-array-preview {\n",
       "  display: inline-block;\n",
       "}\n",
       "\n",
       ".xr-dim-list {\n",
       "  display: inline-block !important;\n",
       "  list-style: none;\n",
       "  padding: 0 !important;\n",
       "  margin: 0;\n",
       "}\n",
       "\n",
       ".xr-dim-list li {\n",
       "  display: inline-block;\n",
       "  padding: 0;\n",
       "  margin: 0;\n",
       "}\n",
       "\n",
       ".xr-dim-list:before {\n",
       "  content: \"(\";\n",
       "}\n",
       "\n",
       ".xr-dim-list:after {\n",
       "  content: \")\";\n",
       "}\n",
       "\n",
       ".xr-dim-list li:not(:last-child):after {\n",
       "  content: \",\";\n",
       "  padding-right: 5px;\n",
       "}\n",
       "\n",
       ".xr-has-index {\n",
       "  font-weight: bold;\n",
       "}\n",
       "\n",
       ".xr-var-list,\n",
       ".xr-var-item {\n",
       "  display: contents;\n",
       "}\n",
       "\n",
       ".xr-var-item > div,\n",
       ".xr-var-item label,\n",
       ".xr-var-item > .xr-var-name span {\n",
       "  background-color: var(--xr-background-color-row-even);\n",
       "  margin-bottom: 0;\n",
       "}\n",
       "\n",
       ".xr-var-item > .xr-var-name:hover span {\n",
       "  padding-right: 5px;\n",
       "}\n",
       "\n",
       ".xr-var-list > li:nth-child(odd) > div,\n",
       ".xr-var-list > li:nth-child(odd) > label,\n",
       ".xr-var-list > li:nth-child(odd) > .xr-var-name span {\n",
       "  background-color: var(--xr-background-color-row-odd);\n",
       "}\n",
       "\n",
       ".xr-var-name {\n",
       "  grid-column: 1;\n",
       "}\n",
       "\n",
       ".xr-var-dims {\n",
       "  grid-column: 2;\n",
       "}\n",
       "\n",
       ".xr-var-dtype {\n",
       "  grid-column: 3;\n",
       "  text-align: right;\n",
       "  color: var(--xr-font-color2);\n",
       "}\n",
       "\n",
       ".xr-var-preview {\n",
       "  grid-column: 4;\n",
       "}\n",
       "\n",
       ".xr-index-preview {\n",
       "  grid-column: 2 / 5;\n",
       "  color: var(--xr-font-color2);\n",
       "}\n",
       "\n",
       ".xr-var-name,\n",
       ".xr-var-dims,\n",
       ".xr-var-dtype,\n",
       ".xr-preview,\n",
       ".xr-attrs dt {\n",
       "  white-space: nowrap;\n",
       "  overflow: hidden;\n",
       "  text-overflow: ellipsis;\n",
       "  padding-right: 10px;\n",
       "}\n",
       "\n",
       ".xr-var-name:hover,\n",
       ".xr-var-dims:hover,\n",
       ".xr-var-dtype:hover,\n",
       ".xr-attrs dt:hover {\n",
       "  overflow: visible;\n",
       "  width: auto;\n",
       "  z-index: 1;\n",
       "}\n",
       "\n",
       ".xr-var-attrs,\n",
       ".xr-var-data,\n",
       ".xr-index-data {\n",
       "  display: none;\n",
       "  background-color: var(--xr-background-color) !important;\n",
       "  padding-bottom: 5px !important;\n",
       "}\n",
       "\n",
       ".xr-var-attrs-in:checked ~ .xr-var-attrs,\n",
       ".xr-var-data-in:checked ~ .xr-var-data,\n",
       ".xr-index-data-in:checked ~ .xr-index-data {\n",
       "  display: block;\n",
       "}\n",
       "\n",
       ".xr-var-data > table {\n",
       "  float: right;\n",
       "}\n",
       "\n",
       ".xr-var-name span,\n",
       ".xr-var-data,\n",
       ".xr-index-name div,\n",
       ".xr-index-data,\n",
       ".xr-attrs {\n",
       "  padding-left: 25px !important;\n",
       "}\n",
       "\n",
       ".xr-attrs,\n",
       ".xr-var-attrs,\n",
       ".xr-var-data,\n",
       ".xr-index-data {\n",
       "  grid-column: 1 / -1;\n",
       "}\n",
       "\n",
       "dl.xr-attrs {\n",
       "  padding: 0;\n",
       "  margin: 0;\n",
       "  display: grid;\n",
       "  grid-template-columns: 125px auto;\n",
       "}\n",
       "\n",
       ".xr-attrs dt,\n",
       ".xr-attrs dd {\n",
       "  padding: 0;\n",
       "  margin: 0;\n",
       "  float: left;\n",
       "  padding-right: 10px;\n",
       "  width: auto;\n",
       "}\n",
       "\n",
       ".xr-attrs dt {\n",
       "  font-weight: normal;\n",
       "  grid-column: 1;\n",
       "}\n",
       "\n",
       ".xr-attrs dt:hover span {\n",
       "  display: inline-block;\n",
       "  background: var(--xr-background-color);\n",
       "  padding-right: 10px;\n",
       "}\n",
       "\n",
       ".xr-attrs dd {\n",
       "  grid-column: 2;\n",
       "  white-space: pre-wrap;\n",
       "  word-break: break-all;\n",
       "}\n",
       "\n",
       ".xr-icon-database,\n",
       ".xr-icon-file-text2,\n",
       ".xr-no-icon {\n",
       "  display: inline-block;\n",
       "  vertical-align: middle;\n",
       "  width: 1em;\n",
       "  height: 1.5em !important;\n",
       "  stroke-width: 0;\n",
       "  stroke: currentColor;\n",
       "  fill: currentColor;\n",
       "}\n",
       "</style><pre class='xr-text-repr-fallback'>&lt;xarray.Dataset&gt; Size: 204kB\n",
       "Dimensions:          (chain: 4, draw: 1000)\n",
       "Coordinates:\n",
       "  * chain            (chain) int64 32B 0 1 2 3\n",
       "  * draw             (draw) int64 8kB 0 1 2 3 4 5 6 ... 994 995 996 997 998 999\n",
       "Data variables:\n",
       "    acceptance_rate  (chain, draw) float64 32kB 0.9962 0.9859 ... 0.9957 0.9182\n",
       "    step_size        (chain, draw) float64 32kB 0.04877 0.04877 ... 0.04828\n",
       "    diverging        (chain, draw) bool 4kB False False False ... False False\n",
       "    energy           (chain, draw) float64 32kB -50.48 -45.92 ... -47.31 -27.36\n",
       "    n_steps          (chain, draw) int64 32kB 63 63 63 127 63 ... 63 127 63 127\n",
       "    tree_depth       (chain, draw) int64 32kB 6 6 6 7 6 6 6 7 ... 6 7 6 6 7 6 7\n",
       "    lp               (chain, draw) float64 32kB -62.43 -61.17 ... -56.61 -42.8\n",
       "Attributes:\n",
       "    created_at:     2025-04-17T09:47:11.121961+00:00\n",
       "    arviz_version:  0.21.0</pre><div class='xr-wrap' style='display:none'><div class='xr-header'><div class='xr-obj-type'>xarray.Dataset</div></div><ul class='xr-sections'><li class='xr-section-item'><input id='section-5740484a-bc02-4752-bf6c-887b5b851a80' class='xr-section-summary-in' type='checkbox' disabled ><label for='section-5740484a-bc02-4752-bf6c-887b5b851a80' class='xr-section-summary'  title='Expand/collapse section'>Dimensions:</label><div class='xr-section-inline-details'><ul class='xr-dim-list'><li><span class='xr-has-index'>chain</span>: 4</li><li><span class='xr-has-index'>draw</span>: 1000</li></ul></div><div class='xr-section-details'></div></li><li class='xr-section-item'><input id='section-153b0f81-9188-4341-899c-c011708c47d4' class='xr-section-summary-in' type='checkbox'  checked><label for='section-153b0f81-9188-4341-899c-c011708c47d4' class='xr-section-summary' >Coordinates: <span>(2)</span></label><div class='xr-section-inline-details'></div><div class='xr-section-details'><ul class='xr-var-list'><li class='xr-var-item'><div class='xr-var-name'><span class='xr-has-index'>chain</span></div><div class='xr-var-dims'>(chain)</div><div class='xr-var-dtype'>int64</div><div class='xr-var-preview xr-preview'>0 1 2 3</div><input id='attrs-9a5072d1-6070-41be-81f6-679d2510e47f' class='xr-var-attrs-in' type='checkbox' disabled><label for='attrs-9a5072d1-6070-41be-81f6-679d2510e47f' title='Show/Hide attributes'><svg class='icon xr-icon-file-text2'><use xlink:href='#icon-file-text2'></use></svg></label><input id='data-d7d29eef-1784-40f7-ad60-138a0c86fc1b' class='xr-var-data-in' type='checkbox'><label for='data-d7d29eef-1784-40f7-ad60-138a0c86fc1b' title='Show/Hide data repr'><svg class='icon xr-icon-database'><use xlink:href='#icon-database'></use></svg></label><div class='xr-var-attrs'><dl class='xr-attrs'></dl></div><div class='xr-var-data'><pre>array([0, 1, 2, 3])</pre></div></li><li class='xr-var-item'><div class='xr-var-name'><span class='xr-has-index'>draw</span></div><div class='xr-var-dims'>(draw)</div><div class='xr-var-dtype'>int64</div><div class='xr-var-preview xr-preview'>0 1 2 3 4 5 ... 995 996 997 998 999</div><input id='attrs-0705b7d1-fff9-4ea3-95b3-d28f088eba47' class='xr-var-attrs-in' type='checkbox' disabled><label for='attrs-0705b7d1-fff9-4ea3-95b3-d28f088eba47' title='Show/Hide attributes'><svg class='icon xr-icon-file-text2'><use xlink:href='#icon-file-text2'></use></svg></label><input id='data-fde4c92c-0fc4-4c2d-8eac-a843a6788162' class='xr-var-data-in' type='checkbox'><label for='data-fde4c92c-0fc4-4c2d-8eac-a843a6788162' title='Show/Hide data repr'><svg class='icon xr-icon-database'><use xlink:href='#icon-database'></use></svg></label><div class='xr-var-attrs'><dl class='xr-attrs'></dl></div><div class='xr-var-data'><pre>array([  0,   1,   2, ..., 997, 998, 999], shape=(1000,))</pre></div></li></ul></div></li><li class='xr-section-item'><input id='section-7bf6d124-98d8-4ccb-a5f3-4108f860aa76' class='xr-section-summary-in' type='checkbox'  checked><label for='section-7bf6d124-98d8-4ccb-a5f3-4108f860aa76' class='xr-section-summary' >Data variables: <span>(7)</span></label><div class='xr-section-inline-details'></div><div class='xr-section-details'><ul class='xr-var-list'><li class='xr-var-item'><div class='xr-var-name'><span>acceptance_rate</span></div><div class='xr-var-dims'>(chain, draw)</div><div class='xr-var-dtype'>float64</div><div class='xr-var-preview xr-preview'>0.9962 0.9859 ... 0.9957 0.9182</div><input id='attrs-41e0a9af-3819-4853-b8cc-fcc6c639793b' class='xr-var-attrs-in' type='checkbox' disabled><label for='attrs-41e0a9af-3819-4853-b8cc-fcc6c639793b' title='Show/Hide attributes'><svg class='icon xr-icon-file-text2'><use xlink:href='#icon-file-text2'></use></svg></label><input id='data-ab0a063f-5a24-4f90-9408-9cb4f4a45052' class='xr-var-data-in' type='checkbox'><label for='data-ab0a063f-5a24-4f90-9408-9cb4f4a45052' title='Show/Hide data repr'><svg class='icon xr-icon-database'><use xlink:href='#icon-database'></use></svg></label><div class='xr-var-attrs'><dl class='xr-attrs'></dl></div><div class='xr-var-data'><pre>array([[0.99620207, 0.98588314, 0.91649058, ..., 0.9830952 , 0.99662237,\n",
       "        0.88414071],\n",
       "       [0.95280106, 0.99872666, 0.90579678, ..., 0.97846521, 0.9997215 ,\n",
       "        0.99687075],\n",
       "       [0.95426577, 0.97654341, 0.95779487, ..., 0.99641575, 0.95062349,\n",
       "        0.98096559],\n",
       "       [0.9661002 , 0.75613284, 0.97365066, ..., 0.99807566, 0.99570339,\n",
       "        0.91816878]], shape=(4, 1000))</pre></div></li><li class='xr-var-item'><div class='xr-var-name'><span>step_size</span></div><div class='xr-var-dims'>(chain, draw)</div><div class='xr-var-dtype'>float64</div><div class='xr-var-preview xr-preview'>0.04877 0.04877 ... 0.04828 0.04828</div><input id='attrs-2c0cbb47-6c67-43ee-884a-21820977d9ea' class='xr-var-attrs-in' type='checkbox' disabled><label for='attrs-2c0cbb47-6c67-43ee-884a-21820977d9ea' title='Show/Hide attributes'><svg class='icon xr-icon-file-text2'><use xlink:href='#icon-file-text2'></use></svg></label><input id='data-6b95bcae-5d25-4aa9-8212-d77d5ef4109e' class='xr-var-data-in' type='checkbox'><label for='data-6b95bcae-5d25-4aa9-8212-d77d5ef4109e' title='Show/Hide data repr'><svg class='icon xr-icon-database'><use xlink:href='#icon-database'></use></svg></label><div class='xr-var-attrs'><dl class='xr-attrs'></dl></div><div class='xr-var-data'><pre>array([[0.04877316, 0.04877316, 0.04877316, ..., 0.04877316, 0.04877316,\n",
       "        0.04877316],\n",
       "       [0.05177022, 0.05177022, 0.05177022, ..., 0.05177022, 0.05177022,\n",
       "        0.05177022],\n",
       "       [0.05137454, 0.05137454, 0.05137454, ..., 0.05137454, 0.05137454,\n",
       "        0.05137454],\n",
       "       [0.04827931, 0.04827931, 0.04827931, ..., 0.04827931, 0.04827931,\n",
       "        0.04827931]], shape=(4, 1000))</pre></div></li><li class='xr-var-item'><div class='xr-var-name'><span>diverging</span></div><div class='xr-var-dims'>(chain, draw)</div><div class='xr-var-dtype'>bool</div><div class='xr-var-preview xr-preview'>False False False ... False False</div><input id='attrs-04aed904-f5c5-41e1-a9d6-aff3b8ea7b70' class='xr-var-attrs-in' type='checkbox' disabled><label for='attrs-04aed904-f5c5-41e1-a9d6-aff3b8ea7b70' title='Show/Hide attributes'><svg class='icon xr-icon-file-text2'><use xlink:href='#icon-file-text2'></use></svg></label><input id='data-1ec6aabd-4a59-4540-b8bb-10d8d4975c50' class='xr-var-data-in' type='checkbox'><label for='data-1ec6aabd-4a59-4540-b8bb-10d8d4975c50' title='Show/Hide data repr'><svg class='icon xr-icon-database'><use xlink:href='#icon-database'></use></svg></label><div class='xr-var-attrs'><dl class='xr-attrs'></dl></div><div class='xr-var-data'><pre>array([[False, False, False, ..., False, False, False],\n",
       "       [False, False, False, ..., False, False, False],\n",
       "       [False, False, False, ..., False, False, False],\n",
       "       [False, False, False, ..., False, False, False]], shape=(4, 1000))</pre></div></li><li class='xr-var-item'><div class='xr-var-name'><span>energy</span></div><div class='xr-var-dims'>(chain, draw)</div><div class='xr-var-dtype'>float64</div><div class='xr-var-preview xr-preview'>-50.48 -45.92 ... -47.31 -27.36</div><input id='attrs-f7d52e90-7d3e-4c22-b918-e7c08fa2aebf' class='xr-var-attrs-in' type='checkbox' disabled><label for='attrs-f7d52e90-7d3e-4c22-b918-e7c08fa2aebf' title='Show/Hide attributes'><svg class='icon xr-icon-file-text2'><use xlink:href='#icon-file-text2'></use></svg></label><input id='data-50586e25-5c84-43fa-8787-4bc46eaed073' class='xr-var-data-in' type='checkbox'><label for='data-50586e25-5c84-43fa-8787-4bc46eaed073' title='Show/Hide data repr'><svg class='icon xr-icon-database'><use xlink:href='#icon-database'></use></svg></label><div class='xr-var-attrs'><dl class='xr-attrs'></dl></div><div class='xr-var-data'><pre>array([[-50.48060278, -45.92383573, -48.26523258, ..., -42.84904536,\n",
       "        -50.68269201, -43.79814726],\n",
       "       [-44.76841964, -48.6698575 , -50.64900675, ..., -52.16814432,\n",
       "        -55.44018647, -51.54034221],\n",
       "       [-43.4191218 , -42.66283426, -52.99425564, ..., -46.84939767,\n",
       "        -49.24163393, -52.50004374],\n",
       "       [-53.16192263, -54.90355648, -46.09675235, ..., -45.43482787,\n",
       "        -47.30634101, -27.3557528 ]], shape=(4, 1000))</pre></div></li><li class='xr-var-item'><div class='xr-var-name'><span>n_steps</span></div><div class='xr-var-dims'>(chain, draw)</div><div class='xr-var-dtype'>int64</div><div class='xr-var-preview xr-preview'>63 63 63 127 63 ... 63 127 63 127</div><input id='attrs-5a6fbd0f-7ece-47ed-8121-630fec79ad0d' class='xr-var-attrs-in' type='checkbox' disabled><label for='attrs-5a6fbd0f-7ece-47ed-8121-630fec79ad0d' title='Show/Hide attributes'><svg class='icon xr-icon-file-text2'><use xlink:href='#icon-file-text2'></use></svg></label><input id='data-a7be46c4-e850-442b-9c1a-b316560ff294' class='xr-var-data-in' type='checkbox'><label for='data-a7be46c4-e850-442b-9c1a-b316560ff294' title='Show/Hide data repr'><svg class='icon xr-icon-database'><use xlink:href='#icon-database'></use></svg></label><div class='xr-var-attrs'><dl class='xr-attrs'></dl></div><div class='xr-var-data'><pre>array([[ 63,  63,  63, ...,  63,  63,  63],\n",
       "       [127,  63,  63, ...,  63,  63,  63],\n",
       "       [ 63,  63,  63, ...,  63,  63,  63],\n",
       "       [ 63,  63,  63, ..., 127,  63, 127]], shape=(4, 1000))</pre></div></li><li class='xr-var-item'><div class='xr-var-name'><span>tree_depth</span></div><div class='xr-var-dims'>(chain, draw)</div><div class='xr-var-dtype'>int64</div><div class='xr-var-preview xr-preview'>6 6 6 7 6 6 6 7 ... 6 6 7 6 6 7 6 7</div><input id='attrs-e35fb100-f6e1-45e3-8de1-a223a75f11bb' class='xr-var-attrs-in' type='checkbox' disabled><label for='attrs-e35fb100-f6e1-45e3-8de1-a223a75f11bb' title='Show/Hide attributes'><svg class='icon xr-icon-file-text2'><use xlink:href='#icon-file-text2'></use></svg></label><input id='data-09491661-1efc-4cdd-9b1a-22ee6e177f31' class='xr-var-data-in' type='checkbox'><label for='data-09491661-1efc-4cdd-9b1a-22ee6e177f31' title='Show/Hide data repr'><svg class='icon xr-icon-database'><use xlink:href='#icon-database'></use></svg></label><div class='xr-var-attrs'><dl class='xr-attrs'></dl></div><div class='xr-var-data'><pre>array([[6, 6, 6, ..., 6, 6, 6],\n",
       "       [7, 6, 6, ..., 6, 6, 6],\n",
       "       [6, 6, 6, ..., 6, 6, 6],\n",
       "       [6, 6, 6, ..., 7, 6, 7]], shape=(4, 1000))</pre></div></li><li class='xr-var-item'><div class='xr-var-name'><span>lp</span></div><div class='xr-var-dims'>(chain, draw)</div><div class='xr-var-dtype'>float64</div><div class='xr-var-preview xr-preview'>-62.43 -61.17 ... -56.61 -42.8</div><input id='attrs-b7097031-744c-427c-a549-72f63d1a07e1' class='xr-var-attrs-in' type='checkbox' disabled><label for='attrs-b7097031-744c-427c-a549-72f63d1a07e1' title='Show/Hide attributes'><svg class='icon xr-icon-file-text2'><use xlink:href='#icon-file-text2'></use></svg></label><input id='data-1184b2de-e16e-4013-9928-c7d901f9936d' class='xr-var-data-in' type='checkbox'><label for='data-1184b2de-e16e-4013-9928-c7d901f9936d' title='Show/Hide data repr'><svg class='icon xr-icon-database'><use xlink:href='#icon-database'></use></svg></label><div class='xr-var-attrs'><dl class='xr-attrs'></dl></div><div class='xr-var-data'><pre>array([[-62.43403579, -61.16635301, -62.00948706, ..., -61.46702386,\n",
       "        -61.30313725, -56.24541504],\n",
       "       [-58.44885422, -63.49534559, -63.65124161, ..., -66.15153313,\n",
       "        -62.36149033, -60.03756739],\n",
       "       [-56.53522155, -60.75490113, -66.62200521, ..., -60.78547461,\n",
       "        -63.5197728 , -65.05374599],\n",
       "       [-66.27790608, -63.14527765, -55.30538188, ..., -62.45256836,\n",
       "        -56.6052777 , -42.80186215]], shape=(4, 1000))</pre></div></li></ul></div></li><li class='xr-section-item'><input id='section-7c0eddf1-f8d5-48b8-bc7b-ee31ae187a16' class='xr-section-summary-in' type='checkbox'  ><label for='section-7c0eddf1-f8d5-48b8-bc7b-ee31ae187a16' class='xr-section-summary' >Indexes: <span>(2)</span></label><div class='xr-section-inline-details'></div><div class='xr-section-details'><ul class='xr-var-list'><li class='xr-var-item'><div class='xr-index-name'><div>chain</div></div><div class='xr-index-preview'>PandasIndex</div><input type='checkbox' disabled/><label></label><input id='index-e5c36f16-3b4e-436c-9693-f04400423bbb' class='xr-index-data-in' type='checkbox'/><label for='index-e5c36f16-3b4e-436c-9693-f04400423bbb' title='Show/Hide index repr'><svg class='icon xr-icon-database'><use xlink:href='#icon-database'></use></svg></label><div class='xr-index-data'><pre>PandasIndex(Index([0, 1, 2, 3], dtype=&#x27;int64&#x27;, name=&#x27;chain&#x27;))</pre></div></li><li class='xr-var-item'><div class='xr-index-name'><div>draw</div></div><div class='xr-index-preview'>PandasIndex</div><input type='checkbox' disabled/><label></label><input id='index-17da6f64-c37d-4ec9-beb3-c94e4877a644' class='xr-index-data-in' type='checkbox'/><label for='index-17da6f64-c37d-4ec9-beb3-c94e4877a644' title='Show/Hide index repr'><svg class='icon xr-icon-database'><use xlink:href='#icon-database'></use></svg></label><div class='xr-index-data'><pre>PandasIndex(Index([  0,   1,   2,   3,   4,   5,   6,   7,   8,   9,\n",
       "       ...\n",
       "       990, 991, 992, 993, 994, 995, 996, 997, 998, 999],\n",
       "      dtype=&#x27;int64&#x27;, name=&#x27;draw&#x27;, length=1000))</pre></div></li></ul></div></li><li class='xr-section-item'><input id='section-fb8ca1b3-a4c9-466a-94a6-db56c22fc2f5' class='xr-section-summary-in' type='checkbox'  checked><label for='section-fb8ca1b3-a4c9-466a-94a6-db56c22fc2f5' class='xr-section-summary' >Attributes: <span>(2)</span></label><div class='xr-section-inline-details'></div><div class='xr-section-details'><dl class='xr-attrs'><dt><span>created_at :</span></dt><dd>2025-04-17T09:47:11.121961+00:00</dd><dt><span>arviz_version :</span></dt><dd>0.21.0</dd></dl></div></li></ul></div></div><br></div>\n",
       "                      </ul>\n",
       "                  </div>\n",
       "            </li>\n",
       "            \n",
       "            <li class = \"xr-section-item\">\n",
       "                  <input id=\"idata_observed_data61b403d3-ec42-41b8-a7f9-c1a990cccf0e\" class=\"xr-section-summary-in\" type=\"checkbox\">\n",
       "                  <label for=\"idata_observed_data61b403d3-ec42-41b8-a7f9-c1a990cccf0e\" class = \"xr-section-summary\">observed_data</label>\n",
       "                  <div class=\"xr-section-inline-details\"></div>\n",
       "                  <div class=\"xr-section-details\">\n",
       "                      <ul id=\"xr-dataset-coord-list\" class=\"xr-var-list\">\n",
       "                          <div style=\"padding-left:2rem;\"><div><svg style=\"position: absolute; width: 0; height: 0; overflow: hidden\">\n",
       "<defs>\n",
       "<symbol id=\"icon-database\" viewBox=\"0 0 32 32\">\n",
       "<path d=\"M16 0c-8.837 0-16 2.239-16 5v4c0 2.761 7.163 5 16 5s16-2.239 16-5v-4c0-2.761-7.163-5-16-5z\"></path>\n",
       "<path d=\"M16 17c-8.837 0-16-2.239-16-5v6c0 2.761 7.163 5 16 5s16-2.239 16-5v-6c0 2.761-7.163 5-16 5z\"></path>\n",
       "<path d=\"M16 26c-8.837 0-16-2.239-16-5v6c0 2.761 7.163 5 16 5s16-2.239 16-5v-6c0 2.761-7.163 5-16 5z\"></path>\n",
       "</symbol>\n",
       "<symbol id=\"icon-file-text2\" viewBox=\"0 0 32 32\">\n",
       "<path d=\"M28.681 7.159c-0.694-0.947-1.662-2.053-2.724-3.116s-2.169-2.030-3.116-2.724c-1.612-1.182-2.393-1.319-2.841-1.319h-15.5c-1.378 0-2.5 1.121-2.5 2.5v27c0 1.378 1.122 2.5 2.5 2.5h23c1.378 0 2.5-1.122 2.5-2.5v-19.5c0-0.448-0.137-1.23-1.319-2.841zM24.543 5.457c0.959 0.959 1.712 1.825 2.268 2.543h-4.811v-4.811c0.718 0.556 1.584 1.309 2.543 2.268zM28 29.5c0 0.271-0.229 0.5-0.5 0.5h-23c-0.271 0-0.5-0.229-0.5-0.5v-27c0-0.271 0.229-0.5 0.5-0.5 0 0 15.499-0 15.5 0v7c0 0.552 0.448 1 1 1h7v19.5z\"></path>\n",
       "<path d=\"M23 26h-14c-0.552 0-1-0.448-1-1s0.448-1 1-1h14c0.552 0 1 0.448 1 1s-0.448 1-1 1z\"></path>\n",
       "<path d=\"M23 22h-14c-0.552 0-1-0.448-1-1s0.448-1 1-1h14c0.552 0 1 0.448 1 1s-0.448 1-1 1z\"></path>\n",
       "<path d=\"M23 18h-14c-0.552 0-1-0.448-1-1s0.448-1 1-1h14c0.552 0 1 0.448 1 1s-0.448 1-1 1z\"></path>\n",
       "</symbol>\n",
       "</defs>\n",
       "</svg>\n",
       "<style>/* CSS stylesheet for displaying xarray objects in jupyterlab.\n",
       " *\n",
       " */\n",
       "\n",
       ":root {\n",
       "  --xr-font-color0: var(--jp-content-font-color0, rgba(0, 0, 0, 1));\n",
       "  --xr-font-color2: var(--jp-content-font-color2, rgba(0, 0, 0, 0.54));\n",
       "  --xr-font-color3: var(--jp-content-font-color3, rgba(0, 0, 0, 0.38));\n",
       "  --xr-border-color: var(--jp-border-color2, #e0e0e0);\n",
       "  --xr-disabled-color: var(--jp-layout-color3, #bdbdbd);\n",
       "  --xr-background-color: var(--jp-layout-color0, white);\n",
       "  --xr-background-color-row-even: var(--jp-layout-color1, white);\n",
       "  --xr-background-color-row-odd: var(--jp-layout-color2, #eeeeee);\n",
       "}\n",
       "\n",
       "html[theme=\"dark\"],\n",
       "html[data-theme=\"dark\"],\n",
       "body[data-theme=\"dark\"],\n",
       "body.vscode-dark {\n",
       "  --xr-font-color0: rgba(255, 255, 255, 1);\n",
       "  --xr-font-color2: rgba(255, 255, 255, 0.54);\n",
       "  --xr-font-color3: rgba(255, 255, 255, 0.38);\n",
       "  --xr-border-color: #1f1f1f;\n",
       "  --xr-disabled-color: #515151;\n",
       "  --xr-background-color: #111111;\n",
       "  --xr-background-color-row-even: #111111;\n",
       "  --xr-background-color-row-odd: #313131;\n",
       "}\n",
       "\n",
       ".xr-wrap {\n",
       "  display: block !important;\n",
       "  min-width: 300px;\n",
       "  max-width: 700px;\n",
       "}\n",
       "\n",
       ".xr-text-repr-fallback {\n",
       "  /* fallback to plain text repr when CSS is not injected (untrusted notebook) */\n",
       "  display: none;\n",
       "}\n",
       "\n",
       ".xr-header {\n",
       "  padding-top: 6px;\n",
       "  padding-bottom: 6px;\n",
       "  margin-bottom: 4px;\n",
       "  border-bottom: solid 1px var(--xr-border-color);\n",
       "}\n",
       "\n",
       ".xr-header > div,\n",
       ".xr-header > ul {\n",
       "  display: inline;\n",
       "  margin-top: 0;\n",
       "  margin-bottom: 0;\n",
       "}\n",
       "\n",
       ".xr-obj-type,\n",
       ".xr-array-name {\n",
       "  margin-left: 2px;\n",
       "  margin-right: 10px;\n",
       "}\n",
       "\n",
       ".xr-obj-type {\n",
       "  color: var(--xr-font-color2);\n",
       "}\n",
       "\n",
       ".xr-sections {\n",
       "  padding-left: 0 !important;\n",
       "  display: grid;\n",
       "  grid-template-columns: 150px auto auto 1fr 0 20px 0 20px;\n",
       "}\n",
       "\n",
       ".xr-section-item {\n",
       "  display: contents;\n",
       "}\n",
       "\n",
       ".xr-section-item input {\n",
       "  display: inline-block;\n",
       "  opacity: 0;\n",
       "  height: 0;\n",
       "}\n",
       "\n",
       ".xr-section-item input + label {\n",
       "  color: var(--xr-disabled-color);\n",
       "}\n",
       "\n",
       ".xr-section-item input:enabled + label {\n",
       "  cursor: pointer;\n",
       "  color: var(--xr-font-color2);\n",
       "}\n",
       "\n",
       ".xr-section-item input:focus + label {\n",
       "  border: 2px solid var(--xr-font-color0);\n",
       "}\n",
       "\n",
       ".xr-section-item input:enabled + label:hover {\n",
       "  color: var(--xr-font-color0);\n",
       "}\n",
       "\n",
       ".xr-section-summary {\n",
       "  grid-column: 1;\n",
       "  color: var(--xr-font-color2);\n",
       "  font-weight: 500;\n",
       "}\n",
       "\n",
       ".xr-section-summary > span {\n",
       "  display: inline-block;\n",
       "  padding-left: 0.5em;\n",
       "}\n",
       "\n",
       ".xr-section-summary-in:disabled + label {\n",
       "  color: var(--xr-font-color2);\n",
       "}\n",
       "\n",
       ".xr-section-summary-in + label:before {\n",
       "  display: inline-block;\n",
       "  content: \"►\";\n",
       "  font-size: 11px;\n",
       "  width: 15px;\n",
       "  text-align: center;\n",
       "}\n",
       "\n",
       ".xr-section-summary-in:disabled + label:before {\n",
       "  color: var(--xr-disabled-color);\n",
       "}\n",
       "\n",
       ".xr-section-summary-in:checked + label:before {\n",
       "  content: \"▼\";\n",
       "}\n",
       "\n",
       ".xr-section-summary-in:checked + label > span {\n",
       "  display: none;\n",
       "}\n",
       "\n",
       ".xr-section-summary,\n",
       ".xr-section-inline-details {\n",
       "  padding-top: 4px;\n",
       "  padding-bottom: 4px;\n",
       "}\n",
       "\n",
       ".xr-section-inline-details {\n",
       "  grid-column: 2 / -1;\n",
       "}\n",
       "\n",
       ".xr-section-details {\n",
       "  display: none;\n",
       "  grid-column: 1 / -1;\n",
       "  margin-bottom: 5px;\n",
       "}\n",
       "\n",
       ".xr-section-summary-in:checked ~ .xr-section-details {\n",
       "  display: contents;\n",
       "}\n",
       "\n",
       ".xr-array-wrap {\n",
       "  grid-column: 1 / -1;\n",
       "  display: grid;\n",
       "  grid-template-columns: 20px auto;\n",
       "}\n",
       "\n",
       ".xr-array-wrap > label {\n",
       "  grid-column: 1;\n",
       "  vertical-align: top;\n",
       "}\n",
       "\n",
       ".xr-preview {\n",
       "  color: var(--xr-font-color3);\n",
       "}\n",
       "\n",
       ".xr-array-preview,\n",
       ".xr-array-data {\n",
       "  padding: 0 5px !important;\n",
       "  grid-column: 2;\n",
       "}\n",
       "\n",
       ".xr-array-data,\n",
       ".xr-array-in:checked ~ .xr-array-preview {\n",
       "  display: none;\n",
       "}\n",
       "\n",
       ".xr-array-in:checked ~ .xr-array-data,\n",
       ".xr-array-preview {\n",
       "  display: inline-block;\n",
       "}\n",
       "\n",
       ".xr-dim-list {\n",
       "  display: inline-block !important;\n",
       "  list-style: none;\n",
       "  padding: 0 !important;\n",
       "  margin: 0;\n",
       "}\n",
       "\n",
       ".xr-dim-list li {\n",
       "  display: inline-block;\n",
       "  padding: 0;\n",
       "  margin: 0;\n",
       "}\n",
       "\n",
       ".xr-dim-list:before {\n",
       "  content: \"(\";\n",
       "}\n",
       "\n",
       ".xr-dim-list:after {\n",
       "  content: \")\";\n",
       "}\n",
       "\n",
       ".xr-dim-list li:not(:last-child):after {\n",
       "  content: \",\";\n",
       "  padding-right: 5px;\n",
       "}\n",
       "\n",
       ".xr-has-index {\n",
       "  font-weight: bold;\n",
       "}\n",
       "\n",
       ".xr-var-list,\n",
       ".xr-var-item {\n",
       "  display: contents;\n",
       "}\n",
       "\n",
       ".xr-var-item > div,\n",
       ".xr-var-item label,\n",
       ".xr-var-item > .xr-var-name span {\n",
       "  background-color: var(--xr-background-color-row-even);\n",
       "  margin-bottom: 0;\n",
       "}\n",
       "\n",
       ".xr-var-item > .xr-var-name:hover span {\n",
       "  padding-right: 5px;\n",
       "}\n",
       "\n",
       ".xr-var-list > li:nth-child(odd) > div,\n",
       ".xr-var-list > li:nth-child(odd) > label,\n",
       ".xr-var-list > li:nth-child(odd) > .xr-var-name span {\n",
       "  background-color: var(--xr-background-color-row-odd);\n",
       "}\n",
       "\n",
       ".xr-var-name {\n",
       "  grid-column: 1;\n",
       "}\n",
       "\n",
       ".xr-var-dims {\n",
       "  grid-column: 2;\n",
       "}\n",
       "\n",
       ".xr-var-dtype {\n",
       "  grid-column: 3;\n",
       "  text-align: right;\n",
       "  color: var(--xr-font-color2);\n",
       "}\n",
       "\n",
       ".xr-var-preview {\n",
       "  grid-column: 4;\n",
       "}\n",
       "\n",
       ".xr-index-preview {\n",
       "  grid-column: 2 / 5;\n",
       "  color: var(--xr-font-color2);\n",
       "}\n",
       "\n",
       ".xr-var-name,\n",
       ".xr-var-dims,\n",
       ".xr-var-dtype,\n",
       ".xr-preview,\n",
       ".xr-attrs dt {\n",
       "  white-space: nowrap;\n",
       "  overflow: hidden;\n",
       "  text-overflow: ellipsis;\n",
       "  padding-right: 10px;\n",
       "}\n",
       "\n",
       ".xr-var-name:hover,\n",
       ".xr-var-dims:hover,\n",
       ".xr-var-dtype:hover,\n",
       ".xr-attrs dt:hover {\n",
       "  overflow: visible;\n",
       "  width: auto;\n",
       "  z-index: 1;\n",
       "}\n",
       "\n",
       ".xr-var-attrs,\n",
       ".xr-var-data,\n",
       ".xr-index-data {\n",
       "  display: none;\n",
       "  background-color: var(--xr-background-color) !important;\n",
       "  padding-bottom: 5px !important;\n",
       "}\n",
       "\n",
       ".xr-var-attrs-in:checked ~ .xr-var-attrs,\n",
       ".xr-var-data-in:checked ~ .xr-var-data,\n",
       ".xr-index-data-in:checked ~ .xr-index-data {\n",
       "  display: block;\n",
       "}\n",
       "\n",
       ".xr-var-data > table {\n",
       "  float: right;\n",
       "}\n",
       "\n",
       ".xr-var-name span,\n",
       ".xr-var-data,\n",
       ".xr-index-name div,\n",
       ".xr-index-data,\n",
       ".xr-attrs {\n",
       "  padding-left: 25px !important;\n",
       "}\n",
       "\n",
       ".xr-attrs,\n",
       ".xr-var-attrs,\n",
       ".xr-var-data,\n",
       ".xr-index-data {\n",
       "  grid-column: 1 / -1;\n",
       "}\n",
       "\n",
       "dl.xr-attrs {\n",
       "  padding: 0;\n",
       "  margin: 0;\n",
       "  display: grid;\n",
       "  grid-template-columns: 125px auto;\n",
       "}\n",
       "\n",
       ".xr-attrs dt,\n",
       ".xr-attrs dd {\n",
       "  padding: 0;\n",
       "  margin: 0;\n",
       "  float: left;\n",
       "  padding-right: 10px;\n",
       "  width: auto;\n",
       "}\n",
       "\n",
       ".xr-attrs dt {\n",
       "  font-weight: normal;\n",
       "  grid-column: 1;\n",
       "}\n",
       "\n",
       ".xr-attrs dt:hover span {\n",
       "  display: inline-block;\n",
       "  background: var(--xr-background-color);\n",
       "  padding-right: 10px;\n",
       "}\n",
       "\n",
       ".xr-attrs dd {\n",
       "  grid-column: 2;\n",
       "  white-space: pre-wrap;\n",
       "  word-break: break-all;\n",
       "}\n",
       "\n",
       ".xr-icon-database,\n",
       ".xr-icon-file-text2,\n",
       ".xr-no-icon {\n",
       "  display: inline-block;\n",
       "  vertical-align: middle;\n",
       "  width: 1em;\n",
       "  height: 1.5em !important;\n",
       "  stroke-width: 0;\n",
       "  stroke: currentColor;\n",
       "  fill: currentColor;\n",
       "}\n",
       "</style><pre class='xr-text-repr-fallback'>&lt;xarray.Dataset&gt; Size: 2kB\n",
       "Dimensions:  (date: 104)\n",
       "Coordinates:\n",
       "  * date     (date) datetime64[ns] 832B 2020-08-30 2020-09-06 ... 2022-08-21\n",
       "Data variables:\n",
       "    y        (date) float64 832B 0.3776 0.4458 0.3864 ... 0.2533 0.2164 0.2018\n",
       "Attributes:\n",
       "    created_at:                 2025-04-17T09:47:11.124353+00:00\n",
       "    arviz_version:              0.21.0\n",
       "    inference_library:          numpyro\n",
       "    inference_library_version:  0.18.0\n",
       "    sampling_time:              6.849079\n",
       "    tuning_steps:               1000</pre><div class='xr-wrap' style='display:none'><div class='xr-header'><div class='xr-obj-type'>xarray.Dataset</div></div><ul class='xr-sections'><li class='xr-section-item'><input id='section-60831f5c-9f0c-40cc-a851-6ce3cd55e778' class='xr-section-summary-in' type='checkbox' disabled ><label for='section-60831f5c-9f0c-40cc-a851-6ce3cd55e778' class='xr-section-summary'  title='Expand/collapse section'>Dimensions:</label><div class='xr-section-inline-details'><ul class='xr-dim-list'><li><span class='xr-has-index'>date</span>: 104</li></ul></div><div class='xr-section-details'></div></li><li class='xr-section-item'><input id='section-235f54dd-aa2d-4cb2-8809-04b1b3b9e35c' class='xr-section-summary-in' type='checkbox'  checked><label for='section-235f54dd-aa2d-4cb2-8809-04b1b3b9e35c' class='xr-section-summary' >Coordinates: <span>(1)</span></label><div class='xr-section-inline-details'></div><div class='xr-section-details'><ul class='xr-var-list'><li class='xr-var-item'><div class='xr-var-name'><span class='xr-has-index'>date</span></div><div class='xr-var-dims'>(date)</div><div class='xr-var-dtype'>datetime64[ns]</div><div class='xr-var-preview xr-preview'>2020-08-30 ... 2022-08-21</div><input id='attrs-af73aa28-b345-43d5-a814-c86fd496dbe7' class='xr-var-attrs-in' type='checkbox' disabled><label for='attrs-af73aa28-b345-43d5-a814-c86fd496dbe7' title='Show/Hide attributes'><svg class='icon xr-icon-file-text2'><use xlink:href='#icon-file-text2'></use></svg></label><input id='data-b65be92d-7ebd-438c-9244-86ac83797f19' class='xr-var-data-in' type='checkbox'><label for='data-b65be92d-7ebd-438c-9244-86ac83797f19' title='Show/Hide data repr'><svg class='icon xr-icon-database'><use xlink:href='#icon-database'></use></svg></label><div class='xr-var-attrs'><dl class='xr-attrs'></dl></div><div class='xr-var-data'><pre>array([&#x27;2020-08-30T00:00:00.000000000&#x27;, &#x27;2020-09-06T00:00:00.000000000&#x27;,\n",
       "       &#x27;2020-09-13T00:00:00.000000000&#x27;, &#x27;2020-09-20T00:00:00.000000000&#x27;,\n",
       "       &#x27;2020-09-27T00:00:00.000000000&#x27;, &#x27;2020-10-04T00:00:00.000000000&#x27;,\n",
       "       &#x27;2020-10-11T00:00:00.000000000&#x27;, &#x27;2020-10-18T00:00:00.000000000&#x27;,\n",
       "       &#x27;2020-10-25T00:00:00.000000000&#x27;, &#x27;2020-11-01T00:00:00.000000000&#x27;,\n",
       "       &#x27;2020-11-08T00:00:00.000000000&#x27;, &#x27;2020-11-15T00:00:00.000000000&#x27;,\n",
       "       &#x27;2020-11-22T00:00:00.000000000&#x27;, &#x27;2020-11-29T00:00:00.000000000&#x27;,\n",
       "       &#x27;2020-12-06T00:00:00.000000000&#x27;, &#x27;2020-12-13T00:00:00.000000000&#x27;,\n",
       "       &#x27;2020-12-20T00:00:00.000000000&#x27;, &#x27;2020-12-27T00:00:00.000000000&#x27;,\n",
       "       &#x27;2021-01-03T00:00:00.000000000&#x27;, &#x27;2021-01-10T00:00:00.000000000&#x27;,\n",
       "       &#x27;2021-01-17T00:00:00.000000000&#x27;, &#x27;2021-01-24T00:00:00.000000000&#x27;,\n",
       "       &#x27;2021-01-31T00:00:00.000000000&#x27;, &#x27;2021-02-07T00:00:00.000000000&#x27;,\n",
       "       &#x27;2021-02-14T00:00:00.000000000&#x27;, &#x27;2021-02-21T00:00:00.000000000&#x27;,\n",
       "       &#x27;2021-02-28T00:00:00.000000000&#x27;, &#x27;2021-03-07T00:00:00.000000000&#x27;,\n",
       "       &#x27;2021-03-14T00:00:00.000000000&#x27;, &#x27;2021-03-21T00:00:00.000000000&#x27;,\n",
       "       &#x27;2021-03-28T00:00:00.000000000&#x27;, &#x27;2021-04-04T00:00:00.000000000&#x27;,\n",
       "       &#x27;2021-04-11T00:00:00.000000000&#x27;, &#x27;2021-04-18T00:00:00.000000000&#x27;,\n",
       "       &#x27;2021-04-25T00:00:00.000000000&#x27;, &#x27;2021-05-02T00:00:00.000000000&#x27;,\n",
       "       &#x27;2021-05-09T00:00:00.000000000&#x27;, &#x27;2021-05-16T00:00:00.000000000&#x27;,\n",
       "       &#x27;2021-05-23T00:00:00.000000000&#x27;, &#x27;2021-05-30T00:00:00.000000000&#x27;,\n",
       "       &#x27;2021-06-06T00:00:00.000000000&#x27;, &#x27;2021-06-13T00:00:00.000000000&#x27;,\n",
       "       &#x27;2021-06-20T00:00:00.000000000&#x27;, &#x27;2021-06-27T00:00:00.000000000&#x27;,\n",
       "       &#x27;2021-07-04T00:00:00.000000000&#x27;, &#x27;2021-07-11T00:00:00.000000000&#x27;,\n",
       "       &#x27;2021-07-18T00:00:00.000000000&#x27;, &#x27;2021-07-25T00:00:00.000000000&#x27;,\n",
       "       &#x27;2021-08-01T00:00:00.000000000&#x27;, &#x27;2021-08-08T00:00:00.000000000&#x27;,\n",
       "       &#x27;2021-08-15T00:00:00.000000000&#x27;, &#x27;2021-08-22T00:00:00.000000000&#x27;,\n",
       "       &#x27;2021-08-29T00:00:00.000000000&#x27;, &#x27;2021-09-05T00:00:00.000000000&#x27;,\n",
       "       &#x27;2021-09-12T00:00:00.000000000&#x27;, &#x27;2021-09-19T00:00:00.000000000&#x27;,\n",
       "       &#x27;2021-09-26T00:00:00.000000000&#x27;, &#x27;2021-10-03T00:00:00.000000000&#x27;,\n",
       "       &#x27;2021-10-10T00:00:00.000000000&#x27;, &#x27;2021-10-17T00:00:00.000000000&#x27;,\n",
       "       &#x27;2021-10-24T00:00:00.000000000&#x27;, &#x27;2021-10-31T00:00:00.000000000&#x27;,\n",
       "       &#x27;2021-11-07T00:00:00.000000000&#x27;, &#x27;2021-11-14T00:00:00.000000000&#x27;,\n",
       "       &#x27;2021-11-21T00:00:00.000000000&#x27;, &#x27;2021-11-28T00:00:00.000000000&#x27;,\n",
       "       &#x27;2021-12-05T00:00:00.000000000&#x27;, &#x27;2021-12-12T00:00:00.000000000&#x27;,\n",
       "       &#x27;2021-12-19T00:00:00.000000000&#x27;, &#x27;2021-12-26T00:00:00.000000000&#x27;,\n",
       "       &#x27;2022-01-02T00:00:00.000000000&#x27;, &#x27;2022-01-09T00:00:00.000000000&#x27;,\n",
       "       &#x27;2022-01-16T00:00:00.000000000&#x27;, &#x27;2022-01-23T00:00:00.000000000&#x27;,\n",
       "       &#x27;2022-01-30T00:00:00.000000000&#x27;, &#x27;2022-02-06T00:00:00.000000000&#x27;,\n",
       "       &#x27;2022-02-13T00:00:00.000000000&#x27;, &#x27;2022-02-20T00:00:00.000000000&#x27;,\n",
       "       &#x27;2022-02-27T00:00:00.000000000&#x27;, &#x27;2022-03-06T00:00:00.000000000&#x27;,\n",
       "       &#x27;2022-03-13T00:00:00.000000000&#x27;, &#x27;2022-03-20T00:00:00.000000000&#x27;,\n",
       "       &#x27;2022-03-27T00:00:00.000000000&#x27;, &#x27;2022-04-03T00:00:00.000000000&#x27;,\n",
       "       &#x27;2022-04-10T00:00:00.000000000&#x27;, &#x27;2022-04-17T00:00:00.000000000&#x27;,\n",
       "       &#x27;2022-04-24T00:00:00.000000000&#x27;, &#x27;2022-05-01T00:00:00.000000000&#x27;,\n",
       "       &#x27;2022-05-08T00:00:00.000000000&#x27;, &#x27;2022-05-15T00:00:00.000000000&#x27;,\n",
       "       &#x27;2022-05-22T00:00:00.000000000&#x27;, &#x27;2022-05-29T00:00:00.000000000&#x27;,\n",
       "       &#x27;2022-06-05T00:00:00.000000000&#x27;, &#x27;2022-06-12T00:00:00.000000000&#x27;,\n",
       "       &#x27;2022-06-19T00:00:00.000000000&#x27;, &#x27;2022-06-26T00:00:00.000000000&#x27;,\n",
       "       &#x27;2022-07-03T00:00:00.000000000&#x27;, &#x27;2022-07-10T00:00:00.000000000&#x27;,\n",
       "       &#x27;2022-07-17T00:00:00.000000000&#x27;, &#x27;2022-07-24T00:00:00.000000000&#x27;,\n",
       "       &#x27;2022-07-31T00:00:00.000000000&#x27;, &#x27;2022-08-07T00:00:00.000000000&#x27;,\n",
       "       &#x27;2022-08-14T00:00:00.000000000&#x27;, &#x27;2022-08-21T00:00:00.000000000&#x27;],\n",
       "      dtype=&#x27;datetime64[ns]&#x27;)</pre></div></li></ul></div></li><li class='xr-section-item'><input id='section-6e52dc82-f6fa-44a9-a6da-7ad03137ad4d' class='xr-section-summary-in' type='checkbox'  checked><label for='section-6e52dc82-f6fa-44a9-a6da-7ad03137ad4d' class='xr-section-summary' >Data variables: <span>(1)</span></label><div class='xr-section-inline-details'></div><div class='xr-section-details'><ul class='xr-var-list'><li class='xr-var-item'><div class='xr-var-name'><span>y</span></div><div class='xr-var-dims'>(date)</div><div class='xr-var-dtype'>float64</div><div class='xr-var-preview xr-preview'>0.3776 0.4458 ... 0.2164 0.2018</div><input id='attrs-318a7ec3-2bf0-42e1-a0b5-559ce6dc1732' class='xr-var-attrs-in' type='checkbox' disabled><label for='attrs-318a7ec3-2bf0-42e1-a0b5-559ce6dc1732' title='Show/Hide attributes'><svg class='icon xr-icon-file-text2'><use xlink:href='#icon-file-text2'></use></svg></label><input id='data-8d4f0c6d-cd26-4b02-90cd-26f1a30323c4' class='xr-var-data-in' type='checkbox'><label for='data-8d4f0c6d-cd26-4b02-90cd-26f1a30323c4' title='Show/Hide data repr'><svg class='icon xr-icon-database'><use xlink:href='#icon-database'></use></svg></label><div class='xr-var-attrs'><dl class='xr-attrs'></dl></div><div class='xr-var-data'><pre>array([0.37759898, 0.44579568, 0.38644824, 0.43064322, 0.52080601,\n",
       "       0.46768869, 0.35140219, 0.39131033, 0.46162467, 0.50962246,\n",
       "       0.48380586, 0.51752362, 0.37696299, 1.        , 0.3597037 ,\n",
       "       0.19107645, 0.19613319, 0.19188291, 0.27549398, 0.23247256,\n",
       "       0.22973252, 0.67914751, 0.54280658, 0.4429726 , 0.326734  ,\n",
       "       0.30232914, 0.31744762, 0.31990774, 0.26766685, 0.26189335,\n",
       "       0.31362164, 0.28888095, 0.53712849, 0.37777096, 0.35615017,\n",
       "       0.35393102, 0.34933909, 0.31459399, 0.28661173, 0.29568433,\n",
       "       0.30047409, 0.41074994, 0.36996262, 0.2908451 , 0.34264227,\n",
       "       0.24431719, 0.17420443, 0.15114574, 0.23846709, 0.21315991,\n",
       "       0.21655834, 0.24976614, 0.22831585, 0.25838599, 0.23189158,\n",
       "       0.22483671, 0.36732818, 0.38580747, 0.29725829, 0.28637989,\n",
       "       0.25049986, 0.31361851, 0.27622722, 0.32082979, 0.29494196,\n",
       "       0.66236347, 0.39452076, 0.29978736, 0.28300255, 0.20520147,\n",
       "       0.33626621, 0.42320099, 0.37170881, 0.32294105, 0.33920399,\n",
       "       0.34085711, 0.25583645, 0.26085211, 0.21198316, 0.33691882,\n",
       "       0.40856962, 0.32926634, 0.33228476, 0.44812232, 0.39271006,\n",
       "       0.3962009 , 0.32762528, 0.35102042, 0.246645  , 0.25644635,\n",
       "       0.22368407, 0.2385609 , 0.23958786, 0.29610269, 0.26144037,\n",
       "       0.23179987, 0.23871478, 0.17270414, 0.17619476, 0.17222345,\n",
       "       0.21709509, 0.25330667, 0.21642577, 0.20181073])</pre></div></li></ul></div></li><li class='xr-section-item'><input id='section-8d5a8742-f15d-4707-a470-a18738baa392' class='xr-section-summary-in' type='checkbox'  ><label for='section-8d5a8742-f15d-4707-a470-a18738baa392' class='xr-section-summary' >Indexes: <span>(1)</span></label><div class='xr-section-inline-details'></div><div class='xr-section-details'><ul class='xr-var-list'><li class='xr-var-item'><div class='xr-index-name'><div>date</div></div><div class='xr-index-preview'>PandasIndex</div><input type='checkbox' disabled/><label></label><input id='index-be633387-ffb0-40d8-bfce-e88ec45eaef7' class='xr-index-data-in' type='checkbox'/><label for='index-be633387-ffb0-40d8-bfce-e88ec45eaef7' title='Show/Hide index repr'><svg class='icon xr-icon-database'><use xlink:href='#icon-database'></use></svg></label><div class='xr-index-data'><pre>PandasIndex(DatetimeIndex([&#x27;2020-08-30&#x27;, &#x27;2020-09-06&#x27;, &#x27;2020-09-13&#x27;, &#x27;2020-09-20&#x27;,\n",
       "               &#x27;2020-09-27&#x27;, &#x27;2020-10-04&#x27;, &#x27;2020-10-11&#x27;, &#x27;2020-10-18&#x27;,\n",
       "               &#x27;2020-10-25&#x27;, &#x27;2020-11-01&#x27;,\n",
       "               ...\n",
       "               &#x27;2022-06-19&#x27;, &#x27;2022-06-26&#x27;, &#x27;2022-07-03&#x27;, &#x27;2022-07-10&#x27;,\n",
       "               &#x27;2022-07-17&#x27;, &#x27;2022-07-24&#x27;, &#x27;2022-07-31&#x27;, &#x27;2022-08-07&#x27;,\n",
       "               &#x27;2022-08-14&#x27;, &#x27;2022-08-21&#x27;],\n",
       "              dtype=&#x27;datetime64[ns]&#x27;, name=&#x27;date&#x27;, length=104, freq=None))</pre></div></li></ul></div></li><li class='xr-section-item'><input id='section-1eea8ad5-83a2-4662-8fb8-cb160ee68f27' class='xr-section-summary-in' type='checkbox'  checked><label for='section-1eea8ad5-83a2-4662-8fb8-cb160ee68f27' class='xr-section-summary' >Attributes: <span>(6)</span></label><div class='xr-section-inline-details'></div><div class='xr-section-details'><dl class='xr-attrs'><dt><span>created_at :</span></dt><dd>2025-04-17T09:47:11.124353+00:00</dd><dt><span>arviz_version :</span></dt><dd>0.21.0</dd><dt><span>inference_library :</span></dt><dd>numpyro</dd><dt><span>inference_library_version :</span></dt><dd>0.18.0</dd><dt><span>sampling_time :</span></dt><dd>6.849079</dd><dt><span>tuning_steps :</span></dt><dd>1000</dd></dl></div></li></ul></div></div><br></div>\n",
       "                      </ul>\n",
       "                  </div>\n",
       "            </li>\n",
       "            \n",
       "            <li class = \"xr-section-item\">\n",
       "                  <input id=\"idata_constant_datad52cf761-de6a-46ea-9e6b-890cb57329aa\" class=\"xr-section-summary-in\" type=\"checkbox\">\n",
       "                  <label for=\"idata_constant_datad52cf761-de6a-46ea-9e6b-890cb57329aa\" class = \"xr-section-summary\">constant_data</label>\n",
       "                  <div class=\"xr-section-inline-details\"></div>\n",
       "                  <div class=\"xr-section-details\">\n",
       "                      <ul id=\"xr-dataset-coord-list\" class=\"xr-var-list\">\n",
       "                          <div style=\"padding-left:2rem;\"><div><svg style=\"position: absolute; width: 0; height: 0; overflow: hidden\">\n",
       "<defs>\n",
       "<symbol id=\"icon-database\" viewBox=\"0 0 32 32\">\n",
       "<path d=\"M16 0c-8.837 0-16 2.239-16 5v4c0 2.761 7.163 5 16 5s16-2.239 16-5v-4c0-2.761-7.163-5-16-5z\"></path>\n",
       "<path d=\"M16 17c-8.837 0-16-2.239-16-5v6c0 2.761 7.163 5 16 5s16-2.239 16-5v-6c0 2.761-7.163 5-16 5z\"></path>\n",
       "<path d=\"M16 26c-8.837 0-16-2.239-16-5v6c0 2.761 7.163 5 16 5s16-2.239 16-5v-6c0 2.761-7.163 5-16 5z\"></path>\n",
       "</symbol>\n",
       "<symbol id=\"icon-file-text2\" viewBox=\"0 0 32 32\">\n",
       "<path d=\"M28.681 7.159c-0.694-0.947-1.662-2.053-2.724-3.116s-2.169-2.030-3.116-2.724c-1.612-1.182-2.393-1.319-2.841-1.319h-15.5c-1.378 0-2.5 1.121-2.5 2.5v27c0 1.378 1.122 2.5 2.5 2.5h23c1.378 0 2.5-1.122 2.5-2.5v-19.5c0-0.448-0.137-1.23-1.319-2.841zM24.543 5.457c0.959 0.959 1.712 1.825 2.268 2.543h-4.811v-4.811c0.718 0.556 1.584 1.309 2.543 2.268zM28 29.5c0 0.271-0.229 0.5-0.5 0.5h-23c-0.271 0-0.5-0.229-0.5-0.5v-27c0-0.271 0.229-0.5 0.5-0.5 0 0 15.499-0 15.5 0v7c0 0.552 0.448 1 1 1h7v19.5z\"></path>\n",
       "<path d=\"M23 26h-14c-0.552 0-1-0.448-1-1s0.448-1 1-1h14c0.552 0 1 0.448 1 1s-0.448 1-1 1z\"></path>\n",
       "<path d=\"M23 22h-14c-0.552 0-1-0.448-1-1s0.448-1 1-1h14c0.552 0 1 0.448 1 1s-0.448 1-1 1z\"></path>\n",
       "<path d=\"M23 18h-14c-0.552 0-1-0.448-1-1s0.448-1 1-1h14c0.552 0 1 0.448 1 1s-0.448 1-1 1z\"></path>\n",
       "</symbol>\n",
       "</defs>\n",
       "</svg>\n",
       "<style>/* CSS stylesheet for displaying xarray objects in jupyterlab.\n",
       " *\n",
       " */\n",
       "\n",
       ":root {\n",
       "  --xr-font-color0: var(--jp-content-font-color0, rgba(0, 0, 0, 1));\n",
       "  --xr-font-color2: var(--jp-content-font-color2, rgba(0, 0, 0, 0.54));\n",
       "  --xr-font-color3: var(--jp-content-font-color3, rgba(0, 0, 0, 0.38));\n",
       "  --xr-border-color: var(--jp-border-color2, #e0e0e0);\n",
       "  --xr-disabled-color: var(--jp-layout-color3, #bdbdbd);\n",
       "  --xr-background-color: var(--jp-layout-color0, white);\n",
       "  --xr-background-color-row-even: var(--jp-layout-color1, white);\n",
       "  --xr-background-color-row-odd: var(--jp-layout-color2, #eeeeee);\n",
       "}\n",
       "\n",
       "html[theme=\"dark\"],\n",
       "html[data-theme=\"dark\"],\n",
       "body[data-theme=\"dark\"],\n",
       "body.vscode-dark {\n",
       "  --xr-font-color0: rgba(255, 255, 255, 1);\n",
       "  --xr-font-color2: rgba(255, 255, 255, 0.54);\n",
       "  --xr-font-color3: rgba(255, 255, 255, 0.38);\n",
       "  --xr-border-color: #1f1f1f;\n",
       "  --xr-disabled-color: #515151;\n",
       "  --xr-background-color: #111111;\n",
       "  --xr-background-color-row-even: #111111;\n",
       "  --xr-background-color-row-odd: #313131;\n",
       "}\n",
       "\n",
       ".xr-wrap {\n",
       "  display: block !important;\n",
       "  min-width: 300px;\n",
       "  max-width: 700px;\n",
       "}\n",
       "\n",
       ".xr-text-repr-fallback {\n",
       "  /* fallback to plain text repr when CSS is not injected (untrusted notebook) */\n",
       "  display: none;\n",
       "}\n",
       "\n",
       ".xr-header {\n",
       "  padding-top: 6px;\n",
       "  padding-bottom: 6px;\n",
       "  margin-bottom: 4px;\n",
       "  border-bottom: solid 1px var(--xr-border-color);\n",
       "}\n",
       "\n",
       ".xr-header > div,\n",
       ".xr-header > ul {\n",
       "  display: inline;\n",
       "  margin-top: 0;\n",
       "  margin-bottom: 0;\n",
       "}\n",
       "\n",
       ".xr-obj-type,\n",
       ".xr-array-name {\n",
       "  margin-left: 2px;\n",
       "  margin-right: 10px;\n",
       "}\n",
       "\n",
       ".xr-obj-type {\n",
       "  color: var(--xr-font-color2);\n",
       "}\n",
       "\n",
       ".xr-sections {\n",
       "  padding-left: 0 !important;\n",
       "  display: grid;\n",
       "  grid-template-columns: 150px auto auto 1fr 0 20px 0 20px;\n",
       "}\n",
       "\n",
       ".xr-section-item {\n",
       "  display: contents;\n",
       "}\n",
       "\n",
       ".xr-section-item input {\n",
       "  display: inline-block;\n",
       "  opacity: 0;\n",
       "  height: 0;\n",
       "}\n",
       "\n",
       ".xr-section-item input + label {\n",
       "  color: var(--xr-disabled-color);\n",
       "}\n",
       "\n",
       ".xr-section-item input:enabled + label {\n",
       "  cursor: pointer;\n",
       "  color: var(--xr-font-color2);\n",
       "}\n",
       "\n",
       ".xr-section-item input:focus + label {\n",
       "  border: 2px solid var(--xr-font-color0);\n",
       "}\n",
       "\n",
       ".xr-section-item input:enabled + label:hover {\n",
       "  color: var(--xr-font-color0);\n",
       "}\n",
       "\n",
       ".xr-section-summary {\n",
       "  grid-column: 1;\n",
       "  color: var(--xr-font-color2);\n",
       "  font-weight: 500;\n",
       "}\n",
       "\n",
       ".xr-section-summary > span {\n",
       "  display: inline-block;\n",
       "  padding-left: 0.5em;\n",
       "}\n",
       "\n",
       ".xr-section-summary-in:disabled + label {\n",
       "  color: var(--xr-font-color2);\n",
       "}\n",
       "\n",
       ".xr-section-summary-in + label:before {\n",
       "  display: inline-block;\n",
       "  content: \"►\";\n",
       "  font-size: 11px;\n",
       "  width: 15px;\n",
       "  text-align: center;\n",
       "}\n",
       "\n",
       ".xr-section-summary-in:disabled + label:before {\n",
       "  color: var(--xr-disabled-color);\n",
       "}\n",
       "\n",
       ".xr-section-summary-in:checked + label:before {\n",
       "  content: \"▼\";\n",
       "}\n",
       "\n",
       ".xr-section-summary-in:checked + label > span {\n",
       "  display: none;\n",
       "}\n",
       "\n",
       ".xr-section-summary,\n",
       ".xr-section-inline-details {\n",
       "  padding-top: 4px;\n",
       "  padding-bottom: 4px;\n",
       "}\n",
       "\n",
       ".xr-section-inline-details {\n",
       "  grid-column: 2 / -1;\n",
       "}\n",
       "\n",
       ".xr-section-details {\n",
       "  display: none;\n",
       "  grid-column: 1 / -1;\n",
       "  margin-bottom: 5px;\n",
       "}\n",
       "\n",
       ".xr-section-summary-in:checked ~ .xr-section-details {\n",
       "  display: contents;\n",
       "}\n",
       "\n",
       ".xr-array-wrap {\n",
       "  grid-column: 1 / -1;\n",
       "  display: grid;\n",
       "  grid-template-columns: 20px auto;\n",
       "}\n",
       "\n",
       ".xr-array-wrap > label {\n",
       "  grid-column: 1;\n",
       "  vertical-align: top;\n",
       "}\n",
       "\n",
       ".xr-preview {\n",
       "  color: var(--xr-font-color3);\n",
       "}\n",
       "\n",
       ".xr-array-preview,\n",
       ".xr-array-data {\n",
       "  padding: 0 5px !important;\n",
       "  grid-column: 2;\n",
       "}\n",
       "\n",
       ".xr-array-data,\n",
       ".xr-array-in:checked ~ .xr-array-preview {\n",
       "  display: none;\n",
       "}\n",
       "\n",
       ".xr-array-in:checked ~ .xr-array-data,\n",
       ".xr-array-preview {\n",
       "  display: inline-block;\n",
       "}\n",
       "\n",
       ".xr-dim-list {\n",
       "  display: inline-block !important;\n",
       "  list-style: none;\n",
       "  padding: 0 !important;\n",
       "  margin: 0;\n",
       "}\n",
       "\n",
       ".xr-dim-list li {\n",
       "  display: inline-block;\n",
       "  padding: 0;\n",
       "  margin: 0;\n",
       "}\n",
       "\n",
       ".xr-dim-list:before {\n",
       "  content: \"(\";\n",
       "}\n",
       "\n",
       ".xr-dim-list:after {\n",
       "  content: \")\";\n",
       "}\n",
       "\n",
       ".xr-dim-list li:not(:last-child):after {\n",
       "  content: \",\";\n",
       "  padding-right: 5px;\n",
       "}\n",
       "\n",
       ".xr-has-index {\n",
       "  font-weight: bold;\n",
       "}\n",
       "\n",
       ".xr-var-list,\n",
       ".xr-var-item {\n",
       "  display: contents;\n",
       "}\n",
       "\n",
       ".xr-var-item > div,\n",
       ".xr-var-item label,\n",
       ".xr-var-item > .xr-var-name span {\n",
       "  background-color: var(--xr-background-color-row-even);\n",
       "  margin-bottom: 0;\n",
       "}\n",
       "\n",
       ".xr-var-item > .xr-var-name:hover span {\n",
       "  padding-right: 5px;\n",
       "}\n",
       "\n",
       ".xr-var-list > li:nth-child(odd) > div,\n",
       ".xr-var-list > li:nth-child(odd) > label,\n",
       ".xr-var-list > li:nth-child(odd) > .xr-var-name span {\n",
       "  background-color: var(--xr-background-color-row-odd);\n",
       "}\n",
       "\n",
       ".xr-var-name {\n",
       "  grid-column: 1;\n",
       "}\n",
       "\n",
       ".xr-var-dims {\n",
       "  grid-column: 2;\n",
       "}\n",
       "\n",
       ".xr-var-dtype {\n",
       "  grid-column: 3;\n",
       "  text-align: right;\n",
       "  color: var(--xr-font-color2);\n",
       "}\n",
       "\n",
       ".xr-var-preview {\n",
       "  grid-column: 4;\n",
       "}\n",
       "\n",
       ".xr-index-preview {\n",
       "  grid-column: 2 / 5;\n",
       "  color: var(--xr-font-color2);\n",
       "}\n",
       "\n",
       ".xr-var-name,\n",
       ".xr-var-dims,\n",
       ".xr-var-dtype,\n",
       ".xr-preview,\n",
       ".xr-attrs dt {\n",
       "  white-space: nowrap;\n",
       "  overflow: hidden;\n",
       "  text-overflow: ellipsis;\n",
       "  padding-right: 10px;\n",
       "}\n",
       "\n",
       ".xr-var-name:hover,\n",
       ".xr-var-dims:hover,\n",
       ".xr-var-dtype:hover,\n",
       ".xr-attrs dt:hover {\n",
       "  overflow: visible;\n",
       "  width: auto;\n",
       "  z-index: 1;\n",
       "}\n",
       "\n",
       ".xr-var-attrs,\n",
       ".xr-var-data,\n",
       ".xr-index-data {\n",
       "  display: none;\n",
       "  background-color: var(--xr-background-color) !important;\n",
       "  padding-bottom: 5px !important;\n",
       "}\n",
       "\n",
       ".xr-var-attrs-in:checked ~ .xr-var-attrs,\n",
       ".xr-var-data-in:checked ~ .xr-var-data,\n",
       ".xr-index-data-in:checked ~ .xr-index-data {\n",
       "  display: block;\n",
       "}\n",
       "\n",
       ".xr-var-data > table {\n",
       "  float: right;\n",
       "}\n",
       "\n",
       ".xr-var-name span,\n",
       ".xr-var-data,\n",
       ".xr-index-name div,\n",
       ".xr-index-data,\n",
       ".xr-attrs {\n",
       "  padding-left: 25px !important;\n",
       "}\n",
       "\n",
       ".xr-attrs,\n",
       ".xr-var-attrs,\n",
       ".xr-var-data,\n",
       ".xr-index-data {\n",
       "  grid-column: 1 / -1;\n",
       "}\n",
       "\n",
       "dl.xr-attrs {\n",
       "  padding: 0;\n",
       "  margin: 0;\n",
       "  display: grid;\n",
       "  grid-template-columns: 125px auto;\n",
       "}\n",
       "\n",
       ".xr-attrs dt,\n",
       ".xr-attrs dd {\n",
       "  padding: 0;\n",
       "  margin: 0;\n",
       "  float: left;\n",
       "  padding-right: 10px;\n",
       "  width: auto;\n",
       "}\n",
       "\n",
       ".xr-attrs dt {\n",
       "  font-weight: normal;\n",
       "  grid-column: 1;\n",
       "}\n",
       "\n",
       ".xr-attrs dt:hover span {\n",
       "  display: inline-block;\n",
       "  background: var(--xr-background-color);\n",
       "  padding-right: 10px;\n",
       "}\n",
       "\n",
       ".xr-attrs dd {\n",
       "  grid-column: 2;\n",
       "  white-space: pre-wrap;\n",
       "  word-break: break-all;\n",
       "}\n",
       "\n",
       ".xr-icon-database,\n",
       ".xr-icon-file-text2,\n",
       ".xr-no-icon {\n",
       "  display: inline-block;\n",
       "  vertical-align: middle;\n",
       "  width: 1em;\n",
       "  height: 1.5em !important;\n",
       "  stroke-width: 0;\n",
       "  stroke: currentColor;\n",
       "  fill: currentColor;\n",
       "}\n",
       "</style><pre class='xr-text-repr-fallback'>&lt;xarray.Dataset&gt; Size: 7kB\n",
       "Dimensions:       (date: 104, channel: 7)\n",
       "Coordinates:\n",
       "  * date          (date) datetime64[ns] 832B 2020-08-30 ... 2022-08-21\n",
       "  * channel       (channel) &lt;U15 420B &#x27;spend_channel_1&#x27; ... &#x27;spend_channel_7&#x27;\n",
       "Data variables:\n",
       "    channel_data  (date, channel) float64 6kB 0.3084 0.1636 ... 0.0 0.3942\n",
       "    dayofyear     (date) int32 416B 243 250 257 264 271 ... 205 212 219 226 233\n",
       "Attributes:\n",
       "    created_at:                 2025-04-17T09:47:11.128415+00:00\n",
       "    arviz_version:              0.21.0\n",
       "    inference_library:          numpyro\n",
       "    inference_library_version:  0.18.0\n",
       "    sampling_time:              6.849079\n",
       "    tuning_steps:               1000</pre><div class='xr-wrap' style='display:none'><div class='xr-header'><div class='xr-obj-type'>xarray.Dataset</div></div><ul class='xr-sections'><li class='xr-section-item'><input id='section-7a685dde-3c24-4879-a8a2-be6fad27d6b6' class='xr-section-summary-in' type='checkbox' disabled ><label for='section-7a685dde-3c24-4879-a8a2-be6fad27d6b6' class='xr-section-summary'  title='Expand/collapse section'>Dimensions:</label><div class='xr-section-inline-details'><ul class='xr-dim-list'><li><span class='xr-has-index'>date</span>: 104</li><li><span class='xr-has-index'>channel</span>: 7</li></ul></div><div class='xr-section-details'></div></li><li class='xr-section-item'><input id='section-268847ca-13be-42e5-915d-b453f0fc9487' class='xr-section-summary-in' type='checkbox'  checked><label for='section-268847ca-13be-42e5-915d-b453f0fc9487' class='xr-section-summary' >Coordinates: <span>(2)</span></label><div class='xr-section-inline-details'></div><div class='xr-section-details'><ul class='xr-var-list'><li class='xr-var-item'><div class='xr-var-name'><span class='xr-has-index'>date</span></div><div class='xr-var-dims'>(date)</div><div class='xr-var-dtype'>datetime64[ns]</div><div class='xr-var-preview xr-preview'>2020-08-30 ... 2022-08-21</div><input id='attrs-9d012461-b7fa-4180-851f-7a4930a918cc' class='xr-var-attrs-in' type='checkbox' disabled><label for='attrs-9d012461-b7fa-4180-851f-7a4930a918cc' title='Show/Hide attributes'><svg class='icon xr-icon-file-text2'><use xlink:href='#icon-file-text2'></use></svg></label><input id='data-85b5e226-751d-4608-9d82-c5e90ab008b6' class='xr-var-data-in' type='checkbox'><label for='data-85b5e226-751d-4608-9d82-c5e90ab008b6' title='Show/Hide data repr'><svg class='icon xr-icon-database'><use xlink:href='#icon-database'></use></svg></label><div class='xr-var-attrs'><dl class='xr-attrs'></dl></div><div class='xr-var-data'><pre>array([&#x27;2020-08-30T00:00:00.000000000&#x27;, &#x27;2020-09-06T00:00:00.000000000&#x27;,\n",
       "       &#x27;2020-09-13T00:00:00.000000000&#x27;, &#x27;2020-09-20T00:00:00.000000000&#x27;,\n",
       "       &#x27;2020-09-27T00:00:00.000000000&#x27;, &#x27;2020-10-04T00:00:00.000000000&#x27;,\n",
       "       &#x27;2020-10-11T00:00:00.000000000&#x27;, &#x27;2020-10-18T00:00:00.000000000&#x27;,\n",
       "       &#x27;2020-10-25T00:00:00.000000000&#x27;, &#x27;2020-11-01T00:00:00.000000000&#x27;,\n",
       "       &#x27;2020-11-08T00:00:00.000000000&#x27;, &#x27;2020-11-15T00:00:00.000000000&#x27;,\n",
       "       &#x27;2020-11-22T00:00:00.000000000&#x27;, &#x27;2020-11-29T00:00:00.000000000&#x27;,\n",
       "       &#x27;2020-12-06T00:00:00.000000000&#x27;, &#x27;2020-12-13T00:00:00.000000000&#x27;,\n",
       "       &#x27;2020-12-20T00:00:00.000000000&#x27;, &#x27;2020-12-27T00:00:00.000000000&#x27;,\n",
       "       &#x27;2021-01-03T00:00:00.000000000&#x27;, &#x27;2021-01-10T00:00:00.000000000&#x27;,\n",
       "       &#x27;2021-01-17T00:00:00.000000000&#x27;, &#x27;2021-01-24T00:00:00.000000000&#x27;,\n",
       "       &#x27;2021-01-31T00:00:00.000000000&#x27;, &#x27;2021-02-07T00:00:00.000000000&#x27;,\n",
       "       &#x27;2021-02-14T00:00:00.000000000&#x27;, &#x27;2021-02-21T00:00:00.000000000&#x27;,\n",
       "       &#x27;2021-02-28T00:00:00.000000000&#x27;, &#x27;2021-03-07T00:00:00.000000000&#x27;,\n",
       "       &#x27;2021-03-14T00:00:00.000000000&#x27;, &#x27;2021-03-21T00:00:00.000000000&#x27;,\n",
       "       &#x27;2021-03-28T00:00:00.000000000&#x27;, &#x27;2021-04-04T00:00:00.000000000&#x27;,\n",
       "       &#x27;2021-04-11T00:00:00.000000000&#x27;, &#x27;2021-04-18T00:00:00.000000000&#x27;,\n",
       "       &#x27;2021-04-25T00:00:00.000000000&#x27;, &#x27;2021-05-02T00:00:00.000000000&#x27;,\n",
       "       &#x27;2021-05-09T00:00:00.000000000&#x27;, &#x27;2021-05-16T00:00:00.000000000&#x27;,\n",
       "       &#x27;2021-05-23T00:00:00.000000000&#x27;, &#x27;2021-05-30T00:00:00.000000000&#x27;,\n",
       "       &#x27;2021-06-06T00:00:00.000000000&#x27;, &#x27;2021-06-13T00:00:00.000000000&#x27;,\n",
       "       &#x27;2021-06-20T00:00:00.000000000&#x27;, &#x27;2021-06-27T00:00:00.000000000&#x27;,\n",
       "       &#x27;2021-07-04T00:00:00.000000000&#x27;, &#x27;2021-07-11T00:00:00.000000000&#x27;,\n",
       "       &#x27;2021-07-18T00:00:00.000000000&#x27;, &#x27;2021-07-25T00:00:00.000000000&#x27;,\n",
       "       &#x27;2021-08-01T00:00:00.000000000&#x27;, &#x27;2021-08-08T00:00:00.000000000&#x27;,\n",
       "       &#x27;2021-08-15T00:00:00.000000000&#x27;, &#x27;2021-08-22T00:00:00.000000000&#x27;,\n",
       "       &#x27;2021-08-29T00:00:00.000000000&#x27;, &#x27;2021-09-05T00:00:00.000000000&#x27;,\n",
       "       &#x27;2021-09-12T00:00:00.000000000&#x27;, &#x27;2021-09-19T00:00:00.000000000&#x27;,\n",
       "       &#x27;2021-09-26T00:00:00.000000000&#x27;, &#x27;2021-10-03T00:00:00.000000000&#x27;,\n",
       "       &#x27;2021-10-10T00:00:00.000000000&#x27;, &#x27;2021-10-17T00:00:00.000000000&#x27;,\n",
       "       &#x27;2021-10-24T00:00:00.000000000&#x27;, &#x27;2021-10-31T00:00:00.000000000&#x27;,\n",
       "       &#x27;2021-11-07T00:00:00.000000000&#x27;, &#x27;2021-11-14T00:00:00.000000000&#x27;,\n",
       "       &#x27;2021-11-21T00:00:00.000000000&#x27;, &#x27;2021-11-28T00:00:00.000000000&#x27;,\n",
       "       &#x27;2021-12-05T00:00:00.000000000&#x27;, &#x27;2021-12-12T00:00:00.000000000&#x27;,\n",
       "       &#x27;2021-12-19T00:00:00.000000000&#x27;, &#x27;2021-12-26T00:00:00.000000000&#x27;,\n",
       "       &#x27;2022-01-02T00:00:00.000000000&#x27;, &#x27;2022-01-09T00:00:00.000000000&#x27;,\n",
       "       &#x27;2022-01-16T00:00:00.000000000&#x27;, &#x27;2022-01-23T00:00:00.000000000&#x27;,\n",
       "       &#x27;2022-01-30T00:00:00.000000000&#x27;, &#x27;2022-02-06T00:00:00.000000000&#x27;,\n",
       "       &#x27;2022-02-13T00:00:00.000000000&#x27;, &#x27;2022-02-20T00:00:00.000000000&#x27;,\n",
       "       &#x27;2022-02-27T00:00:00.000000000&#x27;, &#x27;2022-03-06T00:00:00.000000000&#x27;,\n",
       "       &#x27;2022-03-13T00:00:00.000000000&#x27;, &#x27;2022-03-20T00:00:00.000000000&#x27;,\n",
       "       &#x27;2022-03-27T00:00:00.000000000&#x27;, &#x27;2022-04-03T00:00:00.000000000&#x27;,\n",
       "       &#x27;2022-04-10T00:00:00.000000000&#x27;, &#x27;2022-04-17T00:00:00.000000000&#x27;,\n",
       "       &#x27;2022-04-24T00:00:00.000000000&#x27;, &#x27;2022-05-01T00:00:00.000000000&#x27;,\n",
       "       &#x27;2022-05-08T00:00:00.000000000&#x27;, &#x27;2022-05-15T00:00:00.000000000&#x27;,\n",
       "       &#x27;2022-05-22T00:00:00.000000000&#x27;, &#x27;2022-05-29T00:00:00.000000000&#x27;,\n",
       "       &#x27;2022-06-05T00:00:00.000000000&#x27;, &#x27;2022-06-12T00:00:00.000000000&#x27;,\n",
       "       &#x27;2022-06-19T00:00:00.000000000&#x27;, &#x27;2022-06-26T00:00:00.000000000&#x27;,\n",
       "       &#x27;2022-07-03T00:00:00.000000000&#x27;, &#x27;2022-07-10T00:00:00.000000000&#x27;,\n",
       "       &#x27;2022-07-17T00:00:00.000000000&#x27;, &#x27;2022-07-24T00:00:00.000000000&#x27;,\n",
       "       &#x27;2022-07-31T00:00:00.000000000&#x27;, &#x27;2022-08-07T00:00:00.000000000&#x27;,\n",
       "       &#x27;2022-08-14T00:00:00.000000000&#x27;, &#x27;2022-08-21T00:00:00.000000000&#x27;],\n",
       "      dtype=&#x27;datetime64[ns]&#x27;)</pre></div></li><li class='xr-var-item'><div class='xr-var-name'><span class='xr-has-index'>channel</span></div><div class='xr-var-dims'>(channel)</div><div class='xr-var-dtype'>&lt;U15</div><div class='xr-var-preview xr-preview'>&#x27;spend_channel_1&#x27; ... &#x27;spend_cha...</div><input id='attrs-d6113a70-7e5c-4801-9fe9-63990e3c509b' class='xr-var-attrs-in' type='checkbox' disabled><label for='attrs-d6113a70-7e5c-4801-9fe9-63990e3c509b' title='Show/Hide attributes'><svg class='icon xr-icon-file-text2'><use xlink:href='#icon-file-text2'></use></svg></label><input id='data-bb65db4a-f2bb-46c1-81d4-051b9d0d6d3e' class='xr-var-data-in' type='checkbox'><label for='data-bb65db4a-f2bb-46c1-81d4-051b9d0d6d3e' title='Show/Hide data repr'><svg class='icon xr-icon-database'><use xlink:href='#icon-database'></use></svg></label><div class='xr-var-attrs'><dl class='xr-attrs'></dl></div><div class='xr-var-data'><pre>array([&#x27;spend_channel_1&#x27;, &#x27;spend_channel_2&#x27;, &#x27;spend_channel_3&#x27;,\n",
       "       &#x27;spend_channel_4&#x27;, &#x27;spend_channel_5&#x27;, &#x27;spend_channel_6&#x27;,\n",
       "       &#x27;spend_channel_7&#x27;], dtype=&#x27;&lt;U15&#x27;)</pre></div></li></ul></div></li><li class='xr-section-item'><input id='section-d4f8110e-1c05-42b7-b040-e5d0efe4e7d9' class='xr-section-summary-in' type='checkbox'  checked><label for='section-d4f8110e-1c05-42b7-b040-e5d0efe4e7d9' class='xr-section-summary' >Data variables: <span>(2)</span></label><div class='xr-section-inline-details'></div><div class='xr-section-details'><ul class='xr-var-list'><li class='xr-var-item'><div class='xr-var-name'><span>channel_data</span></div><div class='xr-var-dims'>(date, channel)</div><div class='xr-var-dtype'>float64</div><div class='xr-var-preview xr-preview'>0.3084 0.1636 0.2607 ... 0.0 0.3942</div><input id='attrs-12b67c4c-a352-474d-923d-fa6dcad79262' class='xr-var-attrs-in' type='checkbox' disabled><label for='attrs-12b67c4c-a352-474d-923d-fa6dcad79262' title='Show/Hide attributes'><svg class='icon xr-icon-file-text2'><use xlink:href='#icon-file-text2'></use></svg></label><input id='data-fb4a9b30-5444-429b-ba1a-2f58085a1187' class='xr-var-data-in' type='checkbox'><label for='data-fb4a9b30-5444-429b-ba1a-2f58085a1187' title='Show/Hide data repr'><svg class='icon xr-icon-database'><use xlink:href='#icon-database'></use></svg></label><div class='xr-var-attrs'><dl class='xr-attrs'></dl></div><div class='xr-var-data'><pre>array([[3.08378250e-01, 1.63595604e-01, 2.60701985e-01, 1.59508592e-01,\n",
       "        3.92469778e-01, 3.75721481e-01, 2.50099176e-01],\n",
       "       [3.09380150e-01, 6.76650995e-02, 1.76300851e-01, 2.01531705e-01,\n",
       "        3.86181011e-01, 3.66196013e-01, 2.90023335e-01],\n",
       "       [2.45139966e-01, 6.86988199e-02, 1.44003004e-01, 1.92798045e-01,\n",
       "        4.54879406e-01, 3.20873907e-01, 2.91605507e-01],\n",
       "       [1.98582776e-01, 3.28735561e-02, 3.05602928e-01, 1.71606858e-01,\n",
       "        4.70208257e-01, 3.82580507e-01, 3.19128071e-01],\n",
       "       [1.81739593e-01, 5.01665784e-02, 3.72796964e-01, 1.78663075e-01,\n",
       "        4.78458269e-01, 3.75229685e-01, 3.42186355e-01],\n",
       "       [4.29323818e-01, 3.26967027e-01, 3.62742502e-01, 4.30384597e-01,\n",
       "        6.30241460e-01, 7.55223886e-01, 3.92244544e-01],\n",
       "       [7.58698494e-01, 3.99128188e-01, 4.83243904e-01, 3.11459856e-01,\n",
       "        1.00000000e+00, 1.00000000e+00, 4.84520268e-01],\n",
       "       [2.78051124e-01, 7.58974998e-02, 2.76085755e-01, 1.59180263e-01,\n",
       "        8.36421471e-01, 4.25984401e-01, 4.38341110e-01],\n",
       "       [1.69840131e-01, 5.71037145e-02, 2.42028780e-01, 1.71762406e-01,\n",
       "        4.92099432e-01, 2.40714122e-01, 3.16106716e-01],\n",
       "       [4.34810185e-02, 6.16060031e-02, 4.93249060e-01, 2.20167400e-01,\n",
       "        2.71011053e-01, 2.32615663e-01, 2.29308586e-01],\n",
       "...\n",
       "       [0.00000000e+00, 4.13251549e-01, 3.67496837e-01, 3.03640483e-01,\n",
       "        1.03206790e-01, 0.00000000e+00, 4.90331200e-01],\n",
       "       [0.00000000e+00, 4.51393343e-01, 3.99549763e-01, 3.01667853e-01,\n",
       "        1.09940275e-01, 0.00000000e+00, 4.21215583e-01],\n",
       "       [0.00000000e+00, 1.32814397e-01, 6.14571162e-01, 2.97774738e-01,\n",
       "        1.01422160e-01, 0.00000000e+00, 3.69905981e-01],\n",
       "       [0.00000000e+00, 2.00934085e-01, 3.46110779e-01, 2.53532417e-01,\n",
       "        9.82855014e-02, 0.00000000e+00, 3.89210801e-01],\n",
       "       [0.00000000e+00, 1.83722016e-01, 3.71310127e-01, 2.13462491e-01,\n",
       "        9.56892909e-02, 0.00000000e+00, 3.26436647e-01],\n",
       "       [0.00000000e+00, 6.96690226e-01, 4.48890689e-01, 2.01770771e-01,\n",
       "        9.05098963e-02, 0.00000000e+00, 2.57030405e-01],\n",
       "       [0.00000000e+00, 7.60718623e-02, 3.18229972e-01, 2.11912315e-01,\n",
       "        9.97708246e-02, 0.00000000e+00, 2.92791878e-01],\n",
       "       [0.00000000e+00, 4.69589314e-01, 2.44858157e-01, 2.19230577e-01,\n",
       "        1.22904363e-01, 0.00000000e+00, 3.88995414e-01],\n",
       "       [0.00000000e+00, 6.49637264e-01, 2.18488941e-01, 1.95810460e-01,\n",
       "        9.35123517e-02, 0.00000000e+00, 3.69381386e-01],\n",
       "       [0.00000000e+00, 2.41579226e-01, 2.16497570e-01, 2.07400543e-01,\n",
       "        9.00376102e-02, 0.00000000e+00, 3.94216065e-01]])</pre></div></li><li class='xr-var-item'><div class='xr-var-name'><span>dayofyear</span></div><div class='xr-var-dims'>(date)</div><div class='xr-var-dtype'>int32</div><div class='xr-var-preview xr-preview'>243 250 257 264 ... 212 219 226 233</div><input id='attrs-65e1400f-7bb9-430a-8c40-cda1189b541a' class='xr-var-attrs-in' type='checkbox' disabled><label for='attrs-65e1400f-7bb9-430a-8c40-cda1189b541a' title='Show/Hide attributes'><svg class='icon xr-icon-file-text2'><use xlink:href='#icon-file-text2'></use></svg></label><input id='data-bfb1cd79-42cd-43a2-ab86-789196d9ddec' class='xr-var-data-in' type='checkbox'><label for='data-bfb1cd79-42cd-43a2-ab86-789196d9ddec' title='Show/Hide data repr'><svg class='icon xr-icon-database'><use xlink:href='#icon-database'></use></svg></label><div class='xr-var-attrs'><dl class='xr-attrs'></dl></div><div class='xr-var-data'><pre>array([243, 250, 257, 264, 271, 278, 285, 292, 299, 306, 313, 320, 327,\n",
       "       334, 341, 348, 355, 362,   3,  10,  17,  24,  31,  38,  45,  52,\n",
       "        59,  66,  73,  80,  87,  94, 101, 108, 115, 122, 129, 136, 143,\n",
       "       150, 157, 164, 171, 178, 185, 192, 199, 206, 213, 220, 227, 234,\n",
       "       241, 248, 255, 262, 269, 276, 283, 290, 297, 304, 311, 318, 325,\n",
       "       332, 339, 346, 353, 360,   2,   9,  16,  23,  30,  37,  44,  51,\n",
       "        58,  65,  72,  79,  86,  93, 100, 107, 114, 121, 128, 135, 142,\n",
       "       149, 156, 163, 170, 177, 184, 191, 198, 205, 212, 219, 226, 233],\n",
       "      dtype=int32)</pre></div></li></ul></div></li><li class='xr-section-item'><input id='section-9f333f6a-a08b-43d6-977c-7e2922d41dff' class='xr-section-summary-in' type='checkbox'  ><label for='section-9f333f6a-a08b-43d6-977c-7e2922d41dff' class='xr-section-summary' >Indexes: <span>(2)</span></label><div class='xr-section-inline-details'></div><div class='xr-section-details'><ul class='xr-var-list'><li class='xr-var-item'><div class='xr-index-name'><div>date</div></div><div class='xr-index-preview'>PandasIndex</div><input type='checkbox' disabled/><label></label><input id='index-1c2a7699-e1eb-434f-9f3b-3ea6fd551afc' class='xr-index-data-in' type='checkbox'/><label for='index-1c2a7699-e1eb-434f-9f3b-3ea6fd551afc' title='Show/Hide index repr'><svg class='icon xr-icon-database'><use xlink:href='#icon-database'></use></svg></label><div class='xr-index-data'><pre>PandasIndex(DatetimeIndex([&#x27;2020-08-30&#x27;, &#x27;2020-09-06&#x27;, &#x27;2020-09-13&#x27;, &#x27;2020-09-20&#x27;,\n",
       "               &#x27;2020-09-27&#x27;, &#x27;2020-10-04&#x27;, &#x27;2020-10-11&#x27;, &#x27;2020-10-18&#x27;,\n",
       "               &#x27;2020-10-25&#x27;, &#x27;2020-11-01&#x27;,\n",
       "               ...\n",
       "               &#x27;2022-06-19&#x27;, &#x27;2022-06-26&#x27;, &#x27;2022-07-03&#x27;, &#x27;2022-07-10&#x27;,\n",
       "               &#x27;2022-07-17&#x27;, &#x27;2022-07-24&#x27;, &#x27;2022-07-31&#x27;, &#x27;2022-08-07&#x27;,\n",
       "               &#x27;2022-08-14&#x27;, &#x27;2022-08-21&#x27;],\n",
       "              dtype=&#x27;datetime64[ns]&#x27;, name=&#x27;date&#x27;, length=104, freq=None))</pre></div></li><li class='xr-var-item'><div class='xr-index-name'><div>channel</div></div><div class='xr-index-preview'>PandasIndex</div><input type='checkbox' disabled/><label></label><input id='index-7ededa6a-adc1-4ab6-a3ec-088be425571f' class='xr-index-data-in' type='checkbox'/><label for='index-7ededa6a-adc1-4ab6-a3ec-088be425571f' title='Show/Hide index repr'><svg class='icon xr-icon-database'><use xlink:href='#icon-database'></use></svg></label><div class='xr-index-data'><pre>PandasIndex(Index([&#x27;spend_channel_1&#x27;, &#x27;spend_channel_2&#x27;, &#x27;spend_channel_3&#x27;,\n",
       "       &#x27;spend_channel_4&#x27;, &#x27;spend_channel_5&#x27;, &#x27;spend_channel_6&#x27;,\n",
       "       &#x27;spend_channel_7&#x27;],\n",
       "      dtype=&#x27;object&#x27;, name=&#x27;channel&#x27;))</pre></div></li></ul></div></li><li class='xr-section-item'><input id='section-6182bc0e-da0c-40c1-bc2e-c3fd7bb6db97' class='xr-section-summary-in' type='checkbox'  checked><label for='section-6182bc0e-da0c-40c1-bc2e-c3fd7bb6db97' class='xr-section-summary' >Attributes: <span>(6)</span></label><div class='xr-section-inline-details'></div><div class='xr-section-details'><dl class='xr-attrs'><dt><span>created_at :</span></dt><dd>2025-04-17T09:47:11.128415+00:00</dd><dt><span>arviz_version :</span></dt><dd>0.21.0</dd><dt><span>inference_library :</span></dt><dd>numpyro</dd><dt><span>inference_library_version :</span></dt><dd>0.18.0</dd><dt><span>sampling_time :</span></dt><dd>6.849079</dd><dt><span>tuning_steps :</span></dt><dd>1000</dd></dl></div></li></ul></div></div><br></div>\n",
       "                      </ul>\n",
       "                  </div>\n",
       "            </li>\n",
       "            \n",
       "            <li class = \"xr-section-item\">\n",
       "                  <input id=\"idata_fit_data6f4d679c-433a-4fb4-9e1d-ed65f871409d\" class=\"xr-section-summary-in\" type=\"checkbox\">\n",
       "                  <label for=\"idata_fit_data6f4d679c-433a-4fb4-9e1d-ed65f871409d\" class = \"xr-section-summary\">fit_data</label>\n",
       "                  <div class=\"xr-section-inline-details\"></div>\n",
       "                  <div class=\"xr-section-details\">\n",
       "                      <ul id=\"xr-dataset-coord-list\" class=\"xr-var-list\">\n",
       "                          <div style=\"padding-left:2rem;\"><div><svg style=\"position: absolute; width: 0; height: 0; overflow: hidden\">\n",
       "<defs>\n",
       "<symbol id=\"icon-database\" viewBox=\"0 0 32 32\">\n",
       "<path d=\"M16 0c-8.837 0-16 2.239-16 5v4c0 2.761 7.163 5 16 5s16-2.239 16-5v-4c0-2.761-7.163-5-16-5z\"></path>\n",
       "<path d=\"M16 17c-8.837 0-16-2.239-16-5v6c0 2.761 7.163 5 16 5s16-2.239 16-5v-6c0 2.761-7.163 5-16 5z\"></path>\n",
       "<path d=\"M16 26c-8.837 0-16-2.239-16-5v6c0 2.761 7.163 5 16 5s16-2.239 16-5v-6c0 2.761-7.163 5-16 5z\"></path>\n",
       "</symbol>\n",
       "<symbol id=\"icon-file-text2\" viewBox=\"0 0 32 32\">\n",
       "<path d=\"M28.681 7.159c-0.694-0.947-1.662-2.053-2.724-3.116s-2.169-2.030-3.116-2.724c-1.612-1.182-2.393-1.319-2.841-1.319h-15.5c-1.378 0-2.5 1.121-2.5 2.5v27c0 1.378 1.122 2.5 2.5 2.5h23c1.378 0 2.5-1.122 2.5-2.5v-19.5c0-0.448-0.137-1.23-1.319-2.841zM24.543 5.457c0.959 0.959 1.712 1.825 2.268 2.543h-4.811v-4.811c0.718 0.556 1.584 1.309 2.543 2.268zM28 29.5c0 0.271-0.229 0.5-0.5 0.5h-23c-0.271 0-0.5-0.229-0.5-0.5v-27c0-0.271 0.229-0.5 0.5-0.5 0 0 15.499-0 15.5 0v7c0 0.552 0.448 1 1 1h7v19.5z\"></path>\n",
       "<path d=\"M23 26h-14c-0.552 0-1-0.448-1-1s0.448-1 1-1h14c0.552 0 1 0.448 1 1s-0.448 1-1 1z\"></path>\n",
       "<path d=\"M23 22h-14c-0.552 0-1-0.448-1-1s0.448-1 1-1h14c0.552 0 1 0.448 1 1s-0.448 1-1 1z\"></path>\n",
       "<path d=\"M23 18h-14c-0.552 0-1-0.448-1-1s0.448-1 1-1h14c0.552 0 1 0.448 1 1s-0.448 1-1 1z\"></path>\n",
       "</symbol>\n",
       "</defs>\n",
       "</svg>\n",
       "<style>/* CSS stylesheet for displaying xarray objects in jupyterlab.\n",
       " *\n",
       " */\n",
       "\n",
       ":root {\n",
       "  --xr-font-color0: var(--jp-content-font-color0, rgba(0, 0, 0, 1));\n",
       "  --xr-font-color2: var(--jp-content-font-color2, rgba(0, 0, 0, 0.54));\n",
       "  --xr-font-color3: var(--jp-content-font-color3, rgba(0, 0, 0, 0.38));\n",
       "  --xr-border-color: var(--jp-border-color2, #e0e0e0);\n",
       "  --xr-disabled-color: var(--jp-layout-color3, #bdbdbd);\n",
       "  --xr-background-color: var(--jp-layout-color0, white);\n",
       "  --xr-background-color-row-even: var(--jp-layout-color1, white);\n",
       "  --xr-background-color-row-odd: var(--jp-layout-color2, #eeeeee);\n",
       "}\n",
       "\n",
       "html[theme=\"dark\"],\n",
       "html[data-theme=\"dark\"],\n",
       "body[data-theme=\"dark\"],\n",
       "body.vscode-dark {\n",
       "  --xr-font-color0: rgba(255, 255, 255, 1);\n",
       "  --xr-font-color2: rgba(255, 255, 255, 0.54);\n",
       "  --xr-font-color3: rgba(255, 255, 255, 0.38);\n",
       "  --xr-border-color: #1f1f1f;\n",
       "  --xr-disabled-color: #515151;\n",
       "  --xr-background-color: #111111;\n",
       "  --xr-background-color-row-even: #111111;\n",
       "  --xr-background-color-row-odd: #313131;\n",
       "}\n",
       "\n",
       ".xr-wrap {\n",
       "  display: block !important;\n",
       "  min-width: 300px;\n",
       "  max-width: 700px;\n",
       "}\n",
       "\n",
       ".xr-text-repr-fallback {\n",
       "  /* fallback to plain text repr when CSS is not injected (untrusted notebook) */\n",
       "  display: none;\n",
       "}\n",
       "\n",
       ".xr-header {\n",
       "  padding-top: 6px;\n",
       "  padding-bottom: 6px;\n",
       "  margin-bottom: 4px;\n",
       "  border-bottom: solid 1px var(--xr-border-color);\n",
       "}\n",
       "\n",
       ".xr-header > div,\n",
       ".xr-header > ul {\n",
       "  display: inline;\n",
       "  margin-top: 0;\n",
       "  margin-bottom: 0;\n",
       "}\n",
       "\n",
       ".xr-obj-type,\n",
       ".xr-array-name {\n",
       "  margin-left: 2px;\n",
       "  margin-right: 10px;\n",
       "}\n",
       "\n",
       ".xr-obj-type {\n",
       "  color: var(--xr-font-color2);\n",
       "}\n",
       "\n",
       ".xr-sections {\n",
       "  padding-left: 0 !important;\n",
       "  display: grid;\n",
       "  grid-template-columns: 150px auto auto 1fr 0 20px 0 20px;\n",
       "}\n",
       "\n",
       ".xr-section-item {\n",
       "  display: contents;\n",
       "}\n",
       "\n",
       ".xr-section-item input {\n",
       "  display: inline-block;\n",
       "  opacity: 0;\n",
       "  height: 0;\n",
       "}\n",
       "\n",
       ".xr-section-item input + label {\n",
       "  color: var(--xr-disabled-color);\n",
       "}\n",
       "\n",
       ".xr-section-item input:enabled + label {\n",
       "  cursor: pointer;\n",
       "  color: var(--xr-font-color2);\n",
       "}\n",
       "\n",
       ".xr-section-item input:focus + label {\n",
       "  border: 2px solid var(--xr-font-color0);\n",
       "}\n",
       "\n",
       ".xr-section-item input:enabled + label:hover {\n",
       "  color: var(--xr-font-color0);\n",
       "}\n",
       "\n",
       ".xr-section-summary {\n",
       "  grid-column: 1;\n",
       "  color: var(--xr-font-color2);\n",
       "  font-weight: 500;\n",
       "}\n",
       "\n",
       ".xr-section-summary > span {\n",
       "  display: inline-block;\n",
       "  padding-left: 0.5em;\n",
       "}\n",
       "\n",
       ".xr-section-summary-in:disabled + label {\n",
       "  color: var(--xr-font-color2);\n",
       "}\n",
       "\n",
       ".xr-section-summary-in + label:before {\n",
       "  display: inline-block;\n",
       "  content: \"►\";\n",
       "  font-size: 11px;\n",
       "  width: 15px;\n",
       "  text-align: center;\n",
       "}\n",
       "\n",
       ".xr-section-summary-in:disabled + label:before {\n",
       "  color: var(--xr-disabled-color);\n",
       "}\n",
       "\n",
       ".xr-section-summary-in:checked + label:before {\n",
       "  content: \"▼\";\n",
       "}\n",
       "\n",
       ".xr-section-summary-in:checked + label > span {\n",
       "  display: none;\n",
       "}\n",
       "\n",
       ".xr-section-summary,\n",
       ".xr-section-inline-details {\n",
       "  padding-top: 4px;\n",
       "  padding-bottom: 4px;\n",
       "}\n",
       "\n",
       ".xr-section-inline-details {\n",
       "  grid-column: 2 / -1;\n",
       "}\n",
       "\n",
       ".xr-section-details {\n",
       "  display: none;\n",
       "  grid-column: 1 / -1;\n",
       "  margin-bottom: 5px;\n",
       "}\n",
       "\n",
       ".xr-section-summary-in:checked ~ .xr-section-details {\n",
       "  display: contents;\n",
       "}\n",
       "\n",
       ".xr-array-wrap {\n",
       "  grid-column: 1 / -1;\n",
       "  display: grid;\n",
       "  grid-template-columns: 20px auto;\n",
       "}\n",
       "\n",
       ".xr-array-wrap > label {\n",
       "  grid-column: 1;\n",
       "  vertical-align: top;\n",
       "}\n",
       "\n",
       ".xr-preview {\n",
       "  color: var(--xr-font-color3);\n",
       "}\n",
       "\n",
       ".xr-array-preview,\n",
       ".xr-array-data {\n",
       "  padding: 0 5px !important;\n",
       "  grid-column: 2;\n",
       "}\n",
       "\n",
       ".xr-array-data,\n",
       ".xr-array-in:checked ~ .xr-array-preview {\n",
       "  display: none;\n",
       "}\n",
       "\n",
       ".xr-array-in:checked ~ .xr-array-data,\n",
       ".xr-array-preview {\n",
       "  display: inline-block;\n",
       "}\n",
       "\n",
       ".xr-dim-list {\n",
       "  display: inline-block !important;\n",
       "  list-style: none;\n",
       "  padding: 0 !important;\n",
       "  margin: 0;\n",
       "}\n",
       "\n",
       ".xr-dim-list li {\n",
       "  display: inline-block;\n",
       "  padding: 0;\n",
       "  margin: 0;\n",
       "}\n",
       "\n",
       ".xr-dim-list:before {\n",
       "  content: \"(\";\n",
       "}\n",
       "\n",
       ".xr-dim-list:after {\n",
       "  content: \")\";\n",
       "}\n",
       "\n",
       ".xr-dim-list li:not(:last-child):after {\n",
       "  content: \",\";\n",
       "  padding-right: 5px;\n",
       "}\n",
       "\n",
       ".xr-has-index {\n",
       "  font-weight: bold;\n",
       "}\n",
       "\n",
       ".xr-var-list,\n",
       ".xr-var-item {\n",
       "  display: contents;\n",
       "}\n",
       "\n",
       ".xr-var-item > div,\n",
       ".xr-var-item label,\n",
       ".xr-var-item > .xr-var-name span {\n",
       "  background-color: var(--xr-background-color-row-even);\n",
       "  margin-bottom: 0;\n",
       "}\n",
       "\n",
       ".xr-var-item > .xr-var-name:hover span {\n",
       "  padding-right: 5px;\n",
       "}\n",
       "\n",
       ".xr-var-list > li:nth-child(odd) > div,\n",
       ".xr-var-list > li:nth-child(odd) > label,\n",
       ".xr-var-list > li:nth-child(odd) > .xr-var-name span {\n",
       "  background-color: var(--xr-background-color-row-odd);\n",
       "}\n",
       "\n",
       ".xr-var-name {\n",
       "  grid-column: 1;\n",
       "}\n",
       "\n",
       ".xr-var-dims {\n",
       "  grid-column: 2;\n",
       "}\n",
       "\n",
       ".xr-var-dtype {\n",
       "  grid-column: 3;\n",
       "  text-align: right;\n",
       "  color: var(--xr-font-color2);\n",
       "}\n",
       "\n",
       ".xr-var-preview {\n",
       "  grid-column: 4;\n",
       "}\n",
       "\n",
       ".xr-index-preview {\n",
       "  grid-column: 2 / 5;\n",
       "  color: var(--xr-font-color2);\n",
       "}\n",
       "\n",
       ".xr-var-name,\n",
       ".xr-var-dims,\n",
       ".xr-var-dtype,\n",
       ".xr-preview,\n",
       ".xr-attrs dt {\n",
       "  white-space: nowrap;\n",
       "  overflow: hidden;\n",
       "  text-overflow: ellipsis;\n",
       "  padding-right: 10px;\n",
       "}\n",
       "\n",
       ".xr-var-name:hover,\n",
       ".xr-var-dims:hover,\n",
       ".xr-var-dtype:hover,\n",
       ".xr-attrs dt:hover {\n",
       "  overflow: visible;\n",
       "  width: auto;\n",
       "  z-index: 1;\n",
       "}\n",
       "\n",
       ".xr-var-attrs,\n",
       ".xr-var-data,\n",
       ".xr-index-data {\n",
       "  display: none;\n",
       "  background-color: var(--xr-background-color) !important;\n",
       "  padding-bottom: 5px !important;\n",
       "}\n",
       "\n",
       ".xr-var-attrs-in:checked ~ .xr-var-attrs,\n",
       ".xr-var-data-in:checked ~ .xr-var-data,\n",
       ".xr-index-data-in:checked ~ .xr-index-data {\n",
       "  display: block;\n",
       "}\n",
       "\n",
       ".xr-var-data > table {\n",
       "  float: right;\n",
       "}\n",
       "\n",
       ".xr-var-name span,\n",
       ".xr-var-data,\n",
       ".xr-index-name div,\n",
       ".xr-index-data,\n",
       ".xr-attrs {\n",
       "  padding-left: 25px !important;\n",
       "}\n",
       "\n",
       ".xr-attrs,\n",
       ".xr-var-attrs,\n",
       ".xr-var-data,\n",
       ".xr-index-data {\n",
       "  grid-column: 1 / -1;\n",
       "}\n",
       "\n",
       "dl.xr-attrs {\n",
       "  padding: 0;\n",
       "  margin: 0;\n",
       "  display: grid;\n",
       "  grid-template-columns: 125px auto;\n",
       "}\n",
       "\n",
       ".xr-attrs dt,\n",
       ".xr-attrs dd {\n",
       "  padding: 0;\n",
       "  margin: 0;\n",
       "  float: left;\n",
       "  padding-right: 10px;\n",
       "  width: auto;\n",
       "}\n",
       "\n",
       ".xr-attrs dt {\n",
       "  font-weight: normal;\n",
       "  grid-column: 1;\n",
       "}\n",
       "\n",
       ".xr-attrs dt:hover span {\n",
       "  display: inline-block;\n",
       "  background: var(--xr-background-color);\n",
       "  padding-right: 10px;\n",
       "}\n",
       "\n",
       ".xr-attrs dd {\n",
       "  grid-column: 2;\n",
       "  white-space: pre-wrap;\n",
       "  word-break: break-all;\n",
       "}\n",
       "\n",
       ".xr-icon-database,\n",
       ".xr-icon-file-text2,\n",
       ".xr-no-icon {\n",
       "  display: inline-block;\n",
       "  vertical-align: middle;\n",
       "  width: 1em;\n",
       "  height: 1.5em !important;\n",
       "  stroke-width: 0;\n",
       "  stroke: currentColor;\n",
       "  fill: currentColor;\n",
       "}\n",
       "</style><pre class='xr-text-repr-fallback'>&lt;xarray.Dataset&gt; Size: 8kB\n",
       "Dimensions:          (index: 104)\n",
       "Coordinates:\n",
       "  * index            (index) int64 832B 0 1 2 3 4 5 6 ... 98 99 100 101 102 103\n",
       "Data variables:\n",
       "    start_of_week    (index) datetime64[ms] 832B 2020-08-30 ... 2022-08-21\n",
       "    spend_channel_1  (index) float64 832B 2.625e+03 2.634e+03 ... 0.0 0.0\n",
       "    spend_channel_2  (index) float64 832B 262.7 108.7 110.3 ... 1.043e+03 387.9\n",
       "    spend_channel_3  (index) float64 832B 1.295e+04 8.76e+03 ... 1.076e+04\n",
       "    spend_channel_4  (index) float64 832B 3.61e+03 4.561e+03 ... 4.693e+03\n",
       "    spend_channel_5  (index) float64 832B 1.296e+04 1.275e+04 ... 2.972e+03\n",
       "    spend_channel_6  (index) float64 832B 1.266e+04 1.234e+04 ... 0.0 0.0\n",
       "    spend_channel_7  (index) float64 832B 1.938e+04 2.247e+04 ... 3.055e+04\n",
       "    y                (index) float64 832B 1.579e+05 1.864e+05 ... 8.439e+04</pre><div class='xr-wrap' style='display:none'><div class='xr-header'><div class='xr-obj-type'>xarray.Dataset</div></div><ul class='xr-sections'><li class='xr-section-item'><input id='section-0c0e3ed9-c60a-4619-aa56-24a87608fff0' class='xr-section-summary-in' type='checkbox' disabled ><label for='section-0c0e3ed9-c60a-4619-aa56-24a87608fff0' class='xr-section-summary'  title='Expand/collapse section'>Dimensions:</label><div class='xr-section-inline-details'><ul class='xr-dim-list'><li><span class='xr-has-index'>index</span>: 104</li></ul></div><div class='xr-section-details'></div></li><li class='xr-section-item'><input id='section-48f2fc31-b5ea-46a1-b187-3d100536adc7' class='xr-section-summary-in' type='checkbox'  checked><label for='section-48f2fc31-b5ea-46a1-b187-3d100536adc7' class='xr-section-summary' >Coordinates: <span>(1)</span></label><div class='xr-section-inline-details'></div><div class='xr-section-details'><ul class='xr-var-list'><li class='xr-var-item'><div class='xr-var-name'><span class='xr-has-index'>index</span></div><div class='xr-var-dims'>(index)</div><div class='xr-var-dtype'>int64</div><div class='xr-var-preview xr-preview'>0 1 2 3 4 5 ... 99 100 101 102 103</div><input id='attrs-359847b1-5459-4629-9ede-9f5b3a0e31d0' class='xr-var-attrs-in' type='checkbox' disabled><label for='attrs-359847b1-5459-4629-9ede-9f5b3a0e31d0' title='Show/Hide attributes'><svg class='icon xr-icon-file-text2'><use xlink:href='#icon-file-text2'></use></svg></label><input id='data-24471f73-4c8e-453b-b140-f55a8a144de7' class='xr-var-data-in' type='checkbox'><label for='data-24471f73-4c8e-453b-b140-f55a8a144de7' title='Show/Hide data repr'><svg class='icon xr-icon-database'><use xlink:href='#icon-database'></use></svg></label><div class='xr-var-attrs'><dl class='xr-attrs'></dl></div><div class='xr-var-data'><pre>array([  0,   1,   2,   3,   4,   5,   6,   7,   8,   9,  10,  11,  12,  13,\n",
       "        14,  15,  16,  17,  18,  19,  20,  21,  22,  23,  24,  25,  26,  27,\n",
       "        28,  29,  30,  31,  32,  33,  34,  35,  36,  37,  38,  39,  40,  41,\n",
       "        42,  43,  44,  45,  46,  47,  48,  49,  50,  51,  52,  53,  54,  55,\n",
       "        56,  57,  58,  59,  60,  61,  62,  63,  64,  65,  66,  67,  68,  69,\n",
       "        70,  71,  72,  73,  74,  75,  76,  77,  78,  79,  80,  81,  82,  83,\n",
       "        84,  85,  86,  87,  88,  89,  90,  91,  92,  93,  94,  95,  96,  97,\n",
       "        98,  99, 100, 101, 102, 103])</pre></div></li></ul></div></li><li class='xr-section-item'><input id='section-3061e134-6c58-45b8-8160-6535d74292ab' class='xr-section-summary-in' type='checkbox'  checked><label for='section-3061e134-6c58-45b8-8160-6535d74292ab' class='xr-section-summary' >Data variables: <span>(9)</span></label><div class='xr-section-inline-details'></div><div class='xr-section-details'><ul class='xr-var-list'><li class='xr-var-item'><div class='xr-var-name'><span>start_of_week</span></div><div class='xr-var-dims'>(index)</div><div class='xr-var-dtype'>datetime64[ms]</div><div class='xr-var-preview xr-preview'>2020-08-30 ... 2022-08-21</div><input id='attrs-5926928f-ca94-4d84-af24-af3786c84dc4' class='xr-var-attrs-in' type='checkbox' disabled><label for='attrs-5926928f-ca94-4d84-af24-af3786c84dc4' title='Show/Hide attributes'><svg class='icon xr-icon-file-text2'><use xlink:href='#icon-file-text2'></use></svg></label><input id='data-60b9660f-082c-411a-af76-3287dd586056' class='xr-var-data-in' type='checkbox'><label for='data-60b9660f-082c-411a-af76-3287dd586056' title='Show/Hide data repr'><svg class='icon xr-icon-database'><use xlink:href='#icon-database'></use></svg></label><div class='xr-var-attrs'><dl class='xr-attrs'></dl></div><div class='xr-var-data'><pre>array([&#x27;2020-08-30T00:00:00.000&#x27;, &#x27;2020-09-06T00:00:00.000&#x27;,\n",
       "       &#x27;2020-09-13T00:00:00.000&#x27;, &#x27;2020-09-20T00:00:00.000&#x27;,\n",
       "       &#x27;2020-09-27T00:00:00.000&#x27;, &#x27;2020-10-04T00:00:00.000&#x27;,\n",
       "       &#x27;2020-10-11T00:00:00.000&#x27;, &#x27;2020-10-18T00:00:00.000&#x27;,\n",
       "       &#x27;2020-10-25T00:00:00.000&#x27;, &#x27;2020-11-01T00:00:00.000&#x27;,\n",
       "       &#x27;2020-11-08T00:00:00.000&#x27;, &#x27;2020-11-15T00:00:00.000&#x27;,\n",
       "       &#x27;2020-11-22T00:00:00.000&#x27;, &#x27;2020-11-29T00:00:00.000&#x27;,\n",
       "       &#x27;2020-12-06T00:00:00.000&#x27;, &#x27;2020-12-13T00:00:00.000&#x27;,\n",
       "       &#x27;2020-12-20T00:00:00.000&#x27;, &#x27;2020-12-27T00:00:00.000&#x27;,\n",
       "       &#x27;2021-01-03T00:00:00.000&#x27;, &#x27;2021-01-10T00:00:00.000&#x27;,\n",
       "       &#x27;2021-01-17T00:00:00.000&#x27;, &#x27;2021-01-24T00:00:00.000&#x27;,\n",
       "       &#x27;2021-01-31T00:00:00.000&#x27;, &#x27;2021-02-07T00:00:00.000&#x27;,\n",
       "       &#x27;2021-02-14T00:00:00.000&#x27;, &#x27;2021-02-21T00:00:00.000&#x27;,\n",
       "       &#x27;2021-02-28T00:00:00.000&#x27;, &#x27;2021-03-07T00:00:00.000&#x27;,\n",
       "       &#x27;2021-03-14T00:00:00.000&#x27;, &#x27;2021-03-21T00:00:00.000&#x27;,\n",
       "       &#x27;2021-03-28T00:00:00.000&#x27;, &#x27;2021-04-04T00:00:00.000&#x27;,\n",
       "       &#x27;2021-04-11T00:00:00.000&#x27;, &#x27;2021-04-18T00:00:00.000&#x27;,\n",
       "       &#x27;2021-04-25T00:00:00.000&#x27;, &#x27;2021-05-02T00:00:00.000&#x27;,\n",
       "       &#x27;2021-05-09T00:00:00.000&#x27;, &#x27;2021-05-16T00:00:00.000&#x27;,\n",
       "       &#x27;2021-05-23T00:00:00.000&#x27;, &#x27;2021-05-30T00:00:00.000&#x27;,\n",
       "...\n",
       "       &#x27;2021-12-05T00:00:00.000&#x27;, &#x27;2021-12-12T00:00:00.000&#x27;,\n",
       "       &#x27;2021-12-19T00:00:00.000&#x27;, &#x27;2021-12-26T00:00:00.000&#x27;,\n",
       "       &#x27;2022-01-02T00:00:00.000&#x27;, &#x27;2022-01-09T00:00:00.000&#x27;,\n",
       "       &#x27;2022-01-16T00:00:00.000&#x27;, &#x27;2022-01-23T00:00:00.000&#x27;,\n",
       "       &#x27;2022-01-30T00:00:00.000&#x27;, &#x27;2022-02-06T00:00:00.000&#x27;,\n",
       "       &#x27;2022-02-13T00:00:00.000&#x27;, &#x27;2022-02-20T00:00:00.000&#x27;,\n",
       "       &#x27;2022-02-27T00:00:00.000&#x27;, &#x27;2022-03-06T00:00:00.000&#x27;,\n",
       "       &#x27;2022-03-13T00:00:00.000&#x27;, &#x27;2022-03-20T00:00:00.000&#x27;,\n",
       "       &#x27;2022-03-27T00:00:00.000&#x27;, &#x27;2022-04-03T00:00:00.000&#x27;,\n",
       "       &#x27;2022-04-10T00:00:00.000&#x27;, &#x27;2022-04-17T00:00:00.000&#x27;,\n",
       "       &#x27;2022-04-24T00:00:00.000&#x27;, &#x27;2022-05-01T00:00:00.000&#x27;,\n",
       "       &#x27;2022-05-08T00:00:00.000&#x27;, &#x27;2022-05-15T00:00:00.000&#x27;,\n",
       "       &#x27;2022-05-22T00:00:00.000&#x27;, &#x27;2022-05-29T00:00:00.000&#x27;,\n",
       "       &#x27;2022-06-05T00:00:00.000&#x27;, &#x27;2022-06-12T00:00:00.000&#x27;,\n",
       "       &#x27;2022-06-19T00:00:00.000&#x27;, &#x27;2022-06-26T00:00:00.000&#x27;,\n",
       "       &#x27;2022-07-03T00:00:00.000&#x27;, &#x27;2022-07-10T00:00:00.000&#x27;,\n",
       "       &#x27;2022-07-17T00:00:00.000&#x27;, &#x27;2022-07-24T00:00:00.000&#x27;,\n",
       "       &#x27;2022-07-31T00:00:00.000&#x27;, &#x27;2022-08-07T00:00:00.000&#x27;,\n",
       "       &#x27;2022-08-14T00:00:00.000&#x27;, &#x27;2022-08-21T00:00:00.000&#x27;],\n",
       "      dtype=&#x27;datetime64[ms]&#x27;)</pre></div></li><li class='xr-var-item'><div class='xr-var-name'><span>spend_channel_1</span></div><div class='xr-var-dims'>(index)</div><div class='xr-var-dtype'>float64</div><div class='xr-var-preview xr-preview'>2.625e+03 2.634e+03 ... 0.0 0.0</div><input id='attrs-a11b7d1c-8b4c-4c5f-99ae-a1421ec58d4f' class='xr-var-attrs-in' type='checkbox' disabled><label for='attrs-a11b7d1c-8b4c-4c5f-99ae-a1421ec58d4f' title='Show/Hide attributes'><svg class='icon xr-icon-file-text2'><use xlink:href='#icon-file-text2'></use></svg></label><input id='data-1883c9a5-94f4-45d4-a3f9-e9c2adbfd8cd' class='xr-var-data-in' type='checkbox'><label for='data-1883c9a5-94f4-45d4-a3f9-e9c2adbfd8cd' title='Show/Hide data repr'><svg class='icon xr-icon-database'><use xlink:href='#icon-database'></use></svg></label><div class='xr-var-attrs'><dl class='xr-attrs'></dl></div><div class='xr-var-data'><pre>array([2625.48, 2634.01, 2087.08, 1690.7 , 1547.3 , 3655.19, 6459.43,\n",
       "       2367.28, 1445.99,  370.19, 1723.65, 1680.81, 1506.03, 3851.97,\n",
       "       1372.79,  808.36, 1128.52,  925.43, 1849.79, 1378.59,  923.82,\n",
       "        591.81,  633.51,  859.75, 1171.96, 1585.95, 1539.46, 1686.13,\n",
       "       1723.25, 1360.76,  793.79, 2907.25, 3521.23, 3761.5 , 2926.86,\n",
       "       4951.11, 3091.88, 3867.33, 2218.41, 1253.65, 1541.65,  924.77,\n",
       "        695.  ,  421.26,  325.11, 1427.3 , 1997.43,  811.36,  569.96,\n",
       "        619.89,  516.1 ,  516.02,  536.35,  891.98,  588.53,  853.99,\n",
       "        481.63, 2802.33, 8513.83, 2242.98,  653.94,  157.7 ,  690.25,\n",
       "       1067.75, 1057.36, 3046.26,  615.79,  610.2 ,  793.52,  415.25,\n",
       "        919.74, 1033.16, 1050.42,  735.9 ,  690.07, 1517.7 , 1650.44,\n",
       "       1178.19,  337.33,  189.53,   44.36,  183.4 ,  211.87,  302.58,\n",
       "        428.8 ,   37.33,   32.16,   33.28,   44.61,   38.6 ,   19.94,\n",
       "          0.  ,    0.  ,    0.  ,    0.  ,    0.  ,    0.  ,    0.  ,\n",
       "          0.  ,    0.  ,    0.  ,    0.  ,    0.  ,    0.  ])</pre></div></li><li class='xr-var-item'><div class='xr-var-name'><span>spend_channel_2</span></div><div class='xr-var-dims'>(index)</div><div class='xr-var-dtype'>float64</div><div class='xr-var-preview xr-preview'>262.7 108.7 ... 1.043e+03 387.9</div><input id='attrs-1fd44eda-beff-4f3d-b400-e8126be96623' class='xr-var-attrs-in' type='checkbox' disabled><label for='attrs-1fd44eda-beff-4f3d-b400-e8126be96623' title='Show/Hide attributes'><svg class='icon xr-icon-file-text2'><use xlink:href='#icon-file-text2'></use></svg></label><input id='data-cb918ec2-1111-401b-a49e-0de1bf279189' class='xr-var-data-in' type='checkbox'><label for='data-cb918ec2-1111-401b-a49e-0de1bf279189' title='Show/Hide data repr'><svg class='icon xr-icon-database'><use xlink:href='#icon-database'></use></svg></label><div class='xr-var-attrs'><dl class='xr-attrs'></dl></div><div class='xr-var-data'><pre>array([ 262.71,  108.66,  110.32,   52.79,   80.56,  525.06,  640.94,\n",
       "        121.88,   91.7 ,   98.93,  136.25,  158.57,  126.29,  832.21,\n",
       "        141.3 ,  115.22,   88.58,  139.94,  207.88,  152.34,  199.4 ,\n",
       "        122.4 ,  201.6 ,  147.2 ,  173.36,  126.9 ,  337.1 ,  250.16,\n",
       "        320.65,  134.71,  161.73,  357.24,  656.05,  138.03,   98.29,\n",
       "         90.62,    4.91,    6.44,    4.37,    4.85,  152.06,  265.3 ,\n",
       "        133.77,  136.96,  104.6 ,   95.46,   73.44,   11.2 ,   60.74,\n",
       "          5.85,  123.25,   37.75,  126.41,   94.65,   82.4 ,   68.53,\n",
       "         43.08,  244.27,  800.32,  342.35,  231.24,  446.8 ,  521.04,\n",
       "        295.24,  204.54,  751.09,  202.44,  208.52,  271.27,  204.64,\n",
       "        323.86,  116.24,  184.37,  160.2 ,  166.71,  724.6 ,  552.25,\n",
       "        555.55,  525.61,  737.17,  643.15,  701.92, 1062.63, 1457.37,\n",
       "       1605.85,  190.37,  664.7 , 1141.14,  711.64,  608.41,  945.14,\n",
       "        714.34,  598.31,  934.12,  663.62,  724.87,  213.28,  322.67,\n",
       "        295.03, 1118.78,  122.16,  754.09, 1043.22,  387.94])</pre></div></li><li class='xr-var-item'><div class='xr-var-name'><span>spend_channel_3</span></div><div class='xr-var-dims'>(index)</div><div class='xr-var-dtype'>float64</div><div class='xr-var-preview xr-preview'>1.295e+04 8.76e+03 ... 1.076e+04</div><input id='attrs-b2ce9471-e824-48ab-b506-620718dbd00e' class='xr-var-attrs-in' type='checkbox' disabled><label for='attrs-b2ce9471-e824-48ab-b506-620718dbd00e' title='Show/Hide attributes'><svg class='icon xr-icon-file-text2'><use xlink:href='#icon-file-text2'></use></svg></label><input id='data-a8ada79c-cf83-4702-84cc-4a141400f86a' class='xr-var-data-in' type='checkbox'><label for='data-a8ada79c-cf83-4702-84cc-4a141400f86a' title='Show/Hide data repr'><svg class='icon xr-icon-database'><use xlink:href='#icon-database'></use></svg></label><div class='xr-var-attrs'><dl class='xr-attrs'></dl></div><div class='xr-var-data'><pre>array([12954.12,  8760.28,  7155.42, 15185.22, 18524.05, 18024.45,\n",
       "       24012.09, 13718.53, 12026.26, 24509.24, 35550.52, 17515.36,\n",
       "       14554.56, 39295.61, 10183.94,  5938.13, 19298.22, 16713.63,\n",
       "       27204.9 , 14279.55, 16903.63, 12347.75, 21922.03, 12470.1 ,\n",
       "       14146.37, 15313.02, 15506.92, 10829.28, 12462.28, 11897.12,\n",
       "       19956.15, 36953.86, 48647.03, 18065.56, 17800.8 , 33811.68,\n",
       "       22234.65, 16266.97, 17813.65, 24393.36, 28661.49, 21698.85,\n",
       "       14373.13, 15422.9 , 23831.13, 17723.09, 22982.73,  9680.76,\n",
       "       10623.02, 17834.45,  9919.01,  8180.97,  6815.22,  6306.97,\n",
       "        8330.38, 13932.49, 41600.18, 42940.75, 32752.13, 18958.76,\n",
       "       20752.25, 25463.17, 22163.28, 25607.28, 29873.16, 36615.76,\n",
       "       30464.98, 26947.34, 18982.83, 19055.36, 24756.34, 20885.57,\n",
       "       20957.15, 17346.69, 17208.52, 18472.31, 18978.58, 18033.46,\n",
       "       15527.73, 18363.56, 17403.04, 18550.13, 21755.33, 28759.23,\n",
       "       49689.38, 19992.44, 19330.29, 16570.19, 12989.11, 17496.25,\n",
       "       17276.21, 13423.91, 12983.59, 12158.65, 18260.69, 19853.38,\n",
       "       30537.66, 17198.03, 18450.17, 22305.1 , 15812.65, 12166.85,\n",
       "       10856.58, 10757.63])</pre></div></li><li class='xr-var-item'><div class='xr-var-name'><span>spend_channel_4</span></div><div class='xr-var-dims'>(index)</div><div class='xr-var-dtype'>float64</div><div class='xr-var-preview xr-preview'>3.61e+03 4.561e+03 ... 4.693e+03</div><input id='attrs-0cccbf99-5de4-43aa-a6e1-d14eaabcc951' class='xr-var-attrs-in' type='checkbox' disabled><label for='attrs-0cccbf99-5de4-43aa-a6e1-d14eaabcc951' title='Show/Hide attributes'><svg class='icon xr-icon-file-text2'><use xlink:href='#icon-file-text2'></use></svg></label><input id='data-60732c9c-aeaf-4967-b839-b20079c3f801' class='xr-var-data-in' type='checkbox'><label for='data-60732c9c-aeaf-4967-b839-b20079c3f801' title='Show/Hide data repr'><svg class='icon xr-icon-database'><use xlink:href='#icon-database'></use></svg></label><div class='xr-var-attrs'><dl class='xr-attrs'></dl></div><div class='xr-var-data'><pre>array([ 3609.63,  4560.6 ,  4362.96,  3883.41,  4043.09,  9739.47,\n",
       "        7048.24,  3602.2 ,  3886.93,  4982.32,  4847.53,  5878.32,\n",
       "        5680.32, 10667.  ,  7226.42,  5463.07,  5147.45,  4194.17,\n",
       "        4350.36,  5254.72,  5743.9 ,  5109.34,  4786.6 ,  4758.46,\n",
       "        5698.46,  5868.56, 12537.59,  6859.41,  5414.72,  5258.94,\n",
       "        6020.31,  7959.57,  9458.72,  5342.25,  4701.06,  5115.47,\n",
       "        5900.58,  3639.78,  3931.88,  5791.7 ,  6856.29,  7166.83,\n",
       "        8588.03,  6214.97,  5869.46,  6225.17,  6220.97,  4520.27,\n",
       "        5373.96,  5555.3 ,  6685.93,  6173.83,  6299.63,  6621.23,\n",
       "        5921.62,  6389.69,  7633.33, 13243.6 , 21938.25, 10951.92,\n",
       "        7450.42,  7092.86,  7433.03, 11289.72, 10304.04, 22629.69,\n",
       "       15404.13, 11666.76,  6406.53,  3723.76,  4563.71,  6557.2 ,\n",
       "        7328.47,  5810.17,  6403.17,  7862.43,  7002.85,  6809.48,\n",
       "        5316.62,  5434.61,  6162.22,  7827.63,  7530.97, 10568.62,\n",
       "       11892.44,  8220.39,  7880.52, 10890.98,  5310.97,  6645.23,\n",
       "        8730.71,  8634.74,  7866.64,  7295.1 ,  6871.29,  6826.65,\n",
       "        6738.55,  5737.36,  4830.59,  4566.01,  4795.51,  4961.12,\n",
       "        4431.13,  4693.41])</pre></div></li><li class='xr-var-item'><div class='xr-var-name'><span>spend_channel_5</span></div><div class='xr-var-dims'>(index)</div><div class='xr-var-dtype'>float64</div><div class='xr-var-preview xr-preview'>1.296e+04 1.275e+04 ... 2.972e+03</div><input id='attrs-42b4eb07-3d43-4942-8d6e-77301d6363c1' class='xr-var-attrs-in' type='checkbox' disabled><label for='attrs-42b4eb07-3d43-4942-8d6e-77301d6363c1' title='Show/Hide attributes'><svg class='icon xr-icon-file-text2'><use xlink:href='#icon-file-text2'></use></svg></label><input id='data-a7346bfc-3e98-428b-ae60-a44c624cc65e' class='xr-var-data-in' type='checkbox'><label for='data-a7346bfc-3e98-428b-ae60-a44c624cc65e' title='Show/Hide data repr'><svg class='icon xr-icon-database'><use xlink:href='#icon-database'></use></svg></label><div class='xr-var-attrs'><dl class='xr-attrs'></dl></div><div class='xr-var-data'><pre>array([12955.29, 12747.7 , 15015.41, 15521.41, 15793.74, 20804.05,\n",
       "       33009.65, 27609.98, 16244.03,  8945.98, 14683.1 , 18650.04,\n",
       "       20683.09, 25284.06, 14808.32,  5392.63,  5825.81,  7121.78,\n",
       "       10385.54,  7570.92, 10602.04, 14674.76, 15512.61, 13627.93,\n",
       "       11036.94, 11484.54, 11648.85,  9276.37,  9066.46,  8550.25,\n",
       "        9691.38, 10995.03, 17219.03, 16708.63, 16299.5 , 18909.83,\n",
       "       17543.23, 10865.82, 12219.75, 18011.9 , 19748.64, 18754.04,\n",
       "       18843.97, 18043.68, 15854.32, 14265.19, 15848.55, 11750.68,\n",
       "        8061.39,  6748.83,  7009.71,  6670.83,  7019.46,  5666.66,\n",
       "        4996.25,  2698.88,  2911.76,  7729.25,  8115.33,  2864.39,\n",
       "        2090.7 ,  1722.66,  1970.74,  1488.47,  1384.94,  1782.69,\n",
       "        2202.63,  2281.9 ,  1065.49,   747.46,  1046.89,  1674.41,\n",
       "        1625.37,  1312.72,  2134.8 ,  1769.99,  1899.99,  1252.79,\n",
       "        1124.85,  1338.3 ,  1413.08,  1842.8 ,  2996.45,  3417.89,\n",
       "        3841.65,  3636.03,  3549.  ,  2872.85,  2538.28,  3256.92,\n",
       "       10606.26,  3659.99,  2994.77,  3536.73,  3406.82,  3629.09,\n",
       "        3347.91,  3244.37,  3158.67,  2987.7 ,  3293.4 ,  4057.03,\n",
       "        3086.81,  2972.11])</pre></div></li><li class='xr-var-item'><div class='xr-var-name'><span>spend_channel_6</span></div><div class='xr-var-dims'>(index)</div><div class='xr-var-dtype'>float64</div><div class='xr-var-preview xr-preview'>1.266e+04 1.234e+04 ... 0.0 0.0</div><input id='attrs-8028b8b9-c7a0-49ff-ab29-2c5741ca0117' class='xr-var-attrs-in' type='checkbox' disabled><label for='attrs-8028b8b9-c7a0-49ff-ab29-2c5741ca0117' title='Show/Hide attributes'><svg class='icon xr-icon-file-text2'><use xlink:href='#icon-file-text2'></use></svg></label><input id='data-d47ecf5c-9b7e-49cb-a83f-94c771f6ebb3' class='xr-var-data-in' type='checkbox'><label for='data-d47ecf5c-9b7e-49cb-a83f-94c771f6ebb3' title='Show/Hide data repr'><svg class='icon xr-icon-database'><use xlink:href='#icon-database'></use></svg></label><div class='xr-var-attrs'><dl class='xr-attrs'></dl></div><div class='xr-var-data'><pre>array([1.265912e+04, 1.233818e+04, 1.081115e+04, 1.289022e+04,\n",
       "       1.264255e+04, 2.544563e+04, 3.369283e+04, 1.435262e+04,\n",
       "       8.110340e+03, 7.837480e+03, 1.221342e+04, 1.526468e+04,\n",
       "       8.695920e+03, 1.518033e+04, 1.499714e+04, 1.061390e+03,\n",
       "       4.989110e+03, 1.156690e+03, 0.000000e+00, 4.546000e+03,\n",
       "       9.403020e+03, 1.556054e+04, 9.943770e+03, 6.675370e+03,\n",
       "       1.254275e+04, 1.202153e+04, 7.761720e+03, 1.283783e+04,\n",
       "       1.301350e+04, 5.317330e+03, 5.998060e+03, 1.518472e+04,\n",
       "       3.068904e+04, 9.519110e+03, 5.003230e+03, 8.720080e+03,\n",
       "       3.445720e+03, 2.823780e+03, 3.651420e+03, 2.609940e+03,\n",
       "       2.236250e+03, 1.734320e+03, 1.395470e+03, 1.095902e+04,\n",
       "       2.019710e+03, 3.468490e+03, 5.251370e+03, 1.888600e+02,\n",
       "       0.000000e+00, 0.000000e+00, 0.000000e+00, 1.900000e-01,\n",
       "       0.000000e+00, 0.000000e+00, 0.000000e+00, 0.000000e+00,\n",
       "       0.000000e+00, 3.612200e+02, 1.142490e+03, 3.918400e+02,\n",
       "       0.000000e+00, 0.000000e+00, 0.000000e+00, 0.000000e+00,\n",
       "       0.000000e+00, 9.413420e+03, 1.673771e+04, 2.927070e+03,\n",
       "       6.928950e+03, 8.286130e+03, 8.457300e+02, 0.000000e+00,\n",
       "       0.000000e+00, 0.000000e+00, 0.000000e+00, 0.000000e+00,\n",
       "       0.000000e+00, 0.000000e+00, 5.432010e+03, 6.199660e+03,\n",
       "       4.975380e+03, 3.110450e+03, 3.091520e+03, 3.152510e+03,\n",
       "       3.259220e+03, 1.508450e+03, 0.000000e+00, 0.000000e+00,\n",
       "       0.000000e+00, 0.000000e+00, 0.000000e+00, 0.000000e+00,\n",
       "       0.000000e+00, 0.000000e+00, 0.000000e+00, 0.000000e+00,\n",
       "       0.000000e+00, 0.000000e+00, 0.000000e+00, 0.000000e+00,\n",
       "       0.000000e+00, 0.000000e+00, 0.000000e+00, 0.000000e+00])</pre></div></li><li class='xr-var-item'><div class='xr-var-name'><span>spend_channel_7</span></div><div class='xr-var-dims'>(index)</div><div class='xr-var-dtype'>float64</div><div class='xr-var-preview xr-preview'>1.938e+04 2.247e+04 ... 3.055e+04</div><input id='attrs-1ee19820-d04e-4971-bfa5-2f9f3725b1fc' class='xr-var-attrs-in' type='checkbox' disabled><label for='attrs-1ee19820-d04e-4971-bfa5-2f9f3725b1fc' title='Show/Hide attributes'><svg class='icon xr-icon-file-text2'><use xlink:href='#icon-file-text2'></use></svg></label><input id='data-280ef209-22a3-4f88-a0e3-a6533a220a65' class='xr-var-data-in' type='checkbox'><label for='data-280ef209-22a3-4f88-a0e3-a6533a220a65' title='Show/Hide data repr'><svg class='icon xr-icon-database'><use xlink:href='#icon-database'></use></svg></label><div class='xr-var-attrs'><dl class='xr-attrs'></dl></div><div class='xr-var-data'><pre>array([19379.79, 22473.45, 22596.05, 24728.73, 26515.48, 30394.41,\n",
       "       37544.71, 33966.36, 24494.61, 17768.76, 25127.6 , 26075.  ,\n",
       "       27446.33, 38979.13, 20745.24,  9619.05, 11577.62, 15975.87,\n",
       "       23412.  , 16154.33, 14624.03, 15689.36, 14991.27, 16178.87,\n",
       "       18886.75, 21915.36, 29649.83, 23417.48, 19398.91, 17648.65,\n",
       "       16248.63, 20283.93, 31543.01, 24983.75, 24206.23, 23997.43,\n",
       "       16294.41, 12200.69, 13678.37, 20810.74, 21485.01, 22123.47,\n",
       "       21284.47, 23162.55, 22997.88, 20509.8 , 22353.55, 18337.02,\n",
       "       13920.99, 13155.19, 11864.66,  9391.21, 12578.77, 14880.76,\n",
       "       24291.05, 33407.86, 39560.14, 42671.08, 61984.12, 32157.94,\n",
       "       21521.43, 19440.2 , 23667.57, 20549.04, 17634.36, 51899.84,\n",
       "       60841.75, 37641.98, 33814.75, 28003.88, 37277.71, 46079.46,\n",
       "       39037.25, 37422.48, 37729.77, 37526.45, 36334.67, 41932.51,\n",
       "       37134.44, 53148.66, 46198.33, 41788.51, 49782.9 , 56553.26,\n",
       "       77488.42, 35134.6 , 32270.65, 21500.12, 23131.79, 29686.37,\n",
       "       32269.64, 22281.56, 23433.41, 30375.11, 37994.99, 32639.33,\n",
       "       28663.43, 30159.33, 25295.06, 19916.88, 22687.98, 30142.64,\n",
       "       28622.78, 30547.18])</pre></div></li><li class='xr-var-item'><div class='xr-var-name'><span>y</span></div><div class='xr-var-dims'>(index)</div><div class='xr-var-dtype'>float64</div><div class='xr-var-preview xr-preview'>1.579e+05 1.864e+05 ... 8.439e+04</div><input id='attrs-73760a51-dc9c-444a-b16e-dfac8cc3f02c' class='xr-var-attrs-in' type='checkbox' disabled><label for='attrs-73760a51-dc9c-444a-b16e-dfac8cc3f02c' title='Show/Hide attributes'><svg class='icon xr-icon-file-text2'><use xlink:href='#icon-file-text2'></use></svg></label><input id='data-b4f19248-eb68-44b4-9719-17906d2dad37' class='xr-var-data-in' type='checkbox'><label for='data-b4f19248-eb68-44b4-9719-17906d2dad37' title='Show/Hide data repr'><svg class='icon xr-icon-database'><use xlink:href='#icon-database'></use></svg></label><div class='xr-var-attrs'><dl class='xr-attrs'></dl></div><div class='xr-var-data'><pre>array([157906.75, 186425.68, 161607.39, 180089.13, 217793.98, 195581.04,\n",
       "       146951.61, 163640.65, 193045.15, 213117.17, 202321.02, 216421.33,\n",
       "       157640.79, 418186.38, 150423.19,  79905.57,  82020.23,  80242.82,\n",
       "       115207.83,  97216.86,  96071.01, 284010.24, 226994.32, 185245.11,\n",
       "       136635.71, 126429.93, 132752.27, 133781.06, 111934.63, 109520.23,\n",
       "       131152.3 , 120806.08, 224619.82, 157978.67, 148937.15, 148009.13,\n",
       "       146088.85, 131558.92, 119857.12, 123651.16, 125654.17, 171770.03,\n",
       "       154713.33, 121627.46, 143288.33, 102170.12,  72849.92,  63207.09,\n",
       "        99723.69,  89140.57,  90561.75, 104448.8 ,  95478.58, 108053.5 ,\n",
       "        96973.9 ,  94023.65, 153611.64, 161339.43, 124309.37, 119760.17,\n",
       "       104755.63, 131150.99, 115514.46, 134166.65, 123340.71, 276991.38,\n",
       "       164983.21, 125366.99, 118347.81,  85812.46, 140621.95, 176976.89,\n",
       "       155443.56, 135049.55, 141850.49, 142541.8 , 106987.32, 109084.8 ,\n",
       "        88648.47, 140894.86, 170858.25, 137694.7 , 138956.96, 187398.65,\n",
       "       164226.  , 165685.82, 137008.43, 146791.96, 103143.58, 107242.37,\n",
       "        93541.63,  99762.92, 100192.38, 123826.11, 109330.8 ,  96935.55,\n",
       "        99827.27,  72222.52,  73682.25,  72021.5 ,  90786.21, 105929.4 ,\n",
       "        90506.31,  84394.5 ])</pre></div></li></ul></div></li><li class='xr-section-item'><input id='section-9ec0516e-427b-44cf-a86c-6403880f77be' class='xr-section-summary-in' type='checkbox'  ><label for='section-9ec0516e-427b-44cf-a86c-6403880f77be' class='xr-section-summary' >Indexes: <span>(1)</span></label><div class='xr-section-inline-details'></div><div class='xr-section-details'><ul class='xr-var-list'><li class='xr-var-item'><div class='xr-index-name'><div>index</div></div><div class='xr-index-preview'>PandasIndex</div><input type='checkbox' disabled/><label></label><input id='index-d5ef057b-2c14-4062-ad67-4636d6bb51e1' class='xr-index-data-in' type='checkbox'/><label for='index-d5ef057b-2c14-4062-ad67-4636d6bb51e1' title='Show/Hide index repr'><svg class='icon xr-icon-database'><use xlink:href='#icon-database'></use></svg></label><div class='xr-index-data'><pre>PandasIndex(RangeIndex(start=0, stop=104, step=1, name=&#x27;index&#x27;))</pre></div></li></ul></div></li><li class='xr-section-item'><input id='section-00a16ea9-c8c5-452b-9ed7-410e73d08a50' class='xr-section-summary-in' type='checkbox' disabled ><label for='section-00a16ea9-c8c5-452b-9ed7-410e73d08a50' class='xr-section-summary'  title='Expand/collapse section'>Attributes: <span>(0)</span></label><div class='xr-section-inline-details'></div><div class='xr-section-details'><dl class='xr-attrs'></dl></div></li></ul></div></div><br></div>\n",
       "                      </ul>\n",
       "                  </div>\n",
       "            </li>\n",
       "            \n",
       "              </ul>\n",
       "            </div>\n",
       "            <style> /* CSS stylesheet for displaying InferenceData objects in jupyterlab.\n",
       " *\n",
       " */\n",
       "\n",
       ":root {\n",
       "  --xr-font-color0: var(--jp-content-font-color0, rgba(0, 0, 0, 1));\n",
       "  --xr-font-color2: var(--jp-content-font-color2, rgba(0, 0, 0, 0.54));\n",
       "  --xr-font-color3: var(--jp-content-font-color3, rgba(0, 0, 0, 0.38));\n",
       "  --xr-border-color: var(--jp-border-color2, #e0e0e0);\n",
       "  --xr-disabled-color: var(--jp-layout-color3, #bdbdbd);\n",
       "  --xr-background-color: var(--jp-layout-color0, white);\n",
       "  --xr-background-color-row-even: var(--jp-layout-color1, white);\n",
       "  --xr-background-color-row-odd: var(--jp-layout-color2, #eeeeee);\n",
       "}\n",
       "\n",
       "html[theme=dark],\n",
       "body.vscode-dark {\n",
       "  --xr-font-color0: rgba(255, 255, 255, 1);\n",
       "  --xr-font-color2: rgba(255, 255, 255, 0.54);\n",
       "  --xr-font-color3: rgba(255, 255, 255, 0.38);\n",
       "  --xr-border-color: #1F1F1F;\n",
       "  --xr-disabled-color: #515151;\n",
       "  --xr-background-color: #111111;\n",
       "  --xr-background-color-row-even: #111111;\n",
       "  --xr-background-color-row-odd: #313131;\n",
       "}\n",
       "\n",
       ".xr-wrap {\n",
       "  display: block;\n",
       "  min-width: 300px;\n",
       "  max-width: 700px;\n",
       "}\n",
       "\n",
       ".xr-text-repr-fallback {\n",
       "  /* fallback to plain text repr when CSS is not injected (untrusted notebook) */\n",
       "  display: none;\n",
       "}\n",
       "\n",
       ".xr-header {\n",
       "  padding-top: 6px;\n",
       "  padding-bottom: 6px;\n",
       "  margin-bottom: 4px;\n",
       "  border-bottom: solid 1px var(--xr-border-color);\n",
       "}\n",
       "\n",
       ".xr-header > div,\n",
       ".xr-header > ul {\n",
       "  display: inline;\n",
       "  margin-top: 0;\n",
       "  margin-bottom: 0;\n",
       "}\n",
       "\n",
       ".xr-obj-type,\n",
       ".xr-array-name {\n",
       "  margin-left: 2px;\n",
       "  margin-right: 10px;\n",
       "}\n",
       "\n",
       ".xr-obj-type {\n",
       "  color: var(--xr-font-color2);\n",
       "}\n",
       "\n",
       ".xr-sections {\n",
       "  padding-left: 0 !important;\n",
       "  display: grid;\n",
       "  grid-template-columns: 150px auto auto 1fr 20px 20px;\n",
       "}\n",
       "\n",
       ".xr-sections.group-sections {\n",
       "  grid-template-columns: auto;\n",
       "}\n",
       "\n",
       ".xr-section-item {\n",
       "  display: contents;\n",
       "}\n",
       "\n",
       ".xr-section-item input {\n",
       "  display: none;\n",
       "}\n",
       "\n",
       ".xr-section-item input + label {\n",
       "  color: var(--xr-disabled-color);\n",
       "}\n",
       "\n",
       ".xr-section-item input:enabled + label {\n",
       "  cursor: pointer;\n",
       "  color: var(--xr-font-color2);\n",
       "}\n",
       "\n",
       ".xr-section-item input:enabled + label:hover {\n",
       "  color: var(--xr-font-color0);\n",
       "}\n",
       "\n",
       ".xr-section-summary {\n",
       "  grid-column: 1;\n",
       "  color: var(--xr-font-color2);\n",
       "  font-weight: 500;\n",
       "}\n",
       "\n",
       ".xr-section-summary > span {\n",
       "  display: inline-block;\n",
       "  padding-left: 0.5em;\n",
       "}\n",
       "\n",
       ".xr-section-summary-in:disabled + label {\n",
       "  color: var(--xr-font-color2);\n",
       "}\n",
       "\n",
       ".xr-section-summary-in + label:before {\n",
       "  display: inline-block;\n",
       "  content: '►';\n",
       "  font-size: 11px;\n",
       "  width: 15px;\n",
       "  text-align: center;\n",
       "}\n",
       "\n",
       ".xr-section-summary-in:disabled + label:before {\n",
       "  color: var(--xr-disabled-color);\n",
       "}\n",
       "\n",
       ".xr-section-summary-in:checked + label:before {\n",
       "  content: '▼';\n",
       "}\n",
       "\n",
       ".xr-section-summary-in:checked + label > span {\n",
       "  display: none;\n",
       "}\n",
       "\n",
       ".xr-section-summary,\n",
       ".xr-section-inline-details {\n",
       "  padding-top: 4px;\n",
       "  padding-bottom: 4px;\n",
       "}\n",
       "\n",
       ".xr-section-inline-details {\n",
       "  grid-column: 2 / -1;\n",
       "}\n",
       "\n",
       ".xr-section-details {\n",
       "  display: none;\n",
       "  grid-column: 1 / -1;\n",
       "  margin-bottom: 5px;\n",
       "}\n",
       "\n",
       ".xr-section-summary-in:checked ~ .xr-section-details {\n",
       "  display: contents;\n",
       "}\n",
       "\n",
       ".xr-array-wrap {\n",
       "  grid-column: 1 / -1;\n",
       "  display: grid;\n",
       "  grid-template-columns: 20px auto;\n",
       "}\n",
       "\n",
       ".xr-array-wrap > label {\n",
       "  grid-column: 1;\n",
       "  vertical-align: top;\n",
       "}\n",
       "\n",
       ".xr-preview {\n",
       "  color: var(--xr-font-color3);\n",
       "}\n",
       "\n",
       ".xr-array-preview,\n",
       ".xr-array-data {\n",
       "  padding: 0 5px !important;\n",
       "  grid-column: 2;\n",
       "}\n",
       "\n",
       ".xr-array-data,\n",
       ".xr-array-in:checked ~ .xr-array-preview {\n",
       "  display: none;\n",
       "}\n",
       "\n",
       ".xr-array-in:checked ~ .xr-array-data,\n",
       ".xr-array-preview {\n",
       "  display: inline-block;\n",
       "}\n",
       "\n",
       ".xr-dim-list {\n",
       "  display: inline-block !important;\n",
       "  list-style: none;\n",
       "  padding: 0 !important;\n",
       "  margin: 0;\n",
       "}\n",
       "\n",
       ".xr-dim-list li {\n",
       "  display: inline-block;\n",
       "  padding: 0;\n",
       "  margin: 0;\n",
       "}\n",
       "\n",
       ".xr-dim-list:before {\n",
       "  content: '(';\n",
       "}\n",
       "\n",
       ".xr-dim-list:after {\n",
       "  content: ')';\n",
       "}\n",
       "\n",
       ".xr-dim-list li:not(:last-child):after {\n",
       "  content: ',';\n",
       "  padding-right: 5px;\n",
       "}\n",
       "\n",
       ".xr-has-index {\n",
       "  font-weight: bold;\n",
       "}\n",
       "\n",
       ".xr-var-list,\n",
       ".xr-var-item {\n",
       "  display: contents;\n",
       "}\n",
       "\n",
       ".xr-var-item > div,\n",
       ".xr-var-item label,\n",
       ".xr-var-item > .xr-var-name span {\n",
       "  background-color: var(--xr-background-color-row-even);\n",
       "  margin-bottom: 0;\n",
       "}\n",
       "\n",
       ".xr-var-item > .xr-var-name:hover span {\n",
       "  padding-right: 5px;\n",
       "}\n",
       "\n",
       ".xr-var-list > li:nth-child(odd) > div,\n",
       ".xr-var-list > li:nth-child(odd) > label,\n",
       ".xr-var-list > li:nth-child(odd) > .xr-var-name span {\n",
       "  background-color: var(--xr-background-color-row-odd);\n",
       "}\n",
       "\n",
       ".xr-var-name {\n",
       "  grid-column: 1;\n",
       "}\n",
       "\n",
       ".xr-var-dims {\n",
       "  grid-column: 2;\n",
       "}\n",
       "\n",
       ".xr-var-dtype {\n",
       "  grid-column: 3;\n",
       "  text-align: right;\n",
       "  color: var(--xr-font-color2);\n",
       "}\n",
       "\n",
       ".xr-var-preview {\n",
       "  grid-column: 4;\n",
       "}\n",
       "\n",
       ".xr-var-name,\n",
       ".xr-var-dims,\n",
       ".xr-var-dtype,\n",
       ".xr-preview,\n",
       ".xr-attrs dt {\n",
       "  white-space: nowrap;\n",
       "  overflow: hidden;\n",
       "  text-overflow: ellipsis;\n",
       "  padding-right: 10px;\n",
       "}\n",
       "\n",
       ".xr-var-name:hover,\n",
       ".xr-var-dims:hover,\n",
       ".xr-var-dtype:hover,\n",
       ".xr-attrs dt:hover {\n",
       "  overflow: visible;\n",
       "  width: auto;\n",
       "  z-index: 1;\n",
       "}\n",
       "\n",
       ".xr-var-attrs,\n",
       ".xr-var-data {\n",
       "  display: none;\n",
       "  background-color: var(--xr-background-color) !important;\n",
       "  padding-bottom: 5px !important;\n",
       "}\n",
       "\n",
       ".xr-var-attrs-in:checked ~ .xr-var-attrs,\n",
       ".xr-var-data-in:checked ~ .xr-var-data {\n",
       "  display: block;\n",
       "}\n",
       "\n",
       ".xr-var-data > table {\n",
       "  float: right;\n",
       "}\n",
       "\n",
       ".xr-var-name span,\n",
       ".xr-var-data,\n",
       ".xr-attrs {\n",
       "  padding-left: 25px !important;\n",
       "}\n",
       "\n",
       ".xr-attrs,\n",
       ".xr-var-attrs,\n",
       ".xr-var-data {\n",
       "  grid-column: 1 / -1;\n",
       "}\n",
       "\n",
       "dl.xr-attrs {\n",
       "  padding: 0;\n",
       "  margin: 0;\n",
       "  display: grid;\n",
       "  grid-template-columns: 125px auto;\n",
       "}\n",
       "\n",
       ".xr-attrs dt,\n",
       ".xr-attrs dd {\n",
       "  padding: 0;\n",
       "  margin: 0;\n",
       "  float: left;\n",
       "  padding-right: 10px;\n",
       "  width: auto;\n",
       "}\n",
       "\n",
       ".xr-attrs dt {\n",
       "  font-weight: normal;\n",
       "  grid-column: 1;\n",
       "}\n",
       "\n",
       ".xr-attrs dt:hover span {\n",
       "  display: inline-block;\n",
       "  background: var(--xr-background-color);\n",
       "  padding-right: 10px;\n",
       "}\n",
       "\n",
       ".xr-attrs dd {\n",
       "  grid-column: 2;\n",
       "  white-space: pre-wrap;\n",
       "  word-break: break-all;\n",
       "}\n",
       "\n",
       ".xr-icon-database,\n",
       ".xr-icon-file-text2 {\n",
       "  display: inline-block;\n",
       "  vertical-align: middle;\n",
       "  width: 1em;\n",
       "  height: 1.5em !important;\n",
       "  stroke-width: 0;\n",
       "  stroke: currentColor;\n",
       "  fill: currentColor;\n",
       "}\n",
       ".xr-wrap{width:700px!important;} </style>"
      ],
      "text/plain": [
       "Inference data with groups:\n",
       "\t> posterior\n",
       "\t> sample_stats\n",
       "\t> observed_data\n",
       "\t> constant_data\n",
       "\t> fit_data"
      ]
     },
     "execution_count": 14,
     "metadata": {},
     "output_type": "execute_result"
    }
   ],
   "source": [
    "mmm.fit(X=X, y=y, chains=4, target_accept=0.85, nuts_sampler=\"numpyro\", random_seed=42)"
   ]
  },
  {
   "cell_type": "code",
   "execution_count": 15,
   "id": "1b8b9e00",
   "metadata": {},
   "outputs": [
    {
     "data": {
      "text/plain": [
       "0"
      ]
     },
     "execution_count": 15,
     "metadata": {},
     "output_type": "execute_result"
    }
   ],
   "source": [
    "# Number of diverging samples\n",
    "mmm.idata[\"sample_stats\"][\"diverging\"].sum().item()"
   ]
  },
  {
   "cell_type": "markdown",
   "id": "e5d31475",
   "metadata": {},
   "source": [
    "#### compare prior predictive and posterior predictive"
   ]
  },
  {
   "cell_type": "markdown",
   "id": "b4abaf3b",
   "metadata": {},
   "source": [
    "First plot the prior predictive, to see how our model performs on the prior"
   ]
  },
  {
   "cell_type": "code",
   "execution_count": 16,
   "id": "6e654f70",
   "metadata": {},
   "outputs": [
    {
     "name": "stderr",
     "output_type": "stream",
     "text": [
      "Sampling: [adstock_alpha, gamma_fourier, intercept, saturation_beta, saturation_lam, y, y_sigma]\n",
      "Sampling: [y]\n"
     ]
    },
    {
     "data": {
      "application/vnd.jupyter.widget-view+json": {
       "model_id": "2d5f744d423b489fbba5c256603734cc",
       "version_major": 2,
       "version_minor": 0
      },
      "text/plain": [
       "Output()"
      ]
     },
     "metadata": {},
     "output_type": "display_data"
    },
    {
     "data": {
      "text/html": [
       "<pre style=\"white-space:pre;overflow-x:auto;line-height:normal;font-family:Menlo,'DejaVu Sans Mono',consolas,'Courier New',monospace\"></pre>\n"
      ],
      "text/plain": []
     },
     "metadata": {},
     "output_type": "display_data"
    },
    {
     "data": {
      "text/html": [
       "<div><svg style=\"position: absolute; width: 0; height: 0; overflow: hidden\">\n",
       "<defs>\n",
       "<symbol id=\"icon-database\" viewBox=\"0 0 32 32\">\n",
       "<path d=\"M16 0c-8.837 0-16 2.239-16 5v4c0 2.761 7.163 5 16 5s16-2.239 16-5v-4c0-2.761-7.163-5-16-5z\"></path>\n",
       "<path d=\"M16 17c-8.837 0-16-2.239-16-5v6c0 2.761 7.163 5 16 5s16-2.239 16-5v-6c0 2.761-7.163 5-16 5z\"></path>\n",
       "<path d=\"M16 26c-8.837 0-16-2.239-16-5v6c0 2.761 7.163 5 16 5s16-2.239 16-5v-6c0 2.761-7.163 5-16 5z\"></path>\n",
       "</symbol>\n",
       "<symbol id=\"icon-file-text2\" viewBox=\"0 0 32 32\">\n",
       "<path d=\"M28.681 7.159c-0.694-0.947-1.662-2.053-2.724-3.116s-2.169-2.030-3.116-2.724c-1.612-1.182-2.393-1.319-2.841-1.319h-15.5c-1.378 0-2.5 1.121-2.5 2.5v27c0 1.378 1.122 2.5 2.5 2.5h23c1.378 0 2.5-1.122 2.5-2.5v-19.5c0-0.448-0.137-1.23-1.319-2.841zM24.543 5.457c0.959 0.959 1.712 1.825 2.268 2.543h-4.811v-4.811c0.718 0.556 1.584 1.309 2.543 2.268zM28 29.5c0 0.271-0.229 0.5-0.5 0.5h-23c-0.271 0-0.5-0.229-0.5-0.5v-27c0-0.271 0.229-0.5 0.5-0.5 0 0 15.499-0 15.5 0v7c0 0.552 0.448 1 1 1h7v19.5z\"></path>\n",
       "<path d=\"M23 26h-14c-0.552 0-1-0.448-1-1s0.448-1 1-1h14c0.552 0 1 0.448 1 1s-0.448 1-1 1z\"></path>\n",
       "<path d=\"M23 22h-14c-0.552 0-1-0.448-1-1s0.448-1 1-1h14c0.552 0 1 0.448 1 1s-0.448 1-1 1z\"></path>\n",
       "<path d=\"M23 18h-14c-0.552 0-1-0.448-1-1s0.448-1 1-1h14c0.552 0 1 0.448 1 1s-0.448 1-1 1z\"></path>\n",
       "</symbol>\n",
       "</defs>\n",
       "</svg>\n",
       "<style>/* CSS stylesheet for displaying xarray objects in jupyterlab.\n",
       " *\n",
       " */\n",
       "\n",
       ":root {\n",
       "  --xr-font-color0: var(--jp-content-font-color0, rgba(0, 0, 0, 1));\n",
       "  --xr-font-color2: var(--jp-content-font-color2, rgba(0, 0, 0, 0.54));\n",
       "  --xr-font-color3: var(--jp-content-font-color3, rgba(0, 0, 0, 0.38));\n",
       "  --xr-border-color: var(--jp-border-color2, #e0e0e0);\n",
       "  --xr-disabled-color: var(--jp-layout-color3, #bdbdbd);\n",
       "  --xr-background-color: var(--jp-layout-color0, white);\n",
       "  --xr-background-color-row-even: var(--jp-layout-color1, white);\n",
       "  --xr-background-color-row-odd: var(--jp-layout-color2, #eeeeee);\n",
       "}\n",
       "\n",
       "html[theme=\"dark\"],\n",
       "html[data-theme=\"dark\"],\n",
       "body[data-theme=\"dark\"],\n",
       "body.vscode-dark {\n",
       "  --xr-font-color0: rgba(255, 255, 255, 1);\n",
       "  --xr-font-color2: rgba(255, 255, 255, 0.54);\n",
       "  --xr-font-color3: rgba(255, 255, 255, 0.38);\n",
       "  --xr-border-color: #1f1f1f;\n",
       "  --xr-disabled-color: #515151;\n",
       "  --xr-background-color: #111111;\n",
       "  --xr-background-color-row-even: #111111;\n",
       "  --xr-background-color-row-odd: #313131;\n",
       "}\n",
       "\n",
       ".xr-wrap {\n",
       "  display: block !important;\n",
       "  min-width: 300px;\n",
       "  max-width: 700px;\n",
       "}\n",
       "\n",
       ".xr-text-repr-fallback {\n",
       "  /* fallback to plain text repr when CSS is not injected (untrusted notebook) */\n",
       "  display: none;\n",
       "}\n",
       "\n",
       ".xr-header {\n",
       "  padding-top: 6px;\n",
       "  padding-bottom: 6px;\n",
       "  margin-bottom: 4px;\n",
       "  border-bottom: solid 1px var(--xr-border-color);\n",
       "}\n",
       "\n",
       ".xr-header > div,\n",
       ".xr-header > ul {\n",
       "  display: inline;\n",
       "  margin-top: 0;\n",
       "  margin-bottom: 0;\n",
       "}\n",
       "\n",
       ".xr-obj-type,\n",
       ".xr-array-name {\n",
       "  margin-left: 2px;\n",
       "  margin-right: 10px;\n",
       "}\n",
       "\n",
       ".xr-obj-type {\n",
       "  color: var(--xr-font-color2);\n",
       "}\n",
       "\n",
       ".xr-sections {\n",
       "  padding-left: 0 !important;\n",
       "  display: grid;\n",
       "  grid-template-columns: 150px auto auto 1fr 0 20px 0 20px;\n",
       "}\n",
       "\n",
       ".xr-section-item {\n",
       "  display: contents;\n",
       "}\n",
       "\n",
       ".xr-section-item input {\n",
       "  display: inline-block;\n",
       "  opacity: 0;\n",
       "  height: 0;\n",
       "}\n",
       "\n",
       ".xr-section-item input + label {\n",
       "  color: var(--xr-disabled-color);\n",
       "}\n",
       "\n",
       ".xr-section-item input:enabled + label {\n",
       "  cursor: pointer;\n",
       "  color: var(--xr-font-color2);\n",
       "}\n",
       "\n",
       ".xr-section-item input:focus + label {\n",
       "  border: 2px solid var(--xr-font-color0);\n",
       "}\n",
       "\n",
       ".xr-section-item input:enabled + label:hover {\n",
       "  color: var(--xr-font-color0);\n",
       "}\n",
       "\n",
       ".xr-section-summary {\n",
       "  grid-column: 1;\n",
       "  color: var(--xr-font-color2);\n",
       "  font-weight: 500;\n",
       "}\n",
       "\n",
       ".xr-section-summary > span {\n",
       "  display: inline-block;\n",
       "  padding-left: 0.5em;\n",
       "}\n",
       "\n",
       ".xr-section-summary-in:disabled + label {\n",
       "  color: var(--xr-font-color2);\n",
       "}\n",
       "\n",
       ".xr-section-summary-in + label:before {\n",
       "  display: inline-block;\n",
       "  content: \"►\";\n",
       "  font-size: 11px;\n",
       "  width: 15px;\n",
       "  text-align: center;\n",
       "}\n",
       "\n",
       ".xr-section-summary-in:disabled + label:before {\n",
       "  color: var(--xr-disabled-color);\n",
       "}\n",
       "\n",
       ".xr-section-summary-in:checked + label:before {\n",
       "  content: \"▼\";\n",
       "}\n",
       "\n",
       ".xr-section-summary-in:checked + label > span {\n",
       "  display: none;\n",
       "}\n",
       "\n",
       ".xr-section-summary,\n",
       ".xr-section-inline-details {\n",
       "  padding-top: 4px;\n",
       "  padding-bottom: 4px;\n",
       "}\n",
       "\n",
       ".xr-section-inline-details {\n",
       "  grid-column: 2 / -1;\n",
       "}\n",
       "\n",
       ".xr-section-details {\n",
       "  display: none;\n",
       "  grid-column: 1 / -1;\n",
       "  margin-bottom: 5px;\n",
       "}\n",
       "\n",
       ".xr-section-summary-in:checked ~ .xr-section-details {\n",
       "  display: contents;\n",
       "}\n",
       "\n",
       ".xr-array-wrap {\n",
       "  grid-column: 1 / -1;\n",
       "  display: grid;\n",
       "  grid-template-columns: 20px auto;\n",
       "}\n",
       "\n",
       ".xr-array-wrap > label {\n",
       "  grid-column: 1;\n",
       "  vertical-align: top;\n",
       "}\n",
       "\n",
       ".xr-preview {\n",
       "  color: var(--xr-font-color3);\n",
       "}\n",
       "\n",
       ".xr-array-preview,\n",
       ".xr-array-data {\n",
       "  padding: 0 5px !important;\n",
       "  grid-column: 2;\n",
       "}\n",
       "\n",
       ".xr-array-data,\n",
       ".xr-array-in:checked ~ .xr-array-preview {\n",
       "  display: none;\n",
       "}\n",
       "\n",
       ".xr-array-in:checked ~ .xr-array-data,\n",
       ".xr-array-preview {\n",
       "  display: inline-block;\n",
       "}\n",
       "\n",
       ".xr-dim-list {\n",
       "  display: inline-block !important;\n",
       "  list-style: none;\n",
       "  padding: 0 !important;\n",
       "  margin: 0;\n",
       "}\n",
       "\n",
       ".xr-dim-list li {\n",
       "  display: inline-block;\n",
       "  padding: 0;\n",
       "  margin: 0;\n",
       "}\n",
       "\n",
       ".xr-dim-list:before {\n",
       "  content: \"(\";\n",
       "}\n",
       "\n",
       ".xr-dim-list:after {\n",
       "  content: \")\";\n",
       "}\n",
       "\n",
       ".xr-dim-list li:not(:last-child):after {\n",
       "  content: \",\";\n",
       "  padding-right: 5px;\n",
       "}\n",
       "\n",
       ".xr-has-index {\n",
       "  font-weight: bold;\n",
       "}\n",
       "\n",
       ".xr-var-list,\n",
       ".xr-var-item {\n",
       "  display: contents;\n",
       "}\n",
       "\n",
       ".xr-var-item > div,\n",
       ".xr-var-item label,\n",
       ".xr-var-item > .xr-var-name span {\n",
       "  background-color: var(--xr-background-color-row-even);\n",
       "  margin-bottom: 0;\n",
       "}\n",
       "\n",
       ".xr-var-item > .xr-var-name:hover span {\n",
       "  padding-right: 5px;\n",
       "}\n",
       "\n",
       ".xr-var-list > li:nth-child(odd) > div,\n",
       ".xr-var-list > li:nth-child(odd) > label,\n",
       ".xr-var-list > li:nth-child(odd) > .xr-var-name span {\n",
       "  background-color: var(--xr-background-color-row-odd);\n",
       "}\n",
       "\n",
       ".xr-var-name {\n",
       "  grid-column: 1;\n",
       "}\n",
       "\n",
       ".xr-var-dims {\n",
       "  grid-column: 2;\n",
       "}\n",
       "\n",
       ".xr-var-dtype {\n",
       "  grid-column: 3;\n",
       "  text-align: right;\n",
       "  color: var(--xr-font-color2);\n",
       "}\n",
       "\n",
       ".xr-var-preview {\n",
       "  grid-column: 4;\n",
       "}\n",
       "\n",
       ".xr-index-preview {\n",
       "  grid-column: 2 / 5;\n",
       "  color: var(--xr-font-color2);\n",
       "}\n",
       "\n",
       ".xr-var-name,\n",
       ".xr-var-dims,\n",
       ".xr-var-dtype,\n",
       ".xr-preview,\n",
       ".xr-attrs dt {\n",
       "  white-space: nowrap;\n",
       "  overflow: hidden;\n",
       "  text-overflow: ellipsis;\n",
       "  padding-right: 10px;\n",
       "}\n",
       "\n",
       ".xr-var-name:hover,\n",
       ".xr-var-dims:hover,\n",
       ".xr-var-dtype:hover,\n",
       ".xr-attrs dt:hover {\n",
       "  overflow: visible;\n",
       "  width: auto;\n",
       "  z-index: 1;\n",
       "}\n",
       "\n",
       ".xr-var-attrs,\n",
       ".xr-var-data,\n",
       ".xr-index-data {\n",
       "  display: none;\n",
       "  background-color: var(--xr-background-color) !important;\n",
       "  padding-bottom: 5px !important;\n",
       "}\n",
       "\n",
       ".xr-var-attrs-in:checked ~ .xr-var-attrs,\n",
       ".xr-var-data-in:checked ~ .xr-var-data,\n",
       ".xr-index-data-in:checked ~ .xr-index-data {\n",
       "  display: block;\n",
       "}\n",
       "\n",
       ".xr-var-data > table {\n",
       "  float: right;\n",
       "}\n",
       "\n",
       ".xr-var-name span,\n",
       ".xr-var-data,\n",
       ".xr-index-name div,\n",
       ".xr-index-data,\n",
       ".xr-attrs {\n",
       "  padding-left: 25px !important;\n",
       "}\n",
       "\n",
       ".xr-attrs,\n",
       ".xr-var-attrs,\n",
       ".xr-var-data,\n",
       ".xr-index-data {\n",
       "  grid-column: 1 / -1;\n",
       "}\n",
       "\n",
       "dl.xr-attrs {\n",
       "  padding: 0;\n",
       "  margin: 0;\n",
       "  display: grid;\n",
       "  grid-template-columns: 125px auto;\n",
       "}\n",
       "\n",
       ".xr-attrs dt,\n",
       ".xr-attrs dd {\n",
       "  padding: 0;\n",
       "  margin: 0;\n",
       "  float: left;\n",
       "  padding-right: 10px;\n",
       "  width: auto;\n",
       "}\n",
       "\n",
       ".xr-attrs dt {\n",
       "  font-weight: normal;\n",
       "  grid-column: 1;\n",
       "}\n",
       "\n",
       ".xr-attrs dt:hover span {\n",
       "  display: inline-block;\n",
       "  background: var(--xr-background-color);\n",
       "  padding-right: 10px;\n",
       "}\n",
       "\n",
       ".xr-attrs dd {\n",
       "  grid-column: 2;\n",
       "  white-space: pre-wrap;\n",
       "  word-break: break-all;\n",
       "}\n",
       "\n",
       ".xr-icon-database,\n",
       ".xr-icon-file-text2,\n",
       ".xr-no-icon {\n",
       "  display: inline-block;\n",
       "  vertical-align: middle;\n",
       "  width: 1em;\n",
       "  height: 1.5em !important;\n",
       "  stroke-width: 0;\n",
       "  stroke: currentColor;\n",
       "  fill: currentColor;\n",
       "}\n",
       "</style><pre class='xr-text-repr-fallback'>&lt;xarray.Dataset&gt; Size: 3MB\n",
       "Dimensions:  (sample: 4000, date: 104)\n",
       "Coordinates:\n",
       "  * date     (date) datetime64[ms] 832B 2020-08-30 2020-09-06 ... 2022-08-21\n",
       "  * sample   (sample) object 32kB MultiIndex\n",
       "  * chain    (sample) int64 32kB 0 0 0 0 0 0 0 0 0 0 0 ... 3 3 3 3 3 3 3 3 3 3 3\n",
       "  * draw     (sample) int64 32kB 0 1 2 3 4 5 6 7 ... 993 994 995 996 997 998 999\n",
       "Data variables:\n",
       "    y        (date, sample) float64 3MB 1.458e+05 1.767e+05 ... 1.354e+05\n",
       "Attributes:\n",
       "    created_at:                 2025-04-17T09:48:02.918109+00:00\n",
       "    arviz_version:              0.21.0\n",
       "    inference_library:          pymc\n",
       "    inference_library_version:  5.22.0</pre><div class='xr-wrap' style='display:none'><div class='xr-header'><div class='xr-obj-type'>xarray.Dataset</div></div><ul class='xr-sections'><li class='xr-section-item'><input id='section-986432a1-2303-4f90-87d7-73c6cb2c8d91' class='xr-section-summary-in' type='checkbox' disabled ><label for='section-986432a1-2303-4f90-87d7-73c6cb2c8d91' class='xr-section-summary'  title='Expand/collapse section'>Dimensions:</label><div class='xr-section-inline-details'><ul class='xr-dim-list'><li><span class='xr-has-index'>sample</span>: 4000</li><li><span class='xr-has-index'>date</span>: 104</li></ul></div><div class='xr-section-details'></div></li><li class='xr-section-item'><input id='section-34562d4d-988f-42b3-ae60-2f80ef086576' class='xr-section-summary-in' type='checkbox'  checked><label for='section-34562d4d-988f-42b3-ae60-2f80ef086576' class='xr-section-summary' >Coordinates: <span>(4)</span></label><div class='xr-section-inline-details'></div><div class='xr-section-details'><ul class='xr-var-list'><li class='xr-var-item'><div class='xr-var-name'><span class='xr-has-index'>date</span></div><div class='xr-var-dims'>(date)</div><div class='xr-var-dtype'>datetime64[ms]</div><div class='xr-var-preview xr-preview'>2020-08-30 ... 2022-08-21</div><input id='attrs-0716a385-8b13-4507-a99b-d3be5c660b47' class='xr-var-attrs-in' type='checkbox' disabled><label for='attrs-0716a385-8b13-4507-a99b-d3be5c660b47' title='Show/Hide attributes'><svg class='icon xr-icon-file-text2'><use xlink:href='#icon-file-text2'></use></svg></label><input id='data-e5d1dc48-c1fb-4bed-97ce-c7864554db72' class='xr-var-data-in' type='checkbox'><label for='data-e5d1dc48-c1fb-4bed-97ce-c7864554db72' title='Show/Hide data repr'><svg class='icon xr-icon-database'><use xlink:href='#icon-database'></use></svg></label><div class='xr-var-attrs'><dl class='xr-attrs'></dl></div><div class='xr-var-data'><pre>array([&#x27;2020-08-30T00:00:00.000&#x27;, &#x27;2020-09-06T00:00:00.000&#x27;,\n",
       "       &#x27;2020-09-13T00:00:00.000&#x27;, &#x27;2020-09-20T00:00:00.000&#x27;,\n",
       "       &#x27;2020-09-27T00:00:00.000&#x27;, &#x27;2020-10-04T00:00:00.000&#x27;,\n",
       "       &#x27;2020-10-11T00:00:00.000&#x27;, &#x27;2020-10-18T00:00:00.000&#x27;,\n",
       "       &#x27;2020-10-25T00:00:00.000&#x27;, &#x27;2020-11-01T00:00:00.000&#x27;,\n",
       "       &#x27;2020-11-08T00:00:00.000&#x27;, &#x27;2020-11-15T00:00:00.000&#x27;,\n",
       "       &#x27;2020-11-22T00:00:00.000&#x27;, &#x27;2020-11-29T00:00:00.000&#x27;,\n",
       "       &#x27;2020-12-06T00:00:00.000&#x27;, &#x27;2020-12-13T00:00:00.000&#x27;,\n",
       "       &#x27;2020-12-20T00:00:00.000&#x27;, &#x27;2020-12-27T00:00:00.000&#x27;,\n",
       "       &#x27;2021-01-03T00:00:00.000&#x27;, &#x27;2021-01-10T00:00:00.000&#x27;,\n",
       "       &#x27;2021-01-17T00:00:00.000&#x27;, &#x27;2021-01-24T00:00:00.000&#x27;,\n",
       "       &#x27;2021-01-31T00:00:00.000&#x27;, &#x27;2021-02-07T00:00:00.000&#x27;,\n",
       "       &#x27;2021-02-14T00:00:00.000&#x27;, &#x27;2021-02-21T00:00:00.000&#x27;,\n",
       "       &#x27;2021-02-28T00:00:00.000&#x27;, &#x27;2021-03-07T00:00:00.000&#x27;,\n",
       "       &#x27;2021-03-14T00:00:00.000&#x27;, &#x27;2021-03-21T00:00:00.000&#x27;,\n",
       "       &#x27;2021-03-28T00:00:00.000&#x27;, &#x27;2021-04-04T00:00:00.000&#x27;,\n",
       "       &#x27;2021-04-11T00:00:00.000&#x27;, &#x27;2021-04-18T00:00:00.000&#x27;,\n",
       "       &#x27;2021-04-25T00:00:00.000&#x27;, &#x27;2021-05-02T00:00:00.000&#x27;,\n",
       "       &#x27;2021-05-09T00:00:00.000&#x27;, &#x27;2021-05-16T00:00:00.000&#x27;,\n",
       "       &#x27;2021-05-23T00:00:00.000&#x27;, &#x27;2021-05-30T00:00:00.000&#x27;,\n",
       "       &#x27;2021-06-06T00:00:00.000&#x27;, &#x27;2021-06-13T00:00:00.000&#x27;,\n",
       "       &#x27;2021-06-20T00:00:00.000&#x27;, &#x27;2021-06-27T00:00:00.000&#x27;,\n",
       "       &#x27;2021-07-04T00:00:00.000&#x27;, &#x27;2021-07-11T00:00:00.000&#x27;,\n",
       "       &#x27;2021-07-18T00:00:00.000&#x27;, &#x27;2021-07-25T00:00:00.000&#x27;,\n",
       "       &#x27;2021-08-01T00:00:00.000&#x27;, &#x27;2021-08-08T00:00:00.000&#x27;,\n",
       "       &#x27;2021-08-15T00:00:00.000&#x27;, &#x27;2021-08-22T00:00:00.000&#x27;,\n",
       "       &#x27;2021-08-29T00:00:00.000&#x27;, &#x27;2021-09-05T00:00:00.000&#x27;,\n",
       "       &#x27;2021-09-12T00:00:00.000&#x27;, &#x27;2021-09-19T00:00:00.000&#x27;,\n",
       "       &#x27;2021-09-26T00:00:00.000&#x27;, &#x27;2021-10-03T00:00:00.000&#x27;,\n",
       "       &#x27;2021-10-10T00:00:00.000&#x27;, &#x27;2021-10-17T00:00:00.000&#x27;,\n",
       "       &#x27;2021-10-24T00:00:00.000&#x27;, &#x27;2021-10-31T00:00:00.000&#x27;,\n",
       "       &#x27;2021-11-07T00:00:00.000&#x27;, &#x27;2021-11-14T00:00:00.000&#x27;,\n",
       "       &#x27;2021-11-21T00:00:00.000&#x27;, &#x27;2021-11-28T00:00:00.000&#x27;,\n",
       "       &#x27;2021-12-05T00:00:00.000&#x27;, &#x27;2021-12-12T00:00:00.000&#x27;,\n",
       "       &#x27;2021-12-19T00:00:00.000&#x27;, &#x27;2021-12-26T00:00:00.000&#x27;,\n",
       "       &#x27;2022-01-02T00:00:00.000&#x27;, &#x27;2022-01-09T00:00:00.000&#x27;,\n",
       "       &#x27;2022-01-16T00:00:00.000&#x27;, &#x27;2022-01-23T00:00:00.000&#x27;,\n",
       "       &#x27;2022-01-30T00:00:00.000&#x27;, &#x27;2022-02-06T00:00:00.000&#x27;,\n",
       "       &#x27;2022-02-13T00:00:00.000&#x27;, &#x27;2022-02-20T00:00:00.000&#x27;,\n",
       "       &#x27;2022-02-27T00:00:00.000&#x27;, &#x27;2022-03-06T00:00:00.000&#x27;,\n",
       "       &#x27;2022-03-13T00:00:00.000&#x27;, &#x27;2022-03-20T00:00:00.000&#x27;,\n",
       "       &#x27;2022-03-27T00:00:00.000&#x27;, &#x27;2022-04-03T00:00:00.000&#x27;,\n",
       "       &#x27;2022-04-10T00:00:00.000&#x27;, &#x27;2022-04-17T00:00:00.000&#x27;,\n",
       "       &#x27;2022-04-24T00:00:00.000&#x27;, &#x27;2022-05-01T00:00:00.000&#x27;,\n",
       "       &#x27;2022-05-08T00:00:00.000&#x27;, &#x27;2022-05-15T00:00:00.000&#x27;,\n",
       "       &#x27;2022-05-22T00:00:00.000&#x27;, &#x27;2022-05-29T00:00:00.000&#x27;,\n",
       "       &#x27;2022-06-05T00:00:00.000&#x27;, &#x27;2022-06-12T00:00:00.000&#x27;,\n",
       "       &#x27;2022-06-19T00:00:00.000&#x27;, &#x27;2022-06-26T00:00:00.000&#x27;,\n",
       "       &#x27;2022-07-03T00:00:00.000&#x27;, &#x27;2022-07-10T00:00:00.000&#x27;,\n",
       "       &#x27;2022-07-17T00:00:00.000&#x27;, &#x27;2022-07-24T00:00:00.000&#x27;,\n",
       "       &#x27;2022-07-31T00:00:00.000&#x27;, &#x27;2022-08-07T00:00:00.000&#x27;,\n",
       "       &#x27;2022-08-14T00:00:00.000&#x27;, &#x27;2022-08-21T00:00:00.000&#x27;],\n",
       "      dtype=&#x27;datetime64[ms]&#x27;)</pre></div></li><li class='xr-var-item'><div class='xr-var-name'><span class='xr-has-index'>sample</span></div><div class='xr-var-dims'>(sample)</div><div class='xr-var-dtype'>object</div><div class='xr-var-preview xr-preview'>MultiIndex</div><input id='attrs-71247f34-837a-4eb2-810b-6969a5059c78' class='xr-var-attrs-in' type='checkbox' disabled><label for='attrs-71247f34-837a-4eb2-810b-6969a5059c78' title='Show/Hide attributes'><svg class='icon xr-icon-file-text2'><use xlink:href='#icon-file-text2'></use></svg></label><input id='data-ca6927ca-41bf-426d-b4c3-256a0e72af11' class='xr-var-data-in' type='checkbox'><label for='data-ca6927ca-41bf-426d-b4c3-256a0e72af11' title='Show/Hide data repr'><svg class='icon xr-icon-database'><use xlink:href='#icon-database'></use></svg></label><div class='xr-var-attrs'><dl class='xr-attrs'></dl></div><div class='xr-var-data'><pre>array([(0, 0), (0, 1), (0, 2), ..., (3, 997), (3, 998), (3, 999)],\n",
       "      shape=(202,), dtype=object)</pre></div></li><li class='xr-var-item'><div class='xr-var-name'><span class='xr-has-index'>chain</span></div><div class='xr-var-dims'>(sample)</div><div class='xr-var-dtype'>int64</div><div class='xr-var-preview xr-preview'>0 0 0 0 0 0 0 0 ... 3 3 3 3 3 3 3 3</div><input id='attrs-2e40c6d0-c68b-4e31-8657-40320e7bc219' class='xr-var-attrs-in' type='checkbox' disabled><label for='attrs-2e40c6d0-c68b-4e31-8657-40320e7bc219' title='Show/Hide attributes'><svg class='icon xr-icon-file-text2'><use xlink:href='#icon-file-text2'></use></svg></label><input id='data-b9d07f89-8c4b-4432-958c-9ce2cb237584' class='xr-var-data-in' type='checkbox'><label for='data-b9d07f89-8c4b-4432-958c-9ce2cb237584' title='Show/Hide data repr'><svg class='icon xr-icon-database'><use xlink:href='#icon-database'></use></svg></label><div class='xr-var-attrs'><dl class='xr-attrs'></dl></div><div class='xr-var-data'><pre>array([0, 0, 0, ..., 3, 3, 3], shape=(202,))</pre></div></li><li class='xr-var-item'><div class='xr-var-name'><span class='xr-has-index'>draw</span></div><div class='xr-var-dims'>(sample)</div><div class='xr-var-dtype'>int64</div><div class='xr-var-preview xr-preview'>0 1 2 3 4 5 ... 995 996 997 998 999</div><input id='attrs-ab14c19f-e016-44f1-b06d-c3401e5e15c8' class='xr-var-attrs-in' type='checkbox' disabled><label for='attrs-ab14c19f-e016-44f1-b06d-c3401e5e15c8' title='Show/Hide attributes'><svg class='icon xr-icon-file-text2'><use xlink:href='#icon-file-text2'></use></svg></label><input id='data-b454c49a-74e2-4163-a7ae-06529d1e9693' class='xr-var-data-in' type='checkbox'><label for='data-b454c49a-74e2-4163-a7ae-06529d1e9693' title='Show/Hide data repr'><svg class='icon xr-icon-database'><use xlink:href='#icon-database'></use></svg></label><div class='xr-var-attrs'><dl class='xr-attrs'></dl></div><div class='xr-var-data'><pre>array([  0,   1,   2, ..., 997, 998, 999], shape=(202,))</pre></div></li></ul></div></li><li class='xr-section-item'><input id='section-bcf135a3-e13a-4141-a030-fe17a1ab7030' class='xr-section-summary-in' type='checkbox'  checked><label for='section-bcf135a3-e13a-4141-a030-fe17a1ab7030' class='xr-section-summary' >Data variables: <span>(1)</span></label><div class='xr-section-inline-details'></div><div class='xr-section-details'><ul class='xr-var-list'><li class='xr-var-item'><div class='xr-var-name'><span>y</span></div><div class='xr-var-dims'>(date, sample)</div><div class='xr-var-dtype'>float64</div><div class='xr-var-preview xr-preview'>1.458e+05 1.767e+05 ... 1.354e+05</div><input id='attrs-0370b6ec-756a-4c8b-935c-04fbfb6135e4' class='xr-var-attrs-in' type='checkbox' disabled><label for='attrs-0370b6ec-756a-4c8b-935c-04fbfb6135e4' title='Show/Hide attributes'><svg class='icon xr-icon-file-text2'><use xlink:href='#icon-file-text2'></use></svg></label><input id='data-10c8ecf2-107d-4396-a9f9-fda1cef5b868' class='xr-var-data-in' type='checkbox'><label for='data-10c8ecf2-107d-4396-a9f9-fda1cef5b868' title='Show/Hide data repr'><svg class='icon xr-icon-database'><use xlink:href='#icon-database'></use></svg></label><div class='xr-var-attrs'><dl class='xr-attrs'></dl></div><div class='xr-var-data'><pre>array([[145834.74313366, 176680.80990039, 177253.47201092, ...,\n",
       "         90219.9759367 , 163609.74002782, 124174.72908575],\n",
       "       [154464.54307578, 187491.89850584, 152687.03795623, ...,\n",
       "        195085.18005835, 127613.65034048, 163655.03565648],\n",
       "       [ 91663.12113807, 174757.99638655, 102704.39728803, ...,\n",
       "        173360.18935027,  98672.26145747, 119518.74485127],\n",
       "       ...,\n",
       "       [ 92044.33246214,  96727.541533  , 101092.27296845, ...,\n",
       "         87960.97008944, 112841.71218009, 122646.48914277],\n",
       "       [117176.2953559 , 121351.94096498, 136235.13185728, ...,\n",
       "        138698.68019205,  52084.57336747, 106795.87257666],\n",
       "       [ 97335.7841557 ,  51900.95462728, 123268.60127448, ...,\n",
       "        110187.58876638, 118641.42810816, 135413.17181523]],\n",
       "      shape=(104, 4000))</pre></div></li></ul></div></li><li class='xr-section-item'><input id='section-a8617bbc-8939-4fab-8551-d35a125c6a71' class='xr-section-summary-in' type='checkbox'  ><label for='section-a8617bbc-8939-4fab-8551-d35a125c6a71' class='xr-section-summary' >Indexes: <span>(2)</span></label><div class='xr-section-inline-details'></div><div class='xr-section-details'><ul class='xr-var-list'><li class='xr-var-item'><div class='xr-index-name'><div>date</div></div><div class='xr-index-preview'>PandasIndex</div><input type='checkbox' disabled/><label></label><input id='index-7d8f4f0c-5288-45f5-96fc-1028dd9a8c1f' class='xr-index-data-in' type='checkbox'/><label for='index-7d8f4f0c-5288-45f5-96fc-1028dd9a8c1f' title='Show/Hide index repr'><svg class='icon xr-icon-database'><use xlink:href='#icon-database'></use></svg></label><div class='xr-index-data'><pre>PandasIndex(DatetimeIndex([&#x27;2020-08-30&#x27;, &#x27;2020-09-06&#x27;, &#x27;2020-09-13&#x27;, &#x27;2020-09-20&#x27;,\n",
       "               &#x27;2020-09-27&#x27;, &#x27;2020-10-04&#x27;, &#x27;2020-10-11&#x27;, &#x27;2020-10-18&#x27;,\n",
       "               &#x27;2020-10-25&#x27;, &#x27;2020-11-01&#x27;,\n",
       "               ...\n",
       "               &#x27;2022-06-19&#x27;, &#x27;2022-06-26&#x27;, &#x27;2022-07-03&#x27;, &#x27;2022-07-10&#x27;,\n",
       "               &#x27;2022-07-17&#x27;, &#x27;2022-07-24&#x27;, &#x27;2022-07-31&#x27;, &#x27;2022-08-07&#x27;,\n",
       "               &#x27;2022-08-14&#x27;, &#x27;2022-08-21&#x27;],\n",
       "              dtype=&#x27;datetime64[ms]&#x27;, name=&#x27;date&#x27;, length=104, freq=None))</pre></div></li><li class='xr-var-item'><div class='xr-index-name'><div>sample<br>chain<br>draw</div></div><div class='xr-index-preview'>PandasMultiIndex</div><input type='checkbox' disabled/><label></label><input id='index-a9328ebe-4a50-4568-9e58-be9822d3e958' class='xr-index-data-in' type='checkbox'/><label for='index-a9328ebe-4a50-4568-9e58-be9822d3e958' title='Show/Hide index repr'><svg class='icon xr-icon-database'><use xlink:href='#icon-database'></use></svg></label><div class='xr-index-data'><pre>PandasIndex(MultiIndex([(0,   0),\n",
       "            (0,   1),\n",
       "            (0,   2),\n",
       "            (0,   3),\n",
       "            (0,   4),\n",
       "            (0,   5),\n",
       "            (0,   6),\n",
       "            (0,   7),\n",
       "            (0,   8),\n",
       "            (0,   9),\n",
       "            ...\n",
       "            (3, 990),\n",
       "            (3, 991),\n",
       "            (3, 992),\n",
       "            (3, 993),\n",
       "            (3, 994),\n",
       "            (3, 995),\n",
       "            (3, 996),\n",
       "            (3, 997),\n",
       "            (3, 998),\n",
       "            (3, 999)],\n",
       "           name=&#x27;sample&#x27;, length=4000))</pre></div></li></ul></div></li><li class='xr-section-item'><input id='section-6c11817d-1664-4df9-af87-bf3c47238303' class='xr-section-summary-in' type='checkbox'  checked><label for='section-6c11817d-1664-4df9-af87-bf3c47238303' class='xr-section-summary' >Attributes: <span>(4)</span></label><div class='xr-section-inline-details'></div><div class='xr-section-details'><dl class='xr-attrs'><dt><span>created_at :</span></dt><dd>2025-04-17T09:48:02.918109+00:00</dd><dt><span>arviz_version :</span></dt><dd>0.21.0</dd><dt><span>inference_library :</span></dt><dd>pymc</dd><dt><span>inference_library_version :</span></dt><dd>5.22.0</dd></dl></div></li></ul></div></div>"
      ],
      "text/plain": [
       "<xarray.Dataset> Size: 3MB\n",
       "Dimensions:  (sample: 4000, date: 104)\n",
       "Coordinates:\n",
       "  * date     (date) datetime64[ms] 832B 2020-08-30 2020-09-06 ... 2022-08-21\n",
       "  * sample   (sample) object 32kB MultiIndex\n",
       "  * chain    (sample) int64 32kB 0 0 0 0 0 0 0 0 0 0 0 ... 3 3 3 3 3 3 3 3 3 3 3\n",
       "  * draw     (sample) int64 32kB 0 1 2 3 4 5 6 7 ... 993 994 995 996 997 998 999\n",
       "Data variables:\n",
       "    y        (date, sample) float64 3MB 1.458e+05 1.767e+05 ... 1.354e+05\n",
       "Attributes:\n",
       "    created_at:                 2025-04-17T09:48:02.918109+00:00\n",
       "    arviz_version:              0.21.0\n",
       "    inference_library:          pymc\n",
       "    inference_library_version:  5.22.0"
      ]
     },
     "execution_count": 16,
     "metadata": {},
     "output_type": "execute_result"
    }
   ],
   "source": [
    "# sample prior and posterior\n",
    "mmm.sample_prior_predictive(X, y, samples=2_000)\n",
    "mmm.sample_posterior_predictive(X, extend_idata=True, combined=True)"
   ]
  },
  {
   "cell_type": "code",
   "execution_count": 17,
   "id": "378c327e",
   "metadata": {},
   "outputs": [
    {
     "data": {
      "application/vnd.plotly.v1+json": {
       "config": {
        "plotlyServerURL": "https://plot.ly"
       },
       "data": [
        {
         "name": "actual",
         "showlegend": true,
         "type": "scatter",
         "x": [
          "2020-08-30T00:00:00.000000000",
          "2020-09-06T00:00:00.000000000",
          "2020-09-13T00:00:00.000000000",
          "2020-09-20T00:00:00.000000000",
          "2020-09-27T00:00:00.000000000",
          "2020-10-04T00:00:00.000000000",
          "2020-10-11T00:00:00.000000000",
          "2020-10-18T00:00:00.000000000",
          "2020-10-25T00:00:00.000000000",
          "2020-11-01T00:00:00.000000000",
          "2020-11-08T00:00:00.000000000",
          "2020-11-15T00:00:00.000000000",
          "2020-11-22T00:00:00.000000000",
          "2020-11-29T00:00:00.000000000",
          "2020-12-06T00:00:00.000000000",
          "2020-12-13T00:00:00.000000000",
          "2020-12-20T00:00:00.000000000",
          "2020-12-27T00:00:00.000000000",
          "2021-01-03T00:00:00.000000000",
          "2021-01-10T00:00:00.000000000",
          "2021-01-17T00:00:00.000000000",
          "2021-01-24T00:00:00.000000000",
          "2021-01-31T00:00:00.000000000",
          "2021-02-07T00:00:00.000000000",
          "2021-02-14T00:00:00.000000000",
          "2021-02-21T00:00:00.000000000",
          "2021-02-28T00:00:00.000000000",
          "2021-03-07T00:00:00.000000000",
          "2021-03-14T00:00:00.000000000",
          "2021-03-21T00:00:00.000000000",
          "2021-03-28T00:00:00.000000000",
          "2021-04-04T00:00:00.000000000",
          "2021-04-11T00:00:00.000000000",
          "2021-04-18T00:00:00.000000000",
          "2021-04-25T00:00:00.000000000",
          "2021-05-02T00:00:00.000000000",
          "2021-05-09T00:00:00.000000000",
          "2021-05-16T00:00:00.000000000",
          "2021-05-23T00:00:00.000000000",
          "2021-05-30T00:00:00.000000000",
          "2021-06-06T00:00:00.000000000",
          "2021-06-13T00:00:00.000000000",
          "2021-06-20T00:00:00.000000000",
          "2021-06-27T00:00:00.000000000",
          "2021-07-04T00:00:00.000000000",
          "2021-07-11T00:00:00.000000000",
          "2021-07-18T00:00:00.000000000",
          "2021-07-25T00:00:00.000000000",
          "2021-08-01T00:00:00.000000000",
          "2021-08-08T00:00:00.000000000",
          "2021-08-15T00:00:00.000000000",
          "2021-08-22T00:00:00.000000000",
          "2021-08-29T00:00:00.000000000",
          "2021-09-05T00:00:00.000000000",
          "2021-09-12T00:00:00.000000000",
          "2021-09-19T00:00:00.000000000",
          "2021-09-26T00:00:00.000000000",
          "2021-10-03T00:00:00.000000000",
          "2021-10-10T00:00:00.000000000",
          "2021-10-17T00:00:00.000000000",
          "2021-10-24T00:00:00.000000000",
          "2021-10-31T00:00:00.000000000",
          "2021-11-07T00:00:00.000000000",
          "2021-11-14T00:00:00.000000000",
          "2021-11-21T00:00:00.000000000",
          "2021-11-28T00:00:00.000000000",
          "2021-12-05T00:00:00.000000000",
          "2021-12-12T00:00:00.000000000",
          "2021-12-19T00:00:00.000000000",
          "2021-12-26T00:00:00.000000000",
          "2022-01-02T00:00:00.000000000",
          "2022-01-09T00:00:00.000000000",
          "2022-01-16T00:00:00.000000000",
          "2022-01-23T00:00:00.000000000",
          "2022-01-30T00:00:00.000000000",
          "2022-02-06T00:00:00.000000000",
          "2022-02-13T00:00:00.000000000",
          "2022-02-20T00:00:00.000000000",
          "2022-02-27T00:00:00.000000000",
          "2022-03-06T00:00:00.000000000",
          "2022-03-13T00:00:00.000000000",
          "2022-03-20T00:00:00.000000000",
          "2022-03-27T00:00:00.000000000",
          "2022-04-03T00:00:00.000000000",
          "2022-04-10T00:00:00.000000000",
          "2022-04-17T00:00:00.000000000",
          "2022-04-24T00:00:00.000000000",
          "2022-05-01T00:00:00.000000000",
          "2022-05-08T00:00:00.000000000",
          "2022-05-15T00:00:00.000000000",
          "2022-05-22T00:00:00.000000000",
          "2022-05-29T00:00:00.000000000",
          "2022-06-05T00:00:00.000000000",
          "2022-06-12T00:00:00.000000000",
          "2022-06-19T00:00:00.000000000",
          "2022-06-26T00:00:00.000000000",
          "2022-07-03T00:00:00.000000000",
          "2022-07-10T00:00:00.000000000",
          "2022-07-17T00:00:00.000000000",
          "2022-07-24T00:00:00.000000000",
          "2022-07-31T00:00:00.000000000",
          "2022-08-07T00:00:00.000000000",
          "2022-08-14T00:00:00.000000000",
          "2022-08-21T00:00:00.000000000"
         ],
         "y": {
          "bdata": "AAAAAJZGA0EK16NwzcEGQexRuB47ugNBpHA9Csn7BUFxPQrXD5YKQR+F61Ho3wdBFK5H4TzwAUEzMzMzxfkDQTMzMzOpkAdBw/UoXOkDCkGPwvUoiLIIQT0K16MqawpBH4XrUUY+A0FSuB6FKYYZQVK4HoW5XAJB7FG4HhmC80DhehSuQwb0QOxRuB4tl/NAexSuR30g/EApXI/CDbz3QI/C9ShwdPdAXI/C9ahVEUH2KFyPkrULQRSuR+HonAZB4XoUrt2tAEEUrkfh3t3+QI/C9SiCNABBrkfheqhUAEFI4XoU6lP7QOF6FK4DvfpAZmZmZoICAEF7FK5HYX79QPYoXI9eawtBw/UoXNVIA0EzMzMzSS4CQaRwPQpJEQJBzczMzEbVAUHD9ShcNw8AQbgehesRQ/1A9ihcjzIw/kCF61G4Yq3+QNejcD3Q9wRBPQrXo8riAkHD9Shct7H9QD0K16PCfQFBuB6F66Hx+ECF61G4HsnxQBSuR+Hi3O5ApHA9CrtY+EDsUbgeScP1QAAAAAAcHPZAzczMzAyA+UB7FK5HaU/3QAAAAABYYfpAZmZmZt6s90BmZmZmevT2QOxRuB5dwAJBCtejcNuxA0G4HoXrVVn+QIXrUbgCPf1ASOF6FDqT+UC4HoXrdwIAQcP1KFynM/xAMzMzM7VgAEHD9Shcyxz+QFK4HoX95xBB4XoUrrkjBEFxPQrXb5v+QFyPwvW85PxAw/UoXEfz9ECamZmZbyoBQexRuB6HmgVBrkfhepz5AkFmZmZmTHwAQbgehevTUAFBZmZmZm5mAUHsUbgetR76QM3MzMzMofpAUrgehYek9UAUrkfh9jIBQQAAAABS2wRBmpmZmfXOAEHhehSuZ/YAQTMzMzM14AZBAAAAABAMBEH2KFyPrjkEQQrXo3CDuQBB4XoUrj/rAUF7FK5HeS75QLgeheulLvpASOF6FFrW9kCF61G4Llv4QEjhehQGdvhAKVyPwiE7/kDNzMzMLLH6QM3MzMx4qvdAH4XrUTRf+EAfhetR6KHxQAAAAAAk/fFAAAAAAFiV8UDD9ShcIyr2QGZmZmaW3PlAXI/C9aQY9kAAAAAAqJr0QA==",
          "dtype": "f8"
         }
        },
        {
         "name": "mean",
         "showlegend": true,
         "type": "scatter",
         "x": [
          "2020-08-30T00:00:00.000000000",
          "2020-09-06T00:00:00.000000000",
          "2020-09-13T00:00:00.000000000",
          "2020-09-20T00:00:00.000000000",
          "2020-09-27T00:00:00.000000000",
          "2020-10-04T00:00:00.000000000",
          "2020-10-11T00:00:00.000000000",
          "2020-10-18T00:00:00.000000000",
          "2020-10-25T00:00:00.000000000",
          "2020-11-01T00:00:00.000000000",
          "2020-11-08T00:00:00.000000000",
          "2020-11-15T00:00:00.000000000",
          "2020-11-22T00:00:00.000000000",
          "2020-11-29T00:00:00.000000000",
          "2020-12-06T00:00:00.000000000",
          "2020-12-13T00:00:00.000000000",
          "2020-12-20T00:00:00.000000000",
          "2020-12-27T00:00:00.000000000",
          "2021-01-03T00:00:00.000000000",
          "2021-01-10T00:00:00.000000000",
          "2021-01-17T00:00:00.000000000",
          "2021-01-24T00:00:00.000000000",
          "2021-01-31T00:00:00.000000000",
          "2021-02-07T00:00:00.000000000",
          "2021-02-14T00:00:00.000000000",
          "2021-02-21T00:00:00.000000000",
          "2021-02-28T00:00:00.000000000",
          "2021-03-07T00:00:00.000000000",
          "2021-03-14T00:00:00.000000000",
          "2021-03-21T00:00:00.000000000",
          "2021-03-28T00:00:00.000000000",
          "2021-04-04T00:00:00.000000000",
          "2021-04-11T00:00:00.000000000",
          "2021-04-18T00:00:00.000000000",
          "2021-04-25T00:00:00.000000000",
          "2021-05-02T00:00:00.000000000",
          "2021-05-09T00:00:00.000000000",
          "2021-05-16T00:00:00.000000000",
          "2021-05-23T00:00:00.000000000",
          "2021-05-30T00:00:00.000000000",
          "2021-06-06T00:00:00.000000000",
          "2021-06-13T00:00:00.000000000",
          "2021-06-20T00:00:00.000000000",
          "2021-06-27T00:00:00.000000000",
          "2021-07-04T00:00:00.000000000",
          "2021-07-11T00:00:00.000000000",
          "2021-07-18T00:00:00.000000000",
          "2021-07-25T00:00:00.000000000",
          "2021-08-01T00:00:00.000000000",
          "2021-08-08T00:00:00.000000000",
          "2021-08-15T00:00:00.000000000",
          "2021-08-22T00:00:00.000000000",
          "2021-08-29T00:00:00.000000000",
          "2021-09-05T00:00:00.000000000",
          "2021-09-12T00:00:00.000000000",
          "2021-09-19T00:00:00.000000000",
          "2021-09-26T00:00:00.000000000",
          "2021-10-03T00:00:00.000000000",
          "2021-10-10T00:00:00.000000000",
          "2021-10-17T00:00:00.000000000",
          "2021-10-24T00:00:00.000000000",
          "2021-10-31T00:00:00.000000000",
          "2021-11-07T00:00:00.000000000",
          "2021-11-14T00:00:00.000000000",
          "2021-11-21T00:00:00.000000000",
          "2021-11-28T00:00:00.000000000",
          "2021-12-05T00:00:00.000000000",
          "2021-12-12T00:00:00.000000000",
          "2021-12-19T00:00:00.000000000",
          "2021-12-26T00:00:00.000000000",
          "2022-01-02T00:00:00.000000000",
          "2022-01-09T00:00:00.000000000",
          "2022-01-16T00:00:00.000000000",
          "2022-01-23T00:00:00.000000000",
          "2022-01-30T00:00:00.000000000",
          "2022-02-06T00:00:00.000000000",
          "2022-02-13T00:00:00.000000000",
          "2022-02-20T00:00:00.000000000",
          "2022-02-27T00:00:00.000000000",
          "2022-03-06T00:00:00.000000000",
          "2022-03-13T00:00:00.000000000",
          "2022-03-20T00:00:00.000000000",
          "2022-03-27T00:00:00.000000000",
          "2022-04-03T00:00:00.000000000",
          "2022-04-10T00:00:00.000000000",
          "2022-04-17T00:00:00.000000000",
          "2022-04-24T00:00:00.000000000",
          "2022-05-01T00:00:00.000000000",
          "2022-05-08T00:00:00.000000000",
          "2022-05-15T00:00:00.000000000",
          "2022-05-22T00:00:00.000000000",
          "2022-05-29T00:00:00.000000000",
          "2022-06-05T00:00:00.000000000",
          "2022-06-12T00:00:00.000000000",
          "2022-06-19T00:00:00.000000000",
          "2022-06-26T00:00:00.000000000",
          "2022-07-03T00:00:00.000000000",
          "2022-07-10T00:00:00.000000000",
          "2022-07-17T00:00:00.000000000",
          "2022-07-24T00:00:00.000000000",
          "2022-07-31T00:00:00.000000000",
          "2022-08-07T00:00:00.000000000",
          "2022-08-14T00:00:00.000000000",
          "2022-08-21T00:00:00.000000000"
         ],
         "y": {
          "bdata": "IHF782niLUF86SmBJE8sQatpO4IyuC9Bia6/horMMUHSsh6lOocyQfiMK5+lhjRBXkt2Rvu9N0E1DMK1Y6s0QdVVOf9EGjNBtaoquBV2MUGR8Rkb1Cw0QXO20QVNPTJBECx6drDfMkGWm/iz25M4QZtpZHQB8DFBmlnC2HzBKUE6ObXnSvIrQaAwYcbDtCtB2ZVnn25CMkG5dL67ktguQS1twZ5ivS5BiRFLpaD6MEFlrFnI++wxQe+8gdJWzi5BcdZY+1BbMEHzoOGJRQMxQW12hwJyFTNBsdEcPkhBMkHVoBjkmRkxQZCQy3QjADBBwhEbX1lIMEGk2MBdGYUzQWZyZFsv4TdBjF2NaUJfNEEFJjlJaigyQVdirhseETVB+zP5AtlSMkEQEnjdJgwwQY4DJ6f4qS9B3Xv0Pa8AMkEufgNEmAUzQYx7VSa/eTNBEKHOz2xFMEG8qRsjsuEyQe1GU2DP3jBBbAsJEwvQMUFNwY0fLhkzQWY++70fACxB5Pe7rjz1KUEKjxUvmZspQc4LS3wHbylBzOr3KcJZKUECW/zaWyImQUTlnBtdQCVBqUKj0p+qKUFTM9A/3awvQe9CsyUBfDNB1d/DFqmRN0Gxy13lPqI4QXUcNFXIbDJBpnIOPteRMUGm28y0LxgvQSG8bLdKJDBB+xqvkAgnMUF1XPJSH70wQfV39Tq2xzdBXAnSAxumN0GC1BQLmTo0QViW1cR54TNBYBB/cTOrMEGHSBThMiUyQRz2MM5cLjJBw8U7R2MyMkEvys14wAgyQYJBVJcySjFBhF5goY4jM0E6q/X31r8xQTADgmP6TjBBvGGZ+wTnMUEYKrGqeX4zQQc1ETvvFjVBFuJqHTlwM0FCkSo3YbIzQSN56n/N0DZBnFGJBo9kOUHv91OcsO8zQWxe7ijmfzJBYX/MXoJmLUFhBRCNlcktQWFM9jda4DBBJ9e97BnpMUHDWNBwVjcvQf27VFOWESxB8+ebTSpnL0FeBzyI6twxQReGuR5fBjJBGseah0i/MEF80KaKx14xQUwxUz7XgjFB7DOIY7sHMEFhuKEpoMIuQV9byhRMmy9Bav4m4QOcL0Gr8h/ZCFMvQQ==",
          "dtype": "f8"
         }
        },
        {
         "name": "Lower bound(95%)",
         "showlegend": true,
         "type": "scatter",
         "x": [
          "2020-08-30T00:00:00.000000000",
          "2020-09-06T00:00:00.000000000",
          "2020-09-13T00:00:00.000000000",
          "2020-09-20T00:00:00.000000000",
          "2020-09-27T00:00:00.000000000",
          "2020-10-04T00:00:00.000000000",
          "2020-10-11T00:00:00.000000000",
          "2020-10-18T00:00:00.000000000",
          "2020-10-25T00:00:00.000000000",
          "2020-11-01T00:00:00.000000000",
          "2020-11-08T00:00:00.000000000",
          "2020-11-15T00:00:00.000000000",
          "2020-11-22T00:00:00.000000000",
          "2020-11-29T00:00:00.000000000",
          "2020-12-06T00:00:00.000000000",
          "2020-12-13T00:00:00.000000000",
          "2020-12-20T00:00:00.000000000",
          "2020-12-27T00:00:00.000000000",
          "2021-01-03T00:00:00.000000000",
          "2021-01-10T00:00:00.000000000",
          "2021-01-17T00:00:00.000000000",
          "2021-01-24T00:00:00.000000000",
          "2021-01-31T00:00:00.000000000",
          "2021-02-07T00:00:00.000000000",
          "2021-02-14T00:00:00.000000000",
          "2021-02-21T00:00:00.000000000",
          "2021-02-28T00:00:00.000000000",
          "2021-03-07T00:00:00.000000000",
          "2021-03-14T00:00:00.000000000",
          "2021-03-21T00:00:00.000000000",
          "2021-03-28T00:00:00.000000000",
          "2021-04-04T00:00:00.000000000",
          "2021-04-11T00:00:00.000000000",
          "2021-04-18T00:00:00.000000000",
          "2021-04-25T00:00:00.000000000",
          "2021-05-02T00:00:00.000000000",
          "2021-05-09T00:00:00.000000000",
          "2021-05-16T00:00:00.000000000",
          "2021-05-23T00:00:00.000000000",
          "2021-05-30T00:00:00.000000000",
          "2021-06-06T00:00:00.000000000",
          "2021-06-13T00:00:00.000000000",
          "2021-06-20T00:00:00.000000000",
          "2021-06-27T00:00:00.000000000",
          "2021-07-04T00:00:00.000000000",
          "2021-07-11T00:00:00.000000000",
          "2021-07-18T00:00:00.000000000",
          "2021-07-25T00:00:00.000000000",
          "2021-08-01T00:00:00.000000000",
          "2021-08-08T00:00:00.000000000",
          "2021-08-15T00:00:00.000000000",
          "2021-08-22T00:00:00.000000000",
          "2021-08-29T00:00:00.000000000",
          "2021-09-05T00:00:00.000000000",
          "2021-09-12T00:00:00.000000000",
          "2021-09-19T00:00:00.000000000",
          "2021-09-26T00:00:00.000000000",
          "2021-10-03T00:00:00.000000000",
          "2021-10-10T00:00:00.000000000",
          "2021-10-17T00:00:00.000000000",
          "2021-10-24T00:00:00.000000000",
          "2021-10-31T00:00:00.000000000",
          "2021-11-07T00:00:00.000000000",
          "2021-11-14T00:00:00.000000000",
          "2021-11-21T00:00:00.000000000",
          "2021-11-28T00:00:00.000000000",
          "2021-12-05T00:00:00.000000000",
          "2021-12-12T00:00:00.000000000",
          "2021-12-19T00:00:00.000000000",
          "2021-12-26T00:00:00.000000000",
          "2022-01-02T00:00:00.000000000",
          "2022-01-09T00:00:00.000000000",
          "2022-01-16T00:00:00.000000000",
          "2022-01-23T00:00:00.000000000",
          "2022-01-30T00:00:00.000000000",
          "2022-02-06T00:00:00.000000000",
          "2022-02-13T00:00:00.000000000",
          "2022-02-20T00:00:00.000000000",
          "2022-02-27T00:00:00.000000000",
          "2022-03-06T00:00:00.000000000",
          "2022-03-13T00:00:00.000000000",
          "2022-03-20T00:00:00.000000000",
          "2022-03-27T00:00:00.000000000",
          "2022-04-03T00:00:00.000000000",
          "2022-04-10T00:00:00.000000000",
          "2022-04-17T00:00:00.000000000",
          "2022-04-24T00:00:00.000000000",
          "2022-05-01T00:00:00.000000000",
          "2022-05-08T00:00:00.000000000",
          "2022-05-15T00:00:00.000000000",
          "2022-05-22T00:00:00.000000000",
          "2022-05-29T00:00:00.000000000",
          "2022-06-05T00:00:00.000000000",
          "2022-06-12T00:00:00.000000000",
          "2022-06-19T00:00:00.000000000",
          "2022-06-26T00:00:00.000000000",
          "2022-07-03T00:00:00.000000000",
          "2022-07-10T00:00:00.000000000",
          "2022-07-17T00:00:00.000000000",
          "2022-07-24T00:00:00.000000000",
          "2022-07-31T00:00:00.000000000",
          "2022-08-07T00:00:00.000000000",
          "2022-08-14T00:00:00.000000000",
          "2022-08-21T00:00:00.000000000"
         ],
         "y": {
          "bdata": "SJFRXfziTsHxcZ0CdblPweDEhkWsI1HBEzC2gSN/TcHc5S992/5Qwas+diyMzFHBzZ/OCEqyUMGl4nxkIBRRwW3DrxsYGUvBi5lZ2z+LTsGpolXqXlRQwTKanZRd6FDBu+R7CtJuUcFwC4r4/+FPwRZCTTUIwE3Bt9KCpdnoUME306mZsmdQwbTWkUrxE07BNWf0e5hAS8FPHOcSWCdRwYh6Gysd4k/BNH0axZY+U8EzGyf1LvhQwQsn9StmylLB7DqOx8j9TcEMvaLO+xJQwbDBN7JkklDByHq+XX6yUsGeGgvgu8pPwUt5UEUyB1LBF1QOVc0XTcGrLyVAUqtLwU068+WZa0rB10NIAETtT8E86NbJ4tFRwTRtncl9E03Bppj+vvugSsGSgJZYMktOwcJjh7u9gUvB1IRSfdrUT8E50tKn2fdRwTKlE1gB1UzBsJZGMCOJUMFsi97hmRFNwaT3FmnUJFDBn6jkRitkTcHEJGFmIf5QwafApHxESlHBOLBCryhST8Fc7CWvg5hRwQgSlcj+LVHB9jHacRvxUcHXrFCmWPVRwdt5G5oQU1PBadQYIkeVUcHsa2SMzLFQwWeaWq/oOFDB9xJtD0gTUcHxrn1hZ6ZIwUiwyWDFi0/B+LFvCpgYT8HLlQS5+UVTwdxl/DCm7FHBqa72koCIUMFMwGtX88xSwfBWeLwp10rBnMkI+iNrSsEjaVyq8rVMwfGYduzFOkrBZ+iQQlBRUsEiMTQVYqZOwav05GtlqVHB0kKTqG3WUcFkPTHRwFhLwf4nx/dKKE7BMC3QZBtdTsE8o+i02q5RwTKK1lpsRVDBZrJRJ2r9UcGLO+fny7BMwQ8qJ3QY30vBek9uRvkeS8El2bfieStMwQVxXXhin0rBtZrs1bCjTcFftG0344tQwed2uEy1DlLB2WLkhYDkUsH4kf8AhzBQwWDanfkzDlDBYNaulhd8UcFInk7mz1BUweiYB26ic1DBDTSTPJfnUsFDSV5aTItQwdJpxLLvjknBZrFi3m4pUMGU4J//SaZPwVX1juak6VHBDjHkvhHcTMH4rN82hSpQwR20vyqX1kzBSAlC1HjaUMFHEYuHXsxRwQ==",
          "dtype": "f8"
         }
        },
        {
         "fill": "tonexty",
         "name": "Upper bound (95%)",
         "showlegend": true,
         "type": "scatter",
         "x": [
          "2020-08-30T00:00:00.000000000",
          "2020-09-06T00:00:00.000000000",
          "2020-09-13T00:00:00.000000000",
          "2020-09-20T00:00:00.000000000",
          "2020-09-27T00:00:00.000000000",
          "2020-10-04T00:00:00.000000000",
          "2020-10-11T00:00:00.000000000",
          "2020-10-18T00:00:00.000000000",
          "2020-10-25T00:00:00.000000000",
          "2020-11-01T00:00:00.000000000",
          "2020-11-08T00:00:00.000000000",
          "2020-11-15T00:00:00.000000000",
          "2020-11-22T00:00:00.000000000",
          "2020-11-29T00:00:00.000000000",
          "2020-12-06T00:00:00.000000000",
          "2020-12-13T00:00:00.000000000",
          "2020-12-20T00:00:00.000000000",
          "2020-12-27T00:00:00.000000000",
          "2021-01-03T00:00:00.000000000",
          "2021-01-10T00:00:00.000000000",
          "2021-01-17T00:00:00.000000000",
          "2021-01-24T00:00:00.000000000",
          "2021-01-31T00:00:00.000000000",
          "2021-02-07T00:00:00.000000000",
          "2021-02-14T00:00:00.000000000",
          "2021-02-21T00:00:00.000000000",
          "2021-02-28T00:00:00.000000000",
          "2021-03-07T00:00:00.000000000",
          "2021-03-14T00:00:00.000000000",
          "2021-03-21T00:00:00.000000000",
          "2021-03-28T00:00:00.000000000",
          "2021-04-04T00:00:00.000000000",
          "2021-04-11T00:00:00.000000000",
          "2021-04-18T00:00:00.000000000",
          "2021-04-25T00:00:00.000000000",
          "2021-05-02T00:00:00.000000000",
          "2021-05-09T00:00:00.000000000",
          "2021-05-16T00:00:00.000000000",
          "2021-05-23T00:00:00.000000000",
          "2021-05-30T00:00:00.000000000",
          "2021-06-06T00:00:00.000000000",
          "2021-06-13T00:00:00.000000000",
          "2021-06-20T00:00:00.000000000",
          "2021-06-27T00:00:00.000000000",
          "2021-07-04T00:00:00.000000000",
          "2021-07-11T00:00:00.000000000",
          "2021-07-18T00:00:00.000000000",
          "2021-07-25T00:00:00.000000000",
          "2021-08-01T00:00:00.000000000",
          "2021-08-08T00:00:00.000000000",
          "2021-08-15T00:00:00.000000000",
          "2021-08-22T00:00:00.000000000",
          "2021-08-29T00:00:00.000000000",
          "2021-09-05T00:00:00.000000000",
          "2021-09-12T00:00:00.000000000",
          "2021-09-19T00:00:00.000000000",
          "2021-09-26T00:00:00.000000000",
          "2021-10-03T00:00:00.000000000",
          "2021-10-10T00:00:00.000000000",
          "2021-10-17T00:00:00.000000000",
          "2021-10-24T00:00:00.000000000",
          "2021-10-31T00:00:00.000000000",
          "2021-11-07T00:00:00.000000000",
          "2021-11-14T00:00:00.000000000",
          "2021-11-21T00:00:00.000000000",
          "2021-11-28T00:00:00.000000000",
          "2021-12-05T00:00:00.000000000",
          "2021-12-12T00:00:00.000000000",
          "2021-12-19T00:00:00.000000000",
          "2021-12-26T00:00:00.000000000",
          "2022-01-02T00:00:00.000000000",
          "2022-01-09T00:00:00.000000000",
          "2022-01-16T00:00:00.000000000",
          "2022-01-23T00:00:00.000000000",
          "2022-01-30T00:00:00.000000000",
          "2022-02-06T00:00:00.000000000",
          "2022-02-13T00:00:00.000000000",
          "2022-02-20T00:00:00.000000000",
          "2022-02-27T00:00:00.000000000",
          "2022-03-06T00:00:00.000000000",
          "2022-03-13T00:00:00.000000000",
          "2022-03-20T00:00:00.000000000",
          "2022-03-27T00:00:00.000000000",
          "2022-04-03T00:00:00.000000000",
          "2022-04-10T00:00:00.000000000",
          "2022-04-17T00:00:00.000000000",
          "2022-04-24T00:00:00.000000000",
          "2022-05-01T00:00:00.000000000",
          "2022-05-08T00:00:00.000000000",
          "2022-05-15T00:00:00.000000000",
          "2022-05-22T00:00:00.000000000",
          "2022-05-29T00:00:00.000000000",
          "2022-06-05T00:00:00.000000000",
          "2022-06-12T00:00:00.000000000",
          "2022-06-19T00:00:00.000000000",
          "2022-06-26T00:00:00.000000000",
          "2022-07-03T00:00:00.000000000",
          "2022-07-10T00:00:00.000000000",
          "2022-07-17T00:00:00.000000000",
          "2022-07-24T00:00:00.000000000",
          "2022-07-31T00:00:00.000000000",
          "2022-08-07T00:00:00.000000000",
          "2022-08-14T00:00:00.000000000",
          "2022-08-21T00:00:00.000000000"
         ],
         "y": {
          "bdata": "dHp4IuUlWkFxhsFAeodZQfm3wL54H1lBwyyaPrDfWEEIAHID2tJYQZERiFSpBFlBbJUBFcXIWkHXBD1V8b5YQVfvIOy5FVtB9taUTW5ZV0F+Ryu77TJZQfSDSrbIRVxBnjVpu2upV0Ffuyi5yQlaQbqXasxY71lBraMXXfxNWEEtwFQnh2pXQZuhIXHc0lhB7IXv7C3IWkHAnd7GouVYQfRDoxwXQVlBapfOlqFNVkGlutfJUWdXQYPbuiXgYFlBeyNZStYhW0H3W+OWoitYQYbyXOHJpltB/vEFbgl7V0EI0/SxeklXQdCL25ovPFpBv8jkvbLHWUEO6RPKTyhZQUJN2YvYLlxBQPv9rPqRWkGgO9OnuQpXQQzKwrHDPFxB+M9CrGRiW0FrPzgUip9bQbQfdtEanlhB+r7lP/SeWkFHHVJrxotXQWmPHFSoRFxB0RuXx2b6WEFE6qomRjpbQYp5fYRXL1hBacR+4P9qWkEa1WcpAhtaQVSyQ2OKT1ZBixn+O3mjWkFsXvYcZzBXQSQYA2NcmFZBrl1vtvbZVkHqQn5vANVVQd/S4Upu11VBHA7IF5ODV0GY+y2gILRYQQpVE1VzflhBFGVvc8hzV0E8vlvh3+NcQY4GCD2IjFtBrS6s9ZVUWUFZlrPE/rBXQdWZv6HdHldBA/TlHrynV0GaEGqoDPFWQXj/XnStE1xBbavAsDgkXEE6HRUbNRVaQatCnyV1KlpBckyCRahRV0HtT8t6dWNaQYWnAKznTllBfYUwaFhkWEHrGQMaZHBdQWAwhNBhmVlBB5+wHElXWUHpJHBLBVBYQYVqyGMAw1dBdtjvNez6WEEE6PbfEIZaQf6ZwrKfBltBe7iTKPuOXUF8E3zB0p1ZQZv/mVUIz1xBVTpfS93dWkEKtoE28aVXQUjmmLrrCFlBP/Y0G96PVUEHFV/TEftYQSRhZAsaellB9aEMvkRqWUFwy0NVyAhXQbk8wUqgrVhBSIxVyxQXWEHootSdvN1ZQQ8g4+fVrlpBCdc0e2icWkE1hGPpgohYQSQH/F7VRlhBWIUE0DR0WkF6z/feB1BXQW7LqFPbBVtBB/6AcT9nWEEh6z3PmO5YQQ==",
          "dtype": "f8"
         }
        },
        {
         "name": "Lower bound(50%)",
         "showlegend": true,
         "type": "scatter",
         "x": [
          "2020-08-30T00:00:00.000000000",
          "2020-09-06T00:00:00.000000000",
          "2020-09-13T00:00:00.000000000",
          "2020-09-20T00:00:00.000000000",
          "2020-09-27T00:00:00.000000000",
          "2020-10-04T00:00:00.000000000",
          "2020-10-11T00:00:00.000000000",
          "2020-10-18T00:00:00.000000000",
          "2020-10-25T00:00:00.000000000",
          "2020-11-01T00:00:00.000000000",
          "2020-11-08T00:00:00.000000000",
          "2020-11-15T00:00:00.000000000",
          "2020-11-22T00:00:00.000000000",
          "2020-11-29T00:00:00.000000000",
          "2020-12-06T00:00:00.000000000",
          "2020-12-13T00:00:00.000000000",
          "2020-12-20T00:00:00.000000000",
          "2020-12-27T00:00:00.000000000",
          "2021-01-03T00:00:00.000000000",
          "2021-01-10T00:00:00.000000000",
          "2021-01-17T00:00:00.000000000",
          "2021-01-24T00:00:00.000000000",
          "2021-01-31T00:00:00.000000000",
          "2021-02-07T00:00:00.000000000",
          "2021-02-14T00:00:00.000000000",
          "2021-02-21T00:00:00.000000000",
          "2021-02-28T00:00:00.000000000",
          "2021-03-07T00:00:00.000000000",
          "2021-03-14T00:00:00.000000000",
          "2021-03-21T00:00:00.000000000",
          "2021-03-28T00:00:00.000000000",
          "2021-04-04T00:00:00.000000000",
          "2021-04-11T00:00:00.000000000",
          "2021-04-18T00:00:00.000000000",
          "2021-04-25T00:00:00.000000000",
          "2021-05-02T00:00:00.000000000",
          "2021-05-09T00:00:00.000000000",
          "2021-05-16T00:00:00.000000000",
          "2021-05-23T00:00:00.000000000",
          "2021-05-30T00:00:00.000000000",
          "2021-06-06T00:00:00.000000000",
          "2021-06-13T00:00:00.000000000",
          "2021-06-20T00:00:00.000000000",
          "2021-06-27T00:00:00.000000000",
          "2021-07-04T00:00:00.000000000",
          "2021-07-11T00:00:00.000000000",
          "2021-07-18T00:00:00.000000000",
          "2021-07-25T00:00:00.000000000",
          "2021-08-01T00:00:00.000000000",
          "2021-08-08T00:00:00.000000000",
          "2021-08-15T00:00:00.000000000",
          "2021-08-22T00:00:00.000000000",
          "2021-08-29T00:00:00.000000000",
          "2021-09-05T00:00:00.000000000",
          "2021-09-12T00:00:00.000000000",
          "2021-09-19T00:00:00.000000000",
          "2021-09-26T00:00:00.000000000",
          "2021-10-03T00:00:00.000000000",
          "2021-10-10T00:00:00.000000000",
          "2021-10-17T00:00:00.000000000",
          "2021-10-24T00:00:00.000000000",
          "2021-10-31T00:00:00.000000000",
          "2021-11-07T00:00:00.000000000",
          "2021-11-14T00:00:00.000000000",
          "2021-11-21T00:00:00.000000000",
          "2021-11-28T00:00:00.000000000",
          "2021-12-05T00:00:00.000000000",
          "2021-12-12T00:00:00.000000000",
          "2021-12-19T00:00:00.000000000",
          "2021-12-26T00:00:00.000000000",
          "2022-01-02T00:00:00.000000000",
          "2022-01-09T00:00:00.000000000",
          "2022-01-16T00:00:00.000000000",
          "2022-01-23T00:00:00.000000000",
          "2022-01-30T00:00:00.000000000",
          "2022-02-06T00:00:00.000000000",
          "2022-02-13T00:00:00.000000000",
          "2022-02-20T00:00:00.000000000",
          "2022-02-27T00:00:00.000000000",
          "2022-03-06T00:00:00.000000000",
          "2022-03-13T00:00:00.000000000",
          "2022-03-20T00:00:00.000000000",
          "2022-03-27T00:00:00.000000000",
          "2022-04-03T00:00:00.000000000",
          "2022-04-10T00:00:00.000000000",
          "2022-04-17T00:00:00.000000000",
          "2022-04-24T00:00:00.000000000",
          "2022-05-01T00:00:00.000000000",
          "2022-05-08T00:00:00.000000000",
          "2022-05-15T00:00:00.000000000",
          "2022-05-22T00:00:00.000000000",
          "2022-05-29T00:00:00.000000000",
          "2022-06-05T00:00:00.000000000",
          "2022-06-12T00:00:00.000000000",
          "2022-06-19T00:00:00.000000000",
          "2022-06-26T00:00:00.000000000",
          "2022-07-03T00:00:00.000000000",
          "2022-07-10T00:00:00.000000000",
          "2022-07-17T00:00:00.000000000",
          "2022-07-24T00:00:00.000000000",
          "2022-07-31T00:00:00.000000000",
          "2022-08-07T00:00:00.000000000",
          "2022-08-14T00:00:00.000000000",
          "2022-08-21T00:00:00.000000000"
         ],
         "y": {
          "bdata": "673kWlar4cD3gK+i9P7sQCRqaoDO0N5AufA7GfUE+0AbZx3iVPYIQaKmqSM1MwNBtoCrpzhqDkEPdTL7Y7MGQXlFPIoLfu9AYeJzHXK9j0C228Q85vsSQcznX7Qkv/pAoBodapnxC0GCw93pI6ISQdFwDj+sSQRBv41f6GxZBMFBf8crcx7iQI9Z86JUjBDBNHU/Or9p20BLssLT1Zy7QD6j+U7TawTBnWFdG+ZnrEAR4t/Zdl+3wJSnj8O0CwFBcfhzpLXX+0BjtExTHqgBQacZVpdVNw9Be8PoP1PQ9EDF7hP1smiowL7ii57EAsZAlfhfWb8MBcFaDYKbyKAUQcu9CtXMoxdBDaLj4bN5EkGw2ELh26cKQaq2QZ+a6gRBwt8OZ4QW+UAqeWuOeTrjwGpd6lazgPPA4Lzt+NAGxcCPz6EP444XQVTDgyMrNPBAOK6WUwxf+sAnSjksm5b7QM8Uae+C6QVBYLbkzs9480AnJqxL8+3awHvtCQwE7wNBuhruydx1DMFTo1gRrKL8wJZfGjvQIMPAVmY0qKN0EcFuraBnI7UQweOxbkCneerAsPQfbU9XBMFRQdgqBsYMQYwGcJ1iVPhAO//mr28bG0HHOUmMGyMcQVU5nruglgRBmg+0ZDS59MDygo9mxG/4wO29XkLkH/BANqwpRlQn8kD2hpAye2jSwBGpwXxOYQ5B03L9KgnTGkHSqdwEg1MSQbfcPR2FGgRB3hn4nChfAEEC5A1xZrzhQOtuoL/lvhBBSKwGAwIw9EAyORhPLaQDQak6qIC4v/tAM4z/4+KKzsCd9+djye8FQfqAWuNY9N1AlMDvkG537sC+ZZ6TQVoQQfP4yd7iQw9B5VTIiKStEEH/m7H3yvzwQIjmQdzSThFBC7Cg7NgWIUFbR9wwfJv+QB7M0fUre/9ANXlgOwnq8cCgTPHmRK/awLOZSexTHvxA8+4PVwqu78CkTHMka/D0QEtzUyk4PBHBuDjrsxYL9kD7kWgGmkD2wAFwphgj1OfAEgjM8+lrBEHV5wc3V9r5QKH/qPbVMQVB4aNNo+YWqkCAHnXHLLgPwZQFhM5VEfnArXtut7y6A8EIhBo+ClkDQQ==",
          "dtype": "f8"
         }
        },
        {
         "fill": "tonexty",
         "name": "Upper bound (50%)",
         "showlegend": true,
         "type": "scatter",
         "x": [
          "2020-08-30T00:00:00.000000000",
          "2020-09-06T00:00:00.000000000",
          "2020-09-13T00:00:00.000000000",
          "2020-09-20T00:00:00.000000000",
          "2020-09-27T00:00:00.000000000",
          "2020-10-04T00:00:00.000000000",
          "2020-10-11T00:00:00.000000000",
          "2020-10-18T00:00:00.000000000",
          "2020-10-25T00:00:00.000000000",
          "2020-11-01T00:00:00.000000000",
          "2020-11-08T00:00:00.000000000",
          "2020-11-15T00:00:00.000000000",
          "2020-11-22T00:00:00.000000000",
          "2020-11-29T00:00:00.000000000",
          "2020-12-06T00:00:00.000000000",
          "2020-12-13T00:00:00.000000000",
          "2020-12-20T00:00:00.000000000",
          "2020-12-27T00:00:00.000000000",
          "2021-01-03T00:00:00.000000000",
          "2021-01-10T00:00:00.000000000",
          "2021-01-17T00:00:00.000000000",
          "2021-01-24T00:00:00.000000000",
          "2021-01-31T00:00:00.000000000",
          "2021-02-07T00:00:00.000000000",
          "2021-02-14T00:00:00.000000000",
          "2021-02-21T00:00:00.000000000",
          "2021-02-28T00:00:00.000000000",
          "2021-03-07T00:00:00.000000000",
          "2021-03-14T00:00:00.000000000",
          "2021-03-21T00:00:00.000000000",
          "2021-03-28T00:00:00.000000000",
          "2021-04-04T00:00:00.000000000",
          "2021-04-11T00:00:00.000000000",
          "2021-04-18T00:00:00.000000000",
          "2021-04-25T00:00:00.000000000",
          "2021-05-02T00:00:00.000000000",
          "2021-05-09T00:00:00.000000000",
          "2021-05-16T00:00:00.000000000",
          "2021-05-23T00:00:00.000000000",
          "2021-05-30T00:00:00.000000000",
          "2021-06-06T00:00:00.000000000",
          "2021-06-13T00:00:00.000000000",
          "2021-06-20T00:00:00.000000000",
          "2021-06-27T00:00:00.000000000",
          "2021-07-04T00:00:00.000000000",
          "2021-07-11T00:00:00.000000000",
          "2021-07-18T00:00:00.000000000",
          "2021-07-25T00:00:00.000000000",
          "2021-08-01T00:00:00.000000000",
          "2021-08-08T00:00:00.000000000",
          "2021-08-15T00:00:00.000000000",
          "2021-08-22T00:00:00.000000000",
          "2021-08-29T00:00:00.000000000",
          "2021-09-05T00:00:00.000000000",
          "2021-09-12T00:00:00.000000000",
          "2021-09-19T00:00:00.000000000",
          "2021-09-26T00:00:00.000000000",
          "2021-10-03T00:00:00.000000000",
          "2021-10-10T00:00:00.000000000",
          "2021-10-17T00:00:00.000000000",
          "2021-10-24T00:00:00.000000000",
          "2021-10-31T00:00:00.000000000",
          "2021-11-07T00:00:00.000000000",
          "2021-11-14T00:00:00.000000000",
          "2021-11-21T00:00:00.000000000",
          "2021-11-28T00:00:00.000000000",
          "2021-12-05T00:00:00.000000000",
          "2021-12-12T00:00:00.000000000",
          "2021-12-19T00:00:00.000000000",
          "2021-12-26T00:00:00.000000000",
          "2022-01-02T00:00:00.000000000",
          "2022-01-09T00:00:00.000000000",
          "2022-01-16T00:00:00.000000000",
          "2022-01-23T00:00:00.000000000",
          "2022-01-30T00:00:00.000000000",
          "2022-02-06T00:00:00.000000000",
          "2022-02-13T00:00:00.000000000",
          "2022-02-20T00:00:00.000000000",
          "2022-02-27T00:00:00.000000000",
          "2022-03-06T00:00:00.000000000",
          "2022-03-13T00:00:00.000000000",
          "2022-03-20T00:00:00.000000000",
          "2022-03-27T00:00:00.000000000",
          "2022-04-03T00:00:00.000000000",
          "2022-04-10T00:00:00.000000000",
          "2022-04-17T00:00:00.000000000",
          "2022-04-24T00:00:00.000000000",
          "2022-05-01T00:00:00.000000000",
          "2022-05-08T00:00:00.000000000",
          "2022-05-15T00:00:00.000000000",
          "2022-05-22T00:00:00.000000000",
          "2022-05-29T00:00:00.000000000",
          "2022-06-05T00:00:00.000000000",
          "2022-06-12T00:00:00.000000000",
          "2022-06-19T00:00:00.000000000",
          "2022-06-26T00:00:00.000000000",
          "2022-07-03T00:00:00.000000000",
          "2022-07-10T00:00:00.000000000",
          "2022-07-17T00:00:00.000000000",
          "2022-07-24T00:00:00.000000000",
          "2022-07-31T00:00:00.000000000",
          "2022-08-07T00:00:00.000000000",
          "2022-08-14T00:00:00.000000000",
          "2022-08-21T00:00:00.000000000"
         ],
         "y": {
          "bdata": "lENttZskPUHesZt/NX4/QUzGY/H7uj9BBUp7FzhVQEHm8Z1KFYRCQfhes0Fi0UFBk+ij0AwKQ0HrHI94XPJBQTgLsaK2IUBBJu37roxWQEGz+5n0YZJCQY4ou2DqhUFB+SF7WPr2QUFPnnYy7FpEQTqtmg2rMkFBkKveNu09PEGirJ4+vqA/Qat8EY5UqjpBLfHrbOuRQEFsor3TMmFAQZNQ51jWdTxBFkHvMiykP0HGghHtBOU+QTC1vchmr0BB53mlTsEnQEG5V8svsQ9BQfgLJTR3U0JB1AQVMC/NQEG/i5P1bpw9QcbIVyz8aD9BW83UIck5PUETbe8muv9CQeAO8vmwQkRB136UTB8zQkELOksYw3lBQZzTsPzA6kFBPge1FFnDQEEofpO7yUg9QWfnOglf/T5Bf4M+qqVEQEF1iYauNOpCQYde89Tmm0BB4ydwwb2IP0ENNb6UPyRBQT0aAFeLk0FBCRKWQW1iQEEaZ9nKMfQ+QbAQVaLAW0BBZQTigf9hO0GsCCRWcOM7QWovL7Hg/D1B6wJFI7QyOUEyygU9pnM5QUSDks6UTD1BtnDlYZcwPUErenkVlGhBQfeHcw6LGUFBINBWrwwnREGuAo3HkfdEQRarYGw5UkFBzV4Ukf8oPkGy+63LFeI+QXGKjffrFEBBQQohfrVWQEHqaovFT3s/QdRgvZqnVEJBt0yCzTm0Q0FavJp/lH9CQS8cA9hNRUFBqmHRC1+6QUHmlojciL9AQYcgy+RUlkJBZ/7fQG9AQUF0PA2YlnJBQb1YhnNqk0BBcHj7Xxl/QEHtVUNw0vVBQdLpMVj2DUBBuRoFzoc4QEEDVA2HdohCQep3seZrMkJBZSVOoTXoQUE9vA7kf/VAQdoIyAdAv0JBYDgh4JCpRUHIP0XPIbJBQU04wqCpbEFB6KVONqXnPkFQiLrhMlc/QRGEwDKQhUFBAT+lVCM7P0HGG0ffeApAQUnYGXLhQjtBGAjvi+ZLQEEyikrdJRY/QSoyAZ6VPkBBivuAq8EKQUFtmPkQpS1BQfCRz2lHG0FBJBiyKjRcQEE229DjLBY7Qb4oYZsYlz5BTFbBFpR6O0G4QXFqW4pBQQ==",
          "dtype": "f8"
         }
        }
       ],
       "layout": {
        "font": {
         "color": "green",
         "family": "Arial",
         "size": 20
        },
        "template": {
         "data": {
          "bar": [
           {
            "error_x": {
             "color": "#2a3f5f"
            },
            "error_y": {
             "color": "#2a3f5f"
            },
            "marker": {
             "line": {
              "color": "#E5ECF6",
              "width": 0.5
             },
             "pattern": {
              "fillmode": "overlay",
              "size": 10,
              "solidity": 0.2
             }
            },
            "type": "bar"
           }
          ],
          "barpolar": [
           {
            "marker": {
             "line": {
              "color": "#E5ECF6",
              "width": 0.5
             },
             "pattern": {
              "fillmode": "overlay",
              "size": 10,
              "solidity": 0.2
             }
            },
            "type": "barpolar"
           }
          ],
          "carpet": [
           {
            "aaxis": {
             "endlinecolor": "#2a3f5f",
             "gridcolor": "white",
             "linecolor": "white",
             "minorgridcolor": "white",
             "startlinecolor": "#2a3f5f"
            },
            "baxis": {
             "endlinecolor": "#2a3f5f",
             "gridcolor": "white",
             "linecolor": "white",
             "minorgridcolor": "white",
             "startlinecolor": "#2a3f5f"
            },
            "type": "carpet"
           }
          ],
          "choropleth": [
           {
            "colorbar": {
             "outlinewidth": 0,
             "ticks": ""
            },
            "type": "choropleth"
           }
          ],
          "contour": [
           {
            "colorbar": {
             "outlinewidth": 0,
             "ticks": ""
            },
            "colorscale": [
             [
              0,
              "#0d0887"
             ],
             [
              0.1111111111111111,
              "#46039f"
             ],
             [
              0.2222222222222222,
              "#7201a8"
             ],
             [
              0.3333333333333333,
              "#9c179e"
             ],
             [
              0.4444444444444444,
              "#bd3786"
             ],
             [
              0.5555555555555556,
              "#d8576b"
             ],
             [
              0.6666666666666666,
              "#ed7953"
             ],
             [
              0.7777777777777778,
              "#fb9f3a"
             ],
             [
              0.8888888888888888,
              "#fdca26"
             ],
             [
              1,
              "#f0f921"
             ]
            ],
            "type": "contour"
           }
          ],
          "contourcarpet": [
           {
            "colorbar": {
             "outlinewidth": 0,
             "ticks": ""
            },
            "type": "contourcarpet"
           }
          ],
          "heatmap": [
           {
            "colorbar": {
             "outlinewidth": 0,
             "ticks": ""
            },
            "colorscale": [
             [
              0,
              "#0d0887"
             ],
             [
              0.1111111111111111,
              "#46039f"
             ],
             [
              0.2222222222222222,
              "#7201a8"
             ],
             [
              0.3333333333333333,
              "#9c179e"
             ],
             [
              0.4444444444444444,
              "#bd3786"
             ],
             [
              0.5555555555555556,
              "#d8576b"
             ],
             [
              0.6666666666666666,
              "#ed7953"
             ],
             [
              0.7777777777777778,
              "#fb9f3a"
             ],
             [
              0.8888888888888888,
              "#fdca26"
             ],
             [
              1,
              "#f0f921"
             ]
            ],
            "type": "heatmap"
           }
          ],
          "histogram": [
           {
            "marker": {
             "pattern": {
              "fillmode": "overlay",
              "size": 10,
              "solidity": 0.2
             }
            },
            "type": "histogram"
           }
          ],
          "histogram2d": [
           {
            "colorbar": {
             "outlinewidth": 0,
             "ticks": ""
            },
            "colorscale": [
             [
              0,
              "#0d0887"
             ],
             [
              0.1111111111111111,
              "#46039f"
             ],
             [
              0.2222222222222222,
              "#7201a8"
             ],
             [
              0.3333333333333333,
              "#9c179e"
             ],
             [
              0.4444444444444444,
              "#bd3786"
             ],
             [
              0.5555555555555556,
              "#d8576b"
             ],
             [
              0.6666666666666666,
              "#ed7953"
             ],
             [
              0.7777777777777778,
              "#fb9f3a"
             ],
             [
              0.8888888888888888,
              "#fdca26"
             ],
             [
              1,
              "#f0f921"
             ]
            ],
            "type": "histogram2d"
           }
          ],
          "histogram2dcontour": [
           {
            "colorbar": {
             "outlinewidth": 0,
             "ticks": ""
            },
            "colorscale": [
             [
              0,
              "#0d0887"
             ],
             [
              0.1111111111111111,
              "#46039f"
             ],
             [
              0.2222222222222222,
              "#7201a8"
             ],
             [
              0.3333333333333333,
              "#9c179e"
             ],
             [
              0.4444444444444444,
              "#bd3786"
             ],
             [
              0.5555555555555556,
              "#d8576b"
             ],
             [
              0.6666666666666666,
              "#ed7953"
             ],
             [
              0.7777777777777778,
              "#fb9f3a"
             ],
             [
              0.8888888888888888,
              "#fdca26"
             ],
             [
              1,
              "#f0f921"
             ]
            ],
            "type": "histogram2dcontour"
           }
          ],
          "mesh3d": [
           {
            "colorbar": {
             "outlinewidth": 0,
             "ticks": ""
            },
            "type": "mesh3d"
           }
          ],
          "parcoords": [
           {
            "line": {
             "colorbar": {
              "outlinewidth": 0,
              "ticks": ""
             }
            },
            "type": "parcoords"
           }
          ],
          "pie": [
           {
            "automargin": true,
            "type": "pie"
           }
          ],
          "scatter": [
           {
            "fillpattern": {
             "fillmode": "overlay",
             "size": 10,
             "solidity": 0.2
            },
            "type": "scatter"
           }
          ],
          "scatter3d": [
           {
            "line": {
             "colorbar": {
              "outlinewidth": 0,
              "ticks": ""
             }
            },
            "marker": {
             "colorbar": {
              "outlinewidth": 0,
              "ticks": ""
             }
            },
            "type": "scatter3d"
           }
          ],
          "scattercarpet": [
           {
            "marker": {
             "colorbar": {
              "outlinewidth": 0,
              "ticks": ""
             }
            },
            "type": "scattercarpet"
           }
          ],
          "scattergeo": [
           {
            "marker": {
             "colorbar": {
              "outlinewidth": 0,
              "ticks": ""
             }
            },
            "type": "scattergeo"
           }
          ],
          "scattergl": [
           {
            "marker": {
             "colorbar": {
              "outlinewidth": 0,
              "ticks": ""
             }
            },
            "type": "scattergl"
           }
          ],
          "scattermap": [
           {
            "marker": {
             "colorbar": {
              "outlinewidth": 0,
              "ticks": ""
             }
            },
            "type": "scattermap"
           }
          ],
          "scattermapbox": [
           {
            "marker": {
             "colorbar": {
              "outlinewidth": 0,
              "ticks": ""
             }
            },
            "type": "scattermapbox"
           }
          ],
          "scatterpolar": [
           {
            "marker": {
             "colorbar": {
              "outlinewidth": 0,
              "ticks": ""
             }
            },
            "type": "scatterpolar"
           }
          ],
          "scatterpolargl": [
           {
            "marker": {
             "colorbar": {
              "outlinewidth": 0,
              "ticks": ""
             }
            },
            "type": "scatterpolargl"
           }
          ],
          "scatterternary": [
           {
            "marker": {
             "colorbar": {
              "outlinewidth": 0,
              "ticks": ""
             }
            },
            "type": "scatterternary"
           }
          ],
          "surface": [
           {
            "colorbar": {
             "outlinewidth": 0,
             "ticks": ""
            },
            "colorscale": [
             [
              0,
              "#0d0887"
             ],
             [
              0.1111111111111111,
              "#46039f"
             ],
             [
              0.2222222222222222,
              "#7201a8"
             ],
             [
              0.3333333333333333,
              "#9c179e"
             ],
             [
              0.4444444444444444,
              "#bd3786"
             ],
             [
              0.5555555555555556,
              "#d8576b"
             ],
             [
              0.6666666666666666,
              "#ed7953"
             ],
             [
              0.7777777777777778,
              "#fb9f3a"
             ],
             [
              0.8888888888888888,
              "#fdca26"
             ],
             [
              1,
              "#f0f921"
             ]
            ],
            "type": "surface"
           }
          ],
          "table": [
           {
            "cells": {
             "fill": {
              "color": "#EBF0F8"
             },
             "line": {
              "color": "white"
             }
            },
            "header": {
             "fill": {
              "color": "#C8D4E3"
             },
             "line": {
              "color": "white"
             }
            },
            "type": "table"
           }
          ]
         },
         "layout": {
          "annotationdefaults": {
           "arrowcolor": "#2a3f5f",
           "arrowhead": 0,
           "arrowwidth": 1
          },
          "autotypenumbers": "strict",
          "coloraxis": {
           "colorbar": {
            "outlinewidth": 0,
            "ticks": ""
           }
          },
          "colorscale": {
           "diverging": [
            [
             0,
             "#8e0152"
            ],
            [
             0.1,
             "#c51b7d"
            ],
            [
             0.2,
             "#de77ae"
            ],
            [
             0.3,
             "#f1b6da"
            ],
            [
             0.4,
             "#fde0ef"
            ],
            [
             0.5,
             "#f7f7f7"
            ],
            [
             0.6,
             "#e6f5d0"
            ],
            [
             0.7,
             "#b8e186"
            ],
            [
             0.8,
             "#7fbc41"
            ],
            [
             0.9,
             "#4d9221"
            ],
            [
             1,
             "#276419"
            ]
           ],
           "sequential": [
            [
             0,
             "#0d0887"
            ],
            [
             0.1111111111111111,
             "#46039f"
            ],
            [
             0.2222222222222222,
             "#7201a8"
            ],
            [
             0.3333333333333333,
             "#9c179e"
            ],
            [
             0.4444444444444444,
             "#bd3786"
            ],
            [
             0.5555555555555556,
             "#d8576b"
            ],
            [
             0.6666666666666666,
             "#ed7953"
            ],
            [
             0.7777777777777778,
             "#fb9f3a"
            ],
            [
             0.8888888888888888,
             "#fdca26"
            ],
            [
             1,
             "#f0f921"
            ]
           ],
           "sequentialminus": [
            [
             0,
             "#0d0887"
            ],
            [
             0.1111111111111111,
             "#46039f"
            ],
            [
             0.2222222222222222,
             "#7201a8"
            ],
            [
             0.3333333333333333,
             "#9c179e"
            ],
            [
             0.4444444444444444,
             "#bd3786"
            ],
            [
             0.5555555555555556,
             "#d8576b"
            ],
            [
             0.6666666666666666,
             "#ed7953"
            ],
            [
             0.7777777777777778,
             "#fb9f3a"
            ],
            [
             0.8888888888888888,
             "#fdca26"
            ],
            [
             1,
             "#f0f921"
            ]
           ]
          },
          "colorway": [
           "#636efa",
           "#EF553B",
           "#00cc96",
           "#ab63fa",
           "#FFA15A",
           "#19d3f3",
           "#FF6692",
           "#B6E880",
           "#FF97FF",
           "#FECB52"
          ],
          "font": {
           "color": "#2a3f5f"
          },
          "geo": {
           "bgcolor": "white",
           "lakecolor": "white",
           "landcolor": "#E5ECF6",
           "showlakes": true,
           "showland": true,
           "subunitcolor": "white"
          },
          "hoverlabel": {
           "align": "left"
          },
          "hovermode": "closest",
          "mapbox": {
           "style": "light"
          },
          "paper_bgcolor": "white",
          "plot_bgcolor": "#E5ECF6",
          "polar": {
           "angularaxis": {
            "gridcolor": "white",
            "linecolor": "white",
            "ticks": ""
           },
           "bgcolor": "#E5ECF6",
           "radialaxis": {
            "gridcolor": "white",
            "linecolor": "white",
            "ticks": ""
           }
          },
          "scene": {
           "xaxis": {
            "backgroundcolor": "#E5ECF6",
            "gridcolor": "white",
            "gridwidth": 2,
            "linecolor": "white",
            "showbackground": true,
            "ticks": "",
            "zerolinecolor": "white"
           },
           "yaxis": {
            "backgroundcolor": "#E5ECF6",
            "gridcolor": "white",
            "gridwidth": 2,
            "linecolor": "white",
            "showbackground": true,
            "ticks": "",
            "zerolinecolor": "white"
           },
           "zaxis": {
            "backgroundcolor": "#E5ECF6",
            "gridcolor": "white",
            "gridwidth": 2,
            "linecolor": "white",
            "showbackground": true,
            "ticks": "",
            "zerolinecolor": "white"
           }
          },
          "shapedefaults": {
           "line": {
            "color": "#2a3f5f"
           }
          },
          "ternary": {
           "aaxis": {
            "gridcolor": "white",
            "linecolor": "white",
            "ticks": ""
           },
           "baxis": {
            "gridcolor": "white",
            "linecolor": "white",
            "ticks": ""
           },
           "bgcolor": "#E5ECF6",
           "caxis": {
            "gridcolor": "white",
            "linecolor": "white",
            "ticks": ""
           }
          },
          "title": {
           "x": 0.05
          },
          "xaxis": {
           "automargin": true,
           "gridcolor": "white",
           "linecolor": "white",
           "ticks": "",
           "title": {
            "standoff": 15
           },
           "zerolinecolor": "white",
           "zerolinewidth": 2
          },
          "yaxis": {
           "automargin": true,
           "gridcolor": "white",
           "linecolor": "white",
           "ticks": "",
           "title": {
            "standoff": 15
           },
           "zerolinecolor": "white",
           "zerolinewidth": 2
          }
         }
        },
        "title": {
         "text": "prior_predictive"
        },
        "xaxis": {
         "title": {
          "text": "date"
         }
        },
        "yaxis": {
         "title": {
          "text": "y"
         }
        }
       }
      }
     },
     "metadata": {},
     "output_type": "display_data"
    }
   ],
   "source": [
    "# we use a custom plotting function to plot the mean and 95% and 50% HDI\n",
    "plot_predictive(model=mmm, label=\"prior_predictive\", actuals=y)"
   ]
  },
  {
   "cell_type": "markdown",
   "id": "d68023e5",
   "metadata": {},
   "source": [
    "we can see that the priors are not adequate"
   ]
  },
  {
   "cell_type": "code",
   "execution_count": 18,
   "id": "d73e7513",
   "metadata": {},
   "outputs": [
    {
     "data": {
      "application/vnd.plotly.v1+json": {
       "config": {
        "plotlyServerURL": "https://plot.ly"
       },
       "data": [
        {
         "name": "actual",
         "showlegend": true,
         "type": "scatter",
         "x": [
          "2020-08-30T00:00:00.000",
          "2020-09-06T00:00:00.000",
          "2020-09-13T00:00:00.000",
          "2020-09-20T00:00:00.000",
          "2020-09-27T00:00:00.000",
          "2020-10-04T00:00:00.000",
          "2020-10-11T00:00:00.000",
          "2020-10-18T00:00:00.000",
          "2020-10-25T00:00:00.000",
          "2020-11-01T00:00:00.000",
          "2020-11-08T00:00:00.000",
          "2020-11-15T00:00:00.000",
          "2020-11-22T00:00:00.000",
          "2020-11-29T00:00:00.000",
          "2020-12-06T00:00:00.000",
          "2020-12-13T00:00:00.000",
          "2020-12-20T00:00:00.000",
          "2020-12-27T00:00:00.000",
          "2021-01-03T00:00:00.000",
          "2021-01-10T00:00:00.000",
          "2021-01-17T00:00:00.000",
          "2021-01-24T00:00:00.000",
          "2021-01-31T00:00:00.000",
          "2021-02-07T00:00:00.000",
          "2021-02-14T00:00:00.000",
          "2021-02-21T00:00:00.000",
          "2021-02-28T00:00:00.000",
          "2021-03-07T00:00:00.000",
          "2021-03-14T00:00:00.000",
          "2021-03-21T00:00:00.000",
          "2021-03-28T00:00:00.000",
          "2021-04-04T00:00:00.000",
          "2021-04-11T00:00:00.000",
          "2021-04-18T00:00:00.000",
          "2021-04-25T00:00:00.000",
          "2021-05-02T00:00:00.000",
          "2021-05-09T00:00:00.000",
          "2021-05-16T00:00:00.000",
          "2021-05-23T00:00:00.000",
          "2021-05-30T00:00:00.000",
          "2021-06-06T00:00:00.000",
          "2021-06-13T00:00:00.000",
          "2021-06-20T00:00:00.000",
          "2021-06-27T00:00:00.000",
          "2021-07-04T00:00:00.000",
          "2021-07-11T00:00:00.000",
          "2021-07-18T00:00:00.000",
          "2021-07-25T00:00:00.000",
          "2021-08-01T00:00:00.000",
          "2021-08-08T00:00:00.000",
          "2021-08-15T00:00:00.000",
          "2021-08-22T00:00:00.000",
          "2021-08-29T00:00:00.000",
          "2021-09-05T00:00:00.000",
          "2021-09-12T00:00:00.000",
          "2021-09-19T00:00:00.000",
          "2021-09-26T00:00:00.000",
          "2021-10-03T00:00:00.000",
          "2021-10-10T00:00:00.000",
          "2021-10-17T00:00:00.000",
          "2021-10-24T00:00:00.000",
          "2021-10-31T00:00:00.000",
          "2021-11-07T00:00:00.000",
          "2021-11-14T00:00:00.000",
          "2021-11-21T00:00:00.000",
          "2021-11-28T00:00:00.000",
          "2021-12-05T00:00:00.000",
          "2021-12-12T00:00:00.000",
          "2021-12-19T00:00:00.000",
          "2021-12-26T00:00:00.000",
          "2022-01-02T00:00:00.000",
          "2022-01-09T00:00:00.000",
          "2022-01-16T00:00:00.000",
          "2022-01-23T00:00:00.000",
          "2022-01-30T00:00:00.000",
          "2022-02-06T00:00:00.000",
          "2022-02-13T00:00:00.000",
          "2022-02-20T00:00:00.000",
          "2022-02-27T00:00:00.000",
          "2022-03-06T00:00:00.000",
          "2022-03-13T00:00:00.000",
          "2022-03-20T00:00:00.000",
          "2022-03-27T00:00:00.000",
          "2022-04-03T00:00:00.000",
          "2022-04-10T00:00:00.000",
          "2022-04-17T00:00:00.000",
          "2022-04-24T00:00:00.000",
          "2022-05-01T00:00:00.000",
          "2022-05-08T00:00:00.000",
          "2022-05-15T00:00:00.000",
          "2022-05-22T00:00:00.000",
          "2022-05-29T00:00:00.000",
          "2022-06-05T00:00:00.000",
          "2022-06-12T00:00:00.000",
          "2022-06-19T00:00:00.000",
          "2022-06-26T00:00:00.000",
          "2022-07-03T00:00:00.000",
          "2022-07-10T00:00:00.000",
          "2022-07-17T00:00:00.000",
          "2022-07-24T00:00:00.000",
          "2022-07-31T00:00:00.000",
          "2022-08-07T00:00:00.000",
          "2022-08-14T00:00:00.000",
          "2022-08-21T00:00:00.000"
         ],
         "y": {
          "bdata": "AAAAAJZGA0EK16NwzcEGQexRuB47ugNBpHA9Csn7BUFxPQrXD5YKQR+F61Ho3wdBFK5H4TzwAUEzMzMzxfkDQTMzMzOpkAdBw/UoXOkDCkGPwvUoiLIIQT0K16MqawpBH4XrUUY+A0FSuB6FKYYZQVK4HoW5XAJB7FG4HhmC80DhehSuQwb0QOxRuB4tl/NAexSuR30g/EApXI/CDbz3QI/C9ShwdPdAXI/C9ahVEUH2KFyPkrULQRSuR+HonAZB4XoUrt2tAEEUrkfh3t3+QI/C9SiCNABBrkfheqhUAEFI4XoU6lP7QOF6FK4DvfpAZmZmZoICAEF7FK5HYX79QPYoXI9eawtBw/UoXNVIA0EzMzMzSS4CQaRwPQpJEQJBzczMzEbVAUHD9ShcNw8AQbgehesRQ/1A9ihcjzIw/kCF61G4Yq3+QNejcD3Q9wRBPQrXo8riAkHD9Shct7H9QD0K16PCfQFBuB6F66Hx+ECF61G4HsnxQBSuR+Hi3O5ApHA9CrtY+EDsUbgeScP1QAAAAAAcHPZAzczMzAyA+UB7FK5HaU/3QAAAAABYYfpAZmZmZt6s90BmZmZmevT2QOxRuB5dwAJBCtejcNuxA0G4HoXrVVn+QIXrUbgCPf1ASOF6FDqT+UC4HoXrdwIAQcP1KFynM/xAMzMzM7VgAEHD9Shcyxz+QFK4HoX95xBB4XoUrrkjBEFxPQrXb5v+QFyPwvW85PxAw/UoXEfz9ECamZmZbyoBQexRuB6HmgVBrkfhepz5AkFmZmZmTHwAQbgehevTUAFBZmZmZm5mAUHsUbgetR76QM3MzMzMofpAUrgehYek9UAUrkfh9jIBQQAAAABS2wRBmpmZmfXOAEHhehSuZ/YAQTMzMzM14AZBAAAAABAMBEH2KFyPrjkEQQrXo3CDuQBB4XoUrj/rAUF7FK5HeS75QLgeheulLvpASOF6FFrW9kCF61G4Llv4QEjhehQGdvhAKVyPwiE7/kDNzMzMLLH6QM3MzMx4qvdAH4XrUTRf+EAfhetR6KHxQAAAAAAk/fFAAAAAAFiV8UDD9ShcIyr2QGZmZmaW3PlAXI/C9aQY9kAAAAAAqJr0QA==",
          "dtype": "f8"
         }
        },
        {
         "name": "mean",
         "showlegend": true,
         "type": "scatter",
         "x": [
          "2020-08-30T00:00:00.000",
          "2020-09-06T00:00:00.000",
          "2020-09-13T00:00:00.000",
          "2020-09-20T00:00:00.000",
          "2020-09-27T00:00:00.000",
          "2020-10-04T00:00:00.000",
          "2020-10-11T00:00:00.000",
          "2020-10-18T00:00:00.000",
          "2020-10-25T00:00:00.000",
          "2020-11-01T00:00:00.000",
          "2020-11-08T00:00:00.000",
          "2020-11-15T00:00:00.000",
          "2020-11-22T00:00:00.000",
          "2020-11-29T00:00:00.000",
          "2020-12-06T00:00:00.000",
          "2020-12-13T00:00:00.000",
          "2020-12-20T00:00:00.000",
          "2020-12-27T00:00:00.000",
          "2021-01-03T00:00:00.000",
          "2021-01-10T00:00:00.000",
          "2021-01-17T00:00:00.000",
          "2021-01-24T00:00:00.000",
          "2021-01-31T00:00:00.000",
          "2021-02-07T00:00:00.000",
          "2021-02-14T00:00:00.000",
          "2021-02-21T00:00:00.000",
          "2021-02-28T00:00:00.000",
          "2021-03-07T00:00:00.000",
          "2021-03-14T00:00:00.000",
          "2021-03-21T00:00:00.000",
          "2021-03-28T00:00:00.000",
          "2021-04-04T00:00:00.000",
          "2021-04-11T00:00:00.000",
          "2021-04-18T00:00:00.000",
          "2021-04-25T00:00:00.000",
          "2021-05-02T00:00:00.000",
          "2021-05-09T00:00:00.000",
          "2021-05-16T00:00:00.000",
          "2021-05-23T00:00:00.000",
          "2021-05-30T00:00:00.000",
          "2021-06-06T00:00:00.000",
          "2021-06-13T00:00:00.000",
          "2021-06-20T00:00:00.000",
          "2021-06-27T00:00:00.000",
          "2021-07-04T00:00:00.000",
          "2021-07-11T00:00:00.000",
          "2021-07-18T00:00:00.000",
          "2021-07-25T00:00:00.000",
          "2021-08-01T00:00:00.000",
          "2021-08-08T00:00:00.000",
          "2021-08-15T00:00:00.000",
          "2021-08-22T00:00:00.000",
          "2021-08-29T00:00:00.000",
          "2021-09-05T00:00:00.000",
          "2021-09-12T00:00:00.000",
          "2021-09-19T00:00:00.000",
          "2021-09-26T00:00:00.000",
          "2021-10-03T00:00:00.000",
          "2021-10-10T00:00:00.000",
          "2021-10-17T00:00:00.000",
          "2021-10-24T00:00:00.000",
          "2021-10-31T00:00:00.000",
          "2021-11-07T00:00:00.000",
          "2021-11-14T00:00:00.000",
          "2021-11-21T00:00:00.000",
          "2021-11-28T00:00:00.000",
          "2021-12-05T00:00:00.000",
          "2021-12-12T00:00:00.000",
          "2021-12-19T00:00:00.000",
          "2021-12-26T00:00:00.000",
          "2022-01-02T00:00:00.000",
          "2022-01-09T00:00:00.000",
          "2022-01-16T00:00:00.000",
          "2022-01-23T00:00:00.000",
          "2022-01-30T00:00:00.000",
          "2022-02-06T00:00:00.000",
          "2022-02-13T00:00:00.000",
          "2022-02-20T00:00:00.000",
          "2022-02-27T00:00:00.000",
          "2022-03-06T00:00:00.000",
          "2022-03-13T00:00:00.000",
          "2022-03-20T00:00:00.000",
          "2022-03-27T00:00:00.000",
          "2022-04-03T00:00:00.000",
          "2022-04-10T00:00:00.000",
          "2022-04-17T00:00:00.000",
          "2022-04-24T00:00:00.000",
          "2022-05-01T00:00:00.000",
          "2022-05-08T00:00:00.000",
          "2022-05-15T00:00:00.000",
          "2022-05-22T00:00:00.000",
          "2022-05-29T00:00:00.000",
          "2022-06-05T00:00:00.000",
          "2022-06-12T00:00:00.000",
          "2022-06-19T00:00:00.000",
          "2022-06-26T00:00:00.000",
          "2022-07-03T00:00:00.000",
          "2022-07-10T00:00:00.000",
          "2022-07-17T00:00:00.000",
          "2022-07-24T00:00:00.000",
          "2022-07-31T00:00:00.000",
          "2022-08-07T00:00:00.000",
          "2022-08-14T00:00:00.000",
          "2022-08-21T00:00:00.000"
         ],
         "y": {
          "bdata": "hUUd6MHa/kArMFs1tOMAQQNaEc0rkAFBqlslMSRbA0EMT5rlWmUEQQZCZ4bzSglBsn2Za0WaDUG8L+9k62MJQdibwY3gFgVB1nfnW2h2A0Gv84eOhhMHQdnxb3yXSQdBzbBfRRKRBkGIez0h2AgNQWiofxoifwZB4jZZn0x8/UD/WteW873/QGGdCPmVYP5AyWfNju6aAUFdDpMJpj8AQWDFk8zE5gFBX25xmH5+A0Eg+i27yu0DQenqdVMQ0QFBQu2iULakAkHqAkbt7BADQbTjVms6GQRB+FOspkGIAkHmZqJEfbgBQYPCUZ9/Zv9APRJhuK58AEGP3aakbQMFQabnROFWigpBiML+QAbmBEFx0ElIHYMCQeEx0wiJ9QRBoGUfZqLpAUGF6sr5Wof8QBsRygg21ftAIYpeTDtdAEETwKv4A3gBQW1A5kD4uwBBdC3Ad9Zl/0B8SRjFsjkBQRcXYma8q/9ABcwVjrRb/kDs42svaWQAQQGbw9j5x/hAAqwzN04I9kCn450FOV32QN1JLnUbdvVAP3+ttLhv9EARvdwdtbT1QLgrALpnJfZADjntggrB90DcJdtvYGT6QMStJd6ynwBBE4o5BNOrBEHdTHSLddIHQd4BmCY9+wFBdY4OuVD//kBFZ+N6LND+QGASX/8lfP9AKyAzCKkcAEHE4lz8GhEAQfJvkJc3MAdB8OoojdXQB0GoB1mKNbYDQWcWMhZejAFBt+npS8E+AEEBWPtWMgwAQVO2MUtmJgBB09qbhFCF/0DToZP0tn79QBt3zyaSof1AkmMv5Q5g/0CGaFFGjsT+QMqWM7R3OP5AUvpcJjOW/kAxw4RY8LoAQXTr7fGxSgBBwxlCqwQRAEE1NXwPlSIBQSdFxEyB+wJBSbHHwabfBUGsQJDnIAMAQYfbT6FL8/xAPDTD4HwN+0B7q1WiHxD3QOIn4+CBAflAt+f5U64T/kA717aubE74QDyWtkTzafZAvvtLQWsu90Ao8/O8bMP4QBtG3SY3tPhAchNcnG8l+UC5gggVtVb2QMslUBJWfvVAwpcVak+Z9kBIlGgYW7T0QGdDISU3xfZADCmZWsBo9kBvelNtu3D2QA==",
          "dtype": "f8"
         }
        },
        {
         "name": "Lower bound(95%)",
         "showlegend": true,
         "type": "scatter",
         "x": [
          "2020-08-30T00:00:00.000",
          "2020-09-06T00:00:00.000",
          "2020-09-13T00:00:00.000",
          "2020-09-20T00:00:00.000",
          "2020-09-27T00:00:00.000",
          "2020-10-04T00:00:00.000",
          "2020-10-11T00:00:00.000",
          "2020-10-18T00:00:00.000",
          "2020-10-25T00:00:00.000",
          "2020-11-01T00:00:00.000",
          "2020-11-08T00:00:00.000",
          "2020-11-15T00:00:00.000",
          "2020-11-22T00:00:00.000",
          "2020-11-29T00:00:00.000",
          "2020-12-06T00:00:00.000",
          "2020-12-13T00:00:00.000",
          "2020-12-20T00:00:00.000",
          "2020-12-27T00:00:00.000",
          "2021-01-03T00:00:00.000",
          "2021-01-10T00:00:00.000",
          "2021-01-17T00:00:00.000",
          "2021-01-24T00:00:00.000",
          "2021-01-31T00:00:00.000",
          "2021-02-07T00:00:00.000",
          "2021-02-14T00:00:00.000",
          "2021-02-21T00:00:00.000",
          "2021-02-28T00:00:00.000",
          "2021-03-07T00:00:00.000",
          "2021-03-14T00:00:00.000",
          "2021-03-21T00:00:00.000",
          "2021-03-28T00:00:00.000",
          "2021-04-04T00:00:00.000",
          "2021-04-11T00:00:00.000",
          "2021-04-18T00:00:00.000",
          "2021-04-25T00:00:00.000",
          "2021-05-02T00:00:00.000",
          "2021-05-09T00:00:00.000",
          "2021-05-16T00:00:00.000",
          "2021-05-23T00:00:00.000",
          "2021-05-30T00:00:00.000",
          "2021-06-06T00:00:00.000",
          "2021-06-13T00:00:00.000",
          "2021-06-20T00:00:00.000",
          "2021-06-27T00:00:00.000",
          "2021-07-04T00:00:00.000",
          "2021-07-11T00:00:00.000",
          "2021-07-18T00:00:00.000",
          "2021-07-25T00:00:00.000",
          "2021-08-01T00:00:00.000",
          "2021-08-08T00:00:00.000",
          "2021-08-15T00:00:00.000",
          "2021-08-22T00:00:00.000",
          "2021-08-29T00:00:00.000",
          "2021-09-05T00:00:00.000",
          "2021-09-12T00:00:00.000",
          "2021-09-19T00:00:00.000",
          "2021-09-26T00:00:00.000",
          "2021-10-03T00:00:00.000",
          "2021-10-10T00:00:00.000",
          "2021-10-17T00:00:00.000",
          "2021-10-24T00:00:00.000",
          "2021-10-31T00:00:00.000",
          "2021-11-07T00:00:00.000",
          "2021-11-14T00:00:00.000",
          "2021-11-21T00:00:00.000",
          "2021-11-28T00:00:00.000",
          "2021-12-05T00:00:00.000",
          "2021-12-12T00:00:00.000",
          "2021-12-19T00:00:00.000",
          "2021-12-26T00:00:00.000",
          "2022-01-02T00:00:00.000",
          "2022-01-09T00:00:00.000",
          "2022-01-16T00:00:00.000",
          "2022-01-23T00:00:00.000",
          "2022-01-30T00:00:00.000",
          "2022-02-06T00:00:00.000",
          "2022-02-13T00:00:00.000",
          "2022-02-20T00:00:00.000",
          "2022-02-27T00:00:00.000",
          "2022-03-06T00:00:00.000",
          "2022-03-13T00:00:00.000",
          "2022-03-20T00:00:00.000",
          "2022-03-27T00:00:00.000",
          "2022-04-03T00:00:00.000",
          "2022-04-10T00:00:00.000",
          "2022-04-17T00:00:00.000",
          "2022-04-24T00:00:00.000",
          "2022-05-01T00:00:00.000",
          "2022-05-08T00:00:00.000",
          "2022-05-15T00:00:00.000",
          "2022-05-22T00:00:00.000",
          "2022-05-29T00:00:00.000",
          "2022-06-05T00:00:00.000",
          "2022-06-12T00:00:00.000",
          "2022-06-19T00:00:00.000",
          "2022-06-26T00:00:00.000",
          "2022-07-03T00:00:00.000",
          "2022-07-10T00:00:00.000",
          "2022-07-17T00:00:00.000",
          "2022-07-24T00:00:00.000",
          "2022-07-31T00:00:00.000",
          "2022-08-07T00:00:00.000",
          "2022-08-14T00:00:00.000",
          "2022-08-21T00:00:00.000"
         ],
         "y": {
          "bdata": "T45noSbd50C4jlfyqynuQArVVa8owe9APZ8QTdkK9EC1pGbcnwL3QL8wY+3PGwBBSc516IX+A0GJ4TOvqtT+QJp7M5hmGvZAnJQZH4G69EA82eTv3Pz6QBhQYW/m2fpATbBFgKu7+kAumrGiA1oDQY94VAq7VfpAnAXo026240AkaohgdpnpQBYtV6dfu+VADJxfhNHL7UBC5NqOLNfrQOrC+EwrIvBATBCXDrwq9UBe4bf9bIf0QB4TFkPHae9AKcu/puOY8UD3c15o6jfyQHHzoPliCfVA2M68Yxwa8kDr3xk2LWbvQLJRJ4H0EOlACCUf6O5b7UBYtae9Eiv2QD0oKH5tqABBQkO/M/Wm9kCQssNbBKjxQBHT/va8UvZAngPBsaZs8UCTL4VjraThQNIDJchlY+BAoAmZYKjv6UBvjAHvbKnvQD1mbFgkne1AQJP6/qsm50AhPUCEazDwQPz5lm1U6+pAPmV5ej/F5kBzUTFTzE3pQIPxb5USydVAns7P4H1Qx0C1cx93d8/CQA5uUXlgfcBAgWP/y8clqEAXRxzziDLOQFhevO3j8MRAOgFreTDR1UAF659rClngQIdvcpfDDOxAaLYJU5gZ9UBn04p5In75QDiufmmk9vBAK25bTSP16EDrrag8IZblQPnTE1YpyOlAAxoDSTLY5kAP5DXvzy3rQEgrCniVevlA3TU4hbP7+kB8Wco+NJP0QGfNVOMvqu9AVUtsh7c560C++oZmx6PqQMHxkvp34ulAZOD9dVnU6EBCINmFGQ7mQJ1FqDXaeOZAd4xOdDJt50D3KCMld1jmQKK4IY33m+VAEGU2/Iti6ECjrQ9rcifuQBEWxpWIIepAOqr/6+WL60CaI4wpIjPsQPdwWvzlx/JA+rBxL1Ys90AN9sDgf+XpQDMS7m2/MuNA/FKtAPOe3EDBsEVhWcvOQDXDGSwkutZApW5er4Ej5UDm+wArJjrVQGfF0jyGEcpAVZ7XJpMs0EAAFt2c5+LSQGIdQqk7ydRAXY6vufzN10BPY2DEG5vNQPnd7/olF8RALv6TTP6xzkBCOBP3nh/DQN5eO8IAqctAtCs0C229yEAKhopL/xfEQA==",
          "dtype": "f8"
         }
        },
        {
         "fill": "tonexty",
         "name": "Upper bound (95%)",
         "showlegend": true,
         "type": "scatter",
         "x": [
          "2020-08-30T00:00:00.000",
          "2020-09-06T00:00:00.000",
          "2020-09-13T00:00:00.000",
          "2020-09-20T00:00:00.000",
          "2020-09-27T00:00:00.000",
          "2020-10-04T00:00:00.000",
          "2020-10-11T00:00:00.000",
          "2020-10-18T00:00:00.000",
          "2020-10-25T00:00:00.000",
          "2020-11-01T00:00:00.000",
          "2020-11-08T00:00:00.000",
          "2020-11-15T00:00:00.000",
          "2020-11-22T00:00:00.000",
          "2020-11-29T00:00:00.000",
          "2020-12-06T00:00:00.000",
          "2020-12-13T00:00:00.000",
          "2020-12-20T00:00:00.000",
          "2020-12-27T00:00:00.000",
          "2021-01-03T00:00:00.000",
          "2021-01-10T00:00:00.000",
          "2021-01-17T00:00:00.000",
          "2021-01-24T00:00:00.000",
          "2021-01-31T00:00:00.000",
          "2021-02-07T00:00:00.000",
          "2021-02-14T00:00:00.000",
          "2021-02-21T00:00:00.000",
          "2021-02-28T00:00:00.000",
          "2021-03-07T00:00:00.000",
          "2021-03-14T00:00:00.000",
          "2021-03-21T00:00:00.000",
          "2021-03-28T00:00:00.000",
          "2021-04-04T00:00:00.000",
          "2021-04-11T00:00:00.000",
          "2021-04-18T00:00:00.000",
          "2021-04-25T00:00:00.000",
          "2021-05-02T00:00:00.000",
          "2021-05-09T00:00:00.000",
          "2021-05-16T00:00:00.000",
          "2021-05-23T00:00:00.000",
          "2021-05-30T00:00:00.000",
          "2021-06-06T00:00:00.000",
          "2021-06-13T00:00:00.000",
          "2021-06-20T00:00:00.000",
          "2021-06-27T00:00:00.000",
          "2021-07-04T00:00:00.000",
          "2021-07-11T00:00:00.000",
          "2021-07-18T00:00:00.000",
          "2021-07-25T00:00:00.000",
          "2021-08-01T00:00:00.000",
          "2021-08-08T00:00:00.000",
          "2021-08-15T00:00:00.000",
          "2021-08-22T00:00:00.000",
          "2021-08-29T00:00:00.000",
          "2021-09-05T00:00:00.000",
          "2021-09-12T00:00:00.000",
          "2021-09-19T00:00:00.000",
          "2021-09-26T00:00:00.000",
          "2021-10-03T00:00:00.000",
          "2021-10-10T00:00:00.000",
          "2021-10-17T00:00:00.000",
          "2021-10-24T00:00:00.000",
          "2021-10-31T00:00:00.000",
          "2021-11-07T00:00:00.000",
          "2021-11-14T00:00:00.000",
          "2021-11-21T00:00:00.000",
          "2021-11-28T00:00:00.000",
          "2021-12-05T00:00:00.000",
          "2021-12-12T00:00:00.000",
          "2021-12-19T00:00:00.000",
          "2021-12-26T00:00:00.000",
          "2022-01-02T00:00:00.000",
          "2022-01-09T00:00:00.000",
          "2022-01-16T00:00:00.000",
          "2022-01-23T00:00:00.000",
          "2022-01-30T00:00:00.000",
          "2022-02-06T00:00:00.000",
          "2022-02-13T00:00:00.000",
          "2022-02-20T00:00:00.000",
          "2022-02-27T00:00:00.000",
          "2022-03-06T00:00:00.000",
          "2022-03-13T00:00:00.000",
          "2022-03-20T00:00:00.000",
          "2022-03-27T00:00:00.000",
          "2022-04-03T00:00:00.000",
          "2022-04-10T00:00:00.000",
          "2022-04-17T00:00:00.000",
          "2022-04-24T00:00:00.000",
          "2022-05-01T00:00:00.000",
          "2022-05-08T00:00:00.000",
          "2022-05-15T00:00:00.000",
          "2022-05-22T00:00:00.000",
          "2022-05-29T00:00:00.000",
          "2022-06-05T00:00:00.000",
          "2022-06-12T00:00:00.000",
          "2022-06-19T00:00:00.000",
          "2022-06-26T00:00:00.000",
          "2022-07-03T00:00:00.000",
          "2022-07-10T00:00:00.000",
          "2022-07-17T00:00:00.000",
          "2022-07-24T00:00:00.000",
          "2022-07-31T00:00:00.000",
          "2022-08-07T00:00:00.000",
          "2022-08-14T00:00:00.000",
          "2022-08-21T00:00:00.000"
         ],
         "y": {
          "bdata": "R4ppp+yaCUGIWlx/zqEKQQU/4s9M7wtB8UHNCKFHDUH27HXrFgoPQeFyVkyVixFBMrktSGHWE0En/69uGtERQWCOThkqvQ5B4f1LCETPDUGHMbUT+JQQQRqS30SANhBBFIkihH9LEEHgwHsXxIwTQdgEZ90kHBBB9kmflK3VCEGwzdPA34UJQQTNwDt+pghBniEYgkl+C0HfBATdwfwJQdatsfeamQtBLfWmAvRfDUEgvhMys3UNQZKtmuOFKAtBE2hcBK8jDEHKAgoBco8MQV3EzW1g9w1BQ2TRSOf5C0Es4RPzZIELQS/r3Ov5fAlBAMIAn8qPCkHkWM/CWF0PQSsExsTehBJBMyzF8TurDkFTZ9UDQI0LQRgr+vOoQw5BFwI5SMDFC0GEDJo3rmAHQQ11tSKXigdB/H7x6JTSCUHWlrEJ/o0LQb4D34/oGwtBPgCD4p1DCUGc6QnnU2sLQdbF2wXaNwpBSisrxtJMCEHLjC2IWsMJQQwVEHgoBwZBbgenhEKMBEEsR+m4e1gEQXDmO0q3wwNBONkWhvUBBEELo3hWR60EQctII+iUjQRB6NA1MBujBUEB/MWFSxQHQbkjIzPjjgpBa1UHPIOVDkFUd4HlLKEQQejYwpFL0AtBzsW8G5WZCUFIadovVCcJQdrohMtJOAlBCN3DQESoCUEwKx2r5kgKQUgQV//vvhBBo1tjP9wDEUHvi/If2VANQXKkHRpCrQpBNtd7HmBlCkGfvGdBS18KQYRV4+hvdwlB/z+yVtgpCUHvVcwHcHoIQd88qD1UfwhBcQlN0BdUCUGy4Jz7BTwJQZWw54ro9whBGXphvt8XCUG9noStU8EKQfApUPi7rglB6GUto9MRCkGnZ1l+GlAKQTmwwxAfAw1BEjM8pgjTD0HsY/ZMMSsKQQHI6dvJrAdBSB9o08hAB0G3zbp7qXIFQR1ER5UhOAZBdGXe5EKSCEHF67kYhPcFQUeWcVir1QRBdiOMLUl1BUG0Ez4hZ6MFQfKE4rckJAZBUBDbMoBRBkEOxJldy9sEQWer5cTnzQRBcCle/3nvBEFe8lIzAkUEQfWNA9E/6wRBevcxaMjDBEGIiMzTOnEEQQ==",
          "dtype": "f8"
         }
        },
        {
         "name": "Lower bound(50%)",
         "showlegend": true,
         "type": "scatter",
         "x": [
          "2020-08-30T00:00:00.000",
          "2020-09-06T00:00:00.000",
          "2020-09-13T00:00:00.000",
          "2020-09-20T00:00:00.000",
          "2020-09-27T00:00:00.000",
          "2020-10-04T00:00:00.000",
          "2020-10-11T00:00:00.000",
          "2020-10-18T00:00:00.000",
          "2020-10-25T00:00:00.000",
          "2020-11-01T00:00:00.000",
          "2020-11-08T00:00:00.000",
          "2020-11-15T00:00:00.000",
          "2020-11-22T00:00:00.000",
          "2020-11-29T00:00:00.000",
          "2020-12-06T00:00:00.000",
          "2020-12-13T00:00:00.000",
          "2020-12-20T00:00:00.000",
          "2020-12-27T00:00:00.000",
          "2021-01-03T00:00:00.000",
          "2021-01-10T00:00:00.000",
          "2021-01-17T00:00:00.000",
          "2021-01-24T00:00:00.000",
          "2021-01-31T00:00:00.000",
          "2021-02-07T00:00:00.000",
          "2021-02-14T00:00:00.000",
          "2021-02-21T00:00:00.000",
          "2021-02-28T00:00:00.000",
          "2021-03-07T00:00:00.000",
          "2021-03-14T00:00:00.000",
          "2021-03-21T00:00:00.000",
          "2021-03-28T00:00:00.000",
          "2021-04-04T00:00:00.000",
          "2021-04-11T00:00:00.000",
          "2021-04-18T00:00:00.000",
          "2021-04-25T00:00:00.000",
          "2021-05-02T00:00:00.000",
          "2021-05-09T00:00:00.000",
          "2021-05-16T00:00:00.000",
          "2021-05-23T00:00:00.000",
          "2021-05-30T00:00:00.000",
          "2021-06-06T00:00:00.000",
          "2021-06-13T00:00:00.000",
          "2021-06-20T00:00:00.000",
          "2021-06-27T00:00:00.000",
          "2021-07-04T00:00:00.000",
          "2021-07-11T00:00:00.000",
          "2021-07-18T00:00:00.000",
          "2021-07-25T00:00:00.000",
          "2021-08-01T00:00:00.000",
          "2021-08-08T00:00:00.000",
          "2021-08-15T00:00:00.000",
          "2021-08-22T00:00:00.000",
          "2021-08-29T00:00:00.000",
          "2021-09-05T00:00:00.000",
          "2021-09-12T00:00:00.000",
          "2021-09-19T00:00:00.000",
          "2021-09-26T00:00:00.000",
          "2021-10-03T00:00:00.000",
          "2021-10-10T00:00:00.000",
          "2021-10-17T00:00:00.000",
          "2021-10-24T00:00:00.000",
          "2021-10-31T00:00:00.000",
          "2021-11-07T00:00:00.000",
          "2021-11-14T00:00:00.000",
          "2021-11-21T00:00:00.000",
          "2021-11-28T00:00:00.000",
          "2021-12-05T00:00:00.000",
          "2021-12-12T00:00:00.000",
          "2021-12-19T00:00:00.000",
          "2021-12-26T00:00:00.000",
          "2022-01-02T00:00:00.000",
          "2022-01-09T00:00:00.000",
          "2022-01-16T00:00:00.000",
          "2022-01-23T00:00:00.000",
          "2022-01-30T00:00:00.000",
          "2022-02-06T00:00:00.000",
          "2022-02-13T00:00:00.000",
          "2022-02-20T00:00:00.000",
          "2022-02-27T00:00:00.000",
          "2022-03-06T00:00:00.000",
          "2022-03-13T00:00:00.000",
          "2022-03-20T00:00:00.000",
          "2022-03-27T00:00:00.000",
          "2022-04-03T00:00:00.000",
          "2022-04-10T00:00:00.000",
          "2022-04-17T00:00:00.000",
          "2022-04-24T00:00:00.000",
          "2022-05-01T00:00:00.000",
          "2022-05-08T00:00:00.000",
          "2022-05-15T00:00:00.000",
          "2022-05-22T00:00:00.000",
          "2022-05-29T00:00:00.000",
          "2022-06-05T00:00:00.000",
          "2022-06-12T00:00:00.000",
          "2022-06-19T00:00:00.000",
          "2022-06-26T00:00:00.000",
          "2022-07-03T00:00:00.000",
          "2022-07-10T00:00:00.000",
          "2022-07-17T00:00:00.000",
          "2022-07-24T00:00:00.000",
          "2022-07-31T00:00:00.000",
          "2022-08-07T00:00:00.000",
          "2022-08-14T00:00:00.000",
          "2022-08-21T00:00:00.000"
         ],
         "y": {
          "bdata": "4O39Eknv+ECCSmqsrqP7QC5K7CD8Wv1ARn9bi7jy/kDB8NAWwfMAQUM5jRE3swVBkpT8R+KbCUHsP/hSnBYGQSoqbEXykQFBwUZ3zH1iAEH2ZO/GovkDQSzDyvUBzgNBac5knViIA0EDwWfUgpoKQTA9lDTIlgNB+hZSeo969kASkiGpDwj5QPWf0ayXrPhAqViw2Rzy+0AsqnjsJsX4QKbXb1O9zfxAl5ybAPBg/kDs1XWZTl4AQfppydiCKv1AlLn2MyHD/kAqkTGeLej/QPBUBP5fkQBBnnSEZxk//kAyrYLOLdb7QB9urX8iGflAGCwrmMeo+kA9jTBwV+cAQdqVyjt2fwZB9Sax523EAUFtrBGYFeH9QCrnw0h+LgJBQOkKj0wo/UCmIP5+4O72QNz+ONzLfvZAxRLxxl1I+kACHdH5MuH7QDWLoZhRW/pALOvLmxNC+EBCJp2azHn7QH7gAmMDm/lAeRKPIYJH90B6E3PAz3n5QB660YtmYvJA1rsgO9BQ70DE8fBKVjzsQCgL634/ce1AGHKwGDa560AXukr1CO/vQAamWUnH5O1AI2Cbsmee8UAvotLfybL0QEQL12v9pftApEDPdWZlAUFVdHpwE9wEQRt8JNZJu/1ASNeMrsqc+EAR2sV2pOv4QExtjR4eEfpAtebAKvLP+UBjLUVX8S/6QAS3u0Ot7QNBWAVgZyorBEHyETOh41oAQQWzLxQXj/xAwOLF+q9j+kDXrYY1ofj4QNxYS9M3ivlA9K6cjf2f+UC9TDPTJXP4QHnC7h9cU/dArbYZAXHo+EAnGSKqyHb6QE1WHkjo6fZA5+M9P8Ya+ECjRKG5i676QNwLRwUm+vlAoGq+m40W+UCcirvO7d/7QKsxm00NNf9AcwolODfdAkEQhQGlGWX4QOWeMlEhtfZALi+zPR4S9EA5BYUyMVfwQCLZoRRWefNAJ1MQ2bXD9kBmv8jnFWLxQKhvK8mwi/BAbpLHSNUR8EBeK1fqqpnyQPBf71tNv/JAhFIj5Pu68kA/K3MPcXDwQC1wvOCIKOxAiHAwqAy47ECAsHaQgejqQLY1vAdnMfFAXOfZ3pQd70D+FK8W4k7xQA==",
          "dtype": "f8"
         }
        },
        {
         "fill": "tonexty",
         "name": "Upper bound (50%)",
         "showlegend": true,
         "type": "scatter",
         "x": [
          "2020-08-30T00:00:00.000",
          "2020-09-06T00:00:00.000",
          "2020-09-13T00:00:00.000",
          "2020-09-20T00:00:00.000",
          "2020-09-27T00:00:00.000",
          "2020-10-04T00:00:00.000",
          "2020-10-11T00:00:00.000",
          "2020-10-18T00:00:00.000",
          "2020-10-25T00:00:00.000",
          "2020-11-01T00:00:00.000",
          "2020-11-08T00:00:00.000",
          "2020-11-15T00:00:00.000",
          "2020-11-22T00:00:00.000",
          "2020-11-29T00:00:00.000",
          "2020-12-06T00:00:00.000",
          "2020-12-13T00:00:00.000",
          "2020-12-20T00:00:00.000",
          "2020-12-27T00:00:00.000",
          "2021-01-03T00:00:00.000",
          "2021-01-10T00:00:00.000",
          "2021-01-17T00:00:00.000",
          "2021-01-24T00:00:00.000",
          "2021-01-31T00:00:00.000",
          "2021-02-07T00:00:00.000",
          "2021-02-14T00:00:00.000",
          "2021-02-21T00:00:00.000",
          "2021-02-28T00:00:00.000",
          "2021-03-07T00:00:00.000",
          "2021-03-14T00:00:00.000",
          "2021-03-21T00:00:00.000",
          "2021-03-28T00:00:00.000",
          "2021-04-04T00:00:00.000",
          "2021-04-11T00:00:00.000",
          "2021-04-18T00:00:00.000",
          "2021-04-25T00:00:00.000",
          "2021-05-02T00:00:00.000",
          "2021-05-09T00:00:00.000",
          "2021-05-16T00:00:00.000",
          "2021-05-23T00:00:00.000",
          "2021-05-30T00:00:00.000",
          "2021-06-06T00:00:00.000",
          "2021-06-13T00:00:00.000",
          "2021-06-20T00:00:00.000",
          "2021-06-27T00:00:00.000",
          "2021-07-04T00:00:00.000",
          "2021-07-11T00:00:00.000",
          "2021-07-18T00:00:00.000",
          "2021-07-25T00:00:00.000",
          "2021-08-01T00:00:00.000",
          "2021-08-08T00:00:00.000",
          "2021-08-15T00:00:00.000",
          "2021-08-22T00:00:00.000",
          "2021-08-29T00:00:00.000",
          "2021-09-05T00:00:00.000",
          "2021-09-12T00:00:00.000",
          "2021-09-19T00:00:00.000",
          "2021-09-26T00:00:00.000",
          "2021-10-03T00:00:00.000",
          "2021-10-10T00:00:00.000",
          "2021-10-17T00:00:00.000",
          "2021-10-24T00:00:00.000",
          "2021-10-31T00:00:00.000",
          "2021-11-07T00:00:00.000",
          "2021-11-14T00:00:00.000",
          "2021-11-21T00:00:00.000",
          "2021-11-28T00:00:00.000",
          "2021-12-05T00:00:00.000",
          "2021-12-12T00:00:00.000",
          "2021-12-19T00:00:00.000",
          "2021-12-26T00:00:00.000",
          "2022-01-02T00:00:00.000",
          "2022-01-09T00:00:00.000",
          "2022-01-16T00:00:00.000",
          "2022-01-23T00:00:00.000",
          "2022-01-30T00:00:00.000",
          "2022-02-06T00:00:00.000",
          "2022-02-13T00:00:00.000",
          "2022-02-20T00:00:00.000",
          "2022-02-27T00:00:00.000",
          "2022-03-06T00:00:00.000",
          "2022-03-13T00:00:00.000",
          "2022-03-20T00:00:00.000",
          "2022-03-27T00:00:00.000",
          "2022-04-03T00:00:00.000",
          "2022-04-10T00:00:00.000",
          "2022-04-17T00:00:00.000",
          "2022-04-24T00:00:00.000",
          "2022-05-01T00:00:00.000",
          "2022-05-08T00:00:00.000",
          "2022-05-15T00:00:00.000",
          "2022-05-22T00:00:00.000",
          "2022-05-29T00:00:00.000",
          "2022-06-05T00:00:00.000",
          "2022-06-12T00:00:00.000",
          "2022-06-19T00:00:00.000",
          "2022-06-26T00:00:00.000",
          "2022-07-03T00:00:00.000",
          "2022-07-10T00:00:00.000",
          "2022-07-17T00:00:00.000",
          "2022-07-24T00:00:00.000",
          "2022-07-31T00:00:00.000",
          "2022-08-07T00:00:00.000",
          "2022-08-14T00:00:00.000",
          "2022-08-21T00:00:00.000"
         ],
         "y": {
          "bdata": "CDpU8BsmA0Ftfl3OJE4EQcqw7U8vNwVBi5GhV1VMBkGXbBDVfUEHQcLXSz1pIAxBOoRXaH0eEEH+392Zxf4MQRoeUYfmPghBA3n5798JB0HbsTs40aUKQaRjQILlcgpBC1IAyk0tCkE82WDphrQQQdvp9FmPKwpBHeDdrN7dAUE2DyBTpxcDQWyBbIVtAANBgS+QgJzBBEHvPA3vD/oCQUKNhjUQ9gRBryrkuCbpBUFUYkjBLx0HQTLhnqVuFgVBaCvdDJDHBUGletrmYHAGQTZlKb+XQgdBsDRJId+8BUH1JLI+cpwEQd2RTYhcCgNBrDT1IA7XA0E5N/xoPcEHQe/rcDn4gQ1B0tzH0Ex/CEHVQmCJpoMFQRfAXx6EqghBbHhzEuDLBEF7NbemyxMCQU5GYvyLywFBxJNMKQnRA0GX+Be2FawEQZlqi+IV1QNB5aE8XEy+AkEV7X+ojFIEQXpXeJeHWQNBAzPYU0Y6AkFqp3t7q1YDQVLjZon14P9Ao6n+GLRh/EDatT6l1C/7QGJvl7x5u/tAaF/g9UNA+0C6D+sjVYj8QId8EbK/IfxAYJ9I1IC0/kCHkSfnBtIAQWsgj8oybQRB5F1Cfv1NCEGCtYPBYfILQUjQc6/xVQVB5YC8FInlAkFcir6l8fcCQQlM40/UrANB5HR3HlqVA0HAgmwT66EDQW3MplHDvwpBaobFHE8LC0FpImDtb/oGQfOObxuQqQRB71mi2lfNA0HHE5TBMyMDQbyaEvmjNQNBu8yINdlQA0GIY7RgSLsCQdPlZdlgLQJBkEJ4+GoNA0E+Gy4t6M4DQTOYkRKGEQJBWQ5iF4GDAkHhUNBeWNoDQWnubIg0qANB0D8J3BlJA0HNqbDPu10EQbDF5BY+CAZByopmlfmaCUEvwZ0FjZoCQUmFGcDL0wFBHkL+mg17AEFbwBSokIP9QHOJ294bMABBW6qsPaAzAkFQW+3qAUD+QP04IaRZGv1AXN59AIpe/UBzteCecdL/QH52gdSXAABB6gFMVmDO/0C6eNAsCJf9QHqzfUtdlPtAdIeBC766+0B7D3Y+GGf6QNlFdIWWf/5AMehmIurQ/ECqCVZjhFb+QA==",
          "dtype": "f8"
         }
        }
       ],
       "layout": {
        "font": {
         "color": "green",
         "family": "Arial",
         "size": 20
        },
        "template": {
         "data": {
          "bar": [
           {
            "error_x": {
             "color": "#2a3f5f"
            },
            "error_y": {
             "color": "#2a3f5f"
            },
            "marker": {
             "line": {
              "color": "#E5ECF6",
              "width": 0.5
             },
             "pattern": {
              "fillmode": "overlay",
              "size": 10,
              "solidity": 0.2
             }
            },
            "type": "bar"
           }
          ],
          "barpolar": [
           {
            "marker": {
             "line": {
              "color": "#E5ECF6",
              "width": 0.5
             },
             "pattern": {
              "fillmode": "overlay",
              "size": 10,
              "solidity": 0.2
             }
            },
            "type": "barpolar"
           }
          ],
          "carpet": [
           {
            "aaxis": {
             "endlinecolor": "#2a3f5f",
             "gridcolor": "white",
             "linecolor": "white",
             "minorgridcolor": "white",
             "startlinecolor": "#2a3f5f"
            },
            "baxis": {
             "endlinecolor": "#2a3f5f",
             "gridcolor": "white",
             "linecolor": "white",
             "minorgridcolor": "white",
             "startlinecolor": "#2a3f5f"
            },
            "type": "carpet"
           }
          ],
          "choropleth": [
           {
            "colorbar": {
             "outlinewidth": 0,
             "ticks": ""
            },
            "type": "choropleth"
           }
          ],
          "contour": [
           {
            "colorbar": {
             "outlinewidth": 0,
             "ticks": ""
            },
            "colorscale": [
             [
              0,
              "#0d0887"
             ],
             [
              0.1111111111111111,
              "#46039f"
             ],
             [
              0.2222222222222222,
              "#7201a8"
             ],
             [
              0.3333333333333333,
              "#9c179e"
             ],
             [
              0.4444444444444444,
              "#bd3786"
             ],
             [
              0.5555555555555556,
              "#d8576b"
             ],
             [
              0.6666666666666666,
              "#ed7953"
             ],
             [
              0.7777777777777778,
              "#fb9f3a"
             ],
             [
              0.8888888888888888,
              "#fdca26"
             ],
             [
              1,
              "#f0f921"
             ]
            ],
            "type": "contour"
           }
          ],
          "contourcarpet": [
           {
            "colorbar": {
             "outlinewidth": 0,
             "ticks": ""
            },
            "type": "contourcarpet"
           }
          ],
          "heatmap": [
           {
            "colorbar": {
             "outlinewidth": 0,
             "ticks": ""
            },
            "colorscale": [
             [
              0,
              "#0d0887"
             ],
             [
              0.1111111111111111,
              "#46039f"
             ],
             [
              0.2222222222222222,
              "#7201a8"
             ],
             [
              0.3333333333333333,
              "#9c179e"
             ],
             [
              0.4444444444444444,
              "#bd3786"
             ],
             [
              0.5555555555555556,
              "#d8576b"
             ],
             [
              0.6666666666666666,
              "#ed7953"
             ],
             [
              0.7777777777777778,
              "#fb9f3a"
             ],
             [
              0.8888888888888888,
              "#fdca26"
             ],
             [
              1,
              "#f0f921"
             ]
            ],
            "type": "heatmap"
           }
          ],
          "histogram": [
           {
            "marker": {
             "pattern": {
              "fillmode": "overlay",
              "size": 10,
              "solidity": 0.2
             }
            },
            "type": "histogram"
           }
          ],
          "histogram2d": [
           {
            "colorbar": {
             "outlinewidth": 0,
             "ticks": ""
            },
            "colorscale": [
             [
              0,
              "#0d0887"
             ],
             [
              0.1111111111111111,
              "#46039f"
             ],
             [
              0.2222222222222222,
              "#7201a8"
             ],
             [
              0.3333333333333333,
              "#9c179e"
             ],
             [
              0.4444444444444444,
              "#bd3786"
             ],
             [
              0.5555555555555556,
              "#d8576b"
             ],
             [
              0.6666666666666666,
              "#ed7953"
             ],
             [
              0.7777777777777778,
              "#fb9f3a"
             ],
             [
              0.8888888888888888,
              "#fdca26"
             ],
             [
              1,
              "#f0f921"
             ]
            ],
            "type": "histogram2d"
           }
          ],
          "histogram2dcontour": [
           {
            "colorbar": {
             "outlinewidth": 0,
             "ticks": ""
            },
            "colorscale": [
             [
              0,
              "#0d0887"
             ],
             [
              0.1111111111111111,
              "#46039f"
             ],
             [
              0.2222222222222222,
              "#7201a8"
             ],
             [
              0.3333333333333333,
              "#9c179e"
             ],
             [
              0.4444444444444444,
              "#bd3786"
             ],
             [
              0.5555555555555556,
              "#d8576b"
             ],
             [
              0.6666666666666666,
              "#ed7953"
             ],
             [
              0.7777777777777778,
              "#fb9f3a"
             ],
             [
              0.8888888888888888,
              "#fdca26"
             ],
             [
              1,
              "#f0f921"
             ]
            ],
            "type": "histogram2dcontour"
           }
          ],
          "mesh3d": [
           {
            "colorbar": {
             "outlinewidth": 0,
             "ticks": ""
            },
            "type": "mesh3d"
           }
          ],
          "parcoords": [
           {
            "line": {
             "colorbar": {
              "outlinewidth": 0,
              "ticks": ""
             }
            },
            "type": "parcoords"
           }
          ],
          "pie": [
           {
            "automargin": true,
            "type": "pie"
           }
          ],
          "scatter": [
           {
            "fillpattern": {
             "fillmode": "overlay",
             "size": 10,
             "solidity": 0.2
            },
            "type": "scatter"
           }
          ],
          "scatter3d": [
           {
            "line": {
             "colorbar": {
              "outlinewidth": 0,
              "ticks": ""
             }
            },
            "marker": {
             "colorbar": {
              "outlinewidth": 0,
              "ticks": ""
             }
            },
            "type": "scatter3d"
           }
          ],
          "scattercarpet": [
           {
            "marker": {
             "colorbar": {
              "outlinewidth": 0,
              "ticks": ""
             }
            },
            "type": "scattercarpet"
           }
          ],
          "scattergeo": [
           {
            "marker": {
             "colorbar": {
              "outlinewidth": 0,
              "ticks": ""
             }
            },
            "type": "scattergeo"
           }
          ],
          "scattergl": [
           {
            "marker": {
             "colorbar": {
              "outlinewidth": 0,
              "ticks": ""
             }
            },
            "type": "scattergl"
           }
          ],
          "scattermap": [
           {
            "marker": {
             "colorbar": {
              "outlinewidth": 0,
              "ticks": ""
             }
            },
            "type": "scattermap"
           }
          ],
          "scattermapbox": [
           {
            "marker": {
             "colorbar": {
              "outlinewidth": 0,
              "ticks": ""
             }
            },
            "type": "scattermapbox"
           }
          ],
          "scatterpolar": [
           {
            "marker": {
             "colorbar": {
              "outlinewidth": 0,
              "ticks": ""
             }
            },
            "type": "scatterpolar"
           }
          ],
          "scatterpolargl": [
           {
            "marker": {
             "colorbar": {
              "outlinewidth": 0,
              "ticks": ""
             }
            },
            "type": "scatterpolargl"
           }
          ],
          "scatterternary": [
           {
            "marker": {
             "colorbar": {
              "outlinewidth": 0,
              "ticks": ""
             }
            },
            "type": "scatterternary"
           }
          ],
          "surface": [
           {
            "colorbar": {
             "outlinewidth": 0,
             "ticks": ""
            },
            "colorscale": [
             [
              0,
              "#0d0887"
             ],
             [
              0.1111111111111111,
              "#46039f"
             ],
             [
              0.2222222222222222,
              "#7201a8"
             ],
             [
              0.3333333333333333,
              "#9c179e"
             ],
             [
              0.4444444444444444,
              "#bd3786"
             ],
             [
              0.5555555555555556,
              "#d8576b"
             ],
             [
              0.6666666666666666,
              "#ed7953"
             ],
             [
              0.7777777777777778,
              "#fb9f3a"
             ],
             [
              0.8888888888888888,
              "#fdca26"
             ],
             [
              1,
              "#f0f921"
             ]
            ],
            "type": "surface"
           }
          ],
          "table": [
           {
            "cells": {
             "fill": {
              "color": "#EBF0F8"
             },
             "line": {
              "color": "white"
             }
            },
            "header": {
             "fill": {
              "color": "#C8D4E3"
             },
             "line": {
              "color": "white"
             }
            },
            "type": "table"
           }
          ]
         },
         "layout": {
          "annotationdefaults": {
           "arrowcolor": "#2a3f5f",
           "arrowhead": 0,
           "arrowwidth": 1
          },
          "autotypenumbers": "strict",
          "coloraxis": {
           "colorbar": {
            "outlinewidth": 0,
            "ticks": ""
           }
          },
          "colorscale": {
           "diverging": [
            [
             0,
             "#8e0152"
            ],
            [
             0.1,
             "#c51b7d"
            ],
            [
             0.2,
             "#de77ae"
            ],
            [
             0.3,
             "#f1b6da"
            ],
            [
             0.4,
             "#fde0ef"
            ],
            [
             0.5,
             "#f7f7f7"
            ],
            [
             0.6,
             "#e6f5d0"
            ],
            [
             0.7,
             "#b8e186"
            ],
            [
             0.8,
             "#7fbc41"
            ],
            [
             0.9,
             "#4d9221"
            ],
            [
             1,
             "#276419"
            ]
           ],
           "sequential": [
            [
             0,
             "#0d0887"
            ],
            [
             0.1111111111111111,
             "#46039f"
            ],
            [
             0.2222222222222222,
             "#7201a8"
            ],
            [
             0.3333333333333333,
             "#9c179e"
            ],
            [
             0.4444444444444444,
             "#bd3786"
            ],
            [
             0.5555555555555556,
             "#d8576b"
            ],
            [
             0.6666666666666666,
             "#ed7953"
            ],
            [
             0.7777777777777778,
             "#fb9f3a"
            ],
            [
             0.8888888888888888,
             "#fdca26"
            ],
            [
             1,
             "#f0f921"
            ]
           ],
           "sequentialminus": [
            [
             0,
             "#0d0887"
            ],
            [
             0.1111111111111111,
             "#46039f"
            ],
            [
             0.2222222222222222,
             "#7201a8"
            ],
            [
             0.3333333333333333,
             "#9c179e"
            ],
            [
             0.4444444444444444,
             "#bd3786"
            ],
            [
             0.5555555555555556,
             "#d8576b"
            ],
            [
             0.6666666666666666,
             "#ed7953"
            ],
            [
             0.7777777777777778,
             "#fb9f3a"
            ],
            [
             0.8888888888888888,
             "#fdca26"
            ],
            [
             1,
             "#f0f921"
            ]
           ]
          },
          "colorway": [
           "#636efa",
           "#EF553B",
           "#00cc96",
           "#ab63fa",
           "#FFA15A",
           "#19d3f3",
           "#FF6692",
           "#B6E880",
           "#FF97FF",
           "#FECB52"
          ],
          "font": {
           "color": "#2a3f5f"
          },
          "geo": {
           "bgcolor": "white",
           "lakecolor": "white",
           "landcolor": "#E5ECF6",
           "showlakes": true,
           "showland": true,
           "subunitcolor": "white"
          },
          "hoverlabel": {
           "align": "left"
          },
          "hovermode": "closest",
          "mapbox": {
           "style": "light"
          },
          "paper_bgcolor": "white",
          "plot_bgcolor": "#E5ECF6",
          "polar": {
           "angularaxis": {
            "gridcolor": "white",
            "linecolor": "white",
            "ticks": ""
           },
           "bgcolor": "#E5ECF6",
           "radialaxis": {
            "gridcolor": "white",
            "linecolor": "white",
            "ticks": ""
           }
          },
          "scene": {
           "xaxis": {
            "backgroundcolor": "#E5ECF6",
            "gridcolor": "white",
            "gridwidth": 2,
            "linecolor": "white",
            "showbackground": true,
            "ticks": "",
            "zerolinecolor": "white"
           },
           "yaxis": {
            "backgroundcolor": "#E5ECF6",
            "gridcolor": "white",
            "gridwidth": 2,
            "linecolor": "white",
            "showbackground": true,
            "ticks": "",
            "zerolinecolor": "white"
           },
           "zaxis": {
            "backgroundcolor": "#E5ECF6",
            "gridcolor": "white",
            "gridwidth": 2,
            "linecolor": "white",
            "showbackground": true,
            "ticks": "",
            "zerolinecolor": "white"
           }
          },
          "shapedefaults": {
           "line": {
            "color": "#2a3f5f"
           }
          },
          "ternary": {
           "aaxis": {
            "gridcolor": "white",
            "linecolor": "white",
            "ticks": ""
           },
           "baxis": {
            "gridcolor": "white",
            "linecolor": "white",
            "ticks": ""
           },
           "bgcolor": "#E5ECF6",
           "caxis": {
            "gridcolor": "white",
            "linecolor": "white",
            "ticks": ""
           }
          },
          "title": {
           "x": 0.05
          },
          "xaxis": {
           "automargin": true,
           "gridcolor": "white",
           "linecolor": "white",
           "ticks": "",
           "title": {
            "standoff": 15
           },
           "zerolinecolor": "white",
           "zerolinewidth": 2
          },
          "yaxis": {
           "automargin": true,
           "gridcolor": "white",
           "linecolor": "white",
           "ticks": "",
           "title": {
            "standoff": 15
           },
           "zerolinecolor": "white",
           "zerolinewidth": 2
          }
         }
        },
        "title": {
         "text": "posterior_predictive"
        },
        "xaxis": {
         "title": {
          "text": "date"
         }
        },
        "yaxis": {
         "title": {
          "text": "y"
         }
        }
       }
      }
     },
     "metadata": {},
     "output_type": "display_data"
    }
   ],
   "source": [
    "plot_predictive(model=mmm, label=\"posterior_predictive\", actuals=y)"
   ]
  },
  {
   "cell_type": "markdown",
   "id": "864232e2",
   "metadata": {},
   "source": [
    "From the posterior predictive plot it is much informative, we captured the negative trend, seasonality and it fits the actuals better, the bands are also narrower."
   ]
  },
  {
   "cell_type": "markdown",
   "id": "44b6a7db",
   "metadata": {},
   "source": [
    "For model performance we can have RMSE calculated from the obseved and sample posterior mean. And also it is seen from the plot above that the bands are much narrower now. We will also evaluate the r2 score, if it is greater than 0, then it proves better fit than a simple mean"
   ]
  },
  {
   "cell_type": "code",
   "execution_count": 22,
   "id": "2148c4fb",
   "metadata": {},
   "outputs": [],
   "source": [
    "posterior_mean = mmm._get_group_predictive_data(\n",
    "            group=\"posterior_predictive\", original_scale=True\n",
    "        )['y'].mean(dim=[\"chain\", \"draw\"])\n"
   ]
  },
  {
   "cell_type": "code",
   "execution_count": 29,
   "id": "8e0eb8e8",
   "metadata": {},
   "outputs": [
    {
     "name": "stdout",
     "output_type": "stream",
     "text": [
      "RMSE = 36592.81301350792\n",
      "R2 = 0.47629708349827515\n"
     ]
    }
   ],
   "source": [
    "from sklearn.metrics import root_mean_squared_error, r2_score\n",
    "print(f'RMSE = {root_mean_squared_error(y, posterior_mean)}')\n",
    "print(f'R2 = {r2_score(y, posterior_mean)}')\n"
   ]
  },
  {
   "cell_type": "markdown",
   "id": "4ad9cc29",
   "metadata": {},
   "source": [
    "also, we can see the error metrics, if it is from a normal distribution"
   ]
  },
  {
   "cell_type": "code",
   "execution_count": 30,
   "id": "a50e1535",
   "metadata": {},
   "outputs": [],
   "source": [
    "errors = mmm.get_errors(original_scale=True)"
   ]
  },
  {
   "cell_type": "code",
   "execution_count": 59,
   "id": "cdafc961",
   "metadata": {},
   "outputs": [
    {
     "data": {
      "text/plain": [
       "<Axes: >"
      ]
     },
     "execution_count": 59,
     "metadata": {},
     "output_type": "execute_result"
    },
    {
     "data": {
      "image/png": "[encoded data removed]",
      "text/plain": [
       "<Figure size 800x600 with 1 Axes>"
      ]
     },
     "metadata": {},
     "output_type": "display_data"
    }
   ],
   "source": [
    "import arviz as az\n",
    "fig, ax = plt.subplots(figsize=(8, 6))\n",
    "az.plot_dist(\n",
    "    errors, quantiles=[0.25, 0.5, 0.75], fill_kwargs={\"alpha\": 0.7}, ax=ax\n",
    ")"
   ]
  },
  {
   "cell_type": "markdown",
   "id": "c5b1e09d",
   "metadata": {},
   "source": [
    "Which channel is performing most and which one is better?\n",
    "- we can get the mean contribution over time for each channel\n",
    "- then to see the real impact we have to divide it by the total spend on that channel"
   ]
  },
  {
   "cell_type": "code",
   "execution_count": null,
   "id": "5a78fb13",
   "metadata": {},
   "outputs": [
    {
     "data": {
      "text/html": [
       "<div>\n",
       "<style scoped>\n",
       "    .dataframe tbody tr th:only-of-type {\n",
       "        vertical-align: middle;\n",
       "    }\n",
       "\n",
       "    .dataframe tbody tr th {\n",
       "        vertical-align: top;\n",
       "    }\n",
       "\n",
       "    .dataframe thead th {\n",
       "        text-align: right;\n",
       "    }\n",
       "</style>\n",
       "<table border=\"1\" class=\"dataframe\">\n",
       "  <thead>\n",
       "    <tr style=\"text-align: right;\">\n",
       "      <th></th>\n",
       "      <th>spend_channel_1</th>\n",
       "      <th>spend_channel_2</th>\n",
       "      <th>spend_channel_3</th>\n",
       "      <th>spend_channel_4</th>\n",
       "      <th>spend_channel_5</th>\n",
       "      <th>spend_channel_6</th>\n",
       "      <th>spend_channel_7</th>\n",
       "      <th>yearly_seasonality</th>\n",
       "      <th>intercept</th>\n",
       "    </tr>\n",
       "    <tr>\n",
       "      <th>date</th>\n",
       "      <th></th>\n",
       "      <th></th>\n",
       "      <th></th>\n",
       "      <th></th>\n",
       "      <th></th>\n",
       "      <th></th>\n",
       "      <th></th>\n",
       "      <th></th>\n",
       "      <th></th>\n",
       "    </tr>\n",
       "  </thead>\n",
       "  <tbody>\n",
       "    <tr>\n",
       "      <th>2020-08-30</th>\n",
       "      <td>3201.086093</td>\n",
       "      <td>2246.227098</td>\n",
       "      <td>12716.471123</td>\n",
       "      <td>6180.754251</td>\n",
       "      <td>30670.125696</td>\n",
       "      <td>21917.717288</td>\n",
       "      <td>13920.772532</td>\n",
       "      <td>-6313.941111</td>\n",
       "      <td>41598.629866</td>\n",
       "    </tr>\n",
       "    <tr>\n",
       "      <th>2020-09-06</th>\n",
       "      <td>3808.797252</td>\n",
       "      <td>1369.727404</td>\n",
       "      <td>10350.252390</td>\n",
       "      <td>8467.064448</td>\n",
       "      <td>34078.016278</td>\n",
       "      <td>24268.145948</td>\n",
       "      <td>17874.168344</td>\n",
       "      <td>-3410.276768</td>\n",
       "      <td>41598.629866</td>\n",
       "    </tr>\n",
       "    <tr>\n",
       "      <th>2020-09-13</th>\n",
       "      <td>3432.396984</td>\n",
       "      <td>1268.335649</td>\n",
       "      <td>8662.088851</td>\n",
       "      <td>8510.629893</td>\n",
       "      <td>39270.023177</td>\n",
       "      <td>22883.609822</td>\n",
       "      <td>18763.281901</td>\n",
       "      <td>-472.652992</td>\n",
       "      <td>41598.629866</td>\n",
       "    </tr>\n",
       "    <tr>\n",
       "      <th>2020-09-20</th>\n",
       "      <td>2960.584844</td>\n",
       "      <td>749.727732</td>\n",
       "      <td>16009.992281</td>\n",
       "      <td>7801.112505</td>\n",
       "      <td>41042.099505</td>\n",
       "      <td>25556.445241</td>\n",
       "      <td>20370.515921</td>\n",
       "      <td>2416.239912</td>\n",
       "      <td>41598.629866</td>\n",
       "    </tr>\n",
       "    <tr>\n",
       "      <th>2020-09-27</th>\n",
       "      <td>2711.016280</td>\n",
       "      <td>893.443131</td>\n",
       "      <td>19826.150591</td>\n",
       "      <td>7991.388757</td>\n",
       "      <td>41893.137596</td>\n",
       "      <td>25672.991809</td>\n",
       "      <td>21764.672271</td>\n",
       "      <td>5177.625316</td>\n",
       "      <td>41598.629866</td>\n",
       "    </tr>\n",
       "  </tbody>\n",
       "</table>\n",
       "</div>"
      ],
      "text/plain": [
       "            spend_channel_1  spend_channel_2  spend_channel_3  \\\n",
       "date                                                            \n",
       "2020-08-30      3201.086093      2246.227098     12716.471123   \n",
       "2020-09-06      3808.797252      1369.727404     10350.252390   \n",
       "2020-09-13      3432.396984      1268.335649      8662.088851   \n",
       "2020-09-20      2960.584844       749.727732     16009.992281   \n",
       "2020-09-27      2711.016280       893.443131     19826.150591   \n",
       "\n",
       "            spend_channel_4  spend_channel_5  spend_channel_6  \\\n",
       "date                                                            \n",
       "2020-08-30      6180.754251     30670.125696     21917.717288   \n",
       "2020-09-06      8467.064448     34078.016278     24268.145948   \n",
       "2020-09-13      8510.629893     39270.023177     22883.609822   \n",
       "2020-09-20      7801.112505     41042.099505     25556.445241   \n",
       "2020-09-27      7991.388757     41893.137596     25672.991809   \n",
       "\n",
       "            spend_channel_7  yearly_seasonality     intercept  \n",
       "date                                                           \n",
       "2020-08-30     13920.772532        -6313.941111  41598.629866  \n",
       "2020-09-06     17874.168344        -3410.276768  41598.629866  \n",
       "2020-09-13     18763.281901         -472.652992  41598.629866  \n",
       "2020-09-20     20370.515921         2416.239912  41598.629866  \n",
       "2020-09-27     21764.672271         5177.625316  41598.629866  "
      ]
     },
     "execution_count": 35,
     "metadata": {},
     "output_type": "execute_result"
    }
   ],
   "source": [
    "mean_contribution = mmm.compute_mean_contributions_over_time(\n",
    "    original_scale=True\n",
    ")\n",
    "\n",
    "mean_contribution.head()"
   ]
  },
  {
   "cell_type": "code",
   "execution_count": 36,
   "id": "ef0d0b3f",
   "metadata": {},
   "outputs": [
    {
     "data": {
      "text/plain": [
       "spend_channel_1       2.081709e+05\n",
       "spend_channel_2       3.420619e+05\n",
       "spend_channel_3       2.197530e+06\n",
       "spend_channel_4       1.332588e+06\n",
       "spend_channel_5       2.419293e+06\n",
       "spend_channel_6       1.069393e+06\n",
       "spend_channel_7       2.328636e+06\n",
       "yearly_seasonality    4.526909e+03\n",
       "intercept             4.326258e+06\n",
       "dtype: float64"
      ]
     },
     "execution_count": 36,
     "metadata": {},
     "output_type": "execute_result"
    }
   ],
   "source": [
    "mean_contribution.sum()"
   ]
  },
  {
   "cell_type": "code",
   "execution_count": 37,
   "id": "90eef2ce",
   "metadata": {},
   "outputs": [
    {
     "data": {
      "image/png": "[encoded data removed]",
      "text/plain": [
       "<Figure size 700x500 with 1 Axes>"
      ]
     },
     "metadata": {},
     "output_type": "display_data"
    }
   ],
   "source": [
    "fig = mmm.plot_channel_contribution_share_hdi(figsize=(7, 5))"
   ]
  },
  {
   "cell_type": "markdown",
   "id": "54f947c1",
   "metadata": {},
   "source": [
    "we can see that channel 5 has the most contribution and the 94% HDI is also narrower\n",
    "we will now take the market expenditure also into account, to calculate the ROI."
   ]
  },
  {
   "cell_type": "code",
   "execution_count": 54,
   "id": "c6ff3e59",
   "metadata": {},
   "outputs": [],
   "source": [
    "total_spend = X[[\"spend_channel_1\",\"spend_channel_2\",\"spend_channel_3\",\"spend_channel_4\",\"spend_channel_5\",\"spend_channel_6\",\"spend_channel_7\"]].sum()"
   ]
  },
  {
   "cell_type": "code",
   "execution_count": null,
   "id": "1e5ea7d9",
   "metadata": {},
   "outputs": [
    {
     "data": {
      "text/plain": [
       "intercept                  NaN\n",
       "spend_channel_1       1.606965\n",
       "spend_channel_2       9.571200\n",
       "spend_channel_3       1.083196\n",
       "spend_channel_4       1.852942\n",
       "spend_channel_5       2.712627\n",
       "spend_channel_6       2.030656\n",
       "spend_channel_7       0.808290\n",
       "yearly_seasonality         NaN\n",
       "dtype: float64"
      ]
     },
     "execution_count": 56,
     "metadata": {},
     "output_type": "execute_result"
    }
   ],
   "source": [
    "# calculating the ROI\n",
    "mean_contribution.sum()/total_spend"
   ]
  },
  {
   "cell_type": "markdown",
   "id": "0e72e7c6",
   "metadata": {},
   "source": [
    "So, here we can see that although channel 2 had a very low contribution, it was the most cost-efficient. On the other hand, we had second highest contribution from channel 7, but it costs us a lot. So, by this explanation, the strategy should be trying to put more spends on channel 2."
   ]
  }
 ],
 "metadata": {
  "kernelspec": {
   "display_name": ".venv",
   "language": "python",
   "name": "python3"
  },
  "language_info": {
   "codemirror_mode": {
    "name": "ipython",
    "version": 3
   },
   "file_extension": ".py",
   "mimetype": "text/x-python",
   "name": "python",
   "nbconvert_exporter": "python",
   "pygments_lexer": "ipython3",
   "version": "3.13.2"
  }
 },
 "nbformat": 4,
 "nbformat_minor": 5
}
